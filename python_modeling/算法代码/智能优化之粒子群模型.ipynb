{
 "cells": [
  {
   "cell_type": "code",
   "execution_count": 1,
   "metadata": {
    "collapsed": true
   },
   "outputs": [],
   "source": [
    "import numpy as np\n",
    "import matplotlib.pyplot as plt\n",
    "from mpl_toolkits.mplot3d import Axes3D"
   ]
  },
  {
   "cell_type": "code",
   "execution_count": 2,
   "outputs": [],
   "source": [
    "def fit_fun(x):  # 适应函数\n",
    "    return sum(100.0 * (x[0][1:] - x[0][:-1] ** 2.0) ** 2.0 + (1 - x[0][:-1]) ** 2.0)"
   ],
   "metadata": {
    "collapsed": false
   }
  },
  {
   "cell_type": "code",
   "execution_count": 3,
   "outputs": [],
   "source": [
    "class Particle:\n",
    "    # 初始化\n",
    "    def __init__(self, x_max, max_vel, dim):\n",
    "        self.__pos = np.random.uniform(-x_max, x_max, (1, dim))  # 粒子的位置\n",
    "        self.__vel = np.random.uniform(-max_vel, max_vel, (1, dim))  # 粒子的速度\n",
    "        self.__bestPos = np.zeros((1, dim))  # 粒子最好的位置\n",
    "        self.__fitnessValue = fit_fun(self.__pos)  # 适应度函数值\n",
    "\n",
    "    def set_pos(self, value):\n",
    "        self.__pos = value\n",
    "\n",
    "    def get_pos(self):\n",
    "        return self.__pos\n",
    "\n",
    "    def set_best_pos(self, value):\n",
    "        self.__bestPos = value\n",
    "\n",
    "    def get_best_pos(self):\n",
    "        return self.__bestPos\n",
    "\n",
    "    def set_vel(self, value):\n",
    "        self.__vel = value\n",
    "\n",
    "    def get_vel(self):\n",
    "        return self.__vel\n",
    "\n",
    "    def set_fitness_value(self, value):\n",
    "        self.__fitnessValue = value\n",
    "\n",
    "    def get_fitness_value(self):\n",
    "        return self.__fitnessValue"
   ],
   "metadata": {
    "collapsed": false
   }
  },
  {
   "cell_type": "code",
   "execution_count": 4,
   "outputs": [],
   "source": [
    "class PSO:\n",
    "    def __init__(self, dim, size, iter_num, x_max, max_vel, tol, best_fitness_value=float('Inf'), C1=2, C2=2, W=1):\n",
    "        self.C1 = C1\n",
    "        self.C2 = C2\n",
    "        self.W = W\n",
    "        self.dim = dim  # 粒子的维度\n",
    "        self.size = size  # 粒子个数\n",
    "        self.iter_num = iter_num  # 迭代次数\n",
    "        self.x_max = x_max\n",
    "        self.max_vel = max_vel  # 粒子最大速度\n",
    "        self.tol = tol  # 截至条件\n",
    "        self.best_fitness_value = best_fitness_value\n",
    "        self.best_position = np.zeros((1, dim))  # 种群最优位置\n",
    "        self.fitness_val_list = []  # 每次迭代最优适应值\n",
    "\n",
    "        # 对种群进行初始化\n",
    "        self.Particle_list = [Particle(self.x_max, self.max_vel, self.dim) for i in range(self.size)]\n",
    "\n",
    "    def set_bestFitnessValue(self, value):\n",
    "        self.best_fitness_value = value\n",
    "\n",
    "    def get_bestFitnessValue(self):\n",
    "        return self.best_fitness_value\n",
    "\n",
    "    def set_bestPosition(self, value):\n",
    "        self.best_position = value\n",
    "\n",
    "    def get_bestPosition(self):\n",
    "        return self.best_position\n",
    "\n",
    "    # 更新速度\n",
    "    def update_vel(self, part):\n",
    "        vel_value = self.W * part.get_vel() + self.C1 * np.random.rand() * (\n",
    "                part.get_best_pos() - part.get_pos()) + self.C2 * np.random.rand() * (\n",
    "                            self.get_bestPosition() - part.get_pos())\n",
    "        vel_value[vel_value > self.max_vel] = self.max_vel\n",
    "        vel_value[vel_value < -self.max_vel] = -self.max_vel\n",
    "        part.set_vel(vel_value)\n",
    "\n",
    "    # 更新位置\n",
    "    def update_pos(self, part):\n",
    "        pos_value = part.get_pos() + part.get_vel()\n",
    "        part.set_pos(pos_value)\n",
    "        value = fit_fun(part.get_pos())\n",
    "        if value < part.get_fitness_value():\n",
    "            part.set_fitness_value(value)\n",
    "            part.set_best_pos(pos_value)\n",
    "        if value < self.get_bestFitnessValue():\n",
    "            self.set_bestFitnessValue(value)\n",
    "            self.set_bestPosition(pos_value)\n",
    "\n",
    "    def update_ndim(self):\n",
    "\n",
    "        for i in range(self.iter_num):\n",
    "            for part in self.Particle_list:\n",
    "                self.update_vel(part)  # 更新速度\n",
    "                self.update_pos(part)  # 更新位置\n",
    "            self.fitness_val_list.append(self.get_bestFitnessValue())  # 每次迭代完把当前的最优适应度存到列表\n",
    "            print('第{}次最佳适应值为{}'.format(i, self.get_bestFitnessValue()))\n",
    "            if self.get_bestFitnessValue() < self.tol:\n",
    "                break\n",
    "\n",
    "        return self.fitness_val_list, self.get_bestPosition()"
   ],
   "metadata": {
    "collapsed": false
   }
  },
  {
   "cell_type": "code",
   "execution_count": null,
   "outputs": [],
   "source": [
    "pso = PSO(4, 5, 10000, 30, 60, 1e-4, C1=2, C2=2, W=1)\n",
    "fit_var_list, best_pos = pso.update_ndim()\n",
    "print(\"最优位置:\" + str(best_pos))\n",
    "print(\"最优解:\" + str(fit_var_list[-1]))\n",
    "plt.plot(range(len(fit_var_list)), fit_var_list, alpha=0.5)\n"
   ],
   "metadata": {
    "collapsed": false
   }
  }
 ],
 "metadata": {
  "kernelspec": {
   "display_name": "Python 3",
   "language": "python",
   "name": "python3"
  },
  "language_info": {
   "codemirror_mode": {
    "name": "ipython",
    "version": 2
   },
   "file_extension": ".py",
   "mimetype": "text/x-python",
   "name": "python",
   "nbconvert_exporter": "python",
   "pygments_lexer": "ipython2",
   "version": "2.7.6"
  }
 },
 "nbformat": 4,
 "nbformat_minor": 0
}
