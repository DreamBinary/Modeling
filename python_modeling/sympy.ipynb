{
 "cells": [
  {
   "cell_type": "code",
   "execution_count": 18,
   "metadata": {
    "collapsed": true
   },
   "outputs": [],
   "source": [
    "import sympy as sp"
   ]
  },
  {
   "cell_type": "code",
   "execution_count": 19,
   "outputs": [
    {
     "name": "stdout",
     "output_type": "stream",
     "text": [
      "34.0000000000000\n"
     ]
    }
   ],
   "source": [
    "#--------多项式求解--------\n",
    "#定义变量\n",
    "# x = sp.Symbol('x')\n",
    "x = sp.var(\"x\")\n",
    "fx = 5 * x + 4\n",
    "#使用evalf函数传值\n",
    "y1 = fx.evalf(subs={x: 6})\n",
    "print(y1)"
   ],
   "metadata": {
    "collapsed": false
   }
  },
  {
   "cell_type": "code",
   "execution_count": 20,
   "outputs": [
    {
     "name": "stdout",
     "output_type": "stream",
     "text": [
      "25.0000000000000\n"
     ]
    }
   ],
   "source": [
    "#多元表达式\n",
    "x = sp.Symbol('x')\n",
    "y = sp.Symbol('y')\n",
    "fx = x * x + y * y\n",
    "result = fx.evalf(subs={x: 3, y: 4})\n",
    "print(result)"
   ],
   "metadata": {
    "collapsed": false
   }
  },
  {
   "cell_type": "code",
   "execution_count": 21,
   "outputs": [
    {
     "name": "stdout",
     "output_type": "stream",
     "text": [
      "[-3]\n"
     ]
    }
   ],
   "source": [
    "#解方程 有限解\n",
    "#定义变量\n",
    "x = sp.Symbol('x')\n",
    "y = sp.Symbol('y')\n",
    "fx = x * 3 + 9\n",
    "#可求解直接给出解向量\n",
    "print(sp.solve(fx, x))"
   ],
   "metadata": {
    "collapsed": false
   }
  },
  {
   "cell_type": "code",
   "execution_count": 24,
   "outputs": [
    {
     "name": "stdout",
     "output_type": "stream",
     "text": [
      "[(-y**2/3, y)]\n"
     ]
    }
   ],
   "source": [
    "#解方程无穷多解\n",
    "#定义变量\n",
    "x = sp.Symbol('x')\n",
    "y = sp.Symbol('y')\n",
    "fx = x * 3 + y ** 2\n",
    "#得到是x与y的关系式，\n",
    "print(sp.solve(fx, x, y))"
   ],
   "metadata": {
    "collapsed": false
   }
  },
  {
   "cell_type": "code",
   "execution_count": 27,
   "outputs": [
    {
     "name": "stdout",
     "output_type": "stream",
     "text": [
      "10100\n"
     ]
    }
   ],
   "source": [
    "#定义变量\n",
    "n = sp.Symbol('n')\n",
    "f = 2 * n\n",
    "#前面参数放函数，后面放变量的变化范围\n",
    "s = sp.summation(f, (n, 1, 100))\n",
    "print(s)"
   ],
   "metadata": {
    "collapsed": false
   }
  },
  {
   "cell_type": "code",
   "execution_count": 28,
   "outputs": [
    {
     "name": "stdout",
     "output_type": "stream",
     "text": [
      "[1]\n"
     ]
    }
   ],
   "source": [
    "#解释一下，i可以看做是循环变量，就是x自己加五次\n",
    "#先定义变量，再写出方程\n",
    "x = sp.Symbol('x')\n",
    "i = sp.Symbol('i')\n",
    "f = sp.summation(x, (i, 1, 5)) + 10 * x - 15\n",
    "result = sp.solve(f, x)\n",
    "print(result)"
   ],
   "metadata": {
    "collapsed": false
   }
  },
  {
   "cell_type": "code",
   "execution_count": 29,
   "outputs": [
    {
     "name": "stdout",
     "output_type": "stream",
     "text": [
      "1 E E\n"
     ]
    }
   ],
   "source": [
    "#求极限使用limit方法\n",
    "#定义变量与函数\n",
    "x = sp.Symbol('x')\n",
    "f1 = sp.sin(x) / x\n",
    "f2 = (1 + x) ** (1 / x)\n",
    "f3 = (1 + 1 / x) ** x\n",
    "#三个参数是 函数，变量，趋向值\n",
    "lim1 = sp.limit(f1, x, 0)\n",
    "lim2 = sp.limit(f2, x, 0)\n",
    "lim3 = sp.limit(f3, x, sp.oo)\n",
    "print(lim1, lim2, lim3)"
   ],
   "metadata": {
    "collapsed": false
   }
  },
  {
   "cell_type": "code",
   "execution_count": 32,
   "outputs": [
    {
     "name": "stdout",
     "output_type": "stream",
     "text": [
      "15\n",
      "cos(x)\n",
      "4⋅x\n",
      "    3    \n",
      "12⋅y  + 2\n"
     ]
    }
   ],
   "source": [
    "#求导使用diff方法\n",
    "x = sp.Symbol('x')\n",
    "f1 = 2 * x ** 4 + 3 * x + 6\n",
    "#参数是函数与变量\n",
    "f1_ = sp.diff(f, x)\n",
    "# print(f1_)\n",
    "sp.pprint(f1_)\n",
    "\n",
    "f2 = sp.sin(x)\n",
    "f2_ = sp.diff(f2, x)\n",
    "# print(f2_)\n",
    "sp.pprint(f2_)\n",
    "\n",
    "#求偏导\n",
    "y = sp.Symbol('y')\n",
    "f3 = 2 * x ** 2 + 3 * y ** 4 + 2 * y\n",
    "#对x，y分别求导，即偏导\n",
    "f3_x = sp.diff(f3, x)\n",
    "f3_y = sp.diff(f3, y)\n",
    "# print(f3_x)\n",
    "# print(f3_y)\n",
    "sp.pprint(f3_x)\n",
    "sp.pprint(f3_y)"
   ],
   "metadata": {
    "collapsed": false
   }
  },
  {
   "cell_type": "code",
   "execution_count": 34,
   "outputs": [
    {
     "name": "stdout",
     "output_type": "stream",
     "text": [
      "1\n"
     ]
    }
   ],
   "source": [
    "#求定积分用 integrate方法\n",
    "x = sp.Symbol('x')\n",
    "f = 2 * x\n",
    "#参数传入 函数，积分变量和范围\n",
    "result = sp.integrate(f, (x, 0, 1))\n",
    "print(result)"
   ],
   "metadata": {
    "collapsed": false
   }
  },
  {
   "cell_type": "code",
   "execution_count": 38,
   "outputs": [
    {
     "data": {
      "text/plain": "(1.0, 1.1102230246251565e-14)"
     },
     "execution_count": 38,
     "metadata": {},
     "output_type": "execute_result"
    }
   ],
   "source": [
    "from scipy import integrate\n",
    "\n",
    "\n",
    "def f(x):\n",
    "    return 2 * x\n",
    "\n",
    "\n",
    "v, err = integrate.quad(f, 0, 1)  # err为误差\n",
    "v, err"
   ],
   "metadata": {
    "collapsed": false
   }
  },
  {
   "cell_type": "code",
   "execution_count": 39,
   "outputs": [
    {
     "name": "stdout",
     "output_type": "stream",
     "text": [
      "9\n"
     ]
    }
   ],
   "source": [
    "#求多重积分，先求里面的积分，再求外面的\n",
    "x, t = sp.symbols('x t')\n",
    "f1 = 2 * t\n",
    "f2 = sp.integrate(f1, (t, 0, x))\n",
    "result = sp.integrate(f2, (x, 0, 3))\n",
    "print(result)"
   ],
   "metadata": {
    "collapsed": false
   }
  },
  {
   "cell_type": "code",
   "execution_count": 40,
   "outputs": [
    {
     "name": "stdout",
     "output_type": "stream",
     "text": [
      "x**2 + exp(x)\n"
     ]
    }
   ],
   "source": [
    "#求不定积分其实和定积分区别不大\n",
    "x = sp.Symbol('x')\n",
    "f = (sp.E ** x + 2 * x)\n",
    "f_ = sp.integrate(f, x)\n",
    "print(f_)"
   ],
   "metadata": {
    "collapsed": false
   }
  },
  {
   "cell_type": "code",
   "execution_count": 41,
   "outputs": [
    {
     "data": {
      "text/plain": "0",
      "text/latex": "$\\displaystyle 0$"
     },
     "execution_count": 41,
     "metadata": {},
     "output_type": "execute_result"
    }
   ],
   "source": [
    "#数学符合\n",
    "#虚数单位i\n",
    "sp.I\n",
    "#自然对数低e\n",
    "sp.E\n",
    "#无穷大\n",
    "sp.oo\n",
    "#圆周率\n",
    "sp.pi\n",
    "#求n次方根\n",
    "sp.root(8, 3)\n",
    "#求对数\n",
    "sp.log(1024, 2)\n",
    "#求阶乘\n",
    "sp.factorial(4)\n",
    "#三角函数\n",
    "sp.sin(sp.pi)\n",
    "sp.tan(sp.pi / 4)\n",
    "sp.cos(sp.pi / 2)"
   ],
   "metadata": {
    "collapsed": false
   }
  },
  {
   "cell_type": "code",
   "execution_count": 42,
   "outputs": [
    {
     "name": "stdout",
     "output_type": "stream",
     "text": [
      "2*x**3 + x**2\n"
     ]
    },
    {
     "data": {
      "text/plain": "(x + 1)**2",
      "text/latex": "$\\displaystyle \\left(x + 1\\right)^{2}$"
     },
     "execution_count": 42,
     "metadata": {},
     "output_type": "execute_result"
    }
   ],
   "source": [
    "x = sp.Symbol('x')\n",
    "#公式展开用expand方法\n",
    "f = (1 + 2 * x) * x ** 2\n",
    "ff = sp.expand(f)\n",
    "print(ff)\n",
    "#公式折叠用factor方法\n",
    "f = x ** 2 + 1 + 2 * x\n",
    "sp.factor(f)"
   ],
   "metadata": {
    "collapsed": false
   }
  },
  {
   "cell_type": "code",
   "execution_count": 43,
   "outputs": [
    {
     "name": "stdout",
     "output_type": "stream",
     "text": [
      "1 + 1/(x + 1)\n",
      "(x + y)/(x*y)\n"
     ]
    }
   ],
   "source": [
    "x = sp.Symbol('x')\n",
    "y = sp.Symbol('y')\n",
    "#公式展开用apart方法,和expand区别不是很大，常用于分数进行分离\n",
    "f = (x + 2) / (x + 1)\n",
    "ff = sp.apart(f)\n",
    "print(ff)\n",
    "#公式折叠用tegother方法\n",
    "f = (1 / x + 1 / y)\n",
    "ff = sp.together(f)\n",
    "print(ff)"
   ],
   "metadata": {
    "collapsed": false
   }
  },
  {
   "cell_type": "code",
   "execution_count": 44,
   "outputs": [
    {
     "ename": "NameError",
     "evalue": "name 'sin' is not defined",
     "output_type": "error",
     "traceback": [
      "\u001B[1;31m---------------------------------------------------------------------------\u001B[0m",
      "\u001B[1;31mNameError\u001B[0m                                 Traceback (most recent call last)",
      "Cell \u001B[1;32mIn[44], line 4\u001B[0m\n\u001B[0;32m      2\u001B[0m sp\u001B[38;5;241m.\u001B[39msimplify((x \u001B[38;5;241m*\u001B[39m\u001B[38;5;241m*\u001B[39m \u001B[38;5;241m3\u001B[39m \u001B[38;5;241m+\u001B[39m x \u001B[38;5;241m*\u001B[39m\u001B[38;5;241m*\u001B[39m \u001B[38;5;241m2\u001B[39m \u001B[38;5;241m-\u001B[39m x \u001B[38;5;241m-\u001B[39m \u001B[38;5;241m1\u001B[39m) \u001B[38;5;241m/\u001B[39m (x \u001B[38;5;241m*\u001B[39m\u001B[38;5;241m*\u001B[39m \u001B[38;5;241m2\u001B[39m \u001B[38;5;241m+\u001B[39m \u001B[38;5;241m2\u001B[39m \u001B[38;5;241m*\u001B[39m x \u001B[38;5;241m+\u001B[39m \u001B[38;5;241m1\u001B[39m))\n\u001B[0;32m      3\u001B[0m \u001B[38;5;66;03m#trigsimp( )三角化简\u001B[39;00m\n\u001B[1;32m----> 4\u001B[0m sp\u001B[38;5;241m.\u001B[39mtrigsimp(\u001B[43msin\u001B[49m(x) \u001B[38;5;241m/\u001B[39m cos(x))\n\u001B[0;32m      5\u001B[0m \u001B[38;5;66;03m#powsimp( )指数化简\u001B[39;00m\n\u001B[0;32m      6\u001B[0m sp\u001B[38;5;241m.\u001B[39mpowsimp(x \u001B[38;5;241m*\u001B[39m\u001B[38;5;241m*\u001B[39m a \u001B[38;5;241m*\u001B[39m x \u001B[38;5;241m*\u001B[39m\u001B[38;5;241m*\u001B[39m b)\n",
      "\u001B[1;31mNameError\u001B[0m: name 'sin' is not defined"
     ]
    }
   ],
   "source": [
    "#simplify( )普通的化简\n",
    "sp.simplify((x ** 3 + x ** 2 - x - 1) / (x ** 2 + 2 * x + 1))\n",
    "#trigsimp( )三角化简\n",
    "sp.trigsimp(sp.sin(x) / sp.cos(x))\n",
    "#powsimp( )指数化简\n",
    "sp.powsimp(x ** a * x ** b)"
   ],
   "metadata": {
    "collapsed": false
   }
  }
 ],
 "metadata": {
  "kernelspec": {
   "display_name": "Python 3",
   "language": "python",
   "name": "python3"
  },
  "language_info": {
   "codemirror_mode": {
    "name": "ipython",
    "version": 2
   },
   "file_extension": ".py",
   "mimetype": "text/x-python",
   "name": "python",
   "nbconvert_exporter": "python",
   "pygments_lexer": "ipython2",
   "version": "2.7.6"
  }
 },
 "nbformat": 4,
 "nbformat_minor": 0
}
