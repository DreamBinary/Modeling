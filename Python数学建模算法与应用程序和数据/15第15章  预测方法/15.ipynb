{
 "cells": [
  {
   "cell_type": "code",
   "execution_count": 1,
   "metadata": {
    "ExecuteTime": {
     "end_time": "2023-05-23T22:45:08.857381Z",
     "start_time": "2023-05-23T22:45:07.910777Z"
    },
    "collapsed": true
   },
   "outputs": [],
   "source": [
    "import numpy as np\n",
    "import sympy as sp"
   ]
  },
  {
   "cell_type": "code",
   "execution_count": 2,
   "metadata": {},
   "outputs": [
    {
     "data": {
      "text/plain": [
       "((1, 3), (1, 3), (1, 6))"
      ]
     },
     "execution_count": 2,
     "metadata": {},
     "output_type": "execute_result"
    }
   ],
   "source": [
    "# a = np.ones(3)\n",
    "# b = np.ones(3)\n",
    "a = np.ones((1, 3))\n",
    "b = np.ones((1, 3))\n",
    "c = np.hstack((a, b))\n",
    "a.shape, b.shape, c.shape"
   ]
  },
  {
   "cell_type": "code",
   "execution_count": 3,
   "metadata": {},
   "outputs": [
    {
     "data": {
      "text/plain": [
       "array([0.9820442 , 1.        , 1.00416089, 1.00980392, 0.99166667,\n",
       "       1.00558659])"
      ]
     },
     "execution_count": 3,
     "metadata": {},
     "output_type": "execute_result"
    }
   ],
   "source": [
    "x0 = np.array([71.1, 72.4, 72.4, 72.1, 71.4, 72.0, 71.6])\n",
    "n = len(x0)\n",
    "lamda = x0[: -1] / x0[1:]\n",
    "lamda"
   ]
  },
  {
   "cell_type": "code",
   "execution_count": 4,
   "metadata": {},
   "outputs": [
    {
     "data": {
      "text/plain": [
       "[0.9820441988950275, 1.0098039215686272]"
      ]
     },
     "execution_count": 4,
     "metadata": {},
     "output_type": "execute_result"
    }
   ],
   "source": [
    "b1 = [min(lamda), max(lamda)]\n",
    "b1"
   ]
  },
  {
   "cell_type": "code",
   "execution_count": 5,
   "metadata": {},
   "outputs": [
    {
     "data": {
      "text/plain": [
       "[0.7788007830714049, 1.2840254166877414]"
      ]
     },
     "execution_count": 5,
     "metadata": {},
     "output_type": "execute_result"
    }
   ],
   "source": [
    "b2 = [np.exp(-2 / (n + 1)), np.exp(2 / (n + 1))]\n",
    "b2"
   ]
  },
  {
   "cell_type": "code",
   "execution_count": 6,
   "metadata": {},
   "outputs": [
    {
     "data": {
      "text/plain": [
       "(6,)"
      ]
     },
     "execution_count": 6,
     "metadata": {},
     "output_type": "execute_result"
    }
   ],
   "source": [
    "x1 = np.cumsum(x0)\n",
    "z = (x1[:-1] + x1[1:]) / 2\n",
    "z.shape"
   ]
  },
  {
   "cell_type": "code",
   "execution_count": 7,
   "metadata": {},
   "outputs": [
    {
     "data": {
      "text/plain": [
       "(6,)"
      ]
     },
     "execution_count": 7,
     "metadata": {},
     "output_type": "execute_result"
    }
   ],
   "source": [
    "np.ones(n - 1).shape"
   ]
  },
  {
   "cell_type": "code",
   "execution_count": 8,
   "metadata": {},
   "outputs": [
    {
     "data": {
      "text/plain": [
       "(6, 2)"
      ]
     },
     "execution_count": 8,
     "metadata": {},
     "output_type": "execute_result"
    }
   ],
   "source": [
    "B = np.vstack((-z, np.ones(n - 1))).T\n",
    "B.shape"
   ]
  },
  {
   "cell_type": "code",
   "execution_count": 9,
   "metadata": {},
   "outputs": [
    {
     "data": {
      "text/plain": [
       "array([2.34378648e-03, 7.26572696e+01])"
      ]
     },
     "execution_count": 9,
     "metadata": {},
     "output_type": "execute_result"
    }
   ],
   "source": [
    "u = np.linalg.pinv(B) @ x0[1:]\n",
    "u"
   ]
  },
  {
   "cell_type": "code",
   "execution_count": 10,
   "metadata": {},
   "outputs": [
    {
     "data": {
      "text/latex": [
       "$\\displaystyle 0.00234378647852337 x{\\left(t \\right)} + \\frac{d}{d t} x{\\left(t \\right)} - 72.6572696036788$"
      ],
      "text/plain": [
       "0.00234378647852337*x(t) + Derivative(x(t), t) - 72.6572696036788"
      ]
     },
     "execution_count": 10,
     "metadata": {},
     "output_type": "execute_result"
    }
   ],
   "source": [
    "t = sp.var(\"t\")\n",
    "x = sp.var(\"x\", cls=sp.Function)\n",
    "eq = x(t).diff(t) + u[0] * x(t) - u[1]\n",
    "eq"
   ]
  },
  {
   "cell_type": "code",
   "execution_count": 11,
   "metadata": {},
   "outputs": [
    {
     "data": {
      "text/latex": [
       "$\\displaystyle x{\\left(t \\right)} = 30999.9525423725 - 30928.8525423725 e^{- 0.00234378647852337 t}$"
      ],
      "text/plain": [
       "Eq(x(t), 30999.9525423725 - 30928.8525423725*exp(-0.00234378647852337*t))"
      ]
     },
     "execution_count": 11,
     "metadata": {},
     "output_type": "execute_result"
    }
   ],
   "source": [
    "xt0 = sp.dsolve(eq, ics={x(0): x0[0]})\n",
    "xt0"
   ]
  },
  {
   "cell_type": "code",
   "execution_count": 12,
   "metadata": {},
   "outputs": [
    {
     "data": {
      "text/latex": [
       "$\\displaystyle 30999.9525423725 - 30928.8525423725 e^{- 0.00234378647852337 t}$"
      ],
      "text/plain": [
       "30999.9525423725 - 30928.8525423725*exp(-0.00234378647852337*t)"
      ]
     },
     "execution_count": 12,
     "metadata": {},
     "output_type": "execute_result"
    }
   ],
   "source": [
    "xt0 = xt0.args[1]\n",
    "xt0"
   ]
  },
  {
   "cell_type": "code",
   "execution_count": 13,
   "metadata": {},
   "outputs": [
    {
     "name": "stdout",
     "output_type": "stream",
     "text": [
      "<function _lambdifygenerated at 0x000002239E064700>\n"
     ]
    }
   ],
   "source": [
    "xt = sp.lambdify(t, xt0, \"numpy\")\n",
    "sp.pprint(xt)"
   ]
  },
  {
   "cell_type": "code",
   "execution_count": 14,
   "metadata": {},
   "outputs": [
    {
     "data": {
      "text/plain": [
       "array([0, 1, 2, 3, 4, 5, 6, 7])"
      ]
     },
     "execution_count": 14,
     "metadata": {},
     "output_type": "execute_result"
    }
   ],
   "source": [
    "t = np.arange(n + 1)\n",
    "t"
   ]
  },
  {
   "cell_type": "code",
   "execution_count": 15,
   "metadata": {},
   "outputs": [
    {
     "data": {
      "text/plain": [
       "array([ 71.1       , 143.50574144, 215.741978  , 287.8091065 ,\n",
       "       359.70752283, 431.43762195, 502.9997979 , 574.3944438 ])"
      ]
     },
     "execution_count": 15,
     "metadata": {},
     "output_type": "execute_result"
    }
   ],
   "source": [
    "xh = xt(t)\n",
    "xh"
   ]
  },
  {
   "cell_type": "code",
   "execution_count": 16,
   "metadata": {},
   "outputs": [
    {
     "data": {
      "text/plain": [
       "array([71.1       , 72.40574144, 72.23623656, 72.0671285 , 71.89841633,\n",
       "       71.73009912, 71.56217595, 71.39464589])"
      ]
     },
     "execution_count": 16,
     "metadata": {},
     "output_type": "execute_result"
    }
   ],
   "source": [
    "x0h = np.hstack([x0[0], np.diff(xh)])  #还原数据\n",
    "x0h"
   ]
  },
  {
   "cell_type": "code",
   "execution_count": 17,
   "metadata": {},
   "outputs": [
    {
     "name": "stdout",
     "output_type": "stream",
     "text": [
      "[0.         0.00793017 0.22619259 0.04559154 0.69806209 0.37486233\n",
      " 0.05282689]\n",
      "1993年预测值： 71.3946\n"
     ]
    }
   ],
   "source": [
    "x1993 = x0h[-1]  #提取1993年的预测值\n",
    "cha = x0 - x0h[:-1]\n",
    "delta = abs(cha / x0) * 100  #计算相对误差\n",
    "print(delta)\n",
    "rho = abs(1 - (1 - 0.5 * u[0]) / (1 + 0.5 * u[0]) * lamda)\n",
    "print('1993年预测值：', round(x1993, 4))"
   ]
  },
  {
   "cell_type": "code",
   "execution_count": 18,
   "metadata": {},
   "outputs": [
    {
     "data": {
      "text/plain": [
       "array([ 41,  90, 151, 229, 325, 429])"
      ]
     },
     "execution_count": 18,
     "metadata": {},
     "output_type": "execute_result"
    }
   ],
   "source": [
    "x0 = np.array([41, 49, 61, 78, 96, 104])  #原始序列\n",
    "n = len(x0)\n",
    "x1 = np.cumsum(x0)\n",
    "x1"
   ]
  },
  {
   "cell_type": "code",
   "execution_count": 19,
   "metadata": {},
   "outputs": [
    {
     "data": {
      "text/plain": [
       "array([ 8, 12, 17, 18,  8])"
      ]
     },
     "execution_count": 19,
     "metadata": {},
     "output_type": "execute_result"
    }
   ],
   "source": [
    "ax0 = np.diff(x0)\n",
    "ax0"
   ]
  },
  {
   "cell_type": "code",
   "execution_count": 20,
   "metadata": {},
   "outputs": [
    {
     "data": {
      "text/plain": [
       "array([ 65.5, 120.5, 190. , 277. , 377. ])"
      ]
     },
     "execution_count": 20,
     "metadata": {},
     "output_type": "execute_result"
    }
   ],
   "source": [
    "z = (x1[1:] + x1[:-1]) / 2\n",
    "z"
   ]
  },
  {
   "cell_type": "code",
   "execution_count": 21,
   "metadata": {},
   "outputs": [
    {
     "data": {
      "text/plain": [
       "(5, 3)"
      ]
     },
     "execution_count": 21,
     "metadata": {},
     "output_type": "execute_result"
    }
   ],
   "source": [
    "B = np.vstack([-x0[1:], -z, np.ones(n - 1)]).T\n",
    "B.shape"
   ]
  },
  {
   "cell_type": "code",
   "execution_count": 22,
   "metadata": {},
   "outputs": [
    {
     "data": {
      "text/plain": [
       "array([ -1.09219635,   0.19590335, -31.79834712])"
      ]
     },
     "execution_count": 22,
     "metadata": {},
     "output_type": "execute_result"
    }
   ],
   "source": [
    "u = np.linalg.pinv(B) @ ax0\n",
    "u"
   ]
  },
  {
   "cell_type": "code",
   "execution_count": 23,
   "metadata": {},
   "outputs": [
    {
     "data": {
      "text/latex": [
       "$\\displaystyle x{\\left(t \\right)} = 203.849012866397 e^{0.22622340416904 t} - 0.532505769427845 e^{0.865972945416789 t} - 162.31650709697$"
      ],
      "text/plain": [
       "Eq(x(t), 203.849012866397*exp(0.22622340416904*t) - 0.532505769427845*exp(0.865972945416789*t) - 162.31650709697)"
      ]
     },
     "execution_count": 23,
     "metadata": {},
     "output_type": "execute_result"
    }
   ],
   "source": [
    "t = sp.var(\"t\")\n",
    "x = sp.var(\"x\", cls=sp.Function)\n",
    "eq = x(t).diff(t, 2) + u[0] * x(t).diff(t) + u[1] * x(t) - u[2]\n",
    "s = sp.dsolve(eq, ics={x(0): x1[0], x(5): x1[-1]})\n",
    "s"
   ]
  },
  {
   "cell_type": "code",
   "execution_count": 24,
   "metadata": {},
   "outputs": [
    {
     "data": {
      "text/plain": [
       "(x(t),\n",
       " 203.849012866397*exp(0.22622340416904*t) - 0.532505769427845*exp(0.865972945416789*t) - 162.31650709697)"
      ]
     },
     "execution_count": 24,
     "metadata": {},
     "output_type": "execute_result"
    }
   ],
   "source": [
    "s.args"
   ]
  },
  {
   "cell_type": "code",
   "execution_count": 25,
   "metadata": {},
   "outputs": [],
   "source": [
    "xt = s.args[1]"
   ]
  },
  {
   "cell_type": "code",
   "execution_count": 26,
   "metadata": {},
   "outputs": [
    {
     "data": {
      "text/plain": [
       "<function _lambdifygenerated(t)>"
      ]
     },
     "execution_count": 26,
     "metadata": {},
     "output_type": "execute_result"
    }
   ],
   "source": [
    "x = sp.lambdify(t, xt, \"numpy\")\n",
    "x"
   ]
  },
  {
   "cell_type": "code",
   "execution_count": 27,
   "metadata": {},
   "outputs": [
    {
     "data": {
      "text/plain": [
       "array([ 41.        ,  92.01481441, 155.1560522 , 232.36719237,\n",
       "       324.52198208, 429.        ])"
      ]
     },
     "execution_count": 27,
     "metadata": {},
     "output_type": "execute_result"
    }
   ],
   "source": [
    "xh1 = x(np.arange(n))\n",
    "xh1"
   ]
  },
  {
   "cell_type": "code",
   "execution_count": 28,
   "metadata": {},
   "outputs": [
    {
     "data": {
      "text/plain": [
       "array([ 41.        ,  51.01481441,  63.14123779,  77.21114017,\n",
       "        92.15478971, 104.47801792])"
      ]
     },
     "execution_count": 28,
     "metadata": {},
     "output_type": "execute_result"
    }
   ],
   "source": [
    "xh0 = np.hstack([x0[0], np.diff(xh1)])  #还原数据\n",
    "xh0"
   ]
  },
  {
   "cell_type": "code",
   "execution_count": 29,
   "metadata": {},
   "outputs": [
    {
     "data": {
      "text/plain": [
       "array([0.        , 4.11186614, 3.51022588, 1.01135875, 4.00542739,\n",
       "       0.45963262])"
      ]
     },
     "execution_count": 29,
     "metadata": {},
     "output_type": "execute_result"
    }
   ],
   "source": [
    "ea = x0 - xh0\n",
    "er = abs(ea) / x0 * 100\n",
    "er"
   ]
  },
  {
   "cell_type": "code",
   "execution_count": 29,
   "metadata": {},
   "outputs": [],
   "source": []
  },
  {
   "cell_type": "code",
   "execution_count": 30,
   "metadata": {},
   "outputs": [
    {
     "data": {
      "text/plain": [
       "array([0.404, 0.112, 0.289, 0.091, 0.03 ])"
      ]
     },
     "execution_count": 30,
     "metadata": {},
     "output_type": "execute_result"
    }
   ],
   "source": [
    "x0 = np.array([2.874, 3.278, 3.39, 3.679, 3.77, 3.8])  #原始序列\n",
    "n = len(x0);\n",
    "ax0 = np.diff(x0)  #计算1次累减序列\n",
    "ax0"
   ]
  },
  {
   "cell_type": "code",
   "execution_count": 31,
   "metadata": {},
   "outputs": [
    {
     "name": "stdout",
     "output_type": "stream",
     "text": [
      "参数u： [0.424  1.7046]\n"
     ]
    }
   ],
   "source": [
    "B = np.vstack([-x0[1:], np.ones(n - 1)]).T\n",
    "u = np.linalg.pinv(B) @ ax0  #最小二乘法拟合参数\n",
    "sp.var('t');\n",
    "sp.var('x', cls=sp.Function)  #定义符号变量和函数\n",
    "eq = x(t).diff(t, 2) + u[0] * x(t).diff(t) - u[1]\n",
    "s = sp.dsolve(eq, ics={x(0): x0[0], x(t).diff(t).subs(t, 0): x0[0]})\n",
    "xt = s.args[1]  #提取解的符号表达式\n",
    "x = sp.lambdify(t, xt, 'numpy')  #转换为匿名函数\n",
    "xh1 = x(np.arange(n))  #求预测值\n",
    "xh0 = np.hstack([x0[0], np.diff(xh1)])  #还原数据\n",
    "ea = x0 - xh0  #计算预测的残差\n",
    "er = abs(ea) / x0 * 100  #计算相对误差\n",
    "print('参数u：', np.round(u, 4))"
   ]
  },
  {
   "cell_type": "code",
   "execution_count": 32,
   "metadata": {},
   "outputs": [
    {
     "name": "stdout",
     "output_type": "stream",
     "text": [
      "参数u： [-0.3576 -0.0041]\n"
     ]
    },
    {
     "data": {
      "text/plain": [
       "array([ 0.        , 16.21558246, 31.89382428, 19.96230262, 32.59970031,\n",
       "       22.68063946, 21.72037303, 14.65968098,  0.9291917 ,  8.10325804])"
      ]
     },
     "execution_count": 32,
     "metadata": {},
     "output_type": "execute_result"
    }
   ],
   "source": [
    "x0 = np.array([4.93, 2.33, 3.87, 4.35, 6.63, 7.15, 5.37, 6.39, 7.81, 8.35])  #原始序列\n",
    "n = len(x0)\n",
    "x1 = np.cumsum(x0)  #求累加序列\n",
    "z = (x1[1:] + x1[:-1]) / 2  #求均值生成序列\n",
    "B = np.vstack([-z, z ** 2]).T\n",
    "u = np.linalg.pinv(B) @ x0[1:]  #最小二乘法拟合参数\n",
    "print('参数u：', np.round(u, 4))\n",
    "#下面直接利用解的表达式写出对应的匿名函数\n",
    "x = lambda t: u[0] * x0[0] / (u[1] * x0[0] + (u[0] - u[1] * x0[0]) * np.exp(u[0] * t))\n",
    "xh1 = x(np.arange(n))  #求预测值\n",
    "xh0 = np.hstack([x0[0], np.diff(xh1)])  #还原数据\n",
    "ea = x0 - xh0  #计算预测的残差\n",
    "er = abs(ea) / x0 * 100  #计算相对误差\n",
    "er"
   ]
  },
  {
   "cell_type": "code",
   "execution_count": 33,
   "metadata": {},
   "outputs": [
    {
     "name": "stdout",
     "output_type": "stream",
     "text": [
      "统计数据矩阵a:\n",
      " [[ 8. 18.]\n",
      " [18. 52.]]\n",
      "a的行和： [26. 70.]\n"
     ]
    }
   ],
   "source": [
    "with open('data15_5.txt') as f:\n",
    "    s = f.read().replace('\\n', '')\n",
    "a = np.zeros((2, 2))  #统计数据初始化\n",
    "mfind = lambda s, c: [x for x in range(s.find(c), len(s)) if s[x:x + 2] == c]\n",
    "for i in range(2):\n",
    "    for j in range(2):\n",
    "        a[i, j] = len(mfind(s, str(i) + str(j)))\n",
    "print('统计数据矩阵a:\\n', a);\n",
    "print('a的行和：', a.sum(axis=1))"
   ]
  },
  {
   "cell_type": "code",
   "execution_count": 34,
   "metadata": {},
   "outputs": [
    {
     "name": "stdout",
     "output_type": "stream",
     "text": [
      "统计数据矩阵a:\n",
      " [[4. 4. 1. 1.]\n",
      " [3. 2. 4. 2.]\n",
      " [4. 4. 2. 1.]\n",
      " [0. 1. 4. 2.]]\n",
      "a的行和： [10. 11. 11.  7.]\n"
     ]
    }
   ],
   "source": [
    "with open('data15_6.txt') as f:\n",
    "    s = f.read().replace(' ', '').replace('\\n', '')\n",
    "a = np.zeros((4, 4))  #统计数据初始化\n",
    "mfind = lambda s, c: [x for x in range(s.find(c), len(s)) if s[x:x + 2] == c]\n",
    "for i in range(1, 5):\n",
    "    for j in range(1, 5):\n",
    "        a[i - 1, j - 1] = len(mfind(s, str(i) + str(j)))\n",
    "print('统计数据矩阵a:\\n', a);\n",
    "print('a的行和：', a.sum(axis=1))"
   ]
  },
  {
   "cell_type": "code",
   "execution_count": 36,
   "metadata": {},
   "outputs": [
    {
     "name": "stdout",
     "output_type": "stream",
     "text": [
      "P4: [[0.7004 0.136  0.1636]]\n"
     ]
    }
   ],
   "source": [
    "P1 = np.mat([0.2, 0.4, 0.4])\n",
    "P = np.mat([[0.8, 0.1, 0.1], [0.5, 0.1, 0.4], [0.5, 0.3, 0.2]])\n",
    "# P4 = P1 @ P ** 3\n",
    "P4 = P1 @ P @ P @ P\n",
    "print('P4:', P4)"
   ]
  },
  {
   "cell_type": "code",
   "execution_count": 38,
   "metadata": {},
   "outputs": [
    {
     "data": {
      "text/plain": [
       "array([[-0.2,  0.5,  0.5],\n",
       "       [ 0.1, -0.9,  0.3],\n",
       "       [ 0.1,  0.4, -0.8],\n",
       "       [ 1. ,  1. ,  1. ]])"
      ]
     },
     "execution_count": 38,
     "metadata": {},
     "output_type": "execute_result"
    }
   ],
   "source": [
    "p = np.array([[0.8, 0.1, 0.1], [0.5, 0.1, 0.4], [0.5, 0.3, 0.2]])\n",
    "a = np.vstack([p.T - np.eye(3), np.ones(3)])  #构造方程组系数矩阵\n",
    "a"
   ]
  },
  {
   "cell_type": "code",
   "execution_count": 39,
   "metadata": {},
   "outputs": [
    {
     "data": {
      "text/plain": [
       "array([0., 0., 0., 1.])"
      ]
     },
     "execution_count": 39,
     "metadata": {},
     "output_type": "execute_result"
    }
   ],
   "source": [
    "b = np.hstack([np.zeros(3), 1])  #构造方程组常数项列\n",
    "b"
   ]
  },
  {
   "cell_type": "code",
   "execution_count": 37,
   "metadata": {},
   "outputs": [
    {
     "name": "stdout",
     "output_type": "stream",
     "text": [
      "解为： [0.7143 0.131  0.1548]\n"
     ]
    }
   ],
   "source": [
    "x = np.linalg.pinv(a) @ b  #求线性方程组的数值解\n",
    "print('解为：', np.round(x, 4))\n"
   ]
  },
  {
   "cell_type": "code",
   "execution_count": 40,
   "metadata": {},
   "outputs": [
    {
     "name": "stdout",
     "output_type": "stream",
     "text": [
      "求得特征向量为： [0.7143 0.131  0.1548]\n"
     ]
    }
   ],
   "source": [
    "p = np.array([[0.8, 0.1, 0.1], [0.5, 0.1, 0.4], [0.5, 0.3, 0.2]])\n",
    "val, vec = np.linalg.eig(p.T)\n",
    "s = vec[:, 0] / sum(vec[:, 0])  #最大特征值对应的特征向量归一化\n",
    "print('求得特征向量为：', np.round(s, 4))"
   ]
  },
  {
   "cell_type": "code",
   "execution_count": 41,
   "metadata": {},
   "outputs": [
    {
     "name": "stdout",
     "output_type": "stream",
     "text": [
      "解为： [0.4146 0.3902 0.1951]\n"
     ]
    }
   ],
   "source": [
    "p = np.array([[0.2, 0.8, 0], [0.8, 0, 0.2], [0.1, 0.3, 0.6]])\n",
    "a = np.vstack([p.T - np.eye(3), np.ones((1, 3))])  #构造方程组系数矩阵\n",
    "b = np.hstack([np.zeros(3), 1])  #构造方程组常数项列\n",
    "x = np.linalg.pinv(a) @ b  #求线性方程组的数值解\n",
    "print('解为：', np.round(x, 4))"
   ]
  },
  {
   "cell_type": "code",
   "execution_count": 42,
   "metadata": {},
   "outputs": [
    {
     "name": "stdout",
     "output_type": "stream",
     "text": [
      "模型系数和常数项分别为： [[-1.3 -0.5]] , [0.]\n",
      "模型精度： 1.0\n",
      "预测值为： [1]\n"
     ]
    }
   ],
   "source": [
    "from sklearn.linear_model import Perceptron\n",
    "\n",
    "x0 = np.array([[-0.5, -0.5, 0.3, 0.0], [-0.5, 0.5, -0.5, 1.0]]).T\n",
    "y0 = np.array([1, 1, 0, 0])\n",
    "md = Perceptron().fit(x0, y0)  #构造并拟合模型\n",
    "print('模型系数和常数项分别为：', md.coef_, ',', md.intercept_)\n",
    "print('模型精度：', md.score(x0, y0))  #模型检验\n",
    "print('预测值为：', md.predict([[-0.5, 0.2]]))"
   ]
  },
  {
   "cell_type": "code",
   "execution_count": 44,
   "metadata": {},
   "outputs": [
    {
     "name": "stdout",
     "output_type": "stream",
     "text": [
      "待判样本类别：, [1. 0.]\n",
      "属于各个类别的概率：\n",
      " [[1.69926741e-03 9.98300733e-01]\n",
      " [1.00000000e+00 2.05415703e-12]]\n",
      "训练样本的回代准确率： 1.0\n"
     ]
    }
   ],
   "source": [
    "#程序文件ex15_11.py\n",
    "from sklearn.neural_network import MLPClassifier\n",
    "\n",
    "a = np.loadtxt('data15_11.txt')\n",
    "x0 = a[:10, :]\n",
    "x = a[10:, :]  #提出训练样本和待判样本数据\n",
    "m1 = x0.max(axis=0)\n",
    "m2 = x0.min(axis=0)  #计算逐列最大值和最小值\n",
    "bx0 = (x0 - m2) / (m1 - m2)  #数据标准化\n",
    "bx0[:, 1] = (m1[1] - x0[:, 1]) / (m1[1] - m2[1])  #x2值特殊处理\n",
    "y0 = np.hstack([np.zeros(5), np.ones(5)])  #标号值\n",
    "#构造并拟合模型\n",
    "md = MLPClassifier(solver='lbfgs', activation='relu',\n",
    "                   hidden_layer_sizes=30).fit(bx0, y0)\n",
    "bx = (x - m2) / (m1 - m2)  #待判样本数据标准化\n",
    "bx[:, 1] = (m1[1] - x[:, 1]) / (m1[1] - m2[1])  #x2值特殊处理\n",
    "yh = md.predict(bx);\n",
    "print('待判样本类别：,', yh)\n",
    "print('属于各个类别的概率：\\n', md.predict_proba(bx))\n",
    "print('训练样本的回代准确率：', md.score(bx0, y0))\n"
   ]
  },
  {
   "cell_type": "code",
   "execution_count": 45,
   "metadata": {},
   "outputs": [
    {
     "name": "stdout",
     "output_type": "stream",
     "text": [
      "预测值为：, [54449.6209 56573.6884]\n",
      "已知数据预测的相对误差： [32.6952 19.8668  3.9346 11.0724 19.814   1.2698  3.3068  1.364   2.4221\n",
      "  3.65   11.8408  1.0297  5.5573 11.0161 11.6557  3.7571  2.1716  5.0174\n",
      "  4.372   1.9292]\n"
     ]
    },
    {
     "data": {
      "image/png": "[encoded data removed]",
      "text/plain": [
       "<Figure size 640x480 with 1 Axes>"
      ]
     },
     "metadata": {},
     "output_type": "display_data"
    }
   ],
   "source": [
    "#程序文件ex15_12.py\n",
    "from sklearn.neural_network import MLPRegressor\n",
    "import numpy as np\n",
    "import pylab as plt\n",
    "\n",
    "a = np.loadtxt('data15_12.txt')\n",
    "x0 = a[:, :3];\n",
    "y0 = a[:, 3]  #提出训练样本数据\n",
    "m1 = x0.max(axis=0);\n",
    "m2 = x0.min(axis=0)  #计算逐列最大值和最小值\n",
    "bx0 = 2 * (x0 - m2) / (m1 - m2) - 1  #数据标准化\n",
    "#构造并拟合模型\n",
    "md = MLPRegressor(solver='lbfgs', activation='identity',\n",
    "                  hidden_layer_sizes=10).fit(bx0, y0)\n",
    "x = np.array([[73.39, 75.55], [3.9635, 4.0975], [0.9880, 1.0268]]).T\n",
    "\n",
    "bx = 2 * (x - m2) / (m1 - m2) - 1  #数据标准化\n",
    "yh = md.predict(bx);\n",
    "print('预测值为：,', np.round(yh, 4))\n",
    "yh0 = md.predict(bx0);\n",
    "delta = abs(yh0 - y0) / y0 * 100\n",
    "print('已知数据预测的相对误差：', np.round(delta, 4))\n",
    "t = np.arange(1990, 2010)\n",
    "plt.rc('font', size=15);\n",
    "plt.rc('font', family='SimHei')\n",
    "plt.plot(t, y0, '--o', label='原始数据')\n",
    "plt.plot(t, yh0, '-*', label='预测数据')\n",
    "plt.xticks(t, rotation=55);\n",
    "plt.legend();\n",
    "plt.show()\n",
    "\n"
   ]
  },
  {
   "cell_type": "code",
   "execution_count": null,
   "metadata": {},
   "outputs": [],
   "source": []
  }
 ],
 "metadata": {
  "kernelspec": {
   "display_name": "Python 3 (ipykernel)",
   "language": "python",
   "name": "python3"
  },
  "language_info": {
   "codemirror_mode": {
    "name": "ipython",
    "version": 3
   },
   "file_extension": ".py",
   "mimetype": "text/x-python",
   "name": "python",
   "nbconvert_exporter": "python",
   "pygments_lexer": "ipython3",
   "version": "3.9.0"
  },
  "vp": {
   "vp_config_version": "1.0.0",
   "vp_menu_width": 273,
   "vp_note_display": false,
   "vp_note_width": 0,
   "vp_position": {
    "width": 278
   },
   "vp_section_display": false,
   "vp_signature": "VisualPython"
  }
 },
 "nbformat": 4,
 "nbformat_minor": 1
}
