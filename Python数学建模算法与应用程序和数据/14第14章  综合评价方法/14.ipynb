{
 "cells": [
  {
   "cell_type": "code",
   "execution_count": 1,
   "metadata": {
    "collapsed": true
   },
   "outputs": [],
   "source": [
    "import numpy as np\n",
    "import pandas as pd"
   ]
  },
  {
   "cell_type": "code",
   "execution_count": 2,
   "outputs": [
    {
     "data": {
      "text/plain": "array([[2.0e+00, 1.5e+03, 2.0e+04, 5.5e+06, 5.0e-01, 1.0e+00],\n       [2.5e+00, 2.7e+03, 1.8e+04, 6.5e+06, 3.0e-01, 5.0e-01],\n       [1.8e+00, 2.0e+03, 2.1e+04, 4.5e+06, 7.0e-01, 7.0e-01],\n       [2.2e+00, 1.8e+03, 2.0e+04, 5.0e+06, 5.0e-01, 5.0e-01]])"
     },
     "execution_count": 2,
     "metadata": {},
     "output_type": "execute_result"
    }
   ],
   "source": [
    "a = np.loadtxt(\"data14_1_1.txt\")\n",
    "a"
   ],
   "metadata": {
    "collapsed": false
   }
  },
  {
   "cell_type": "code",
   "execution_count": 3,
   "outputs": [
    {
     "data": {
      "text/plain": "array([4.28135493e+00, 4.09633983e+03, 3.95600809e+04, 1.08512672e+07,\n       1.03923048e+00, 1.41067360e+00])"
     },
     "execution_count": 3,
     "metadata": {},
     "output_type": "execute_result"
    }
   ],
   "source": [
    "b = np.linalg.norm(a, axis=0)\n",
    "b"
   ],
   "metadata": {
    "collapsed": false
   }
  },
  {
   "cell_type": "code",
   "execution_count": 4,
   "outputs": [
    {
     "data": {
      "text/plain": "(array([2.5e+00, 2.7e+03, 2.1e+04, 6.5e+06, 7.0e-01, 1.0e+00]),\n array([1.8e+00, 1.5e+03, 1.8e+04, 4.5e+06, 3.0e-01, 5.0e-01]))"
     },
     "execution_count": 4,
     "metadata": {},
     "output_type": "execute_result"
    }
   ],
   "source": [
    "m1 = a.max(axis=0)\n",
    "m2 = a.min(axis=0)\n",
    "m1, m2"
   ],
   "metadata": {
    "collapsed": false
   }
  },
  {
   "cell_type": "code",
   "execution_count": 5,
   "outputs": [
    {
     "data": {
      "text/plain": "array([[0.46714184, 0.36618056, 0.50556014, 0.50685325, 0.48112522,\n        0.70888121],\n       [0.58392729, 0.659125  , 0.45500413, 0.59900838, 0.28867513,\n        0.3544406 ],\n       [0.42042765, 0.48824074, 0.53083815, 0.41469811, 0.67357531,\n        0.49621684],\n       [0.51385602, 0.43941667, 0.50556014, 0.46077568, 0.48112522,\n        0.3544406 ]])"
     },
     "execution_count": 5,
     "metadata": {},
     "output_type": "execute_result"
    }
   ],
   "source": [
    "R1 = a / b\n",
    "R1"
   ],
   "metadata": {
    "collapsed": false
   }
  },
  {
   "cell_type": "code",
   "execution_count": 6,
   "outputs": [
    {
     "data": {
      "text/plain": "array([[0.8       , 0.55555556, 0.95238095, 0.84615385, 0.71428571,\n        1.        ],\n       [1.        , 1.        , 0.85714286, 1.        , 0.42857143,\n        0.5       ],\n       [0.72      , 0.74074074, 1.        , 0.69230769, 1.        ,\n        0.7       ],\n       [0.88      , 0.66666667, 0.95238095, 0.76923077, 0.71428571,\n        0.5       ]])"
     },
     "execution_count": 6,
     "metadata": {},
     "output_type": "execute_result"
    }
   ],
   "source": [
    "R2 = a / m1\n",
    "R2"
   ],
   "metadata": {
    "collapsed": false
   }
  },
  {
   "cell_type": "code",
   "execution_count": 7,
   "outputs": [
    {
     "data": {
      "text/plain": "array([[0.28571429, 0.        , 0.66666667, 0.5       , 0.5       ,\n        1.        ],\n       [1.        , 1.        , 0.        , 1.        , 0.        ,\n        0.        ],\n       [0.        , 0.41666667, 1.        , 0.        , 1.        ,\n        0.4       ],\n       [0.57142857, 0.25      , 0.66666667, 0.25      , 0.5       ,\n        0.        ]])"
     },
     "execution_count": 7,
     "metadata": {},
     "output_type": "execute_result"
    }
   ],
   "source": [
    "R3 = (a - m2) / (m1 - m2)\n",
    "R3"
   ],
   "metadata": {
    "collapsed": false
   }
  },
  {
   "cell_type": "code",
   "execution_count": 8,
   "outputs": [],
   "source": [
    "R1[:, 3] = 1 - a[:, 3] / b[3]\n",
    "R2[:, 3] = m2[3] / a[:, 3]\n",
    "R3[:, 3] = (m1[3] / a[:, 3]) / (m1[3] - m2[3])"
   ],
   "metadata": {
    "collapsed": false
   }
  },
  {
   "cell_type": "code",
   "execution_count": 9,
   "outputs": [
    {
     "data": {
      "text/plain": "array([[0.46714184, 0.36618056, 0.50556014, 0.49314675, 0.48112522,\n        0.70888121],\n       [0.58392729, 0.659125  , 0.45500413, 0.40099162, 0.28867513,\n        0.3544406 ],\n       [0.42042765, 0.48824074, 0.53083815, 0.58530189, 0.67357531,\n        0.49621684],\n       [0.51385602, 0.43941667, 0.50556014, 0.53922432, 0.48112522,\n        0.3544406 ]])"
     },
     "execution_count": 9,
     "metadata": {},
     "output_type": "execute_result"
    }
   ],
   "source": [
    "R1"
   ],
   "metadata": {
    "collapsed": false
   }
  },
  {
   "cell_type": "code",
   "execution_count": 10,
   "outputs": [
    {
     "data": {
      "text/plain": "array([[0.8       , 0.55555556, 0.95238095, 0.81818182, 0.71428571,\n        1.        ],\n       [1.        , 1.        , 0.85714286, 0.69230769, 0.42857143,\n        0.5       ],\n       [0.72      , 0.74074074, 1.        , 1.        , 1.        ,\n        0.7       ],\n       [0.88      , 0.66666667, 0.95238095, 0.9       , 0.71428571,\n        0.5       ]])"
     },
     "execution_count": 10,
     "metadata": {},
     "output_type": "execute_result"
    }
   ],
   "source": [
    "R2"
   ],
   "metadata": {
    "collapsed": false
   }
  },
  {
   "cell_type": "code",
   "execution_count": 11,
   "outputs": [
    {
     "data": {
      "text/plain": "array([[2.85714286e-01, 0.00000000e+00, 6.66666667e-01, 5.90909091e-07,\n        5.00000000e-01, 1.00000000e+00],\n       [1.00000000e+00, 1.00000000e+00, 0.00000000e+00, 5.00000000e-07,\n        0.00000000e+00, 0.00000000e+00],\n       [0.00000000e+00, 4.16666667e-01, 1.00000000e+00, 7.22222222e-07,\n        1.00000000e+00, 4.00000000e-01],\n       [5.71428571e-01, 2.50000000e-01, 6.66666667e-01, 6.50000000e-07,\n        5.00000000e-01, 0.00000000e+00]])"
     },
     "execution_count": 11,
     "metadata": {},
     "output_type": "execute_result"
    }
   ],
   "source": [
    "R3"
   ],
   "metadata": {
    "collapsed": false
   }
  },
  {
   "cell_type": "code",
   "execution_count": 12,
   "outputs": [
    {
     "data": {
      "text/plain": "array([[0.4671, 0.3662, 0.5056, 0.4931, 0.4811, 0.7089],\n       [0.5839, 0.6591, 0.455 , 0.401 , 0.2887, 0.3544],\n       [0.4204, 0.4882, 0.5308, 0.5853, 0.6736, 0.4962],\n       [0.5139, 0.4394, 0.5056, 0.5392, 0.4811, 0.3544]])"
     },
     "execution_count": 12,
     "metadata": {},
     "output_type": "execute_result"
    }
   ],
   "source": [
    "from scipy.stats import rankdata\n",
    "\n",
    "a = np.loadtxt(\"data14_1_2.txt\")\n",
    "a"
   ],
   "metadata": {
    "collapsed": false
   }
  },
  {
   "cell_type": "code",
   "execution_count": 13,
   "outputs": [
    {
     "data": {
      "text/plain": "array([0.5839, 0.6591, 0.5308, 0.5853, 0.6736, 0.7089])"
     },
     "execution_count": 13,
     "metadata": {},
     "output_type": "execute_result"
    }
   ],
   "source": [
    "bp = a.max(axis=0)\n",
    "bp"
   ],
   "metadata": {
    "collapsed": false
   }
  },
  {
   "cell_type": "code",
   "execution_count": 14,
   "outputs": [
    {
     "data": {
      "text/plain": "array([0.4204, 0.3662, 0.455 , 0.401 , 0.2887, 0.3544])"
     },
     "execution_count": 14,
     "metadata": {},
     "output_type": "execute_result"
    }
   ],
   "source": [
    "bm = a.min(axis=0)\n",
    "bm"
   ],
   "metadata": {
    "collapsed": false
   }
  },
  {
   "cell_type": "code",
   "execution_count": 15,
   "outputs": [
    {
     "data": {
      "text/plain": "array([0.38160815, 0.55993784, 0.31808859, 0.46760543])"
     },
     "execution_count": 15,
     "metadata": {},
     "output_type": "execute_result"
    }
   ],
   "source": [
    "d1 = np.linalg.norm(a - bp, axis=1)\n",
    "d1"
   ],
   "metadata": {
    "collapsed": false
   }
  },
  {
   "cell_type": "code",
   "execution_count": 16,
   "outputs": [
    {
     "data": {
      "text/plain": "array([0.41941825, 0.33544397, 0.47207137, 0.2697737 ])"
     },
     "execution_count": 16,
     "metadata": {},
     "output_type": "execute_result"
    }
   ],
   "source": [
    "d2 = np.linalg.norm(a - bm, axis=1)\n",
    "d2"
   ],
   "metadata": {
    "collapsed": false
   }
  },
  {
   "cell_type": "code",
   "execution_count": 17,
   "outputs": [
    {
     "data": {
      "text/plain": "array([0.52360103, 0.37463791, 0.59743773, 0.36585481])"
     },
     "execution_count": 17,
     "metadata": {},
     "output_type": "execute_result"
    }
   ],
   "source": [
    "f1 = d2 / (d1 + d2)\n",
    "f1"
   ],
   "metadata": {
    "collapsed": false
   }
  },
  {
   "cell_type": "code",
   "execution_count": 18,
   "outputs": [
    {
     "data": {
      "text/plain": "array([[0.62231205, 0.39651798, 0.88421778, 0.67609345, 0.49993506,\n        1.        ],\n       [1.        , 1.        , 0.71742777, 0.51081619, 0.33333333,\n        0.35186032],\n       [0.54066582, 0.5296546 , 1.        , 1.        , 1.        ,\n        0.47500926],\n       [0.73328253, 0.46694165, 0.88421778, 0.80674911, 0.49993506,\n        0.35186032]])"
     },
     "execution_count": 18,
     "metadata": {},
     "output_type": "execute_result"
    }
   ],
   "source": [
    "c = bp - a\n",
    "m1 = c.max()\n",
    "m2 = c.min()\n",
    "r = 0.5\n",
    "xs = (m2 + r * m1) / (c + r * m1)\n",
    "xs"
   ],
   "metadata": {
    "collapsed": false
   }
  },
  {
   "cell_type": "code",
   "execution_count": 19,
   "outputs": [
    {
     "data": {
      "text/plain": "array([0.67984605, 0.6522396 , 0.75755495, 0.62383107])"
     },
     "execution_count": 19,
     "metadata": {},
     "output_type": "execute_result"
    }
   ],
   "source": [
    "f2 = xs.mean(axis=1)\n",
    "f2"
   ],
   "metadata": {
    "collapsed": false
   }
  },
  {
   "cell_type": "code",
   "execution_count": 20,
   "outputs": [
    {
     "data": {
      "text/plain": "array([0.27874158, 0.20997757, 0.28653868, 0.22474217])"
     },
     "execution_count": 20,
     "metadata": {},
     "output_type": "execute_result"
    }
   ],
   "source": [
    "n = a.shape[0]\n",
    "s = a.sum(axis=0)  #逐列求和\n",
    "P = a / s  #求特征比重矩阵\n",
    "e = -(P * np.log(P)).sum(axis=0) / np.log(n)  #计算熵值\n",
    "g = 1 - e\n",
    "w = g / sum(g)  #计算差异系数和权重系数\n",
    "f3 = P @ w  #计算各对象的评价值\n",
    "f3"
   ],
   "metadata": {
    "collapsed": false
   }
  },
  {
   "cell_type": "code",
   "execution_count": 21,
   "outputs": [
    {
     "data": {
      "text/plain": "array([[2. , 1. , 2.5, 2. , 2.5, 4. ],\n       [4. , 4. , 1. , 1. , 1. , 1.5],\n       [1. , 3. , 4. , 4. , 4. , 3. ],\n       [3. , 2. , 2.5, 3. , 2.5, 1.5]])"
     },
     "execution_count": 21,
     "metadata": {},
     "output_type": "execute_result"
    }
   ],
   "source": [
    "R = rankdata(a, axis=0)  #逐列编秩\n",
    "R"
   ],
   "metadata": {
    "collapsed": false
   }
  },
  {
   "cell_type": "code",
   "execution_count": 22,
   "outputs": [
    {
     "data": {
      "text/plain": "array([0.58333333, 0.52083333, 0.79166667, 0.60416667])"
     },
     "execution_count": 22,
     "metadata": {},
     "output_type": "execute_result"
    }
   ],
   "source": [
    "RSR = R.mean(axis=1) / n  #计算秩和比\n",
    "RSR"
   ],
   "metadata": {
    "collapsed": false
   }
  },
  {
   "cell_type": "code",
   "execution_count": 24,
   "outputs": [
    {
     "name": "stdout",
     "output_type": "stream",
     "text": [
      "贴近度为： [0.9    0.9333 0.9667]\n"
     ]
    }
   ],
   "source": [
    "a = np.array([\n",
    "    [0.4, 0.3, 0.5, 0.3],\n",
    "    [0.3, 0.3, 0.4, 0.4],\n",
    "    [0.2, 0.3, 0.3, 0.3]\n",
    "])\n",
    "b = np.array([0.2, 0.3, 0.4, 0.3])\n",
    "n = a.shape[0]\n",
    "N = []\n",
    "for e in a:\n",
    "    N.append(1 - sum(abs(e - b)) / n)\n",
    "print(\"海明贴近度为：\", np.round(N, 4))"
   ],
   "metadata": {
    "collapsed": false
   }
  },
  {
   "cell_type": "code",
   "execution_count": 25,
   "outputs": [
    {
     "data": {
      "text/plain": "[0.8709005551264194, 0.9183503419072274, 0.9422649730810374]"
     },
     "execution_count": 25,
     "metadata": {},
     "output_type": "execute_result"
    }
   ],
   "source": [
    "N = []\n",
    "for e in a:\n",
    "    N.append(1 - np.sqrt(sum((e - b) ** 2)) / np.sqrt(n))\n",
    "N"
   ],
   "metadata": {
    "collapsed": false
   }
  },
  {
   "cell_type": "code",
   "execution_count": 31,
   "outputs": [
    {
     "data": {
      "text/plain": "array([[4.7e+03, 6.7e+03, 5.9e+03, 8.8e+03, 7.6e+03],\n       [5.0e+03, 5.5e+03, 5.3e+03, 6.8e+03, 6.0e+03],\n       [4.0e+00, 6.1e+00, 5.5e+00, 7.0e+00, 6.8e+00],\n       [3.0e+01, 5.0e+01, 4.0e+01, 2.0e+02, 1.6e+02],\n       [1.5e+03, 7.0e+02, 1.0e+03, 5.0e+01, 1.0e+02]])"
     },
     "execution_count": 31,
     "metadata": {},
     "output_type": "execute_result"
    }
   ],
   "source": [
    "a = np.loadtxt(\"data14_4.txt\")\n",
    "a"
   ],
   "metadata": {
    "collapsed": false
   }
  },
  {
   "cell_type": "code",
   "execution_count": 26,
   "outputs": [],
   "source": [
    "f1 = lambda x: x / 8800\n",
    "f2 = lambda x: 1 - x / 8000\n",
    "f3 = lambda x: (x <= 5.5) + (8 - x) / (8 - 5.5) * ((x > 5.5) & (x < 8))\n",
    "f4 = lambda x: 1 - x / 200\n",
    "f5 = lambda x: (x - 50) / (1500 - 50)"
   ],
   "metadata": {
    "collapsed": false
   }
  },
  {
   "cell_type": "code",
   "execution_count": 28,
   "outputs": [
    {
     "data": {
      "text/plain": "array([[0.53409091, 0.76136364, 0.67045455, 1.        , 0.86363636],\n       [0.375     , 0.3125    , 0.3375    , 0.15      , 0.25      ],\n       [1.        , 0.76      , 1.        , 0.4       , 0.48      ],\n       [0.85      , 0.75      , 0.8       , 0.        , 0.2       ],\n       [1.        , 0.44827586, 0.65517241, 0.        , 0.03448276]])"
     },
     "execution_count": 28,
     "metadata": {},
     "output_type": "execute_result"
    }
   ],
   "source": [
    "R = []\n",
    "for i in range(len(a)):\n",
    "    s = 'f' + str(i + 1) + '(a[' + str(i) + '])'\n",
    "    R.append(eval(s))\n",
    "R = np.array(R)\n",
    "R"
   ],
   "metadata": {
    "collapsed": false
   }
  },
  {
   "cell_type": "code",
   "execution_count": 27,
   "outputs": [
    {
     "data": {
      "text/plain": "array([0.74352273, 0.59190987, 0.67890674, 0.36      , 0.39052978])"
     },
     "execution_count": 27,
     "metadata": {},
     "output_type": "execute_result"
    }
   ],
   "source": [
    "w = np.array([0.25, 0.2, 0.2, 0.1, 0.25])\n",
    "B = w @ R  #计算综合评价值\n",
    "B"
   ],
   "metadata": {
    "collapsed": false
   }
  },
  {
   "cell_type": "code",
   "execution_count": 35,
   "outputs": [
    {
     "name": "stdout",
     "output_type": "stream",
     "text": [
      "0.29018429424239417\n",
      "[0.         1.53846154 0.        ]\n",
      "[8.01392693e-05 0.00000000e+00]\n",
      "---------------\n",
      "0.28535712948581976\n",
      "[0.         0.89968161 0.0109388 ]\n",
      "[7.23705629e-05 0.00000000e+00]\n",
      "---------------\n",
      "0.29682609191699816\n",
      "[0.         0.90294104 0.01097843]\n",
      "[7.26327528e-05 0.00000000e+00]\n",
      "---------------\n",
      "0.34251514458756976\n",
      "[0.         0.86815421 0.01055547]\n",
      "[6.98344934e-05 0.00000000e+00]\n",
      "---------------\n",
      "0.4594711927591651\n",
      "[0.         1.31578947 0.        ]\n",
      "[6.15768731e-05 1.91400785e-01]\n",
      "---------------\n",
      "0.7182608695652174\n",
      "[0.         1.44927536 0.        ]\n",
      "[0.        1.2173913]\n",
      "---------------\n",
      "0.9069108317738916\n",
      "[0.         1.63934426 0.        ]\n",
      "[7.67187271e-05 2.38466552e-01]\n",
      "---------------\n",
      "0.9999999999999999\n",
      "[0.         1.0278863  0.01249758]\n",
      "[8.26833731e-05 0.00000000e+00]\n",
      "---------------\n",
      "1.0\n",
      "[2.63444656e-02 8.32690761e-01 7.80072578e-04]\n",
      "[7.35114123e-05 0.00000000e+00]\n",
      "---------------\n",
      "0.9999999999999999\n",
      "[0.         0.         0.03436426]\n",
      "[0. 1.]\n",
      "---------------\n"
     ]
    }
   ],
   "source": [
    "import cvxpy as cp\n",
    "\n",
    "d = np.loadtxt(\"data14_5.txt\")\n",
    "a = d[:, :3]\n",
    "b = d[:, 3:]\n",
    "u = cp.Variable(3, pos=True)\n",
    "v = cp.Variable(2, pos=True)\n",
    "for j in range(10):\n",
    "    con = [a @ u >= b @ v, a[j] @ u == 1]\n",
    "    obj = cp.Maximize(b[j] @ v)\n",
    "    prob = cp.Problem(obj, con)\n",
    "    prob.solve(solver=\"GLPK_MI\")\n",
    "    print(prob.value)\n",
    "    print(u.value)\n",
    "    print(v.value)\n",
    "    print(\"---------------\")"
   ],
   "metadata": {
    "collapsed": false
   }
  },
  {
   "cell_type": "code",
   "execution_count": null,
   "outputs": [],
   "source": [],
   "metadata": {
    "collapsed": false
   }
  }
 ],
 "metadata": {
  "kernelspec": {
   "display_name": "Python 3",
   "language": "python",
   "name": "python3"
  },
  "language_info": {
   "codemirror_mode": {
    "name": "ipython",
    "version": 2
   },
   "file_extension": ".py",
   "mimetype": "text/x-python",
   "name": "python",
   "nbconvert_exporter": "python",
   "pygments_lexer": "ipython2",
   "version": "2.7.6"
  }
 },
 "nbformat": 4,
 "nbformat_minor": 0
}
