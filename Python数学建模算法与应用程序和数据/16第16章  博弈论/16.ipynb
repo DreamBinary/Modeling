{
 "cells": [
  {
   "cell_type": "code",
   "execution_count": 28,
   "metadata": {
    "collapsed": true
   },
   "outputs": [
    {
     "data": {
      "text/plain": "array([[ 3,  1,  1,  1,  1, -1],\n       [ 1,  3,  1,  1, -1,  1],\n       [ 1, -1,  3,  1,  1,  1],\n       [-1,  1,  1,  3,  1,  1],\n       [ 1,  1, -1,  1,  3,  1],\n       [ 1,  1,  1, -1,  1,  3]])"
     },
     "execution_count": 28,
     "metadata": {},
     "output_type": "execute_result"
    }
   ],
   "source": [
    "import numpy as np\n",
    "import sympy as sp\n",
    "\n",
    "A = np.array([[3, 1, 1, 1, 1, -1],\n",
    "              [1, 3, 1, 1, -1, 1],\n",
    "              [1, -1, 3, 1, 1, 1],\n",
    "              [-1, 1, 1, 3, 1, 1],\n",
    "              [1, 1, -1, 1, 3, 1],\n",
    "              [1, 1, 1, -1, 1, 3]],\n",
    "             dtype=int)\n",
    "A"
   ]
  },
  {
   "cell_type": "code",
   "execution_count": 29,
   "outputs": [
    {
     "data": {
      "text/plain": "array([[ 3.,  1.,  1., -1.,  1.,  1., -1.],\n       [ 1.,  3., -1.,  1.,  1.,  1., -1.],\n       [ 1.,  1.,  3.,  1., -1.,  1., -1.],\n       [ 1.,  1.,  1.,  3.,  1., -1., -1.],\n       [ 1., -1.,  1.,  1.,  3.,  1., -1.],\n       [-1.,  1.,  1.,  1.,  1.,  3., -1.]])"
     },
     "execution_count": 29,
     "metadata": {},
     "output_type": "execute_result"
    }
   ],
   "source": [
    "Az1 = np.hstack([A.T, -np.ones((6, 1))])\n",
    "Az1"
   ],
   "metadata": {
    "collapsed": false
   }
  },
  {
   "cell_type": "code",
   "execution_count": 30,
   "outputs": [
    {
     "data": {
      "text/plain": "array([[ 3.,  1.,  1., -1.,  1.,  1., -1.],\n       [ 1.,  3., -1.,  1.,  1.,  1., -1.],\n       [ 1.,  1.,  3.,  1., -1.,  1., -1.],\n       [ 1.,  1.,  1.,  3.,  1., -1., -1.],\n       [ 1., -1.,  1.,  1.,  3.,  1., -1.],\n       [-1.,  1.,  1.,  1.,  1.,  3., -1.],\n       [ 1.,  1.,  1.,  1.,  1.,  1.,  0.]])"
     },
     "execution_count": 30,
     "metadata": {},
     "output_type": "execute_result"
    }
   ],
   "source": [
    "Az2 = np.vstack([Az1, [1, 1, 1, 1, 1, 1, 0]])  #构造完整的系数阵\n",
    "Az2"
   ],
   "metadata": {
    "collapsed": false
   }
  },
  {
   "cell_type": "code",
   "execution_count": 31,
   "outputs": [
    {
     "data": {
      "text/plain": "array([[0],\n       [0],\n       [0],\n       [0],\n       [0],\n       [0],\n       [1]])"
     },
     "execution_count": 31,
     "metadata": {},
     "output_type": "execute_result"
    }
   ],
   "source": [
    "B = np.array([[0, 0, 0, 0, 0, 0, 1]]).T  #非线性方程组的常数项列\n",
    "B"
   ],
   "metadata": {
    "collapsed": false
   }
  },
  {
   "cell_type": "code",
   "execution_count": 32,
   "outputs": [
    {
     "data": {
      "text/plain": "array([[ 3.,  1.,  1., -1.,  1.,  1., -1.,  0.],\n       [ 1.,  3., -1.,  1.,  1.,  1., -1.,  0.],\n       [ 1.,  1.,  3.,  1., -1.,  1., -1.,  0.],\n       [ 1.,  1.,  1.,  3.,  1., -1., -1.,  0.],\n       [ 1., -1.,  1.,  1.,  3.,  1., -1.,  0.],\n       [-1.,  1.,  1.,  1.,  1.,  3., -1.,  0.],\n       [ 1.,  1.,  1.,  1.,  1.,  1.,  0.,  1.]])"
     },
     "execution_count": 32,
     "metadata": {},
     "output_type": "execute_result"
    }
   ],
   "source": [
    "Az3 = np.hstack([Az2, B])  #构造增广阵\n",
    "Az3"
   ],
   "metadata": {
    "collapsed": false
   }
  },
  {
   "cell_type": "code",
   "execution_count": 33,
   "outputs": [
    {
     "data": {
      "text/plain": "Matrix([\n[ 3,  1,  1, -1,  1,  1, -1, 0],\n[ 1,  3, -1,  1,  1,  1, -1, 0],\n[ 1,  1,  3,  1, -1,  1, -1, 0],\n[ 1,  1,  1,  3,  1, -1, -1, 0],\n[ 1, -1,  1,  1,  3,  1, -1, 0],\n[-1,  1,  1,  1,  1,  3, -1, 0],\n[ 1,  1,  1,  1,  1,  1,  0, 1]])",
      "text/latex": "$\\displaystyle \\left[\\begin{matrix}3 & 1 & 1 & -1 & 1 & 1 & -1 & 0\\\\1 & 3 & -1 & 1 & 1 & 1 & -1 & 0\\\\1 & 1 & 3 & 1 & -1 & 1 & -1 & 0\\\\1 & 1 & 1 & 3 & 1 & -1 & -1 & 0\\\\1 & -1 & 1 & 1 & 3 & 1 & -1 & 0\\\\-1 & 1 & 1 & 1 & 1 & 3 & -1 & 0\\\\1 & 1 & 1 & 1 & 1 & 1 & 0 & 1\\end{matrix}\\right]$"
     },
     "execution_count": 33,
     "metadata": {},
     "output_type": "execute_result"
    }
   ],
   "source": [
    "Az4 = sp.Matrix(Az3.astype(int))  #转换为符号矩阵\n",
    "Az4"
   ],
   "metadata": {
    "collapsed": false
   }
  },
  {
   "cell_type": "code",
   "execution_count": 34,
   "outputs": [
    {
     "data": {
      "text/plain": "(Matrix([\n [1, 0, 0, 0, 0, -1, 0,   0],\n [0, 1, 0, 0, 0,  1, 0, 1/3],\n [0, 0, 1, 0, 0,  1, 0, 1/3],\n [0, 0, 0, 1, 0, -1, 0,   0],\n [0, 0, 0, 0, 1,  1, 0, 1/3],\n [0, 0, 0, 0, 0,  0, 1,   1],\n [0, 0, 0, 0, 0,  0, 0,   0]]),\n (0, 1, 2, 3, 4, 6))"
     },
     "execution_count": 34,
     "metadata": {},
     "output_type": "execute_result"
    }
   ],
   "source": [
    "s1 = Az4.rref()  #把增广阵化成行最简形\n",
    "s1"
   ],
   "metadata": {
    "collapsed": false
   }
  },
  {
   "cell_type": "code",
   "execution_count": 35,
   "outputs": [
    {
     "data": {
      "text/plain": "array([[0.16666667],\n       [0.16666667],\n       [0.16666667],\n       [0.16666667],\n       [0.16666667],\n       [0.16666667],\n       [1.        ]])"
     },
     "execution_count": 35,
     "metadata": {},
     "output_type": "execute_result"
    }
   ],
   "source": [
    "s2 = np.linalg.pinv(Az2) @ B  #求最小范数解\n",
    "s2"
   ],
   "metadata": {
    "collapsed": false
   }
  },
  {
   "cell_type": "code",
   "execution_count": 36,
   "outputs": [
    {
     "name": "stdout",
     "output_type": "stream",
     "text": [
      "行最简形为：\n",
      " Matrix([[1, 0, 0, 0, 0, -1, 0, 0], [0, 1, 0, 0, 0, 1, 0, 1/3], [0, 0, 1, 0, 0, 1, 0, 1/3], [0, 0, 0, 1, 0, -1, 0, 0], [0, 0, 0, 0, 1, 1, 0, 1/3], [0, 0, 0, 0, 0, 0, 1, 1], [0, 0, 0, 0, 0, 0, 0, 0]])\n",
      "最小范数解为：\n",
      " [[0.16666667]\n",
      " [0.16666667]\n",
      " [0.16666667]\n",
      " [0.16666667]\n",
      " [0.16666667]\n",
      " [0.16666667]\n",
      " [1.        ]]\n"
     ]
    }
   ],
   "source": [
    "print('行最简形为：\\n', s1[0]);\n",
    "print('最小范数解为：\\n', s2)\n",
    "np.savetxt('data15_3.txt', A, fmt='%.0f')"
   ],
   "metadata": {
    "collapsed": false
   }
  },
  {
   "cell_type": "code",
   "execution_count": 37,
   "outputs": [
    {
     "data": {
      "text/plain": "(6, 6)"
     },
     "execution_count": 37,
     "metadata": {},
     "output_type": "execute_result"
    }
   ],
   "source": [
    "import cvxpy as cp\n",
    "\n",
    "A = np.loadtxt(\"data16_3.txt\")\n",
    "A.shape"
   ],
   "metadata": {
    "collapsed": false
   }
  },
  {
   "cell_type": "code",
   "execution_count": 38,
   "outputs": [],
   "source": [
    "x = cp.Variable(6, pos=True)\n",
    "y = cp.Variable(6, pos=True)\n",
    "u = cp.Variable()\n",
    "v = cp.Variable()"
   ],
   "metadata": {
    "collapsed": false
   }
  },
  {
   "cell_type": "code",
   "execution_count": 39,
   "outputs": [
    {
     "data": {
      "text/plain": "1.0"
     },
     "execution_count": 39,
     "metadata": {},
     "output_type": "execute_result"
    }
   ],
   "source": [
    "ob1 = cp.Maximize(u)\n",
    "con1 = [A.T @ x >= u, sum(x) == 1]\n",
    "prob1 = cp.Problem(ob1, con1)\n",
    "prob1.solve(solver=\"GLPK_MI\")\n",
    "prob1.value"
   ],
   "metadata": {
    "collapsed": false
   }
  },
  {
   "cell_type": "code",
   "execution_count": 40,
   "outputs": [
    {
     "data": {
      "text/plain": "array([0.33333333, 0.        , 0.        , 0.33333333, 0.        ,\n       0.33333333])"
     },
     "execution_count": 40,
     "metadata": {},
     "output_type": "execute_result"
    }
   ],
   "source": [
    "x.value"
   ],
   "metadata": {
    "collapsed": false
   }
  },
  {
   "cell_type": "code",
   "execution_count": 41,
   "outputs": [
    {
     "data": {
      "text/plain": "1.0"
     },
     "execution_count": 41,
     "metadata": {},
     "output_type": "execute_result"
    }
   ],
   "source": [
    "ob2 = cp.Minimize(v)\n",
    "con2 = [A @ y <= v, sum(y) == 1]\n",
    "prob2 = cp.Problem(ob2, con2)\n",
    "prob2.solve(solver=\"GLPK_MI\")\n",
    "prob2.value"
   ],
   "metadata": {
    "collapsed": false
   }
  },
  {
   "cell_type": "code",
   "execution_count": 42,
   "outputs": [
    {
     "data": {
      "text/plain": "array([0.33333333, 0.        , 0.        , 0.33333333, 0.        ,\n       0.33333333])"
     },
     "execution_count": 42,
     "metadata": {},
     "output_type": "execute_result"
    }
   ],
   "source": [
    "y.value"
   ],
   "metadata": {
    "collapsed": false
   }
  },
  {
   "cell_type": "code",
   "execution_count": 43,
   "outputs": [],
   "source": [
    "A = np.array([\n",
    "    [1 / 3, 1 / 2, -1 / 3],\n",
    "    [-2 / 5, 1 / 5, -1 / 2],\n",
    "    [1 / 2, -3 / 5, 1 / 3]\n",
    "])\n",
    "\n",
    "x = cp.Variable(3, pos=True)\n",
    "y = cp.Variable(3, pos=True)\n",
    "u = cp.Variable()\n",
    "v = cp.Variable()"
   ],
   "metadata": {
    "collapsed": false
   }
  },
  {
   "cell_type": "code",
   "execution_count": 44,
   "outputs": [
    {
     "data": {
      "text/plain": "-0.018867924528301883"
     },
     "execution_count": 44,
     "metadata": {},
     "output_type": "execute_result"
    }
   ],
   "source": [
    "ob1 = cp.Maximize(u)\n",
    "con1 = [A.T @ x >= u, sum(x) == 1]\n",
    "prob1 = cp.Problem(ob1, con1)\n",
    "prob1.solve(solver=\"GLPK_MI\")\n",
    "prob1.value  # u"
   ],
   "metadata": {
    "collapsed": false
   }
  },
  {
   "cell_type": "code",
   "execution_count": 45,
   "outputs": [
    {
     "data": {
      "text/plain": "array([0.52830189, 0.        , 0.47169811])"
     },
     "execution_count": 45,
     "metadata": {},
     "output_type": "execute_result"
    }
   ],
   "source": [
    "x.value"
   ],
   "metadata": {
    "collapsed": false
   }
  },
  {
   "cell_type": "code",
   "execution_count": 46,
   "outputs": [
    {
     "data": {
      "text/plain": "-0.018867924528301938"
     },
     "execution_count": 46,
     "metadata": {},
     "output_type": "execute_result"
    }
   ],
   "source": [
    "ob2 = cp.Minimize(v)\n",
    "con2 = [A @ y <= v, sum(y) == 1]\n",
    "prob2 = cp.Problem(ob2, con2)\n",
    "prob2.solve(solver=\"GLPK_MI\")\n",
    "prob2.value"
   ],
   "metadata": {
    "collapsed": false
   }
  },
  {
   "cell_type": "code",
   "execution_count": 47,
   "outputs": [
    {
     "data": {
      "text/plain": "array([0.        , 0.37735849, 0.62264151])"
     },
     "execution_count": 47,
     "metadata": {},
     "output_type": "execute_result"
    }
   ],
   "source": [
    "y.value"
   ],
   "metadata": {
    "collapsed": false
   }
  },
  {
   "cell_type": "code",
   "execution_count": 58,
   "outputs": [
    {
     "data": {
      "text/plain": "     fun: 2.000000000015837\n     jac: array([1., 1., 1., 1., 1., 1.])\n message: 'Optimization terminated successfully'\n    nfev: 49\n     nit: 7\n    njev: 7\n  status: 0\n success: True\n       x: array([5.00000000e-01, 2.76541360e-14, 5.00000000e-01, 3.81793969e-11,\n       5.00000000e-01, 5.00000000e-01])"
     },
     "execution_count": 58,
     "metadata": {},
     "output_type": "execute_result"
    }
   ],
   "source": [
    "from scipy.optimize import minimize\n",
    "\n",
    "a = np.array([\n",
    "    [14, 13, 12],\n",
    "    [13, 12, 12],\n",
    "    [12, 12, 13]\n",
    "])\n",
    "b = np.array([\n",
    "    [13, 14, 15],\n",
    "    [14, 15, 15],\n",
    "    [15, 15, 14]\n",
    "])\n",
    "obj = lambda z: sum(z)\n",
    "con1 = {\n",
    "    'type': 'ineq',\n",
    "    'fun': lambda z: z[:3] @ a @ z[3:] - a @ z[3:]\n",
    "}\n",
    "con2 = {\n",
    "    'type': 'ineq',\n",
    "    'fun': lambda z: z[:3] @ b @ z[3:] - b @ z[:3]\n",
    "}\n",
    "con3 = {\n",
    "    'type': 'eq',\n",
    "    'fun': lambda z: sum(z[:3]) - 1\n",
    "}\n",
    "con4 = {\n",
    "    'type': 'eq',\n",
    "    'fun': lambda z: sum(z[3:]) - 1\n",
    "}\n",
    "con = [con1, con2, con3, con4]\n",
    "bd = [(0, 1) for i in range(6)]\n",
    "s = minimize(obj, np.ones(6), constraints=con, bounds=bd)\n",
    "s"
   ],
   "metadata": {
    "collapsed": false
   }
  },
  {
   "cell_type": "code",
   "execution_count": 59,
   "outputs": [
    {
     "data": {
      "text/plain": "array([5.0000000e-01, 2.7654136e-14, 5.0000000e-01])"
     },
     "execution_count": 59,
     "metadata": {},
     "output_type": "execute_result"
    }
   ],
   "source": [
    "x = s.x[:3]\n",
    "x"
   ],
   "metadata": {
    "collapsed": false
   }
  },
  {
   "cell_type": "code",
   "execution_count": 60,
   "outputs": [
    {
     "data": {
      "text/plain": "array([3.81793969e-11, 5.00000000e-01, 5.00000000e-01])"
     },
     "execution_count": 60,
     "metadata": {},
     "output_type": "execute_result"
    }
   ],
   "source": [
    "y = s.x[3:]\n",
    "y"
   ],
   "metadata": {
    "collapsed": false
   }
  },
  {
   "cell_type": "code",
   "execution_count": 61,
   "outputs": [
    {
     "data": {
      "text/plain": "12.500000000217035"
     },
     "execution_count": 61,
     "metadata": {},
     "output_type": "execute_result"
    }
   ],
   "source": [
    "x @ a @ y"
   ],
   "metadata": {
    "collapsed": false
   }
  },
  {
   "cell_type": "code",
   "execution_count": 62,
   "outputs": [
    {
     "data": {
      "text/plain": "14.500000000210559"
     },
     "execution_count": 62,
     "metadata": {},
     "output_type": "execute_result"
    }
   ],
   "source": [
    "x @ b @ y"
   ],
   "metadata": {
    "collapsed": false
   }
  },
  {
   "cell_type": "code",
   "execution_count": 52,
   "outputs": [],
   "source": [],
   "metadata": {
    "collapsed": false
   }
  }
 ],
 "metadata": {
  "kernelspec": {
   "display_name": "Python 3",
   "language": "python",
   "name": "python3"
  },
  "language_info": {
   "codemirror_mode": {
    "name": "ipython",
    "version": 2
   },
   "file_extension": ".py",
   "mimetype": "text/x-python",
   "name": "python",
   "nbconvert_exporter": "python",
   "pygments_lexer": "ipython2",
   "version": "2.7.6"
  }
 },
 "nbformat": 4,
 "nbformat_minor": 0
}
