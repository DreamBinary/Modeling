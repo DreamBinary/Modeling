{
 "cells": [
  {
   "cell_type": "code",
   "execution_count": 1,
   "metadata": {
    "collapsed": true
   },
   "outputs": [],
   "source": [
    "import sympy as sp"
   ]
  },
  {
   "cell_type": "code",
   "execution_count": 3,
   "outputs": [
    {
     "name": "stdout",
     "output_type": "stream",
     "text": [
      "Matrix([[-sqrt(5)/2 - 1/2, -1/2 + sqrt(5)/2], [1, 1]])\n",
      "Matrix([[1/2 - sqrt(5)/2, 0], [0, 1/2 + sqrt(5)/2]])\n",
      "(2*(1 - sqrt(5))**k + sqrt(5)*(1 + sqrt(5))**k + 3*(1 + sqrt(5))**k)/(2**k*(sqrt(5) + 5))\n",
      "[1.00000000000000, 1.00000000000000, 2.00000000000000, 3.00000000000000, 5.00000000000000, 8.00000000000000, 13.0000000000000, 21.0000000000000, 34.0000000000000, 55.0000000000000, 89.0000000000000, 144.000000000000, 233.000000000000, 377.000000000000, 610.000000000000, 987.000000000000, 1597.00000000000, 2584.00000000000, 4181.00000000000, 6765.00000000000]\n"
     ]
    }
   ],
   "source": [
    "#程序文件ex3_1_1.py\n",
    "import sympy as sp\n",
    "\n",
    "sp.var('k', positive=True, integer=True)\n",
    "a = sp.Matrix([[0, 1], [1, 1]])\n",
    "val = a.eigenvals()  #求特征值\n",
    "vec = a.eigenvects()  #求特征向量\n",
    "P, D = a.diagonalize()  #把a相似对角化\n",
    "print(P)\n",
    "print(D)\n",
    "ak = P @ (D ** k) @ (P.inv())\n",
    "F = ak @ sp.Matrix([1, 1])\n",
    "s = sp.simplify(F[0])\n",
    "print(s)\n",
    "sm = []\n",
    "for i in range(20):\n",
    "    sm.append(s.subs(k, i).n())\n",
    "print(sm)\n"
   ],
   "metadata": {
    "collapsed": false
   }
  },
  {
   "cell_type": "code",
   "execution_count": 4,
   "outputs": [
    {
     "name": "stdout",
     "output_type": "stream",
     "text": [
      "[1/2 - sqrt(5)/2, 1/2 + sqrt(5)/2]\n"
     ]
    }
   ],
   "source": [
    "sp.var(\"t, c1, c2\")\n",
    "t0 = sp.solve(t ** 2 - t - 1)\n",
    "print(t0)\n",
    "eq1 = c1 + c2 - 1\n",
    "eq2 = c1 * t0[0] + c2 * t0[1] - 1"
   ],
   "metadata": {
    "collapsed": false
   }
  },
  {
   "cell_type": "code",
   "execution_count": 5,
   "outputs": [
    {
     "name": "stdout",
     "output_type": "stream",
     "text": [
      "{c1: 1/2 - sqrt(5)/10, c2: sqrt(5)/10 + 1/2}\n"
     ]
    }
   ],
   "source": [
    "s = sp.solve([eq1, eq2])\n",
    "print(s)"
   ],
   "metadata": {
    "collapsed": false
   }
  },
  {
   "cell_type": "code",
   "execution_count": 6,
   "outputs": [
    {
     "data": {
      "text/plain": "[{y(k): -y(k + 1) + y(k + 2)}]"
     },
     "execution_count": 6,
     "metadata": {},
     "output_type": "execute_result"
    }
   ],
   "source": [
    "sp.var(\"k\")\n",
    "y = sp.Function(\"y\")\n",
    "f = y(k + 2) - y(k + 1) - y(k)\n",
    "s = sp.solve(f, y(k), {y(0): 1, y(1): 1})\n",
    "s"
   ],
   "metadata": {
    "collapsed": false
   }
  },
  {
   "cell_type": "code",
   "execution_count": null,
   "outputs": [],
   "source": [],
   "metadata": {
    "collapsed": false
   }
  }
 ],
 "metadata": {
  "kernelspec": {
   "display_name": "Python 3",
   "language": "python",
   "name": "python3"
  },
  "language_info": {
   "codemirror_mode": {
    "name": "ipython",
    "version": 2
   },
   "file_extension": ".py",
   "mimetype": "text/x-python",
   "name": "python",
   "nbconvert_exporter": "python",
   "pygments_lexer": "ipython2",
   "version": "2.7.6"
  }
 },
 "nbformat": 4,
 "nbformat_minor": 0
}
