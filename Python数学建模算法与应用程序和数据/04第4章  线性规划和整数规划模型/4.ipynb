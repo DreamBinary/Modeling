{
 "cells": [
  {
   "cell_type": "code",
   "execution_count": null,
   "metadata": {
    "collapsed": true,
    "pycharm": {
     "is_executing": true
    }
   },
   "outputs": [],
   "source": []
  },
  {
   "cell_type": "code",
   "execution_count": null,
   "outputs": [],
   "source": [],
   "metadata": {
    "collapsed": false
   }
  },
  {
   "cell_type": "code",
   "execution_count": null,
   "outputs": [],
   "source": [
    "46"
   ],
   "metadata": {
    "collapsed": false
   }
  },
  {
   "cell_type": "code",
   "execution_count": 1,
   "outputs": [
    {
     "name": "stdout",
     "output_type": "stream",
     "text": [
      "最优值为： 140.0\n",
      "最优解为： [35.  5. 45. 25. 30.  0.]\n"
     ]
    }
   ],
   "source": [
    "import cvxpy as cp\n",
    "\n",
    "x = cp.Variable(6, integer=True)\n",
    "obj = cp.Minimize(sum(x))\n",
    "cons = [x[0] + x[5] >= 35, x[0] + x[1] >= 40,\n",
    "        x[1] + x[2] >= 50, x[2] + x[3] >= 45,\n",
    "        x[3] + x[4] >= 55, x[4] + x[5] >= 30,\n",
    "        x >= 0]\n",
    "prob = cp.Problem(obj, cons)\n",
    "prob.solve(solver='GLPK_MI')\n",
    "print(\"最优值为：\", prob.value)\n",
    "print(\"最优解为：\", x.value)"
   ],
   "metadata": {
    "collapsed": false
   }
  },
  {
   "cell_type": "code",
   "execution_count": 2,
   "outputs": [
    {
     "name": "stdout",
     "output_type": "stream",
     "text": [
      "最优值为： 140.0\n",
      "最优解为： [35.  5. 45. 25. 30.  0.]\n"
     ]
    }
   ],
   "source": [
    "import cvxpy as cp\n",
    "import numpy as np\n",
    "\n",
    "a = np.array([35, 40, 50, 45, 55, 30])\n",
    "x = cp.Variable(6, integer=True)\n",
    "obj = cp.Minimize(sum(x))\n",
    "cons = [x >= 0]\n",
    "for i in range(6):\n",
    "    cons.append(x[(i - 1) % 6] + x[i] >= a[i])\n",
    "prob = cp.Problem(obj, cons)\n",
    "prob.solve(solver='GLPK_MI')\n",
    "print(\"最优值为：\", prob.value)\n",
    "print(\"最优解为：\", x.value)"
   ],
   "metadata": {
    "collapsed": false
   }
  },
  {
   "cell_type": "code",
   "execution_count": null,
   "outputs": [],
   "source": [],
   "metadata": {
    "collapsed": false
   }
  }
 ],
 "metadata": {
  "kernelspec": {
   "display_name": "Python 3",
   "language": "python",
   "name": "python3"
  },
  "language_info": {
   "codemirror_mode": {
    "name": "ipython",
    "version": 2
   },
   "file_extension": ".py",
   "mimetype": "text/x-python",
   "name": "python",
   "nbconvert_exporter": "python",
   "pygments_lexer": "ipython2",
   "version": "2.7.6"
  }
 },
 "nbformat": 4,
 "nbformat_minor": 0
}
