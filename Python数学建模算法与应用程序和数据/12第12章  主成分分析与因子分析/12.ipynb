{
 "cells": [
  {
   "cell_type": "code",
   "execution_count": 188,
   "metadata": {
    "collapsed": true
   },
   "outputs": [],
   "source": [
    "import plotly.graph_objs as go\n",
    "import plotly.express as px\n",
    "import plotly.io as pio\n",
    "import numpy as np\n",
    "import pandas as pd"
   ]
  },
  {
   "cell_type": "code",
   "execution_count": 189,
   "outputs": [],
   "source": [
    "pio.templates.default = \"plotly_white\""
   ],
   "metadata": {
    "collapsed": false
   }
  },
  {
   "cell_type": "code",
   "execution_count": 190,
   "outputs": [],
   "source": [
    "from sklearn.decomposition import PCA\n",
    "from scipy.stats import zscore"
   ],
   "metadata": {
    "collapsed": false
   }
  },
  {
   "cell_type": "code",
   "execution_count": 191,
   "outputs": [
    {
     "data": {
      "text/plain": "array([[2297.86,  589.62,  474.74,  164.19,  290.91,  626.21,  295.2 ,\n         199.03],\n       [2262.19,  571.69,  461.25,  185.9 ,  337.83,  604.78,  354.66,\n         198.96],\n       [2303.29,  589.99,  516.21,  236.55,  403.92,  730.05,  438.41,\n         225.8 ],\n       [2308.7 ,  551.14,  476.45,  293.23,  406.44,  785.74,  494.04,\n         254.1 ],\n       [2337.65,  589.28,  509.82,  334.05,  442.5 ,  850.15,  563.72,\n         246.51],\n       [2418.96,  618.6 ,  454.2 ,  429.6 ,  615.  , 1065.12,  594.48,\n         164.28],\n       [2702.34,  735.01,  475.36,  459.69,  790.26, 1025.99,  741.6 ,\n         187.81],\n       [3015.32,  779.68,  474.15,  537.95,  865.45, 1200.52,  903.22,\n         196.77],\n       [3135.65,  849.53,  583.5 ,  629.32,  929.92, 1391.11,  882.41,\n         221.85],\n       [3415.92, 1038.98,  615.74,  705.72,  976.02, 1449.49,  954.56,\n         242.26]])"
     },
     "execution_count": 191,
     "metadata": {},
     "output_type": "execute_result"
    }
   ],
   "source": [
    "a = np.loadtxt(\"data12_1.txt\")\n",
    "a"
   ],
   "metadata": {
    "collapsed": false
   }
  },
  {
   "cell_type": "code",
   "execution_count": 192,
   "outputs": [
    {
     "data": {
      "text/plain": "array([[-0.76076777, -0.64214522, -0.54059347, -1.25096611, -1.19811321,\n        -1.14171193, -1.38154326, -0.507142  ],\n       [-0.84506173, -0.75532164, -0.78862442, -1.13462085, -1.01960322,\n        -1.21228148, -1.13035357, -0.50955582],\n       [-0.7479358 , -0.63980973,  0.22188565, -0.8631843 , -0.76815981,\n        -0.79976409, -0.77655041,  0.41596886],\n       [-0.7351511 , -0.88503583, -0.50915293, -0.5594326 , -0.75857232,\n        -0.61637547, -0.54154062,  1.39183877],\n       [-0.66673758, -0.64429134,  0.10439731, -0.34067564, -0.62137986,\n        -0.40427165, -0.24717639,  1.13011253],\n       [-0.47458894, -0.4592198 , -0.91824771,  0.17138284,  0.03490684,\n         0.30363019, -0.1172303 , -1.70542749],\n       [ 0.19508369,  0.2755748 , -0.52919398,  0.33263705,  0.70169414,\n         0.17477407,  0.5042804 , -0.89404166],\n       [ 0.93470589,  0.55753748, -0.55144138,  0.75203733,  0.98775905,\n         0.74950593,  1.18704657, -0.58507366],\n       [ 1.21906508,  0.99843949,  1.45909859,  1.24169493,  1.23303908,\n         1.37712379,  1.09913441,  0.27976087],\n       [ 1.88138828,  2.1942718 ,  2.05187233,  1.65112735,  1.40842932,\n         1.56937065,  1.40393319,  0.98355962]])"
     },
     "execution_count": 192,
     "metadata": {},
     "output_type": "execute_result"
    }
   ],
   "source": [
    "b = zscore(a, ddof=1)\n",
    "b"
   ],
   "metadata": {
    "collapsed": false
   }
  },
  {
   "cell_type": "code",
   "execution_count": 193,
   "outputs": [
    {
     "data": {
      "text/plain": "         0        1       2       3       4        5       6       7\n0  2297.86   589.62  474.74  164.19  290.91   626.21  295.20  199.03\n1  2262.19   571.69  461.25  185.90  337.83   604.78  354.66  198.96\n2  2303.29   589.99  516.21  236.55  403.92   730.05  438.41  225.80\n3  2308.70   551.14  476.45  293.23  406.44   785.74  494.04  254.10\n4  2337.65   589.28  509.82  334.05  442.50   850.15  563.72  246.51\n5  2418.96   618.60  454.20  429.60  615.00  1065.12  594.48  164.28\n6  2702.34   735.01  475.36  459.69  790.26  1025.99  741.60  187.81\n7  3015.32   779.68  474.15  537.95  865.45  1200.52  903.22  196.77\n8  3135.65   849.53  583.50  629.32  929.92  1391.11  882.41  221.85\n9  3415.92  1038.98  615.74  705.72  976.02  1449.49  954.56  242.26",
      "text/html": "<div>\n<style scoped>\n    .dataframe tbody tr th:only-of-type {\n        vertical-align: middle;\n    }\n\n    .dataframe tbody tr th {\n        vertical-align: top;\n    }\n\n    .dataframe thead th {\n        text-align: right;\n    }\n</style>\n<table border=\"1\" class=\"dataframe\">\n  <thead>\n    <tr style=\"text-align: right;\">\n      <th></th>\n      <th>0</th>\n      <th>1</th>\n      <th>2</th>\n      <th>3</th>\n      <th>4</th>\n      <th>5</th>\n      <th>6</th>\n      <th>7</th>\n    </tr>\n  </thead>\n  <tbody>\n    <tr>\n      <th>0</th>\n      <td>2297.86</td>\n      <td>589.62</td>\n      <td>474.74</td>\n      <td>164.19</td>\n      <td>290.91</td>\n      <td>626.21</td>\n      <td>295.20</td>\n      <td>199.03</td>\n    </tr>\n    <tr>\n      <th>1</th>\n      <td>2262.19</td>\n      <td>571.69</td>\n      <td>461.25</td>\n      <td>185.90</td>\n      <td>337.83</td>\n      <td>604.78</td>\n      <td>354.66</td>\n      <td>198.96</td>\n    </tr>\n    <tr>\n      <th>2</th>\n      <td>2303.29</td>\n      <td>589.99</td>\n      <td>516.21</td>\n      <td>236.55</td>\n      <td>403.92</td>\n      <td>730.05</td>\n      <td>438.41</td>\n      <td>225.80</td>\n    </tr>\n    <tr>\n      <th>3</th>\n      <td>2308.70</td>\n      <td>551.14</td>\n      <td>476.45</td>\n      <td>293.23</td>\n      <td>406.44</td>\n      <td>785.74</td>\n      <td>494.04</td>\n      <td>254.10</td>\n    </tr>\n    <tr>\n      <th>4</th>\n      <td>2337.65</td>\n      <td>589.28</td>\n      <td>509.82</td>\n      <td>334.05</td>\n      <td>442.50</td>\n      <td>850.15</td>\n      <td>563.72</td>\n      <td>246.51</td>\n    </tr>\n    <tr>\n      <th>5</th>\n      <td>2418.96</td>\n      <td>618.60</td>\n      <td>454.20</td>\n      <td>429.60</td>\n      <td>615.00</td>\n      <td>1065.12</td>\n      <td>594.48</td>\n      <td>164.28</td>\n    </tr>\n    <tr>\n      <th>6</th>\n      <td>2702.34</td>\n      <td>735.01</td>\n      <td>475.36</td>\n      <td>459.69</td>\n      <td>790.26</td>\n      <td>1025.99</td>\n      <td>741.60</td>\n      <td>187.81</td>\n    </tr>\n    <tr>\n      <th>7</th>\n      <td>3015.32</td>\n      <td>779.68</td>\n      <td>474.15</td>\n      <td>537.95</td>\n      <td>865.45</td>\n      <td>1200.52</td>\n      <td>903.22</td>\n      <td>196.77</td>\n    </tr>\n    <tr>\n      <th>8</th>\n      <td>3135.65</td>\n      <td>849.53</td>\n      <td>583.50</td>\n      <td>629.32</td>\n      <td>929.92</td>\n      <td>1391.11</td>\n      <td>882.41</td>\n      <td>221.85</td>\n    </tr>\n    <tr>\n      <th>9</th>\n      <td>3415.92</td>\n      <td>1038.98</td>\n      <td>615.74</td>\n      <td>705.72</td>\n      <td>976.02</td>\n      <td>1449.49</td>\n      <td>954.56</td>\n      <td>242.26</td>\n    </tr>\n  </tbody>\n</table>\n</div>"
     },
     "execution_count": 193,
     "metadata": {},
     "output_type": "execute_result"
    }
   ],
   "source": [
    "df = pd.DataFrame(a)\n",
    "df"
   ],
   "metadata": {
    "collapsed": false
   }
  },
  {
   "cell_type": "code",
   "execution_count": 194,
   "outputs": [
    {
     "data": {
      "text/plain": "PCA()",
      "text/html": "<style>#sk-container-id-3 {color: black;background-color: white;}#sk-container-id-3 pre{padding: 0;}#sk-container-id-3 div.sk-toggleable {background-color: white;}#sk-container-id-3 label.sk-toggleable__label {cursor: pointer;display: block;width: 100%;margin-bottom: 0;padding: 0.3em;box-sizing: border-box;text-align: center;}#sk-container-id-3 label.sk-toggleable__label-arrow:before {content: \"▸\";float: left;margin-right: 0.25em;color: #696969;}#sk-container-id-3 label.sk-toggleable__label-arrow:hover:before {color: black;}#sk-container-id-3 div.sk-estimator:hover label.sk-toggleable__label-arrow:before {color: black;}#sk-container-id-3 div.sk-toggleable__content {max-height: 0;max-width: 0;overflow: hidden;text-align: left;background-color: #f0f8ff;}#sk-container-id-3 div.sk-toggleable__content pre {margin: 0.2em;color: black;border-radius: 0.25em;background-color: #f0f8ff;}#sk-container-id-3 input.sk-toggleable__control:checked~div.sk-toggleable__content {max-height: 200px;max-width: 100%;overflow: auto;}#sk-container-id-3 input.sk-toggleable__control:checked~label.sk-toggleable__label-arrow:before {content: \"▾\";}#sk-container-id-3 div.sk-estimator input.sk-toggleable__control:checked~label.sk-toggleable__label {background-color: #d4ebff;}#sk-container-id-3 div.sk-label input.sk-toggleable__control:checked~label.sk-toggleable__label {background-color: #d4ebff;}#sk-container-id-3 input.sk-hidden--visually {border: 0;clip: rect(1px 1px 1px 1px);clip: rect(1px, 1px, 1px, 1px);height: 1px;margin: -1px;overflow: hidden;padding: 0;position: absolute;width: 1px;}#sk-container-id-3 div.sk-estimator {font-family: monospace;background-color: #f0f8ff;border: 1px dotted black;border-radius: 0.25em;box-sizing: border-box;margin-bottom: 0.5em;}#sk-container-id-3 div.sk-estimator:hover {background-color: #d4ebff;}#sk-container-id-3 div.sk-parallel-item::after {content: \"\";width: 100%;border-bottom: 1px solid gray;flex-grow: 1;}#sk-container-id-3 div.sk-label:hover label.sk-toggleable__label {background-color: #d4ebff;}#sk-container-id-3 div.sk-serial::before {content: \"\";position: absolute;border-left: 1px solid gray;box-sizing: border-box;top: 0;bottom: 0;left: 50%;z-index: 0;}#sk-container-id-3 div.sk-serial {display: flex;flex-direction: column;align-items: center;background-color: white;padding-right: 0.2em;padding-left: 0.2em;position: relative;}#sk-container-id-3 div.sk-item {position: relative;z-index: 1;}#sk-container-id-3 div.sk-parallel {display: flex;align-items: stretch;justify-content: center;background-color: white;position: relative;}#sk-container-id-3 div.sk-item::before, #sk-container-id-3 div.sk-parallel-item::before {content: \"\";position: absolute;border-left: 1px solid gray;box-sizing: border-box;top: 0;bottom: 0;left: 50%;z-index: -1;}#sk-container-id-3 div.sk-parallel-item {display: flex;flex-direction: column;z-index: 1;position: relative;background-color: white;}#sk-container-id-3 div.sk-parallel-item:first-child::after {align-self: flex-end;width: 50%;}#sk-container-id-3 div.sk-parallel-item:last-child::after {align-self: flex-start;width: 50%;}#sk-container-id-3 div.sk-parallel-item:only-child::after {width: 0;}#sk-container-id-3 div.sk-dashed-wrapped {border: 1px dashed gray;margin: 0 0.4em 0.5em 0.4em;box-sizing: border-box;padding-bottom: 0.4em;background-color: white;}#sk-container-id-3 div.sk-label label {font-family: monospace;font-weight: bold;display: inline-block;line-height: 1.2em;}#sk-container-id-3 div.sk-label-container {text-align: center;}#sk-container-id-3 div.sk-container {/* jupyter's `normalize.less` sets `[hidden] { display: none; }` but bootstrap.min.css set `[hidden] { display: none !important; }` so we also need the `!important` here to be able to override the default hidden behavior on the sphinx rendered scikit-learn.org. See: https://github.com/scikit-learn/scikit-learn/issues/21755 */display: inline-block !important;position: relative;}#sk-container-id-3 div.sk-text-repr-fallback {display: none;}</style><div id=\"sk-container-id-3\" class=\"sk-top-container\"><div class=\"sk-text-repr-fallback\"><pre>PCA()</pre><b>In a Jupyter environment, please rerun this cell to show the HTML representation or trust the notebook. <br />On GitHub, the HTML representation is unable to render, please try loading this page with nbviewer.org.</b></div><div class=\"sk-container\" hidden><div class=\"sk-item\"><div class=\"sk-estimator sk-toggleable\"><input class=\"sk-toggleable__control sk-hidden--visually\" id=\"sk-estimator-id-3\" type=\"checkbox\" checked><label for=\"sk-estimator-id-3\" class=\"sk-toggleable__label sk-toggleable__label-arrow\">PCA</label><div class=\"sk-toggleable__content\"><pre>PCA()</pre></div></div></div></div></div>"
     },
     "execution_count": 194,
     "metadata": {},
     "output_type": "execute_result"
    }
   ],
   "source": [
    "md = PCA().fit(b)\n",
    "md"
   ],
   "metadata": {
    "collapsed": false
   }
  },
  {
   "cell_type": "code",
   "execution_count": 195,
   "outputs": [
    {
     "data": {
      "text/plain": "array([6.27943341e+00, 1.30599080e+00, 2.74277611e-01, 9.97624700e-02,\n       2.31016993e-02, 1.22233669e-02, 4.69357480e-03, 5.17066158e-04])"
     },
     "execution_count": 195,
     "metadata": {},
     "output_type": "execute_result"
    }
   ],
   "source": [
    "md.explained_variance_"
   ],
   "metadata": {
    "collapsed": false
   }
  },
  {
   "cell_type": "code",
   "execution_count": 196,
   "outputs": [
    {
     "data": {
      "text/plain": "array([7.84929176e-01, 1.63248850e-01, 3.42847014e-02, 1.24703088e-02,\n       2.88771241e-03, 1.52792086e-03, 5.86696851e-04, 6.46332697e-05])"
     },
     "execution_count": 196,
     "metadata": {},
     "output_type": "execute_result"
    }
   ],
   "source": [
    "md.explained_variance_ratio_"
   ],
   "metadata": {
    "collapsed": false
   }
  },
  {
   "cell_type": "code",
   "execution_count": 197,
   "outputs": [
    {
     "data": {
      "text/plain": "array([[ 0.39186166,  0.38439344,  0.3059243 ,  0.39231584,  0.38537825,\n         0.38961322,  0.38389911,  0.05908768],\n       [ 0.0210478 , -0.02214509, -0.47783697,  0.08905605,  0.19878256,\n         0.1043221 ,  0.11376475, -0.83634169],\n       [-0.14762176, -0.39254883, -0.57745685,  0.20021017,  0.15914777,\n         0.1347164 ,  0.4303164 ,  0.47108809],\n       [-0.47832186, -0.48941314,  0.44488132,  0.27708115, -0.02393188,\n         0.46564673, -0.07989617, -0.18222681],\n       [-0.09762149, -0.27604773,  0.34873203, -0.35508891,  0.52307577,\n        -0.45643408,  0.4158212 , -0.10824944],\n       [-0.70552867,  0.53549607, -0.049896  ,  0.32914209,  0.14716623,\n        -0.28505603,  0.02367193,  0.03426265],\n       [-0.08102349,  0.10492282,  0.11905975, -0.07206231, -0.68369188,\n        -0.02060535,  0.68706375, -0.15212634],\n       [ 0.28557308, -0.29011082,  0.09180137,  0.6940343 , -0.15286467,\n        -0.55886444, -0.05098258, -0.07665729]])"
     },
     "execution_count": 197,
     "metadata": {},
     "output_type": "execute_result"
    }
   ],
   "source": [
    "xs1 = md.components_\n",
    "xs1"
   ],
   "metadata": {
    "collapsed": false
   }
  },
  {
   "cell_type": "code",
   "execution_count": 198,
   "outputs": [
    {
     "data": {
      "text/plain": "array([[ 2.69247348],\n       [-0.80935049],\n       [ 0.2778514 ],\n       [-0.06618066],\n       [-0.00581264],\n       [ 0.02925828],\n       [-0.09846306],\n       [-0.05807107]])"
     },
     "execution_count": 198,
     "metadata": {},
     "output_type": "execute_result"
    }
   ],
   "source": [
    "check = xs1.sum(axis=1, keepdims=True)\n",
    "check"
   ],
   "metadata": {
    "collapsed": false
   }
  },
  {
   "cell_type": "code",
   "execution_count": 199,
   "outputs": [
    {
     "data": {
      "text/plain": "array([[ 0.39186166,  0.38439344,  0.3059243 ,  0.39231584,  0.38537825,\n         0.38961322,  0.38389911,  0.05908768],\n       [-0.0210478 ,  0.02214509,  0.47783697, -0.08905605, -0.19878256,\n        -0.1043221 , -0.11376475,  0.83634169],\n       [-0.14762176, -0.39254883, -0.57745685,  0.20021017,  0.15914777,\n         0.1347164 ,  0.4303164 ,  0.47108809],\n       [ 0.47832186,  0.48941314, -0.44488132, -0.27708115,  0.02393188,\n        -0.46564673,  0.07989617,  0.18222681],\n       [ 0.09762149,  0.27604773, -0.34873203,  0.35508891, -0.52307577,\n         0.45643408, -0.4158212 ,  0.10824944],\n       [-0.70552867,  0.53549607, -0.049896  ,  0.32914209,  0.14716623,\n        -0.28505603,  0.02367193,  0.03426265],\n       [ 0.08102349, -0.10492282, -0.11905975,  0.07206231,  0.68369188,\n         0.02060535, -0.68706375,  0.15212634],\n       [-0.28557308,  0.29011082, -0.09180137, -0.6940343 ,  0.15286467,\n         0.55886444,  0.05098258,  0.07665729]])"
     },
     "execution_count": 199,
     "metadata": {},
     "output_type": "execute_result"
    }
   ],
   "source": [
    "xs2 = xs1 * np.sign(check)\n",
    "xs2"
   ],
   "metadata": {
    "collapsed": false
   }
  },
  {
   "cell_type": "code",
   "execution_count": 200,
   "outputs": [
    {
     "data": {
      "text/plain": "(13, 5)"
     },
     "execution_count": 200,
     "metadata": {},
     "output_type": "execute_result"
    }
   ],
   "source": [
    "import statsmodels.api as sm\n",
    "\n",
    "a = np.loadtxt(\"data12_2.txt\")\n",
    "a.shape"
   ],
   "metadata": {
    "collapsed": false
   }
  },
  {
   "cell_type": "code",
   "execution_count": 201,
   "outputs": [
    {
     "data": {
      "text/plain": "array([ 7.46153846, 48.15384615, 11.76923077, 30.        , 95.42307692])"
     },
     "execution_count": 201,
     "metadata": {},
     "output_type": "execute_result"
    }
   ],
   "source": [
    "mu = a.mean(axis=0)\n",
    "mu"
   ],
   "metadata": {
    "collapsed": false
   }
  },
  {
   "cell_type": "code",
   "execution_count": 202,
   "outputs": [
    {
     "data": {
      "text/plain": "array([ 5.88239442, 15.56088126,  6.40512615, 16.73817991, 15.0437226 ])"
     },
     "execution_count": 202,
     "metadata": {},
     "output_type": "execute_result"
    }
   ],
   "source": [
    "s = a.std(axis=0, ddof=1)\n",
    "s"
   ],
   "metadata": {
    "collapsed": false
   }
  },
  {
   "cell_type": "code",
   "execution_count": 203,
   "outputs": [
    {
     "data": {
      "text/plain": "array([[-0.07846099, -1.4236884 , -0.90072087,  1.79230957, -1.12492615],\n       [-1.09845379, -1.23089726,  0.50440368,  1.31436035, -1.40411237],\n       [ 0.60153422,  0.50422298, -0.58847097, -0.59743652,  0.5900749 ],\n       [ 0.60153422, -1.10236984, -0.58847097,  1.01564209, -0.52002268],\n       [-0.07846099,  0.24716813, -0.90072087,  0.17923096,  0.03170246],\n       [ 0.60153422,  0.43995926, -0.43234602, -0.47794922,  0.91579215],\n       [-0.75845619,  1.46817866,  0.81665358, -1.43384765,  0.48371824],\n       [-1.09845379, -1.10236984,  1.59727833,  0.83641113, -1.5237636 ],\n       [-0.92845499,  0.37569555,  0.97277853, -0.47794922, -0.15442168],\n       [ 2.30152223, -0.07415044, -1.21297077, -0.23897461,  1.36116064],\n       [-1.09845379, -0.52399643,  1.75340328,  0.23897461, -0.77261973],\n       [ 0.60153422,  1.1468601 , -0.43234602, -1.07538574,  1.18833108],\n       [ 0.43153542,  1.27538753, -0.58847097, -1.07538574,  0.92908673]])"
     },
     "execution_count": 203,
     "metadata": {},
     "output_type": "execute_result"
    }
   ],
   "source": [
    "b = (a - mu) / s\n",
    "b"
   ],
   "metadata": {
    "collapsed": false
   }
  },
  {
   "cell_type": "markdown",
   "source": [],
   "metadata": {
    "collapsed": false
   }
  },
  {
   "cell_type": "code",
   "execution_count": 204,
   "outputs": [
    {
     "data": {
      "text/plain": "array([[-0.07846099, -1.4236884 , -0.90072087,  1.79230957, -1.12492615],\n       [-1.09845379, -1.23089726,  0.50440368,  1.31436035, -1.40411237],\n       [ 0.60153422,  0.50422298, -0.58847097, -0.59743652,  0.5900749 ],\n       [ 0.60153422, -1.10236984, -0.58847097,  1.01564209, -0.52002268],\n       [-0.07846099,  0.24716813, -0.90072087,  0.17923096,  0.03170246],\n       [ 0.60153422,  0.43995926, -0.43234602, -0.47794922,  0.91579215],\n       [-0.75845619,  1.46817866,  0.81665358, -1.43384765,  0.48371824],\n       [-1.09845379, -1.10236984,  1.59727833,  0.83641113, -1.5237636 ],\n       [-0.92845499,  0.37569555,  0.97277853, -0.47794922, -0.15442168],\n       [ 2.30152223, -0.07415044, -1.21297077, -0.23897461,  1.36116064],\n       [-1.09845379, -0.52399643,  1.75340328,  0.23897461, -0.77261973],\n       [ 0.60153422,  1.1468601 , -0.43234602, -1.07538574,  1.18833108],\n       [ 0.43153542,  1.27538753, -0.58847097, -1.07538574,  0.92908673]])"
     },
     "execution_count": 204,
     "metadata": {},
     "output_type": "execute_result"
    }
   ],
   "source": [
    "zscore(a, ddof=1)"
   ],
   "metadata": {
    "collapsed": false
   }
  },
  {
   "cell_type": "code",
   "execution_count": 205,
   "outputs": [
    {
     "data": {
      "text/plain": "array([[-0.07846099, -1.09845379,  0.60153422,  0.60153422, -0.07846099,\n         0.60153422, -0.75845619, -1.09845379, -0.92845499,  2.30152223,\n        -1.09845379,  0.60153422,  0.43153542],\n       [-1.4236884 , -1.23089726,  0.50422298, -1.10236984,  0.24716813,\n         0.43995926,  1.46817866, -1.10236984,  0.37569555, -0.07415044,\n        -0.52399643,  1.1468601 ,  1.27538753],\n       [-0.90072087,  0.50440368, -0.58847097, -0.58847097, -0.90072087,\n        -0.43234602,  0.81665358,  1.59727833,  0.97277853, -1.21297077,\n         1.75340328, -0.43234602, -0.58847097],\n       [ 1.79230957,  1.31436035, -0.59743652,  1.01564209,  0.17923096,\n        -0.47794922, -1.43384765,  0.83641113, -0.47794922, -0.23897461,\n         0.23897461, -1.07538574, -1.07538574]])"
     },
     "execution_count": 205,
     "metadata": {},
     "output_type": "execute_result"
    }
   ],
   "source": [
    "b[:, : -1].T"
   ],
   "metadata": {
    "collapsed": false
   }
  },
  {
   "cell_type": "code",
   "execution_count": 206,
   "outputs": [
    {
     "data": {
      "text/plain": "array([[ 1.        ,  0.22857947, -0.82413376, -0.24544511],\n       [ 0.22857947,  1.        , -0.13924238, -0.972955  ],\n       [-0.82413376, -0.13924238,  1.        ,  0.029537  ],\n       [-0.24544511, -0.972955  ,  0.029537  ,  1.        ]])"
     },
     "execution_count": 206,
     "metadata": {},
     "output_type": "execute_result"
    }
   ],
   "source": [
    "r = np.corrcoef(b[:, : -1].T)\n",
    "r"
   ],
   "metadata": {
    "collapsed": false
   }
  },
  {
   "cell_type": "code",
   "execution_count": 207,
   "outputs": [],
   "source": [
    "md = PCA().fit(b[:, :-1])"
   ],
   "metadata": {
    "collapsed": false
   }
  },
  {
   "cell_type": "code",
   "execution_count": 208,
   "outputs": [
    {
     "data": {
      "text/plain": "array([2.23570403e+00, 1.57606607e+00, 1.86606149e-01, 1.62374573e-03])"
     },
     "execution_count": 208,
     "metadata": {},
     "output_type": "execute_result"
    }
   ],
   "source": [
    "md.explained_variance_"
   ],
   "metadata": {
    "collapsed": false
   }
  },
  {
   "cell_type": "code",
   "execution_count": 209,
   "outputs": [
    {
     "data": {
      "text/plain": "array([5.58926009e-01, 3.94016518e-01, 4.66515373e-02, 4.05936433e-04])"
     },
     "execution_count": 209,
     "metadata": {},
     "output_type": "execute_result"
    }
   ],
   "source": [
    "md.explained_variance_ratio_"
   ],
   "metadata": {
    "collapsed": false
   }
  },
  {
   "cell_type": "code",
   "execution_count": 210,
   "outputs": [
    {
     "data": {
      "text/plain": "array([[-0.47595517, -0.56387024,  0.39406653,  0.54793119],\n       [-0.50897938,  0.41393149,  0.60496908, -0.45123511],\n       [ 0.67550019, -0.31442044,  0.63769109, -0.19542096],\n       [-0.24105218, -0.64175607, -0.26846611, -0.67673402]])"
     },
     "execution_count": 210,
     "metadata": {},
     "output_type": "execute_result"
    }
   ],
   "source": [
    "xs = md.components_\n",
    "xs"
   ],
   "metadata": {
    "collapsed": false
   }
  },
  {
   "cell_type": "code",
   "execution_count": 211,
   "outputs": [
    {
     "data": {
      "text/plain": "array([0.55892601, 0.95294253, 0.99959406, 1.        ])"
     },
     "execution_count": 211,
     "metadata": {},
     "output_type": "execute_result"
    }
   ],
   "source": [
    "np.cumsum(md.explained_variance_ratio_)"
   ],
   "metadata": {
    "collapsed": false
   }
  },
  {
   "cell_type": "code",
   "execution_count": 212,
   "outputs": [
    {
     "data": {
      "text/plain": "(13, 4)"
     },
     "execution_count": 212,
     "metadata": {},
     "output_type": "execute_result"
    }
   ],
   "source": [
    "n = 3\n",
    "b[:, :-1].shape"
   ],
   "metadata": {
    "collapsed": false
   }
  },
  {
   "cell_type": "code",
   "execution_count": 213,
   "outputs": [
    {
     "data": {
      "text/plain": "(4, 3)"
     },
     "execution_count": 213,
     "metadata": {},
     "output_type": "execute_result"
    }
   ],
   "source": [
    "xs[:n, :].T.shape"
   ],
   "metadata": {
    "collapsed": false
   }
  },
  {
   "cell_type": "code",
   "execution_count": 214,
   "outputs": [
    {
     "data": {
      "text/plain": "(13, 3)"
     },
     "execution_count": 214,
     "metadata": {},
     "output_type": "execute_result"
    }
   ],
   "source": [
    "f = b[:, :-1] @ xs[:n, :].T\n",
    "f.shape"
   ],
   "metadata": {
    "collapsed": false
   }
  },
  {
   "cell_type": "code",
   "execution_count": 215,
   "outputs": [
    {
     "data": {
      "text/plain": "array([[  7. ,  26. ,   6. ,  60. ,  78.5],\n       [  1. ,  29. ,  15. ,  52. ,  74.3],\n       [ 11. ,  56. ,   8. ,  20. , 104.3],\n       [ 11. ,  31. ,   8. ,  47. ,  87.6],\n       [  7. ,  52. ,   6. ,  33. ,  95.9],\n       [ 11. ,  55. ,   9. ,  22. , 109.2],\n       [  3. ,  71. ,  17. ,   6. , 102.7],\n       [  1. ,  31. ,  22. ,  44. ,  72.5],\n       [  2. ,  54. ,  18. ,  22. ,  93.1],\n       [ 21. ,  47. ,   4. ,  26. , 115.9],\n       [  1. ,  40. ,  23. ,  34. ,  83.8],\n       [ 11. ,  66. ,   9. ,  12. , 113.3],\n       [ 10. ,  68. ,   8. ,  12. , 109.4]])"
     },
     "execution_count": 215,
     "metadata": {},
     "output_type": "execute_result"
    }
   ],
   "source": [
    "a"
   ],
   "metadata": {
    "collapsed": false
   }
  },
  {
   "cell_type": "code",
   "execution_count": 216,
   "outputs": [
    {
     "data": {
      "text/plain": "{'y': array([ 78.5,  74.3, 104.3,  87.6,  95.9, 109.2, 102.7,  72.5,  93.1,\n        115.9,  83.8, 113.3, 109.4]),\n 'x': array([[ 7., 26.,  6., 60.],\n        [ 1., 29., 15., 52.],\n        [11., 56.,  8., 20.],\n        [11., 31.,  8., 47.],\n        [ 7., 52.,  6., 33.],\n        [11., 55.,  9., 22.],\n        [ 3., 71., 17.,  6.],\n        [ 1., 31., 22., 44.],\n        [ 2., 54., 18., 22.],\n        [21., 47.,  4., 26.],\n        [ 1., 40., 23., 34.],\n        [11., 66.,  9., 12.],\n        [10., 68.,  8., 12.]])}"
     },
     "execution_count": 216,
     "metadata": {},
     "output_type": "execute_result"
    }
   ],
   "source": [
    "d2 = {\n",
    "    \"y\": a[:, -1],\n",
    "    \"x\": a[:, :-1]\n",
    "}\n",
    "d2"
   ],
   "metadata": {
    "collapsed": false
   }
  },
  {
   "cell_type": "code",
   "execution_count": 217,
   "outputs": [
    {
     "name": "stderr",
     "output_type": "stream",
     "text": [
      "D:\\Mysoftware_setup\\anaconda3\\envs\\mypytorch\\lib\\site-packages\\scipy\\stats\\_stats_py.py:1772: UserWarning: kurtosistest only valid for n>=20 ... continuing anyway, n=13\n",
      "  warnings.warn(\"kurtosistest only valid for n>=20 ... continuing \"\n"
     ]
    },
    {
     "data": {
      "text/plain": "<class 'statsmodels.iolib.summary.Summary'>\n\"\"\"\n                            OLS Regression Results                            \n==============================================================================\nDep. Variable:                      y   R-squared:                       0.982\nModel:                            OLS   Adj. R-squared:                  0.974\nMethod:                 Least Squares   F-statistic:                     111.5\nDate:                Sun, 05 Feb 2023   Prob (F-statistic):           4.76e-07\nTime:                        22:05:34   Log-Likelihood:                -26.918\nNo. Observations:                  13   AIC:                             63.84\nDf Residuals:                       8   BIC:                             66.66\nDf Model:                           4                                         \nCovariance Type:            nonrobust                                         \n==============================================================================\n                 coef    std err          t      P>|t|      [0.025      0.975]\n------------------------------------------------------------------------------\nIntercept     62.4054     70.071      0.891      0.399     -99.179     223.989\nx[0]           1.5511      0.745      2.083      0.071      -0.166       3.269\nx[1]           0.5102      0.724      0.705      0.501      -1.159       2.179\nx[2]           0.1019      0.755      0.135      0.896      -1.638       1.842\nx[3]          -0.1441      0.709     -0.203      0.844      -1.779       1.491\n==============================================================================\nOmnibus:                        0.165   Durbin-Watson:                   2.053\nProb(Omnibus):                  0.921   Jarque-Bera (JB):                0.320\nSkew:                           0.201   Prob(JB):                        0.852\nKurtosis:                       2.345   Cond. No.                     6.06e+03\n==============================================================================\n\nNotes:\n[1] Standard Errors assume that the covariance matrix of the errors is correctly specified.\n[2] The condition number is large, 6.06e+03. This might indicate that there are\nstrong multicollinearity or other numerical problems.\n\"\"\"",
      "text/html": "<table class=\"simpletable\">\n<caption>OLS Regression Results</caption>\n<tr>\n  <th>Dep. Variable:</th>            <td>y</td>        <th>  R-squared:         </th> <td>   0.982</td>\n</tr>\n<tr>\n  <th>Model:</th>                   <td>OLS</td>       <th>  Adj. R-squared:    </th> <td>   0.974</td>\n</tr>\n<tr>\n  <th>Method:</th>             <td>Least Squares</td>  <th>  F-statistic:       </th> <td>   111.5</td>\n</tr>\n<tr>\n  <th>Date:</th>             <td>Sun, 05 Feb 2023</td> <th>  Prob (F-statistic):</th> <td>4.76e-07</td>\n</tr>\n<tr>\n  <th>Time:</th>                 <td>22:05:34</td>     <th>  Log-Likelihood:    </th> <td> -26.918</td>\n</tr>\n<tr>\n  <th>No. Observations:</th>      <td>    13</td>      <th>  AIC:               </th> <td>   63.84</td>\n</tr>\n<tr>\n  <th>Df Residuals:</th>          <td>     8</td>      <th>  BIC:               </th> <td>   66.66</td>\n</tr>\n<tr>\n  <th>Df Model:</th>              <td>     4</td>      <th>                     </th>     <td> </td>   \n</tr>\n<tr>\n  <th>Covariance Type:</th>      <td>nonrobust</td>    <th>                     </th>     <td> </td>   \n</tr>\n</table>\n<table class=\"simpletable\">\n<tr>\n      <td></td>         <th>coef</th>     <th>std err</th>      <th>t</th>      <th>P>|t|</th>  <th>[0.025</th>    <th>0.975]</th>  \n</tr>\n<tr>\n  <th>Intercept</th> <td>   62.4054</td> <td>   70.071</td> <td>    0.891</td> <td> 0.399</td> <td>  -99.179</td> <td>  223.989</td>\n</tr>\n<tr>\n  <th>x[0]</th>      <td>    1.5511</td> <td>    0.745</td> <td>    2.083</td> <td> 0.071</td> <td>   -0.166</td> <td>    3.269</td>\n</tr>\n<tr>\n  <th>x[1]</th>      <td>    0.5102</td> <td>    0.724</td> <td>    0.705</td> <td> 0.501</td> <td>   -1.159</td> <td>    2.179</td>\n</tr>\n<tr>\n  <th>x[2]</th>      <td>    0.1019</td> <td>    0.755</td> <td>    0.135</td> <td> 0.896</td> <td>   -1.638</td> <td>    1.842</td>\n</tr>\n<tr>\n  <th>x[3]</th>      <td>   -0.1441</td> <td>    0.709</td> <td>   -0.203</td> <td> 0.844</td> <td>   -1.779</td> <td>    1.491</td>\n</tr>\n</table>\n<table class=\"simpletable\">\n<tr>\n  <th>Omnibus:</th>       <td> 0.165</td> <th>  Durbin-Watson:     </th> <td>   2.053</td>\n</tr>\n<tr>\n  <th>Prob(Omnibus):</th> <td> 0.921</td> <th>  Jarque-Bera (JB):  </th> <td>   0.320</td>\n</tr>\n<tr>\n  <th>Skew:</th>          <td> 0.201</td> <th>  Prob(JB):          </th> <td>   0.852</td>\n</tr>\n<tr>\n  <th>Kurtosis:</th>      <td> 2.345</td> <th>  Cond. No.          </th> <td>6.06e+03</td>\n</tr>\n</table><br/><br/>Notes:<br/>[1] Standard Errors assume that the covariance matrix of the errors is correctly specified.<br/>[2] The condition number is large, 6.06e+03. This might indicate that there are<br/>strong multicollinearity or other numerical problems."
     },
     "execution_count": 217,
     "metadata": {},
     "output_type": "execute_result"
    }
   ],
   "source": [
    "md = sm.formula.ols(\"y~x\", d2).fit()\n",
    "md.summary()"
   ],
   "metadata": {
    "collapsed": false
   }
  },
  {
   "cell_type": "code",
   "execution_count": 218,
   "outputs": [],
   "source": [
    "d3 = {\n",
    "    \"y\": a[:, -1],\n",
    "    \"z\": f\n",
    "}"
   ],
   "metadata": {
    "collapsed": false
   }
  },
  {
   "cell_type": "code",
   "execution_count": 219,
   "outputs": [
    {
     "name": "stderr",
     "output_type": "stream",
     "text": [
      "D:\\Mysoftware_setup\\anaconda3\\envs\\mypytorch\\lib\\site-packages\\scipy\\stats\\_stats_py.py:1772: UserWarning: kurtosistest only valid for n>=20 ... continuing anyway, n=13\n",
      "  warnings.warn(\"kurtosistest only valid for n>=20 ... continuing \"\n"
     ]
    },
    {
     "data": {
      "text/plain": "<class 'statsmodels.iolib.summary.Summary'>\n\"\"\"\n                            OLS Regression Results                            \n==============================================================================\nDep. Variable:                      y   R-squared:                       0.982\nModel:                            OLS   Adj. R-squared:                  0.976\nMethod:                 Least Squares   F-statistic:                     164.9\nDate:                Sun, 05 Feb 2023   Prob (F-statistic):           3.50e-08\nTime:                        22:05:34   Log-Likelihood:                -27.008\nNo. Observations:                  13   AIC:                             62.02\nDf Residuals:                       9   BIC:                             64.28\nDf Model:                           3                                         \nCovariance Type:            nonrobust                                         \n==============================================================================\n                 coef    std err          t      P>|t|      [0.025      0.975]\n------------------------------------------------------------------------------\nIntercept     95.4231      0.644    148.167      0.000      93.966      96.880\nz[0]          -9.8831      0.448    -22.045      0.000     -10.897      -8.869\nz[1]           0.1250      0.534      0.234      0.820      -1.083       1.333\nz[2]           4.5548      1.552      2.935      0.017       1.045       8.065\n==============================================================================\nOmnibus:                        0.246   Durbin-Watson:                   1.943\nProb(Omnibus):                  0.884   Jarque-Bera (JB):                0.416\nSkew:                           0.162   Prob(JB):                        0.812\nKurtosis:                       2.186   Cond. No.                         3.46\n==============================================================================\n\nNotes:\n[1] Standard Errors assume that the covariance matrix of the errors is correctly specified.\n\"\"\"",
      "text/html": "<table class=\"simpletable\">\n<caption>OLS Regression Results</caption>\n<tr>\n  <th>Dep. Variable:</th>            <td>y</td>        <th>  R-squared:         </th> <td>   0.982</td>\n</tr>\n<tr>\n  <th>Model:</th>                   <td>OLS</td>       <th>  Adj. R-squared:    </th> <td>   0.976</td>\n</tr>\n<tr>\n  <th>Method:</th>             <td>Least Squares</td>  <th>  F-statistic:       </th> <td>   164.9</td>\n</tr>\n<tr>\n  <th>Date:</th>             <td>Sun, 05 Feb 2023</td> <th>  Prob (F-statistic):</th> <td>3.50e-08</td>\n</tr>\n<tr>\n  <th>Time:</th>                 <td>22:05:34</td>     <th>  Log-Likelihood:    </th> <td> -27.008</td>\n</tr>\n<tr>\n  <th>No. Observations:</th>      <td>    13</td>      <th>  AIC:               </th> <td>   62.02</td>\n</tr>\n<tr>\n  <th>Df Residuals:</th>          <td>     9</td>      <th>  BIC:               </th> <td>   64.28</td>\n</tr>\n<tr>\n  <th>Df Model:</th>              <td>     3</td>      <th>                     </th>     <td> </td>   \n</tr>\n<tr>\n  <th>Covariance Type:</th>      <td>nonrobust</td>    <th>                     </th>     <td> </td>   \n</tr>\n</table>\n<table class=\"simpletable\">\n<tr>\n      <td></td>         <th>coef</th>     <th>std err</th>      <th>t</th>      <th>P>|t|</th>  <th>[0.025</th>    <th>0.975]</th>  \n</tr>\n<tr>\n  <th>Intercept</th> <td>   95.4231</td> <td>    0.644</td> <td>  148.167</td> <td> 0.000</td> <td>   93.966</td> <td>   96.880</td>\n</tr>\n<tr>\n  <th>z[0]</th>      <td>   -9.8831</td> <td>    0.448</td> <td>  -22.045</td> <td> 0.000</td> <td>  -10.897</td> <td>   -8.869</td>\n</tr>\n<tr>\n  <th>z[1]</th>      <td>    0.1250</td> <td>    0.534</td> <td>    0.234</td> <td> 0.820</td> <td>   -1.083</td> <td>    1.333</td>\n</tr>\n<tr>\n  <th>z[2]</th>      <td>    4.5548</td> <td>    1.552</td> <td>    2.935</td> <td> 0.017</td> <td>    1.045</td> <td>    8.065</td>\n</tr>\n</table>\n<table class=\"simpletable\">\n<tr>\n  <th>Omnibus:</th>       <td> 0.246</td> <th>  Durbin-Watson:     </th> <td>   1.943</td>\n</tr>\n<tr>\n  <th>Prob(Omnibus):</th> <td> 0.884</td> <th>  Jarque-Bera (JB):  </th> <td>   0.416</td>\n</tr>\n<tr>\n  <th>Skew:</th>          <td> 0.162</td> <th>  Prob(JB):          </th> <td>   0.812</td>\n</tr>\n<tr>\n  <th>Kurtosis:</th>      <td> 2.186</td> <th>  Cond. No.          </th> <td>    3.46</td>\n</tr>\n</table><br/><br/>Notes:<br/>[1] Standard Errors assume that the covariance matrix of the errors is correctly specified."
     },
     "execution_count": 219,
     "metadata": {},
     "output_type": "execute_result"
    }
   ],
   "source": [
    "md = sm.formula.ols(\"y~z\", d3).fit()\n",
    "md.summary()"
   ],
   "metadata": {
    "collapsed": false
   }
  },
  {
   "cell_type": "code",
   "execution_count": 220,
   "outputs": [
    {
     "data": {
      "text/plain": "Intercept    95.423077\nz[0]         -9.883095\nz[1]          0.124993\nz[2]          4.554792\ndtype: float64"
     },
     "execution_count": 220,
     "metadata": {},
     "output_type": "execute_result"
    }
   ],
   "source": [
    "xs3 = md.params\n",
    "xs3"
   ],
   "metadata": {
    "collapsed": false
   }
  },
  {
   "cell_type": "code",
   "execution_count": 221,
   "outputs": [
    {
     "data": {
      "text/plain": "85.74326349653427"
     },
     "execution_count": 221,
     "metadata": {},
     "output_type": "execute_result"
    }
   ],
   "source": [
    "xs40 = xs3[0] - sum(xs3[1:] @ xs[:n, :] * mu[:-1] / s[:-1])  #常数项\n",
    "xs40"
   ],
   "metadata": {
    "collapsed": false
   }
  },
  {
   "cell_type": "code",
   "execution_count": 222,
   "outputs": [
    {
     "data": {
      "text/plain": "array([ 1.3118899 ,  0.26941931, -0.14276535, -0.3800747 ])"
     },
     "execution_count": 222,
     "metadata": {},
     "output_type": "execute_result"
    }
   ],
   "source": [
    "xs4 = xs3[1:] @ xs[:n, :] / s[:-1]  #原始变量回归方程的其他系数\n",
    "xs4"
   ],
   "metadata": {
    "collapsed": false
   }
  },
  {
   "cell_type": "code",
   "execution_count": 223,
   "outputs": [
    {
     "data": {
      "text/plain": "array([7.50963582e+00, 2.27720858e+00, 1.47105704e+00, 8.50786152e-01,\n       6.50545056e-01, 5.06438457e-01, 3.38461134e-01, 2.41850500e-01,\n       7.58718928e-02, 5.63367008e-02, 1.62614416e-02, 4.86075319e-03,\n       5.75813307e-04, 1.10664593e-04])"
     },
     "execution_count": 223,
     "metadata": {},
     "output_type": "execute_result"
    }
   ],
   "source": [
    "a = pd.read_excel(\"data12_3.xlsx\", header=None)\n",
    "b = a.values\n",
    "c = zscore(b, ddof=1)\n",
    "md = PCA().fit(c)\n",
    "md.explained_variance_"
   ],
   "metadata": {
    "collapsed": false
   }
  },
  {
   "cell_type": "code",
   "execution_count": 224,
   "outputs": [
    {
     "data": {
      "text/plain": "array([5.36402558e-01, 1.62657756e-01, 1.05075503e-01, 6.07704394e-02,\n       4.64675040e-02, 3.61741755e-02, 2.41757953e-02, 1.72750357e-02,\n       5.41942091e-03, 4.02405005e-03, 1.16153155e-03, 3.47196656e-04,\n       4.11295220e-05, 7.90461377e-06])"
     },
     "execution_count": 224,
     "metadata": {},
     "output_type": "execute_result"
    }
   ],
   "source": [
    "r1 = md.explained_variance_ratio_\n",
    "r1"
   ],
   "metadata": {
    "collapsed": false
   }
  },
  {
   "cell_type": "code",
   "execution_count": 225,
   "outputs": [
    {
     "data": {
      "text/plain": "array([0.53640256, 0.69906031, 0.80413582, 0.86490626, 0.91137376,\n       0.94754794, 0.97172373, 0.98899877, 0.99441819, 0.99844224,\n       0.99960377, 0.99995097, 0.9999921 , 1.        ])"
     },
     "execution_count": 225,
     "metadata": {},
     "output_type": "execute_result"
    }
   ],
   "source": [
    "np.cumsum(md.explained_variance_ratio_)"
   ],
   "metadata": {
    "collapsed": false
   }
  },
  {
   "cell_type": "code",
   "execution_count": 226,
   "outputs": [
    {
     "data": {
      "text/plain": "array([[ 2.78837967e-01,  9.63690035e-02,  3.49799816e-01,\n        -1.45018084e-01,  3.29817004e-01,  2.37834177e-01,\n         3.08318801e-01,  3.15450966e-01,  2.52655866e-01,\n         2.36263388e-01,  2.82162395e-01,  3.30220374e-01,\n         2.67528231e-01,  1.72540600e-01],\n       [-2.71074673e-01,  2.94888719e-01,  5.78873627e-02,\n         1.02727277e-01, -7.89358305e-02, -1.96705527e-01,\n         8.04817160e-02, -1.52455238e-01,  4.29775336e-01,\n         4.71523096e-01,  3.25314924e-01, -1.53184629e-01,\n        -1.87591528e-01, -4.23656357e-01],\n       [-2.24640360e-03,  4.90196501e-01, -1.27799797e-01,\n         5.75555790e-01,  4.14247284e-02,  4.71543730e-01,\n         6.22191345e-02, -1.02008064e-01, -9.68328447e-02,\n        -6.62680302e-02, -2.11089160e-01,  1.03482635e-01,\n         2.55837732e-01, -1.98167707e-01],\n       [-2.98738797e-01,  5.44463206e-01,  1.07239046e-01,\n        -4.01997161e-01,  1.84903015e-01, -3.79735798e-03,\n        -4.21887319e-01, -2.34448773e-01, -1.17214330e-01,\n        -1.96081875e-01,  2.28402129e-01,  4.49539967e-02,\n         1.42158904e-01,  2.17874933e-01],\n       [-9.98036847e-02, -2.01883446e-01,  6.08249215e-02,\n         4.82927470e-01, -1.19049962e-01, -1.25854459e-01,\n        -2.25125664e-01, -1.99411548e-01,  2.54695327e-01,\n         1.52394821e-01,  1.53261565e-01, -1.13420625e-01,\n         3.28874881e-01,  5.99415544e-01],\n       [-3.85377414e-01, -3.92435087e-01,  2.26842132e-01,\n         1.24255518e-01,  4.33116064e-01,  4.54364359e-01,\n         1.83776231e-02, -2.67281320e-01, -2.83888030e-02,\n        -7.47041592e-02,  1.24588394e-01,  1.30250536e-02,\n        -3.77576267e-01, -1.12354402e-02],\n       [-2.54437505e-01,  2.06611181e-01, -5.88263364e-02,\n         2.90662425e-01, -9.18092046e-02, -1.99263972e-01,\n        -3.93959301e-03,  4.42528178e-01,  3.12234468e-02,\n        -1.74275916e-01,  6.72096093e-02,  4.67573994e-01,\n        -4.90471503e-01,  2.56114348e-01],\n       [-5.19086994e-01, -5.57082958e-02, -6.23714580e-02,\n         3.71663794e-02,  7.80122614e-02, -2.28290815e-01,\n         5.38947563e-01,  1.75692120e-01, -3.38725547e-01,\n        -1.20595137e-01,  1.89895731e-01, -1.67680465e-01,\n         3.85834107e-01, -1.77669672e-02],\n       [ 1.38759524e-03,  2.32894634e-02, -2.69049368e-01,\n        -2.07503006e-01, -5.85561556e-01,  4.97698766e-01,\n         2.46923599e-01, -8.82349078e-02,  1.89577476e-02,\n        -5.94432237e-02,  3.94957940e-01, -5.77549933e-02,\n        -1.21610214e-01,  2.16005101e-01],\n       [ 2.12503707e-01,  3.46591895e-01,  1.28799159e-01,\n         6.19313564e-02,  1.98874843e-01, -3.09751044e-02,\n         2.85600575e-01,  1.63572438e-02, -1.29032056e-01,\n         8.31630225e-02, -1.41322259e-01, -5.94229786e-01,\n        -3.71862925e-01,  3.96253951e-01],\n       [ 2.73938883e-01, -3.43762293e-02,  3.79918721e-01,\n         2.77854301e-01, -1.33705964e-01, -7.64817824e-03,\n        -2.81011733e-01,  2.28977359e-01, -3.43703942e-01,\n        -1.95102907e-01,  5.31893305e-01, -2.19245576e-01,\n        -2.25391499e-02, -2.55373930e-01],\n       [ 2.42578068e-01,  3.37795580e-02, -7.08164156e-02,\n         8.20244788e-02,  1.49269728e-01, -2.22098459e-01,\n         2.62747280e-01, -2.97861068e-01,  4.33719380e-01,\n        -6.88106069e-01,  1.77521398e-01, -5.93089399e-05,\n        -6.28695868e-03, -7.58253090e-02],\n       [ 2.08460319e-01, -4.91233626e-02, -7.22156784e-01,\n         7.11570218e-02,  4.48212791e-01, -4.58128949e-02,\n        -1.36765395e-01,  3.50046460e-02, -1.53783726e-01,\n         1.96154879e-01,  3.73713411e-01,  1.00022972e-03,\n        -4.90969529e-02,  2.08429030e-02],\n       [ 2.10593520e-01,  3.26009005e-02,  1.55267428e-01,\n         7.16866614e-02, -9.65427494e-02, -2.60990859e-01,\n         2.56622932e-01, -5.68808322e-01, -4.47273786e-01,\n         2.11670557e-01,  9.04970643e-02,  4.36427638e-01,\n        -1.06742952e-01,  5.99542105e-02]])"
     },
     "execution_count": 226,
     "metadata": {},
     "output_type": "execute_result"
    }
   ],
   "source": [
    "xs1 = md.components_\n",
    "xs1"
   ],
   "metadata": {
    "collapsed": false
   }
  },
  {
   "cell_type": "code",
   "execution_count": 227,
   "outputs": [
    {
     "data": {
      "text/plain": "(15, 4)"
     },
     "execution_count": 227,
     "metadata": {},
     "output_type": "execute_result"
    }
   ],
   "source": [
    "n1 = 4\n",
    "\n",
    "df1 = c @ xs1[:n1, :].T\n",
    "df1.shape"
   ],
   "metadata": {
    "collapsed": false
   }
  },
  {
   "cell_type": "code",
   "execution_count": 228,
   "outputs": [
    {
     "data": {
      "text/plain": "(4,)"
     },
     "execution_count": 228,
     "metadata": {},
     "output_type": "execute_result"
    }
   ],
   "source": [
    "r1[:n1].shape"
   ],
   "metadata": {
    "collapsed": false
   }
  },
  {
   "cell_type": "code",
   "execution_count": 229,
   "outputs": [
    {
     "data": {
      "text/plain": "array([ 0.29285016,  1.01659708, -1.22657941, -0.93647745, -1.64930206,\n        0.03800517,  0.31471543,  3.28572061, -1.12046447, -0.12595321,\n        0.06706603,  3.02572877, -1.50884546, -1.21366531, -0.25939588])"
     },
     "execution_count": 229,
     "metadata": {},
     "output_type": "execute_result"
    }
   ],
   "source": [
    "g1 = df1 @ r1[:n1]  #计算综合评价得分\n",
    "g1"
   ],
   "metadata": {
    "collapsed": false
   }
  },
  {
   "cell_type": "code",
   "execution_count": 230,
   "outputs": [
    {
     "data": {
      "text/plain": "array([ 7, 11,  1,  6,  0, 10,  5,  9, 14,  3,  8, 13,  2, 12,  4],\n      dtype=int64)"
     },
     "execution_count": 230,
     "metadata": {},
     "output_type": "execute_result"
    }
   ],
   "source": [
    "ind1 = np.argsort(-g1)\n",
    "ind1"
   ],
   "metadata": {
    "collapsed": false
   }
  },
  {
   "cell_type": "code",
   "execution_count": 231,
   "outputs": [
    {
     "data": {
      "text/plain": "array([ 5.,  3., 13., 10., 15.,  7.,  4.,  1., 11.,  8.,  6.,  2., 14.,\n       12.,  9.])"
     },
     "execution_count": 231,
     "metadata": {},
     "output_type": "execute_result"
    }
   ],
   "source": [
    "ind11 = np.zeros(15)\n",
    "ind11[ind1] = np.arange(1, 16)\n",
    "ind11"
   ],
   "metadata": {
    "collapsed": false
   }
  },
  {
   "cell_type": "code",
   "execution_count": 232,
   "outputs": [
    {
     "data": {
      "text/plain": "15"
     },
     "execution_count": 232,
     "metadata": {},
     "output_type": "execute_result"
    }
   ],
   "source": [
    "n = b.shape[0]\n",
    "n"
   ],
   "metadata": {
    "collapsed": false
   }
  },
  {
   "cell_type": "code",
   "execution_count": 233,
   "outputs": [
    {
     "data": {
      "text/plain": "array([[ 1.29700250e+03,  2.87083705e+02, -1.09944821e+00,\n        -5.45799811e+01, -6.65459544e+00,  6.88063597e+01,\n         1.05856367e+02, -5.10640728e-02, -1.95570074e+02,\n        -2.90625039e+00,  1.13233645e+00,  3.71084005e+02,\n        -1.03207988e+02, -6.42303205e+00,  2.19450453e+00],\n       [ 2.87083705e+02,  2.83073981e+03, -7.03601849e+01,\n        -2.87400613e+01, -4.29373384e+02,  2.32347748e+01,\n         4.00642271e+02,  3.17351519e+02, -1.77831526e+02,\n        -8.69445829e+00,  2.69103124e+00,  3.49444130e+03,\n        -2.65564293e+02, -3.15814989e+02, -5.07411568e+01],\n       [-1.09944821e+00, -7.03601849e+01,  2.93597572e+02,\n         2.13229486e+02,  2.79956262e+02,  1.49137770e-01,\n        -1.92154325e+00, -1.02510254e+03,  1.53444360e+02,\n         1.82111282e+00,  3.44990788e+00, -1.35782247e+03,\n         4.13377452e+02,  1.78594642e+02,  4.91927732e+00],\n       [-5.45799811e+01, -2.87400613e+01,  2.13229486e+02,\n         4.71769120e+02,  3.94213546e+01, -3.43943498e-05,\n        -1.88374788e+00, -3.95424536e+02,  2.06091290e+02,\n         7.32645166e+00,  1.05966027e+01, -5.52435336e+02,\n         3.67003592e+02,  5.84643186e+01,  7.43113807e-02],\n       [-6.65459544e+00, -4.29373384e+02,  2.79956262e+02,\n         3.94213546e+01,  3.06361391e+03,  5.78967375e-03,\n        -6.39285386e+01, -2.01242929e+03,  4.91550136e+02,\n         4.25326162e+00, -2.09646173e+00, -4.85342201e+03,\n         1.01728139e+03,  8.05337267e+02,  1.88918247e+02],\n       [ 6.88063597e+01,  2.32347748e+01,  1.49137770e-01,\n        -3.43943498e-05,  5.78967375e-03,  2.03363330e+02,\n        -2.94099673e-01,  1.40188465e+00,  3.91467531e-04,\n        -8.22024859e+00,  3.72453670e+00,  3.08199542e+01,\n        -6.66939865e-02, -3.57667938e-01, -2.03678863e-01],\n       [ 1.05856367e+02,  4.00642271e+02, -1.92154325e+00,\n        -1.88374788e+00, -6.39285386e+01, -2.94099673e-01,\n         3.35414538e+03,  6.09830751e-01, -7.23009204e+00,\n        -5.10447503e+00,  3.75145569e+00,  8.85774887e+02,\n        -4.61824325e+01, -5.73668938e+01, -1.98701991e+02],\n       [-5.10640728e-02,  3.17351519e+02, -1.02510254e+03,\n        -3.95424536e+02, -2.01242929e+03,  1.40188465e+00,\n         6.09830751e-01,  8.97108695e+04, -1.88470328e+02,\n        -1.02411928e+01,  1.68309870e+01,  1.26891389e+04,\n        -1.11482969e+03, -1.08234896e+03, -1.64649389e+02],\n       [-1.95570074e+02, -1.77831526e+02,  1.53444360e+02,\n         2.06091290e+02,  4.91550136e+02,  3.91467531e-04,\n        -7.23009204e+00, -1.88470328e+02,  1.07867837e+03,\n         2.56791742e+00,  8.70379468e-01, -1.69230125e+03,\n         6.06200900e+02,  2.09745678e+02, -7.81357889e-03],\n       [-2.90625039e+00, -8.69445829e+00,  1.82111282e+00,\n         7.32645166e+00,  4.25326162e+00, -8.22024859e+00,\n        -5.10447503e+00, -1.02411928e+01,  2.56791742e+00,\n         6.16355172e+02,  1.40985340e-01, -3.46164659e+01,\n         8.52382884e+00,  1.22232088e+02,  1.63194421e+02],\n       [ 1.13233645e+00,  2.69103124e+00,  3.44990788e+00,\n         1.05966027e+01, -2.09646173e+00,  3.72453670e+00,\n         3.75145569e+00,  1.68309870e+01,  8.70379468e-01,\n         1.40985340e-01,  1.55704855e+01,  2.96449474e+00,\n         2.52070960e-01, -1.30687286e-06, -3.77539713e+00],\n       [ 3.71084005e+02,  3.49444130e+03, -1.35782247e+03,\n        -5.52435336e+02, -4.85342201e+03,  3.08199542e+01,\n         8.85774887e+02,  1.26891389e+04, -1.69230125e+03,\n        -3.46164659e+01,  2.96449474e+00,  5.59873108e+04,\n        -4.09813445e+03, -2.29368431e+03, -1.63945765e+01],\n       [-1.03207988e+02, -2.65564293e+02,  4.13377452e+02,\n         3.67003592e+02,  1.01728139e+03, -6.66939865e-02,\n        -4.61824325e+01, -1.11482969e+03,  6.06200900e+02,\n         8.52382884e+00,  2.52070960e-01, -4.09813445e+03,\n         1.23871116e+03,  4.25236935e+02,  1.41735916e+01],\n       [-6.42303205e+00, -3.15814989e+02,  1.78594642e+02,\n         5.84643186e+01,  8.05337267e+02, -3.57667938e-01,\n        -5.73668938e+01, -1.08234896e+03,  2.09745678e+02,\n         1.22232088e+02, -1.30687286e-06, -2.29368431e+03,\n         4.25236935e+02,  6.95646000e+02,  1.75648332e+02],\n       [ 2.19450453e+00, -5.07411568e+01,  4.91927732e+00,\n         7.43113807e-02,  1.88918247e+02, -2.03678863e-01,\n        -1.98701991e+02, -1.64649389e+02, -7.81357889e-03,\n         1.63194421e+02, -3.77539713e+00, -1.63945765e+01,\n         1.41735916e+01,  1.75648332e+02,  1.84230871e+03]])"
     },
     "execution_count": 233,
     "metadata": {},
     "output_type": "execute_result"
    }
   ],
   "source": [
    "K = (1 + c @ c.T) ** 3\n",
    "K"
   ],
   "metadata": {
    "collapsed": false
   }
  },
  {
   "cell_type": "code",
   "execution_count": 234,
   "outputs": [
    {
     "data": {
      "text/plain": "array([[0.06666667, 0.06666667, 0.06666667, 0.06666667, 0.06666667,\n        0.06666667, 0.06666667, 0.06666667, 0.06666667, 0.06666667,\n        0.06666667, 0.06666667, 0.06666667, 0.06666667, 0.06666667],\n       [0.06666667, 0.06666667, 0.06666667, 0.06666667, 0.06666667,\n        0.06666667, 0.06666667, 0.06666667, 0.06666667, 0.06666667,\n        0.06666667, 0.06666667, 0.06666667, 0.06666667, 0.06666667],\n       [0.06666667, 0.06666667, 0.06666667, 0.06666667, 0.06666667,\n        0.06666667, 0.06666667, 0.06666667, 0.06666667, 0.06666667,\n        0.06666667, 0.06666667, 0.06666667, 0.06666667, 0.06666667],\n       [0.06666667, 0.06666667, 0.06666667, 0.06666667, 0.06666667,\n        0.06666667, 0.06666667, 0.06666667, 0.06666667, 0.06666667,\n        0.06666667, 0.06666667, 0.06666667, 0.06666667, 0.06666667],\n       [0.06666667, 0.06666667, 0.06666667, 0.06666667, 0.06666667,\n        0.06666667, 0.06666667, 0.06666667, 0.06666667, 0.06666667,\n        0.06666667, 0.06666667, 0.06666667, 0.06666667, 0.06666667],\n       [0.06666667, 0.06666667, 0.06666667, 0.06666667, 0.06666667,\n        0.06666667, 0.06666667, 0.06666667, 0.06666667, 0.06666667,\n        0.06666667, 0.06666667, 0.06666667, 0.06666667, 0.06666667],\n       [0.06666667, 0.06666667, 0.06666667, 0.06666667, 0.06666667,\n        0.06666667, 0.06666667, 0.06666667, 0.06666667, 0.06666667,\n        0.06666667, 0.06666667, 0.06666667, 0.06666667, 0.06666667],\n       [0.06666667, 0.06666667, 0.06666667, 0.06666667, 0.06666667,\n        0.06666667, 0.06666667, 0.06666667, 0.06666667, 0.06666667,\n        0.06666667, 0.06666667, 0.06666667, 0.06666667, 0.06666667],\n       [0.06666667, 0.06666667, 0.06666667, 0.06666667, 0.06666667,\n        0.06666667, 0.06666667, 0.06666667, 0.06666667, 0.06666667,\n        0.06666667, 0.06666667, 0.06666667, 0.06666667, 0.06666667],\n       [0.06666667, 0.06666667, 0.06666667, 0.06666667, 0.06666667,\n        0.06666667, 0.06666667, 0.06666667, 0.06666667, 0.06666667,\n        0.06666667, 0.06666667, 0.06666667, 0.06666667, 0.06666667],\n       [0.06666667, 0.06666667, 0.06666667, 0.06666667, 0.06666667,\n        0.06666667, 0.06666667, 0.06666667, 0.06666667, 0.06666667,\n        0.06666667, 0.06666667, 0.06666667, 0.06666667, 0.06666667],\n       [0.06666667, 0.06666667, 0.06666667, 0.06666667, 0.06666667,\n        0.06666667, 0.06666667, 0.06666667, 0.06666667, 0.06666667,\n        0.06666667, 0.06666667, 0.06666667, 0.06666667, 0.06666667],\n       [0.06666667, 0.06666667, 0.06666667, 0.06666667, 0.06666667,\n        0.06666667, 0.06666667, 0.06666667, 0.06666667, 0.06666667,\n        0.06666667, 0.06666667, 0.06666667, 0.06666667, 0.06666667],\n       [0.06666667, 0.06666667, 0.06666667, 0.06666667, 0.06666667,\n        0.06666667, 0.06666667, 0.06666667, 0.06666667, 0.06666667,\n        0.06666667, 0.06666667, 0.06666667, 0.06666667, 0.06666667],\n       [0.06666667, 0.06666667, 0.06666667, 0.06666667, 0.06666667,\n        0.06666667, 0.06666667, 0.06666667, 0.06666667, 0.06666667,\n        0.06666667, 0.06666667, 0.06666667, 0.06666667, 0.06666667]])"
     },
     "execution_count": 234,
     "metadata": {},
     "output_type": "execute_result"
    }
   ],
   "source": [
    "J = np.ones((n, n)) / n\n",
    "J"
   ],
   "metadata": {
    "collapsed": false
   }
  },
  {
   "cell_type": "code",
   "execution_count": 235,
   "outputs": [
    {
     "data": {
      "text/plain": "array([ 8.59350160e+04,  5.18397183e+04,  3.49538554e+03,  2.68967243e+03,\n        2.07508131e+03,  1.66682709e+03,  1.40496329e+03,  7.51371594e+02,\n        5.98056083e+02, -1.75455224e-12,  6.32737809e+01,  1.12394486e+02,\n        2.30948199e+02,  3.82459237e+02,  3.57692083e+02])"
     },
     "execution_count": 235,
     "metadata": {},
     "output_type": "execute_result"
    }
   ],
   "source": [
    "Kw = K - K @ J - J @ K + J @ K @ J\n",
    "val, vec = np.linalg.eig(Kw)\n",
    "val"
   ],
   "metadata": {
    "collapsed": false
   }
  },
  {
   "cell_type": "code",
   "execution_count": 236,
   "outputs": [
    {
     "data": {
      "text/plain": "array([ 5.66842976e-01,  3.41944199e-01,  2.30561980e-02,  1.77415679e-02,\n        1.36876133e-02,  1.09946943e-02,  9.26739308e-03,  4.95618352e-03,\n        3.94488656e-03, -1.15733453e-17,  4.17365353e-04,  7.41374444e-04,\n        1.52337627e-03,  2.52277060e-03,  2.35940196e-03])"
     },
     "execution_count": 236,
     "metadata": {},
     "output_type": "execute_result"
    }
   ],
   "source": [
    "r2 = val / sum(val)\n",
    "r2"
   ],
   "metadata": {
    "collapsed": false
   }
  },
  {
   "cell_type": "code",
   "execution_count": 237,
   "outputs": [
    {
     "data": {
      "text/plain": "array([-1, -1, -1,  1, -1,  1, -1, -1, -1, -1,  1,  1,  1,  1,  1])"
     },
     "execution_count": 237,
     "metadata": {},
     "output_type": "execute_result"
    }
   ],
   "source": [
    "n2 = 2\n",
    "m1 = vec.max(axis=0)\n",
    "m2 = vec.min(axis=0)\n",
    "sgn = (-1) * (abs(m2) > m1) + (abs(m2) <= m1)\n",
    "sgn"
   ],
   "metadata": {
    "collapsed": false
   }
  },
  {
   "cell_type": "code",
   "execution_count": 238,
   "outputs": [
    {
     "data": {
      "text/plain": "array([[-7.86171899e-02, -2.95649630e-02,  7.16338594e-02,\n         1.96667684e-01, -7.61127500e-02,  5.30998266e-02,\n         8.27737785e-01, -3.69512486e-01,  1.02387697e-01,\n         2.58198890e-01, -1.16070906e-02, -2.51652194e-02,\n         5.79255721e-02, -1.87444331e-01,  4.92436079e-02],\n       [-6.77314390e-02,  2.87538870e-02,  3.67084620e-01,\n         6.67450772e-01,  5.10813553e-01,  1.50195132e-01,\n        -2.41390841e-01,  1.63877102e-02,  1.21432890e-02,\n         2.58198890e-01, -1.25378606e-02, -1.79913253e-02,\n         2.12176507e-02, -9.03977643e-03,  6.70069998e-02],\n       [-9.43942768e-02, -5.76741791e-02, -4.87828549e-02,\n         1.99578602e-02, -5.22612576e-02, -1.92732205e-01,\n         1.43436130e-03,  3.31090468e-02, -3.12324052e-01,\n         2.58198890e-01, -4.19215252e-01,  7.72201174e-01,\n         3.22524706e-02,  8.03116677e-02,  1.64581858e-02],\n       [-8.53534273e-02, -4.58599116e-02, -3.79497110e-02,\n         4.30092863e-02, -1.07292066e-01, -2.99708490e-01,\n        -7.67148946e-02, -2.79048808e-02, -3.93062498e-01,\n         2.58198890e-01, -2.16752423e-02, -3.82792894e-01,\n         6.48432027e-01,  6.54113580e-02, -2.93961407e-01],\n       [-1.18764949e-01, -1.24821359e-01, -3.76219507e-01,\n        -3.99605110e-01,  5.95993462e-01,  4.14376458e-01,\n         8.10059649e-02,  2.93811879e-02,  2.76482469e-02,\n         2.58198890e-01, -2.26976398e-02,  1.69558972e-02,\n         9.38268600e-02,  1.75762573e-02, -2.39586507e-01],\n       [-7.85094431e-02, -3.57514498e-02, -8.37706815e-03,\n         6.71556571e-02, -9.73152526e-02, -9.48692967e-02,\n         1.09883079e-01,  1.26139170e-01,  2.78552522e-02,\n         2.58198890e-01, -3.20537740e-01, -3.29182607e-01,\n        -5.30091263e-01,  5.54364374e-01, -2.73235067e-01],\n       [-7.92808683e-02, -2.08859527e-02,  7.80428537e-01,\n        -5.34701995e-01, -7.57492476e-02,  1.36189865e-01,\n        -6.81785608e-02, -3.69613370e-02, -1.00389129e-02,\n         2.58198890e-01, -1.11981177e-02, -1.14010111e-02,\n         2.42762558e-03, -2.87199076e-02,  1.22375153e-02],\n       [ 9.25086469e-01, -2.78107181e-01, -7.98780304e-04,\n        -2.30501051e-03,  8.88130103e-03,  5.98057461e-03,\n        -6.77359761e-04,  1.10390655e-03, -5.92571976e-03,\n         2.58198890e-01, -3.99643192e-03,  3.25020374e-03,\n         3.23315428e-03,  1.45575368e-04,  3.21811113e-03],\n       [-8.72648758e-02, -7.01855587e-02, -1.17482830e-01,\n        -7.68058612e-02,  5.62201054e-03, -3.78698873e-01,\n        -3.00412292e-01, -3.90440864e-01,  7.02329632e-01,\n         2.58198890e-01, -6.63891160e-02,  5.50768845e-02,\n         1.13628846e-01,  3.16426235e-02,  1.82781272e-02],\n       [-7.94034093e-02, -3.74850770e-02, -3.30394972e-02,\n         7.37185056e-02, -1.94080060e-01, -4.27431906e-02,\n         4.19815466e-02,  6.85707234e-01,  2.96149003e-01,\n         2.58198890e-01, -7.71859255e-02, -1.90780294e-02,\n        -9.68044642e-03, -5.25056380e-01, -1.94531694e-01],\n       [-7.81819924e-02, -3.61945282e-02, -9.68997283e-03,\n         5.29180072e-02, -9.25947548e-02, -9.21746324e-02,\n         5.84384611e-02,  1.36003421e-01,  3.60809528e-03,\n         2.58198890e-01,  8.26786753e-01,  2.89121523e-01,\n        -6.29524860e-02,  3.00368600e-01, -1.50564932e-01],\n       [ 2.07912262e-01,  9.33236789e-01, -9.58102386e-02,\n        -8.70720289e-02,  2.84139677e-02, -1.50768680e-02,\n        -3.77635264e-03, -1.37810150e-02, -1.64292102e-02,\n         2.58198890e-01, -1.51089764e-03, -1.44627261e-03,\n        -1.33683503e-02, -2.01848686e-02,  1.77342166e-02],\n       [-1.04765679e-01, -1.11360352e-01, -1.50756725e-01,\n        -9.34446421e-02,  1.05779337e-01, -2.94129652e-01,\n        -1.70302824e-01, -2.33781256e-01, -3.90336066e-01,\n         2.58198890e-01,  1.61010594e-01, -1.74505887e-01,\n        -4.95607484e-01, -4.70046160e-01,  1.47748057e-01],\n       [-9.84062703e-02, -7.63978983e-02, -1.49621034e-01,\n        -8.66818383e-02, -2.17720067e-02,  1.17413806e-02,\n         5.67897771e-02,  2.92648907e-01,  1.06372031e-03,\n         2.58198890e-01, -5.01739832e-03, -1.73153339e-01,\n         1.48350152e-01,  2.35273636e-01,  8.31301707e-01],\n       [-8.23249115e-02, -3.77022653e-02, -1.90618798e-01,\n         1.59738715e-01, -5.38326237e-01,  6.38549971e-01,\n        -3.15817851e-01, -2.48098746e-01, -4.50684754e-02,\n         2.58198890e-01, -1.42286356e-02, -1.88909730e-03,\n        -9.59432895e-03, -4.46026680e-02, -1.13469211e-02]])"
     },
     "execution_count": 238,
     "metadata": {},
     "output_type": "execute_result"
    }
   ],
   "source": [
    "vec = vec * sgn\n",
    "vec"
   ],
   "metadata": {
    "collapsed": false
   }
  },
  {
   "cell_type": "code",
   "execution_count": 239,
   "outputs": [
    {
     "data": {
      "text/plain": "array([ 7, 11,  1,  6,  0, 10,  5,  9, 14,  3,  8,  2, 13, 12,  4],\n      dtype=int64)"
     },
     "execution_count": 239,
     "metadata": {},
     "output_type": "execute_result"
    }
   ],
   "source": [
    "df2 = Kw @ (vec[:, :n2])\n",
    "g2 = df2 @ r2[: n2]\n",
    "ind2 = np.argsort(-g2)\n",
    "ind2"
   ],
   "metadata": {
    "collapsed": false
   }
  },
  {
   "cell_type": "code",
   "execution_count": 240,
   "outputs": [
    {
     "data": {
      "text/plain": "array([ 5.,  3., 12., 10., 15.,  7.,  4.,  1., 11.,  8.,  6.,  2., 14.,\n       13.,  9.])"
     },
     "execution_count": 240,
     "metadata": {},
     "output_type": "execute_result"
    }
   ],
   "source": [
    "ind22 = np.zeros(15)\n",
    "ind22[ind2] = np.arange(1, 16)\n",
    "ind22"
   ],
   "metadata": {
    "collapsed": false
   }
  },
  {
   "cell_type": "code",
   "execution_count": 241,
   "outputs": [
    {
     "data": {
      "text/plain": "array([0.85358984, 1.54641016, 0.6       ])"
     },
     "execution_count": 241,
     "metadata": {},
     "output_type": "execute_result"
    }
   ],
   "source": [
    "r = np.array([\n",
    "    [1, 1 / 5, -1 / 5],\n",
    "    [1 / 5, 1, -2 / 5],\n",
    "    [-1 / 5, -2 / 5, 1]\n",
    "])\n",
    "\n",
    "val, vec = np.linalg.eig(r)  #求相关系数阵的特征值和特征向量\n",
    "val"
   ],
   "metadata": {
    "collapsed": false
   }
  },
  {
   "cell_type": "code",
   "execution_count": 242,
   "outputs": [
    {
     "data": {
      "text/plain": "array([[-8.88073834e-01,  4.59700843e-01,  2.70980663e-17],\n       [ 3.25057584e-01,  6.27963030e-01,  7.07106781e-01],\n       [-3.25057584e-01, -6.27963030e-01,  7.07106781e-01]])"
     },
     "execution_count": 242,
     "metadata": {},
     "output_type": "execute_result"
    }
   ],
   "source": [
    "vec"
   ],
   "metadata": {
    "collapsed": false
   }
  },
  {
   "cell_type": "code",
   "execution_count": 243,
   "outputs": [
    {
     "data": {
      "text/plain": "array([[-8.20490756e-01,  5.71659793e-01,  2.09900719e-17],\n       [ 3.00320460e-01,  7.80901800e-01,  5.47722558e-01],\n       [-3.00320460e-01, -7.80901800e-01,  5.47722558e-01]])"
     },
     "execution_count": 243,
     "metadata": {},
     "output_type": "execute_result"
    }
   ],
   "source": [
    "A0 = vec * np.sqrt(val)  #载荷矩阵\n",
    "A0"
   ],
   "metadata": {
    "collapsed": false
   }
  },
  {
   "cell_type": "code",
   "execution_count": 244,
   "outputs": [
    {
     "data": {
      "text/plain": "array([[-0.82049076,  0.57165979],\n       [ 0.30032046,  0.7809018 ],\n       [-0.30032046, -0.7809018 ]])"
     },
     "execution_count": 244,
     "metadata": {},
     "output_type": "execute_result"
    }
   ],
   "source": [
    "num = 2\n",
    "A = A0[:, :num]\n",
    "A"
   ],
   "metadata": {
    "collapsed": false
   }
  },
  {
   "cell_type": "code",
   "execution_count": 245,
   "outputs": [
    {
     "data": {
      "text/plain": "array([0.85358984, 1.54641016])"
     },
     "execution_count": 245,
     "metadata": {},
     "output_type": "execute_result"
    }
   ],
   "source": [
    "Ac = np.sum(A ** 2, axis=0)  #逐列元素求和，求信息贡献\n",
    "Ac"
   ],
   "metadata": {
    "collapsed": false
   }
  },
  {
   "cell_type": "code",
   "execution_count": 246,
   "outputs": [
    {
     "data": {
      "text/plain": "array([1. , 0.7, 0.7])"
     },
     "execution_count": 246,
     "metadata": {},
     "output_type": "execute_result"
    }
   ],
   "source": [
    "Ar = np.sum(A ** 2, axis=1)  #逐行元素求和，求共同度\n",
    "Ar"
   ],
   "metadata": {
    "collapsed": false
   }
  },
  {
   "cell_type": "code",
   "execution_count": 247,
   "outputs": [
    {
     "data": {
      "text/plain": "array([[ 1.22755729e+00,  1.87376856e+00,  1.01425549e+00,\n         1.47323078e+00,  1.08772685e+00,  4.92033268e-01],\n       [ 5.07954742e-01,  1.48164755e+00,  1.18004726e+00,\n         1.01140950e+00, -7.73789428e-02,  9.75319278e-01],\n       [ 9.39716272e-01,  1.22792219e+00,  1.05947143e+00,\n         4.43014078e-01,  2.98461636e-01,  6.77912503e-01],\n       [-1.15700802e-01,  1.08952654e+00,  9.38895601e-01,\n         2.65390509e-01,  1.27564714e+00,  8.26615891e-01],\n       [ 1.51539831e+00,  1.04339466e+00,  1.95049133e-02,\n         4.78538792e-01,  1.12531091e+00,  6.03560809e-01],\n       [ 6.99848755e-01,  2.36086697e-01,  1.05947143e+00,\n         8.33785929e-01,  3.73629752e-01, -6.56044358e-02],\n       [ 7.95795762e-01, -8.68364863e-02,  2.00368655e-01,\n         7.62736502e-01,  9.74974679e-01,  1.01249513e+00],\n       [ 3.64034231e-01, -3.63627786e-01,  1.04439945e+00,\n        -8.35875618e-01, -2.21082694e-03,  1.08684682e+00],\n       [ 3.16060728e-01, -1.56034311e-01, -1.16142893e-01,\n         1.47323078e+00,  1.85709463e-01, -1.02780283e-01],\n       [-2.59621312e-01, -5.02023436e-01, -4.07830006e-02,\n        -5.16153194e-01,  4.11213810e-01,  7.15088350e-01],\n       [-4.03541822e-01, -1.03254009e+00,  5.47024160e-01,\n        -4.09579053e-01, -4.15635464e-01, -2.84285888e-02],\n       [-4.99488829e-01, -1.32968370e-01, -4.17582463e-01,\n        -8.71400332e-01, -4.53219522e-01, -6.23242140e-01],\n       [ 7.61932112e-02, -5.02023436e-01, -1.09582149e+00,\n        -1.36874633e+00,  4.86381926e-01, -5.48890446e-01],\n       [-9.31250359e-01, -8.24946620e-01, -1.23146930e+00,\n         4.43014078e-01, -1.80624561e+00,  3.06154034e-01],\n       [-4.03541822e-01, -6.86550970e-01, -1.68362866e+00,\n        -2.31955484e-01, -4.15635464e-01, -1.32958323e+00],\n       [-1.26706488e+00, -1.33239734e+00, -9.14957753e-01,\n        -9.77974474e-01, -5.65971696e-01, -2.11027602e+00],\n       [-2.56234947e+00, -1.33239734e+00, -1.56305283e+00,\n        -1.97266646e+00, -2.48275865e+00, -1.88722094e+00]])"
     },
     "execution_count": 247,
     "metadata": {},
     "output_type": "execute_result"
    }
   ],
   "source": [
    "c = np.loadtxt(\"data12_5_1.txt\")\n",
    "d = zscore(c, ddof=1)\n",
    "d"
   ],
   "metadata": {
    "collapsed": false
   }
  },
  {
   "cell_type": "code",
   "execution_count": 248,
   "outputs": [
    {
     "data": {
      "text/plain": "array([[1.        , 0.76868484, 0.68193448, 0.71187315, 0.84264892,\n        0.72092259],\n       [0.76868484, 1.        , 0.71243838, 0.68790154, 0.66910603,\n        0.6414101 ],\n       [0.68193448, 0.71243838, 1.        , 0.5557287 , 0.61561746,\n        0.74972839],\n       [0.71187315, 0.68790154, 0.5557287 , 1.        , 0.51866661,\n        0.58407218],\n       [0.84264892, 0.66910603, 0.61561746, 0.51866661, 1.        ,\n        0.59610918],\n       [0.72092259, 0.6414101 , 0.74972839, 0.58407218, 0.59610918,\n        1.        ]])"
     },
     "execution_count": 248,
     "metadata": {},
     "output_type": "execute_result"
    }
   ],
   "source": [
    "r = np.corrcoef(d.T)\n",
    "r"
   ],
   "metadata": {
    "collapsed": false
   }
  },
  {
   "cell_type": "code",
   "execution_count": 249,
   "outputs": [
    {
     "data": {
      "text/plain": "array([4.36267608, 0.10617001, 0.20667295, 0.31555211, 0.49935661,\n       0.50957223])"
     },
     "execution_count": 249,
     "metadata": {},
     "output_type": "execute_result"
    }
   ],
   "source": [
    "val, vec = np.linalg.eig(r)\n",
    "val"
   ],
   "metadata": {
    "collapsed": false
   }
  },
  {
   "cell_type": "code",
   "execution_count": 250,
   "outputs": [
    {
     "data": {
      "text/plain": "array([[-0.44399125, -0.80139887,  0.0381006 , -0.21107537,  0.30700032,\n        -0.1427514 ],\n       [-0.42031556,  0.08839598,  0.57410301,  0.67057753, -0.06970742,\n        -0.17718173],\n       [-0.40405356, -0.09993591, -0.59375312,  0.37315815, -0.27926047,\n         0.50692933],\n       [-0.37797382,  0.21495581, -0.31370398, -0.22428584, -0.42380862,\n        -0.69469542],\n       [-0.39837836,  0.50869063, -0.18193709, -0.07610277,  0.73664425,\n         0.03148081],\n       [-0.40171856,  0.18704721,  0.43000003, -0.55716262, -0.31724876,\n         0.45569569]])"
     },
     "execution_count": 250,
     "metadata": {},
     "output_type": "execute_result"
    }
   ],
   "source": [
    "vec"
   ],
   "metadata": {
    "collapsed": false
   }
  },
  {
   "cell_type": "code",
   "execution_count": 251,
   "outputs": [
    {
     "data": {
      "text/plain": "array([4.36267608, 4.46884609, 4.67551904, 4.99107115, 5.49042777,\n       6.        ])"
     },
     "execution_count": 251,
     "metadata": {},
     "output_type": "execute_result"
    }
   ],
   "source": [
    "cs = np.cumsum(val)\n",
    "cs"
   ],
   "metadata": {
    "collapsed": false
   }
  },
  {
   "cell_type": "code",
   "execution_count": 252,
   "outputs": [
    {
     "data": {
      "text/plain": "array([0.72711268, 0.017695  , 0.03444549, 0.05259202, 0.0832261 ,\n       0.08492871])"
     },
     "execution_count": 252,
     "metadata": {},
     "output_type": "execute_result"
    }
   ],
   "source": [
    "rate = val / cs[-1]\n",
    "rate"
   ],
   "metadata": {
    "collapsed": false
   }
  },
  {
   "cell_type": "code",
   "execution_count": 253,
   "outputs": [
    {
     "data": {
      "text/plain": "[0.7271126794515892,\n 0.08492870573277395,\n 0.08322610238668912,\n 0.05259201847435394,\n 0.03444549208346,\n 0.017695001871133816]"
     },
     "execution_count": 253,
     "metadata": {},
     "output_type": "execute_result"
    }
   ],
   "source": [
    "srate = sorted(rate, reverse=True)\n",
    "srate"
   ],
   "metadata": {
    "collapsed": false
   }
  },
  {
   "cell_type": "code",
   "execution_count": 254,
   "outputs": [],
   "source": [
    "from factor_analyzer import FactorAnalyzer as FA"
   ],
   "metadata": {
    "collapsed": false
   }
  },
  {
   "cell_type": "code",
   "execution_count": 255,
   "outputs": [
    {
     "data": {
      "text/plain": "array([[0.83867689, 0.3441876 , 0.39505553],\n       [0.52893897, 0.47290977, 0.43391481],\n       [0.33571713, 0.91174135, 0.23162577],\n       [0.31124833, 0.26406099, 0.91065183],\n       [0.76907315, 0.33557201, 0.2108937 ],\n       [0.45522506, 0.56945472, 0.32162593]])"
     },
     "execution_count": 255,
     "metadata": {},
     "output_type": "execute_result"
    }
   ],
   "source": [
    "fa = FA(n_factors=3, rotation=\"varimax\")\n",
    "fa.fit(d)\n",
    "A = fa.loadings_  # 提取载荷矩阵\n",
    "A"
   ],
   "metadata": {
    "collapsed": false
   }
  },
  {
   "cell_type": "code",
   "execution_count": 256,
   "outputs": [
    {
     "data": {
      "text/plain": "array([1.99144024, 1.67999651, 1.37520757])"
     },
     "execution_count": 256,
     "metadata": {},
     "output_type": "execute_result"
    }
   ],
   "source": [
    "gx = np.sum(A ** 2, axis=0)  #计算信息贡献\n",
    "gx"
   ],
   "metadata": {
    "collapsed": false
   }
  },
  {
   "cell_type": "code",
   "execution_count": 257,
   "outputs": [
    {
     "data": {
      "text/plain": "array([0.02208709, 0.30829785, 0.00237122, 0.00410953, 0.25144177,\n       0.36504823])"
     },
     "execution_count": 257,
     "metadata": {},
     "output_type": "execute_result"
    }
   ],
   "source": [
    "s2 = 1 - np.sum(A ** 2, axis=1)\n",
    "s2"
   ],
   "metadata": {
    "collapsed": false
   }
  },
  {
   "cell_type": "code",
   "execution_count": 258,
   "outputs": [
    {
     "data": {
      "text/plain": "array([[0.02208709, 0.        , 0.        , 0.        , 0.        ,\n        0.        ],\n       [0.        , 0.30829785, 0.        , 0.        , 0.        ,\n        0.        ],\n       [0.        , 0.        , 0.00237122, 0.        , 0.        ,\n        0.        ],\n       [0.        , 0.        , 0.        , 0.00410953, 0.        ,\n        0.        ],\n       [0.        , 0.        , 0.        , 0.        , 0.25144177,\n        0.        ],\n       [0.        , 0.        , 0.        , 0.        , 0.        ,\n        0.36504823]])"
     },
     "execution_count": 258,
     "metadata": {},
     "output_type": "execute_result"
    }
   ],
   "source": [
    "np.diag(s2)"
   ],
   "metadata": {
    "collapsed": false
   }
  },
  {
   "cell_type": "code",
   "execution_count": 259,
   "outputs": [
    {
     "data": {
      "text/plain": "array([[ 45.27531285,   0.        ,   0.        ,   0.        ,\n          0.        ,   0.        ],\n       [  0.        ,   3.24361656,   0.        ,   0.        ,\n          0.        ,   0.        ],\n       [  0.        ,   0.        , 421.72392031,   0.        ,\n          0.        ,   0.        ],\n       [  0.        ,   0.        ,   0.        , 243.33709316,\n          0.        ,   0.        ],\n       [  0.        ,   0.        ,   0.        ,   0.        ,\n          3.97706398,   0.        ],\n       [  0.        ,   0.        ,   0.        ,   0.        ,\n          0.        ,   2.73936409]])"
     },
     "execution_count": 259,
     "metadata": {},
     "output_type": "execute_result"
    }
   ],
   "source": [
    "ss = np.linalg.inv(np.diag(s2))\n",
    "ss"
   ],
   "metadata": {
    "collapsed": false
   }
  },
  {
   "cell_type": "code",
   "execution_count": 265,
   "outputs": [
    {
     "data": {
      "text/plain": "array([[ 1.43189202, -0.43811497, -0.36071025],\n       [ 0.04189832, -0.01102147, -0.00795296],\n       [-0.46094053,  1.32188303, -0.22704375],\n       [-0.56143968, -0.13099817,  1.32648447],\n       [ 0.12336331, -0.03604826, -0.0352287 ],\n       [ 0.02539619, -0.00442743, -0.0062039 ]])"
     },
     "execution_count": 265,
     "metadata": {},
     "output_type": "execute_result"
    }
   ],
   "source": [
    "f = ss @ A @ np.linalg.inv(A.T @ ss @ A)\n",
    "f"
   ],
   "metadata": {
    "collapsed": false
   }
  },
  {
   "cell_type": "code",
   "execution_count": 263,
   "outputs": [
    {
     "data": {
      "text/plain": "array([[ 0.68827692,  0.54788456,  1.22487117],\n       [-0.30713848,  1.18699035,  0.87536387],\n       [ 0.71397671,  0.90346555, -0.01634608],\n       [-0.52343658,  1.19538191,  0.12186789],\n       [ 2.09009218, -0.75556065,  0.03204037],\n       [ 0.09995176,  0.96887838,  0.59838204],\n       [ 0.76125634, -0.22237503,  0.63927609],\n       [ 0.52123905,  1.32985872, -1.48098416],\n       [-0.30726848, -0.48950852,  1.8619172 ],\n       [-0.01530699,  0.11499225, -0.5966919 ],\n       [-0.69527783,  0.98004269, -0.49890659],\n       [-0.11080445, -0.19844714, -0.86002843],\n       [ 1.4077055 , -1.31219597, -1.60404178],\n       [-1.26415469, -1.20504901,  1.27145335],\n       [ 0.21464754, -1.98994032,  0.24848469],\n       [-1.02272362, -0.48180379, -0.58886235],\n       [-2.25103488, -0.57261399, -1.22779537]])"
     },
     "execution_count": 263,
     "metadata": {},
     "output_type": "execute_result"
    }
   ],
   "source": [
    "df = d @ f\n",
    "df"
   ],
   "metadata": {
    "collapsed": false
   }
  },
  {
   "cell_type": "code",
   "execution_count": null,
   "outputs": [],
   "source": [
    "pj = df @ gx / sum(gx)\n",
    "pj"
   ],
   "metadata": {
    "collapsed": false
   }
  },
  {
   "cell_type": "code",
   "execution_count": null,
   "outputs": [],
   "source": [
    "ind0 = np.argsort(-pj)  #从大到小的排名地址\n",
    "ind = np.zeros(17)\n",
    "ind[ind0] = np.arange(1, 18)\n",
    "ind"
   ],
   "metadata": {
    "collapsed": false
   }
  },
  {
   "cell_type": "code",
   "execution_count": null,
   "outputs": [],
   "source": [],
   "metadata": {
    "collapsed": false
   }
  }
 ],
 "metadata": {
  "kernelspec": {
   "display_name": "Python 3",
   "language": "python",
   "name": "python3"
  },
  "language_info": {
   "codemirror_mode": {
    "name": "ipython",
    "version": 2
   },
   "file_extension": ".py",
   "mimetype": "text/x-python",
   "name": "python",
   "nbconvert_exporter": "python",
   "pygments_lexer": "ipython2",
   "version": "2.7.6"
  }
 },
 "nbformat": 4,
 "nbformat_minor": 0
}
