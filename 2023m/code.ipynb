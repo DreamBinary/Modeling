{
 "cells": [
  {
   "cell_type": "code",
   "execution_count": 6,
   "metadata": {
    "collapsed": true
   },
   "outputs": [],
   "source": [
    "import plotly.graph_objs as go\n",
    "import plotly.express as px\n",
    "import plotly.io as pio\n",
    "import numpy as np\n",
    "import pandas as pd\n",
    "\n",
    "pio.templates.default = \"plotly_white\""
   ]
  },
  {
   "cell_type": "code",
   "execution_count": 7,
   "outputs": [
    {
     "data": {
      "text/plain": "         T1     T2     T3     T4     T5     T6     T7   Dfam   Nind   Nvow\nT1    1.000  0.538  0.361 -0.335 -0.419 -0.220 -0.113  0.201  0.264  0.064\nT2    0.538  1.000  0.841 -0.111 -0.842 -0.671 -0.494  0.304  0.462  0.111\nT3    0.361  0.841  1.000  0.271 -0.905 -0.911 -0.754  0.258  0.410  0.014\nT4   -0.335 -0.111  0.271  1.000 -0.055 -0.517 -0.623  0.015  0.059 -0.117\nT5   -0.419 -0.842 -0.905 -0.055  1.000  0.776  0.550 -0.247 -0.391  0.024\nT6   -0.220 -0.671 -0.911 -0.517  0.776  1.000  0.906 -0.229 -0.328  0.003\nT7   -0.113 -0.494 -0.754 -0.623  0.550  0.906  1.000 -0.241 -0.237 -0.019\nDfam  0.201  0.304  0.258  0.015 -0.247 -0.229 -0.241  1.000  0.059  0.063\nNind  0.264  0.462  0.410  0.059 -0.391 -0.328 -0.237  0.059  1.000 -0.054\nNvow  0.064  0.111  0.014 -0.117  0.024  0.003 -0.019  0.063 -0.054  1.000",
      "text/html": "<div>\n<style scoped>\n    .dataframe tbody tr th:only-of-type {\n        vertical-align: middle;\n    }\n\n    .dataframe tbody tr th {\n        vertical-align: top;\n    }\n\n    .dataframe thead th {\n        text-align: right;\n    }\n</style>\n<table border=\"1\" class=\"dataframe\">\n  <thead>\n    <tr style=\"text-align: right;\">\n      <th></th>\n      <th>T1</th>\n      <th>T2</th>\n      <th>T3</th>\n      <th>T4</th>\n      <th>T5</th>\n      <th>T6</th>\n      <th>T7</th>\n      <th>Dfam</th>\n      <th>Nind</th>\n      <th>Nvow</th>\n    </tr>\n  </thead>\n  <tbody>\n    <tr>\n      <th>T1</th>\n      <td>1.000</td>\n      <td>0.538</td>\n      <td>0.361</td>\n      <td>-0.335</td>\n      <td>-0.419</td>\n      <td>-0.220</td>\n      <td>-0.113</td>\n      <td>0.201</td>\n      <td>0.264</td>\n      <td>0.064</td>\n    </tr>\n    <tr>\n      <th>T2</th>\n      <td>0.538</td>\n      <td>1.000</td>\n      <td>0.841</td>\n      <td>-0.111</td>\n      <td>-0.842</td>\n      <td>-0.671</td>\n      <td>-0.494</td>\n      <td>0.304</td>\n      <td>0.462</td>\n      <td>0.111</td>\n    </tr>\n    <tr>\n      <th>T3</th>\n      <td>0.361</td>\n      <td>0.841</td>\n      <td>1.000</td>\n      <td>0.271</td>\n      <td>-0.905</td>\n      <td>-0.911</td>\n      <td>-0.754</td>\n      <td>0.258</td>\n      <td>0.410</td>\n      <td>0.014</td>\n    </tr>\n    <tr>\n      <th>T4</th>\n      <td>-0.335</td>\n      <td>-0.111</td>\n      <td>0.271</td>\n      <td>1.000</td>\n      <td>-0.055</td>\n      <td>-0.517</td>\n      <td>-0.623</td>\n      <td>0.015</td>\n      <td>0.059</td>\n      <td>-0.117</td>\n    </tr>\n    <tr>\n      <th>T5</th>\n      <td>-0.419</td>\n      <td>-0.842</td>\n      <td>-0.905</td>\n      <td>-0.055</td>\n      <td>1.000</td>\n      <td>0.776</td>\n      <td>0.550</td>\n      <td>-0.247</td>\n      <td>-0.391</td>\n      <td>0.024</td>\n    </tr>\n    <tr>\n      <th>T6</th>\n      <td>-0.220</td>\n      <td>-0.671</td>\n      <td>-0.911</td>\n      <td>-0.517</td>\n      <td>0.776</td>\n      <td>1.000</td>\n      <td>0.906</td>\n      <td>-0.229</td>\n      <td>-0.328</td>\n      <td>0.003</td>\n    </tr>\n    <tr>\n      <th>T7</th>\n      <td>-0.113</td>\n      <td>-0.494</td>\n      <td>-0.754</td>\n      <td>-0.623</td>\n      <td>0.550</td>\n      <td>0.906</td>\n      <td>1.000</td>\n      <td>-0.241</td>\n      <td>-0.237</td>\n      <td>-0.019</td>\n    </tr>\n    <tr>\n      <th>Dfam</th>\n      <td>0.201</td>\n      <td>0.304</td>\n      <td>0.258</td>\n      <td>0.015</td>\n      <td>-0.247</td>\n      <td>-0.229</td>\n      <td>-0.241</td>\n      <td>1.000</td>\n      <td>0.059</td>\n      <td>0.063</td>\n    </tr>\n    <tr>\n      <th>Nind</th>\n      <td>0.264</td>\n      <td>0.462</td>\n      <td>0.410</td>\n      <td>0.059</td>\n      <td>-0.391</td>\n      <td>-0.328</td>\n      <td>-0.237</td>\n      <td>0.059</td>\n      <td>1.000</td>\n      <td>-0.054</td>\n    </tr>\n    <tr>\n      <th>Nvow</th>\n      <td>0.064</td>\n      <td>0.111</td>\n      <td>0.014</td>\n      <td>-0.117</td>\n      <td>0.024</td>\n      <td>0.003</td>\n      <td>-0.019</td>\n      <td>0.063</td>\n      <td>-0.054</td>\n      <td>1.000</td>\n    </tr>\n  </tbody>\n</table>\n</div>"
     },
     "execution_count": 7,
     "metadata": {},
     "output_type": "execute_result"
    }
   ],
   "source": [
    "df = pd.read_excel(\"heatmap.xlsx\", index_col=0)\n",
    "df"
   ],
   "metadata": {
    "collapsed": false
   }
  },
  {
   "cell_type": "code",
   "execution_count": 55,
   "outputs": [
    {
     "data": {
      "application/vnd.plotly.v1+json": {
       "data": [
        {
         "coloraxis": "coloraxis",
         "name": "0",
         "texttemplate": "%{z:.2f}",
         "x": [
          "T1",
          "T2",
          "T3",
          "T4",
          "T5",
          "T6",
          "T7",
          "Dfam",
          "Nind",
          "Nvow"
         ],
         "y": [
          "T1",
          "T2",
          "T3",
          "T4",
          "T5",
          "T6",
          "T7",
          "Dfam",
          "Nind",
          "Nvow"
         ],
         "z": [
          [
           1.0,
           0.538,
           0.361,
           -0.335,
           -0.419,
           -0.22,
           -0.113,
           0.201,
           0.264,
           0.064
          ],
          [
           0.538,
           1.0,
           0.841,
           -0.111,
           -0.842,
           -0.671,
           -0.494,
           0.304,
           0.462,
           0.111
          ],
          [
           0.361,
           0.841,
           1.0,
           0.271,
           -0.905,
           -0.911,
           -0.754,
           0.258,
           0.41,
           0.014
          ],
          [
           -0.335,
           -0.111,
           0.271,
           1.0,
           -0.055,
           -0.517,
           -0.623,
           0.015,
           0.059,
           -0.117
          ],
          [
           -0.419,
           -0.842,
           -0.905,
           -0.055,
           1.0,
           0.776,
           0.55,
           -0.247,
           -0.391,
           0.024
          ],
          [
           -0.22,
           -0.671,
           -0.911,
           -0.517,
           0.776,
           1.0,
           0.906,
           -0.229,
           -0.328,
           0.003
          ],
          [
           -0.113,
           -0.494,
           -0.754,
           -0.623,
           0.55,
           0.906,
           1.0,
           -0.241,
           -0.237,
           -0.019
          ],
          [
           0.201,
           0.304,
           0.258,
           0.015,
           -0.247,
           -0.229,
           -0.241,
           1.0,
           0.059,
           0.063
          ],
          [
           0.264,
           0.462,
           0.41,
           0.059,
           -0.391,
           -0.328,
           -0.237,
           0.059,
           1.0,
           -0.054
          ],
          [
           0.064,
           0.111,
           0.014,
           -0.117,
           0.024,
           0.003,
           -0.019,
           0.063,
           -0.054,
           1.0
          ]
         ],
         "type": "heatmap",
         "xaxis": "x",
         "yaxis": "y",
         "hovertemplate": "x: %{x}<br>y: %{y}<br>color: %{z}<extra></extra>"
        }
       ],
       "layout": {
        "template": {
         "data": {
          "histogram2dcontour": [
           {
            "type": "histogram2dcontour",
            "colorbar": {
             "outlinewidth": 0,
             "ticks": ""
            },
            "colorscale": [
             [
              0.0,
              "#0d0887"
             ],
             [
              0.1111111111111111,
              "#46039f"
             ],
             [
              0.2222222222222222,
              "#7201a8"
             ],
             [
              0.3333333333333333,
              "#9c179e"
             ],
             [
              0.4444444444444444,
              "#bd3786"
             ],
             [
              0.5555555555555556,
              "#d8576b"
             ],
             [
              0.6666666666666666,
              "#ed7953"
             ],
             [
              0.7777777777777778,
              "#fb9f3a"
             ],
             [
              0.8888888888888888,
              "#fdca26"
             ],
             [
              1.0,
              "#f0f921"
             ]
            ]
           }
          ],
          "choropleth": [
           {
            "type": "choropleth",
            "colorbar": {
             "outlinewidth": 0,
             "ticks": ""
            }
           }
          ],
          "histogram2d": [
           {
            "type": "histogram2d",
            "colorbar": {
             "outlinewidth": 0,
             "ticks": ""
            },
            "colorscale": [
             [
              0.0,
              "#0d0887"
             ],
             [
              0.1111111111111111,
              "#46039f"
             ],
             [
              0.2222222222222222,
              "#7201a8"
             ],
             [
              0.3333333333333333,
              "#9c179e"
             ],
             [
              0.4444444444444444,
              "#bd3786"
             ],
             [
              0.5555555555555556,
              "#d8576b"
             ],
             [
              0.6666666666666666,
              "#ed7953"
             ],
             [
              0.7777777777777778,
              "#fb9f3a"
             ],
             [
              0.8888888888888888,
              "#fdca26"
             ],
             [
              1.0,
              "#f0f921"
             ]
            ]
           }
          ],
          "heatmap": [
           {
            "type": "heatmap",
            "colorbar": {
             "outlinewidth": 0,
             "ticks": ""
            },
            "colorscale": [
             [
              0.0,
              "#0d0887"
             ],
             [
              0.1111111111111111,
              "#46039f"
             ],
             [
              0.2222222222222222,
              "#7201a8"
             ],
             [
              0.3333333333333333,
              "#9c179e"
             ],
             [
              0.4444444444444444,
              "#bd3786"
             ],
             [
              0.5555555555555556,
              "#d8576b"
             ],
             [
              0.6666666666666666,
              "#ed7953"
             ],
             [
              0.7777777777777778,
              "#fb9f3a"
             ],
             [
              0.8888888888888888,
              "#fdca26"
             ],
             [
              1.0,
              "#f0f921"
             ]
            ]
           }
          ],
          "heatmapgl": [
           {
            "type": "heatmapgl",
            "colorbar": {
             "outlinewidth": 0,
             "ticks": ""
            },
            "colorscale": [
             [
              0.0,
              "#0d0887"
             ],
             [
              0.1111111111111111,
              "#46039f"
             ],
             [
              0.2222222222222222,
              "#7201a8"
             ],
             [
              0.3333333333333333,
              "#9c179e"
             ],
             [
              0.4444444444444444,
              "#bd3786"
             ],
             [
              0.5555555555555556,
              "#d8576b"
             ],
             [
              0.6666666666666666,
              "#ed7953"
             ],
             [
              0.7777777777777778,
              "#fb9f3a"
             ],
             [
              0.8888888888888888,
              "#fdca26"
             ],
             [
              1.0,
              "#f0f921"
             ]
            ]
           }
          ],
          "contourcarpet": [
           {
            "type": "contourcarpet",
            "colorbar": {
             "outlinewidth": 0,
             "ticks": ""
            }
           }
          ],
          "contour": [
           {
            "type": "contour",
            "colorbar": {
             "outlinewidth": 0,
             "ticks": ""
            },
            "colorscale": [
             [
              0.0,
              "#0d0887"
             ],
             [
              0.1111111111111111,
              "#46039f"
             ],
             [
              0.2222222222222222,
              "#7201a8"
             ],
             [
              0.3333333333333333,
              "#9c179e"
             ],
             [
              0.4444444444444444,
              "#bd3786"
             ],
             [
              0.5555555555555556,
              "#d8576b"
             ],
             [
              0.6666666666666666,
              "#ed7953"
             ],
             [
              0.7777777777777778,
              "#fb9f3a"
             ],
             [
              0.8888888888888888,
              "#fdca26"
             ],
             [
              1.0,
              "#f0f921"
             ]
            ]
           }
          ],
          "surface": [
           {
            "type": "surface",
            "colorbar": {
             "outlinewidth": 0,
             "ticks": ""
            },
            "colorscale": [
             [
              0.0,
              "#0d0887"
             ],
             [
              0.1111111111111111,
              "#46039f"
             ],
             [
              0.2222222222222222,
              "#7201a8"
             ],
             [
              0.3333333333333333,
              "#9c179e"
             ],
             [
              0.4444444444444444,
              "#bd3786"
             ],
             [
              0.5555555555555556,
              "#d8576b"
             ],
             [
              0.6666666666666666,
              "#ed7953"
             ],
             [
              0.7777777777777778,
              "#fb9f3a"
             ],
             [
              0.8888888888888888,
              "#fdca26"
             ],
             [
              1.0,
              "#f0f921"
             ]
            ]
           }
          ],
          "mesh3d": [
           {
            "type": "mesh3d",
            "colorbar": {
             "outlinewidth": 0,
             "ticks": ""
            }
           }
          ],
          "scatter": [
           {
            "fillpattern": {
             "fillmode": "overlay",
             "size": 10,
             "solidity": 0.2
            },
            "type": "scatter"
           }
          ],
          "parcoords": [
           {
            "type": "parcoords",
            "line": {
             "colorbar": {
              "outlinewidth": 0,
              "ticks": ""
             }
            }
           }
          ],
          "scatterpolargl": [
           {
            "type": "scatterpolargl",
            "marker": {
             "colorbar": {
              "outlinewidth": 0,
              "ticks": ""
             }
            }
           }
          ],
          "bar": [
           {
            "error_x": {
             "color": "#2a3f5f"
            },
            "error_y": {
             "color": "#2a3f5f"
            },
            "marker": {
             "line": {
              "color": "white",
              "width": 0.5
             },
             "pattern": {
              "fillmode": "overlay",
              "size": 10,
              "solidity": 0.2
             }
            },
            "type": "bar"
           }
          ],
          "scattergeo": [
           {
            "type": "scattergeo",
            "marker": {
             "colorbar": {
              "outlinewidth": 0,
              "ticks": ""
             }
            }
           }
          ],
          "scatterpolar": [
           {
            "type": "scatterpolar",
            "marker": {
             "colorbar": {
              "outlinewidth": 0,
              "ticks": ""
             }
            }
           }
          ],
          "histogram": [
           {
            "marker": {
             "pattern": {
              "fillmode": "overlay",
              "size": 10,
              "solidity": 0.2
             }
            },
            "type": "histogram"
           }
          ],
          "scattergl": [
           {
            "type": "scattergl",
            "marker": {
             "colorbar": {
              "outlinewidth": 0,
              "ticks": ""
             }
            }
           }
          ],
          "scatter3d": [
           {
            "type": "scatter3d",
            "line": {
             "colorbar": {
              "outlinewidth": 0,
              "ticks": ""
             }
            },
            "marker": {
             "colorbar": {
              "outlinewidth": 0,
              "ticks": ""
             }
            }
           }
          ],
          "scattermapbox": [
           {
            "type": "scattermapbox",
            "marker": {
             "colorbar": {
              "outlinewidth": 0,
              "ticks": ""
             }
            }
           }
          ],
          "scatterternary": [
           {
            "type": "scatterternary",
            "marker": {
             "colorbar": {
              "outlinewidth": 0,
              "ticks": ""
             }
            }
           }
          ],
          "scattercarpet": [
           {
            "type": "scattercarpet",
            "marker": {
             "colorbar": {
              "outlinewidth": 0,
              "ticks": ""
             }
            }
           }
          ],
          "carpet": [
           {
            "aaxis": {
             "endlinecolor": "#2a3f5f",
             "gridcolor": "#C8D4E3",
             "linecolor": "#C8D4E3",
             "minorgridcolor": "#C8D4E3",
             "startlinecolor": "#2a3f5f"
            },
            "baxis": {
             "endlinecolor": "#2a3f5f",
             "gridcolor": "#C8D4E3",
             "linecolor": "#C8D4E3",
             "minorgridcolor": "#C8D4E3",
             "startlinecolor": "#2a3f5f"
            },
            "type": "carpet"
           }
          ],
          "table": [
           {
            "cells": {
             "fill": {
              "color": "#EBF0F8"
             },
             "line": {
              "color": "white"
             }
            },
            "header": {
             "fill": {
              "color": "#C8D4E3"
             },
             "line": {
              "color": "white"
             }
            },
            "type": "table"
           }
          ],
          "barpolar": [
           {
            "marker": {
             "line": {
              "color": "white",
              "width": 0.5
             },
             "pattern": {
              "fillmode": "overlay",
              "size": 10,
              "solidity": 0.2
             }
            },
            "type": "barpolar"
           }
          ],
          "pie": [
           {
            "automargin": true,
            "type": "pie"
           }
          ]
         },
         "layout": {
          "autotypenumbers": "strict",
          "colorway": [
           "#636efa",
           "#EF553B",
           "#00cc96",
           "#ab63fa",
           "#FFA15A",
           "#19d3f3",
           "#FF6692",
           "#B6E880",
           "#FF97FF",
           "#FECB52"
          ],
          "font": {
           "color": "#2a3f5f"
          },
          "hovermode": "closest",
          "hoverlabel": {
           "align": "left"
          },
          "paper_bgcolor": "white",
          "plot_bgcolor": "white",
          "polar": {
           "bgcolor": "white",
           "angularaxis": {
            "gridcolor": "#EBF0F8",
            "linecolor": "#EBF0F8",
            "ticks": ""
           },
           "radialaxis": {
            "gridcolor": "#EBF0F8",
            "linecolor": "#EBF0F8",
            "ticks": ""
           }
          },
          "ternary": {
           "bgcolor": "white",
           "aaxis": {
            "gridcolor": "#DFE8F3",
            "linecolor": "#A2B1C6",
            "ticks": ""
           },
           "baxis": {
            "gridcolor": "#DFE8F3",
            "linecolor": "#A2B1C6",
            "ticks": ""
           },
           "caxis": {
            "gridcolor": "#DFE8F3",
            "linecolor": "#A2B1C6",
            "ticks": ""
           }
          },
          "coloraxis": {
           "colorbar": {
            "outlinewidth": 0,
            "ticks": ""
           }
          },
          "colorscale": {
           "sequential": [
            [
             0.0,
             "#0d0887"
            ],
            [
             0.1111111111111111,
             "#46039f"
            ],
            [
             0.2222222222222222,
             "#7201a8"
            ],
            [
             0.3333333333333333,
             "#9c179e"
            ],
            [
             0.4444444444444444,
             "#bd3786"
            ],
            [
             0.5555555555555556,
             "#d8576b"
            ],
            [
             0.6666666666666666,
             "#ed7953"
            ],
            [
             0.7777777777777778,
             "#fb9f3a"
            ],
            [
             0.8888888888888888,
             "#fdca26"
            ],
            [
             1.0,
             "#f0f921"
            ]
           ],
           "sequentialminus": [
            [
             0.0,
             "#0d0887"
            ],
            [
             0.1111111111111111,
             "#46039f"
            ],
            [
             0.2222222222222222,
             "#7201a8"
            ],
            [
             0.3333333333333333,
             "#9c179e"
            ],
            [
             0.4444444444444444,
             "#bd3786"
            ],
            [
             0.5555555555555556,
             "#d8576b"
            ],
            [
             0.6666666666666666,
             "#ed7953"
            ],
            [
             0.7777777777777778,
             "#fb9f3a"
            ],
            [
             0.8888888888888888,
             "#fdca26"
            ],
            [
             1.0,
             "#f0f921"
            ]
           ],
           "diverging": [
            [
             0,
             "#8e0152"
            ],
            [
             0.1,
             "#c51b7d"
            ],
            [
             0.2,
             "#de77ae"
            ],
            [
             0.3,
             "#f1b6da"
            ],
            [
             0.4,
             "#fde0ef"
            ],
            [
             0.5,
             "#f7f7f7"
            ],
            [
             0.6,
             "#e6f5d0"
            ],
            [
             0.7,
             "#b8e186"
            ],
            [
             0.8,
             "#7fbc41"
            ],
            [
             0.9,
             "#4d9221"
            ],
            [
             1,
             "#276419"
            ]
           ]
          },
          "xaxis": {
           "gridcolor": "#EBF0F8",
           "linecolor": "#EBF0F8",
           "ticks": "",
           "title": {
            "standoff": 15
           },
           "zerolinecolor": "#EBF0F8",
           "automargin": true,
           "zerolinewidth": 2
          },
          "yaxis": {
           "gridcolor": "#EBF0F8",
           "linecolor": "#EBF0F8",
           "ticks": "",
           "title": {
            "standoff": 15
           },
           "zerolinecolor": "#EBF0F8",
           "automargin": true,
           "zerolinewidth": 2
          },
          "scene": {
           "xaxis": {
            "backgroundcolor": "white",
            "gridcolor": "#DFE8F3",
            "linecolor": "#EBF0F8",
            "showbackground": true,
            "ticks": "",
            "zerolinecolor": "#EBF0F8",
            "gridwidth": 2
           },
           "yaxis": {
            "backgroundcolor": "white",
            "gridcolor": "#DFE8F3",
            "linecolor": "#EBF0F8",
            "showbackground": true,
            "ticks": "",
            "zerolinecolor": "#EBF0F8",
            "gridwidth": 2
           },
           "zaxis": {
            "backgroundcolor": "white",
            "gridcolor": "#DFE8F3",
            "linecolor": "#EBF0F8",
            "showbackground": true,
            "ticks": "",
            "zerolinecolor": "#EBF0F8",
            "gridwidth": 2
           }
          },
          "shapedefaults": {
           "line": {
            "color": "#2a3f5f"
           }
          },
          "annotationdefaults": {
           "arrowcolor": "#2a3f5f",
           "arrowhead": 0,
           "arrowwidth": 1
          },
          "geo": {
           "bgcolor": "white",
           "landcolor": "white",
           "subunitcolor": "#C8D4E3",
           "showland": true,
           "showlakes": true,
           "lakecolor": "white"
          },
          "title": {
           "x": 0.05
          },
          "mapbox": {
           "style": "light"
          }
         }
        },
        "xaxis": {
         "anchor": "y",
         "domain": [
          0.0,
          1.0
         ],
         "scaleanchor": "y",
         "constrain": "domain",
         "tickfont": {
          "size": 15
         },
         "tickvals": [
          0,
          1,
          2,
          3,
          4,
          5,
          6,
          7,
          8,
          9
         ],
         "ticktext": [
          "$P_1$",
          "$P_2$",
          "$P_3$",
          "$P_4$",
          "$P_5$",
          "$P_6$",
          "$P_7$",
          "$F^{wor}$",
          "$N^{uni}$",
          "$N^{vow}$"
         ]
        },
        "yaxis": {
         "anchor": "x",
         "domain": [
          0.0,
          1.0
         ],
         "autorange": "reversed",
         "constrain": "domain",
         "tickfont": {
          "size": 15
         },
         "tickvals": [
          0,
          1,
          2,
          3,
          4,
          5,
          6,
          7,
          8,
          9
         ],
         "ticktext": [
          "$P_1$",
          "$P_2$",
          "$P_3$",
          "$P_4$",
          "$P_5$",
          "$P_6$",
          "$P_7$",
          "$F^{wor}$",
          "$N^{uni}$",
          "$N^{vow}$"
         ]
        },
        "coloraxis": {
         "colorscale": [
          [
           0.0,
           "rgb(176, 242, 188)"
          ],
          [
           0.16666666666666666,
           "rgb(137, 232, 172)"
          ],
          [
           0.3333333333333333,
           "rgb(103, 219, 165)"
          ],
          [
           0.5,
           "rgb(76, 200, 163)"
          ],
          [
           0.6666666666666666,
           "rgb(56, 178, 163)"
          ],
          [
           0.8333333333333334,
           "rgb(44, 152, 160)"
          ],
          [
           1.0,
           "rgb(37, 125, 152)"
          ]
         ]
        },
        "margin": {
         "t": 60
        },
        "title": {
         "font": {
          "size": 20
         },
         "text": "Spearman Heatmap",
         "x": 0.48,
         "xanchor": "center",
         "xref": "container",
         "y": 0.95,
         "yanchor": "middle"
        },
        "width": 800,
        "height": 600
       },
       "config": {
        "plotlyServerURL": "https://plot.ly"
       }
      },
      "text/html": "<div>                            <div id=\"5765925b-bea6-424c-b875-7dae63dae38a\" class=\"plotly-graph-div\" style=\"height:600px; width:800px;\"></div>            <script type=\"text/javascript\">                require([\"plotly\"], function(Plotly) {                    window.PLOTLYENV=window.PLOTLYENV || {};                                    if (document.getElementById(\"5765925b-bea6-424c-b875-7dae63dae38a\")) {                    Plotly.newPlot(                        \"5765925b-bea6-424c-b875-7dae63dae38a\",                        [{\"coloraxis\":\"coloraxis\",\"name\":\"0\",\"texttemplate\":\"%{z:.2f}\",\"x\":[\"T1\",\"T2\",\"T3\",\"T4\",\"T5\",\"T6\",\"T7\",\"Dfam\",\"Nind\",\"Nvow\"],\"y\":[\"T1\",\"T2\",\"T3\",\"T4\",\"T5\",\"T6\",\"T7\",\"Dfam\",\"Nind\",\"Nvow\"],\"z\":[[1.0,0.538,0.361,-0.335,-0.419,-0.22,-0.113,0.201,0.264,0.064],[0.538,1.0,0.841,-0.111,-0.842,-0.671,-0.494,0.304,0.462,0.111],[0.361,0.841,1.0,0.271,-0.905,-0.911,-0.754,0.258,0.41,0.014],[-0.335,-0.111,0.271,1.0,-0.055,-0.517,-0.623,0.015,0.059,-0.117],[-0.419,-0.842,-0.905,-0.055,1.0,0.776,0.55,-0.247,-0.391,0.024],[-0.22,-0.671,-0.911,-0.517,0.776,1.0,0.906,-0.229,-0.328,0.003],[-0.113,-0.494,-0.754,-0.623,0.55,0.906,1.0,-0.241,-0.237,-0.019],[0.201,0.304,0.258,0.015,-0.247,-0.229,-0.241,1.0,0.059,0.063],[0.264,0.462,0.41,0.059,-0.391,-0.328,-0.237,0.059,1.0,-0.054],[0.064,0.111,0.014,-0.117,0.024,0.003,-0.019,0.063,-0.054,1.0]],\"type\":\"heatmap\",\"xaxis\":\"x\",\"yaxis\":\"y\",\"hovertemplate\":\"x: %{x}<br>y: %{y}<br>color: %{z}<extra></extra>\"}],                        {\"template\":{\"data\":{\"histogram2dcontour\":[{\"type\":\"histogram2dcontour\",\"colorbar\":{\"outlinewidth\":0,\"ticks\":\"\"},\"colorscale\":[[0.0,\"#0d0887\"],[0.1111111111111111,\"#46039f\"],[0.2222222222222222,\"#7201a8\"],[0.3333333333333333,\"#9c179e\"],[0.4444444444444444,\"#bd3786\"],[0.5555555555555556,\"#d8576b\"],[0.6666666666666666,\"#ed7953\"],[0.7777777777777778,\"#fb9f3a\"],[0.8888888888888888,\"#fdca26\"],[1.0,\"#f0f921\"]]}],\"choropleth\":[{\"type\":\"choropleth\",\"colorbar\":{\"outlinewidth\":0,\"ticks\":\"\"}}],\"histogram2d\":[{\"type\":\"histogram2d\",\"colorbar\":{\"outlinewidth\":0,\"ticks\":\"\"},\"colorscale\":[[0.0,\"#0d0887\"],[0.1111111111111111,\"#46039f\"],[0.2222222222222222,\"#7201a8\"],[0.3333333333333333,\"#9c179e\"],[0.4444444444444444,\"#bd3786\"],[0.5555555555555556,\"#d8576b\"],[0.6666666666666666,\"#ed7953\"],[0.7777777777777778,\"#fb9f3a\"],[0.8888888888888888,\"#fdca26\"],[1.0,\"#f0f921\"]]}],\"heatmap\":[{\"type\":\"heatmap\",\"colorbar\":{\"outlinewidth\":0,\"ticks\":\"\"},\"colorscale\":[[0.0,\"#0d0887\"],[0.1111111111111111,\"#46039f\"],[0.2222222222222222,\"#7201a8\"],[0.3333333333333333,\"#9c179e\"],[0.4444444444444444,\"#bd3786\"],[0.5555555555555556,\"#d8576b\"],[0.6666666666666666,\"#ed7953\"],[0.7777777777777778,\"#fb9f3a\"],[0.8888888888888888,\"#fdca26\"],[1.0,\"#f0f921\"]]}],\"heatmapgl\":[{\"type\":\"heatmapgl\",\"colorbar\":{\"outlinewidth\":0,\"ticks\":\"\"},\"colorscale\":[[0.0,\"#0d0887\"],[0.1111111111111111,\"#46039f\"],[0.2222222222222222,\"#7201a8\"],[0.3333333333333333,\"#9c179e\"],[0.4444444444444444,\"#bd3786\"],[0.5555555555555556,\"#d8576b\"],[0.6666666666666666,\"#ed7953\"],[0.7777777777777778,\"#fb9f3a\"],[0.8888888888888888,\"#fdca26\"],[1.0,\"#f0f921\"]]}],\"contourcarpet\":[{\"type\":\"contourcarpet\",\"colorbar\":{\"outlinewidth\":0,\"ticks\":\"\"}}],\"contour\":[{\"type\":\"contour\",\"colorbar\":{\"outlinewidth\":0,\"ticks\":\"\"},\"colorscale\":[[0.0,\"#0d0887\"],[0.1111111111111111,\"#46039f\"],[0.2222222222222222,\"#7201a8\"],[0.3333333333333333,\"#9c179e\"],[0.4444444444444444,\"#bd3786\"],[0.5555555555555556,\"#d8576b\"],[0.6666666666666666,\"#ed7953\"],[0.7777777777777778,\"#fb9f3a\"],[0.8888888888888888,\"#fdca26\"],[1.0,\"#f0f921\"]]}],\"surface\":[{\"type\":\"surface\",\"colorbar\":{\"outlinewidth\":0,\"ticks\":\"\"},\"colorscale\":[[0.0,\"#0d0887\"],[0.1111111111111111,\"#46039f\"],[0.2222222222222222,\"#7201a8\"],[0.3333333333333333,\"#9c179e\"],[0.4444444444444444,\"#bd3786\"],[0.5555555555555556,\"#d8576b\"],[0.6666666666666666,\"#ed7953\"],[0.7777777777777778,\"#fb9f3a\"],[0.8888888888888888,\"#fdca26\"],[1.0,\"#f0f921\"]]}],\"mesh3d\":[{\"type\":\"mesh3d\",\"colorbar\":{\"outlinewidth\":0,\"ticks\":\"\"}}],\"scatter\":[{\"fillpattern\":{\"fillmode\":\"overlay\",\"size\":10,\"solidity\":0.2},\"type\":\"scatter\"}],\"parcoords\":[{\"type\":\"parcoords\",\"line\":{\"colorbar\":{\"outlinewidth\":0,\"ticks\":\"\"}}}],\"scatterpolargl\":[{\"type\":\"scatterpolargl\",\"marker\":{\"colorbar\":{\"outlinewidth\":0,\"ticks\":\"\"}}}],\"bar\":[{\"error_x\":{\"color\":\"#2a3f5f\"},\"error_y\":{\"color\":\"#2a3f5f\"},\"marker\":{\"line\":{\"color\":\"white\",\"width\":0.5},\"pattern\":{\"fillmode\":\"overlay\",\"size\":10,\"solidity\":0.2}},\"type\":\"bar\"}],\"scattergeo\":[{\"type\":\"scattergeo\",\"marker\":{\"colorbar\":{\"outlinewidth\":0,\"ticks\":\"\"}}}],\"scatterpolar\":[{\"type\":\"scatterpolar\",\"marker\":{\"colorbar\":{\"outlinewidth\":0,\"ticks\":\"\"}}}],\"histogram\":[{\"marker\":{\"pattern\":{\"fillmode\":\"overlay\",\"size\":10,\"solidity\":0.2}},\"type\":\"histogram\"}],\"scattergl\":[{\"type\":\"scattergl\",\"marker\":{\"colorbar\":{\"outlinewidth\":0,\"ticks\":\"\"}}}],\"scatter3d\":[{\"type\":\"scatter3d\",\"line\":{\"colorbar\":{\"outlinewidth\":0,\"ticks\":\"\"}},\"marker\":{\"colorbar\":{\"outlinewidth\":0,\"ticks\":\"\"}}}],\"scattermapbox\":[{\"type\":\"scattermapbox\",\"marker\":{\"colorbar\":{\"outlinewidth\":0,\"ticks\":\"\"}}}],\"scatterternary\":[{\"type\":\"scatterternary\",\"marker\":{\"colorbar\":{\"outlinewidth\":0,\"ticks\":\"\"}}}],\"scattercarpet\":[{\"type\":\"scattercarpet\",\"marker\":{\"colorbar\":{\"outlinewidth\":0,\"ticks\":\"\"}}}],\"carpet\":[{\"aaxis\":{\"endlinecolor\":\"#2a3f5f\",\"gridcolor\":\"#C8D4E3\",\"linecolor\":\"#C8D4E3\",\"minorgridcolor\":\"#C8D4E3\",\"startlinecolor\":\"#2a3f5f\"},\"baxis\":{\"endlinecolor\":\"#2a3f5f\",\"gridcolor\":\"#C8D4E3\",\"linecolor\":\"#C8D4E3\",\"minorgridcolor\":\"#C8D4E3\",\"startlinecolor\":\"#2a3f5f\"},\"type\":\"carpet\"}],\"table\":[{\"cells\":{\"fill\":{\"color\":\"#EBF0F8\"},\"line\":{\"color\":\"white\"}},\"header\":{\"fill\":{\"color\":\"#C8D4E3\"},\"line\":{\"color\":\"white\"}},\"type\":\"table\"}],\"barpolar\":[{\"marker\":{\"line\":{\"color\":\"white\",\"width\":0.5},\"pattern\":{\"fillmode\":\"overlay\",\"size\":10,\"solidity\":0.2}},\"type\":\"barpolar\"}],\"pie\":[{\"automargin\":true,\"type\":\"pie\"}]},\"layout\":{\"autotypenumbers\":\"strict\",\"colorway\":[\"#636efa\",\"#EF553B\",\"#00cc96\",\"#ab63fa\",\"#FFA15A\",\"#19d3f3\",\"#FF6692\",\"#B6E880\",\"#FF97FF\",\"#FECB52\"],\"font\":{\"color\":\"#2a3f5f\"},\"hovermode\":\"closest\",\"hoverlabel\":{\"align\":\"left\"},\"paper_bgcolor\":\"white\",\"plot_bgcolor\":\"white\",\"polar\":{\"bgcolor\":\"white\",\"angularaxis\":{\"gridcolor\":\"#EBF0F8\",\"linecolor\":\"#EBF0F8\",\"ticks\":\"\"},\"radialaxis\":{\"gridcolor\":\"#EBF0F8\",\"linecolor\":\"#EBF0F8\",\"ticks\":\"\"}},\"ternary\":{\"bgcolor\":\"white\",\"aaxis\":{\"gridcolor\":\"#DFE8F3\",\"linecolor\":\"#A2B1C6\",\"ticks\":\"\"},\"baxis\":{\"gridcolor\":\"#DFE8F3\",\"linecolor\":\"#A2B1C6\",\"ticks\":\"\"},\"caxis\":{\"gridcolor\":\"#DFE8F3\",\"linecolor\":\"#A2B1C6\",\"ticks\":\"\"}},\"coloraxis\":{\"colorbar\":{\"outlinewidth\":0,\"ticks\":\"\"}},\"colorscale\":{\"sequential\":[[0.0,\"#0d0887\"],[0.1111111111111111,\"#46039f\"],[0.2222222222222222,\"#7201a8\"],[0.3333333333333333,\"#9c179e\"],[0.4444444444444444,\"#bd3786\"],[0.5555555555555556,\"#d8576b\"],[0.6666666666666666,\"#ed7953\"],[0.7777777777777778,\"#fb9f3a\"],[0.8888888888888888,\"#fdca26\"],[1.0,\"#f0f921\"]],\"sequentialminus\":[[0.0,\"#0d0887\"],[0.1111111111111111,\"#46039f\"],[0.2222222222222222,\"#7201a8\"],[0.3333333333333333,\"#9c179e\"],[0.4444444444444444,\"#bd3786\"],[0.5555555555555556,\"#d8576b\"],[0.6666666666666666,\"#ed7953\"],[0.7777777777777778,\"#fb9f3a\"],[0.8888888888888888,\"#fdca26\"],[1.0,\"#f0f921\"]],\"diverging\":[[0,\"#8e0152\"],[0.1,\"#c51b7d\"],[0.2,\"#de77ae\"],[0.3,\"#f1b6da\"],[0.4,\"#fde0ef\"],[0.5,\"#f7f7f7\"],[0.6,\"#e6f5d0\"],[0.7,\"#b8e186\"],[0.8,\"#7fbc41\"],[0.9,\"#4d9221\"],[1,\"#276419\"]]},\"xaxis\":{\"gridcolor\":\"#EBF0F8\",\"linecolor\":\"#EBF0F8\",\"ticks\":\"\",\"title\":{\"standoff\":15},\"zerolinecolor\":\"#EBF0F8\",\"automargin\":true,\"zerolinewidth\":2},\"yaxis\":{\"gridcolor\":\"#EBF0F8\",\"linecolor\":\"#EBF0F8\",\"ticks\":\"\",\"title\":{\"standoff\":15},\"zerolinecolor\":\"#EBF0F8\",\"automargin\":true,\"zerolinewidth\":2},\"scene\":{\"xaxis\":{\"backgroundcolor\":\"white\",\"gridcolor\":\"#DFE8F3\",\"linecolor\":\"#EBF0F8\",\"showbackground\":true,\"ticks\":\"\",\"zerolinecolor\":\"#EBF0F8\",\"gridwidth\":2},\"yaxis\":{\"backgroundcolor\":\"white\",\"gridcolor\":\"#DFE8F3\",\"linecolor\":\"#EBF0F8\",\"showbackground\":true,\"ticks\":\"\",\"zerolinecolor\":\"#EBF0F8\",\"gridwidth\":2},\"zaxis\":{\"backgroundcolor\":\"white\",\"gridcolor\":\"#DFE8F3\",\"linecolor\":\"#EBF0F8\",\"showbackground\":true,\"ticks\":\"\",\"zerolinecolor\":\"#EBF0F8\",\"gridwidth\":2}},\"shapedefaults\":{\"line\":{\"color\":\"#2a3f5f\"}},\"annotationdefaults\":{\"arrowcolor\":\"#2a3f5f\",\"arrowhead\":0,\"arrowwidth\":1},\"geo\":{\"bgcolor\":\"white\",\"landcolor\":\"white\",\"subunitcolor\":\"#C8D4E3\",\"showland\":true,\"showlakes\":true,\"lakecolor\":\"white\"},\"title\":{\"x\":0.05},\"mapbox\":{\"style\":\"light\"}}},\"xaxis\":{\"anchor\":\"y\",\"domain\":[0.0,1.0],\"scaleanchor\":\"y\",\"constrain\":\"domain\",\"tickfont\":{\"size\":15},\"tickvals\":[0,1,2,3,4,5,6,7,8,9],\"ticktext\":[\"$P_1$\",\"$P_2$\",\"$P_3$\",\"$P_4$\",\"$P_5$\",\"$P_6$\",\"$P_7$\",\"$F^{wor}$\",\"$N^{uni}$\",\"$N^{vow}$\"]},\"yaxis\":{\"anchor\":\"x\",\"domain\":[0.0,1.0],\"autorange\":\"reversed\",\"constrain\":\"domain\",\"tickfont\":{\"size\":15},\"tickvals\":[0,1,2,3,4,5,6,7,8,9],\"ticktext\":[\"$P_1$\",\"$P_2$\",\"$P_3$\",\"$P_4$\",\"$P_5$\",\"$P_6$\",\"$P_7$\",\"$F^{wor}$\",\"$N^{uni}$\",\"$N^{vow}$\"]},\"coloraxis\":{\"colorscale\":[[0.0,\"rgb(176, 242, 188)\"],[0.16666666666666666,\"rgb(137, 232, 172)\"],[0.3333333333333333,\"rgb(103, 219, 165)\"],[0.5,\"rgb(76, 200, 163)\"],[0.6666666666666666,\"rgb(56, 178, 163)\"],[0.8333333333333334,\"rgb(44, 152, 160)\"],[1.0,\"rgb(37, 125, 152)\"]]},\"margin\":{\"t\":60},\"title\":{\"font\":{\"size\":20},\"text\":\"Spearman Heatmap\",\"x\":0.48,\"xanchor\":\"center\",\"xref\":\"container\",\"y\":0.95,\"yanchor\":\"middle\"},\"width\":800,\"height\":600},                        {\"responsive\": true}                    ).then(function(){\n                            \nvar gd = document.getElementById('5765925b-bea6-424c-b875-7dae63dae38a');\nvar x = new MutationObserver(function (mutations, observer) {{\n        var display = window.getComputedStyle(gd).display;\n        if (!display || display === 'none') {{\n            console.log([gd, 'removed!']);\n            Plotly.purge(gd);\n            observer.disconnect();\n        }}\n}});\n\n// Listen for the removal of the full notebook cells\nvar notebookContainer = gd.closest('#notebook-container');\nif (notebookContainer) {{\n    x.observe(notebookContainer, {childList: true});\n}}\n\n// Listen for the clearing of the current output cell\nvar outputEl = gd.closest('.output');\nif (outputEl) {{\n    x.observe(outputEl, {childList: true});\n}}\n\n                        })                };                });            </script>        </div>"
     },
     "metadata": {},
     "output_type": "display_data"
    }
   ],
   "source": [
    "fig = px.imshow(df,text_auto=\".2f\",color_continuous_scale=\"tealgrn\")\n",
    "fig.update_layout(\n",
    "    dict1=dict(\n",
    "        title=dict(\n",
    "            text=\"Spearman Heatmap\",\n",
    "            font=dict(\n",
    "                size=20\n",
    "            ),\n",
    "            x=0.48, # 0 ~ 1\n",
    "            xanchor=\"center\",\n",
    "            xref=\"container\",\n",
    "            y=0.95,\n",
    "            yanchor=\"middle\"\n",
    "        ),\n",
    "    ),\n",
    "    width=800,\n",
    "    height=600,\n",
    ")\n",
    "fig.update_xaxes(\n",
    "    tickfont=dict(\n",
    "        size=15\n",
    "    ),\n",
    "    tickvals = np.arange(0,10),\n",
    "    ticktext=[\"$P_1$\", \"$P_2$\",\"$P_3$\",\"$P_4$\",\"$P_5$\",\"$P_6$\", \"$P_7$\",\"$F^{wor}$\", \"$N^{uni}$\", \"$N^{vow}$\"]\n",
    ")\n",
    "fig.update_yaxes(\n",
    "    tickfont=dict(\n",
    "        size=15\n",
    "    ),\n",
    "    tickvals = np.arange(0,10),\n",
    "    ticktext=[\"$P_1$\", \"$P_2$\",\"$P_3$\",\"$P_4$\",\"$P_5$\",\"$P_6$\", \"$P_7$\",\"$F^{wor}$\", \"$N^{uni}$\", \"$N^{vow}$\"]\n",
    ")\n",
    "fig"
   ],
   "metadata": {
    "collapsed": false
   }
  },
  {
   "cell_type": "code",
   "execution_count": 57,
   "outputs": [],
   "source": [
    "fig.write_image(\"heatmap.svg\")"
   ],
   "metadata": {
    "collapsed": false
   }
  },
  {
   "cell_type": "code",
   "execution_count": 9,
   "outputs": [],
   "source": [],
   "metadata": {
    "collapsed": false
   }
  },
  {
   "cell_type": "code",
   "execution_count": 10,
   "outputs": [
    {
     "ename": "SyntaxError",
     "evalue": "invalid syntax (1339471992.py, line 15)",
     "output_type": "error",
     "traceback": [
      "\u001B[1;36m  Cell \u001B[1;32mIn[10], line 15\u001B[1;36m\u001B[0m\n\u001B[1;33m    'ylorrd'].\u001B[0m\n\u001B[1;37m              ^\u001B[0m\n\u001B[1;31mSyntaxError\u001B[0m\u001B[1;31m:\u001B[0m invalid syntax\n"
     ]
    }
   ],
   "source": [
    "['aggrnyl', 'agsunset', 'algae', 'amp', 'armyrose', 'balance',\n",
    " 'blackbody', 'bluered', 'blues', 'blugrn', 'bluyl', 'brbg',\n",
    " 'brwnyl', 'bugn', 'bupu', 'burg', 'burgyl', 'cividis', 'curl',\n",
    " 'darkmint', 'deep', 'delta', 'dense', 'earth', 'edge', 'electric',\n",
    " 'emrld', 'fall', 'geyser', 'gnbu', 'gray', 'greens', 'greys',\n",
    " 'haline', 'hot', 'hsv', 'ice', 'icefire', 'inferno', 'jet',\n",
    " 'magenta', 'magma', 'matter', 'mint', 'mrybm', 'mygbm', 'oranges',\n",
    " 'orrd', 'oryel', 'oxy', 'peach', 'phase', 'picnic', 'pinkyl',\n",
    " 'piyg', 'plasma', 'plotly3', 'portland', 'prgn', 'pubu', 'pubugn',\n",
    " 'puor', 'purd', 'purp', 'purples', 'purpor', 'rainbow', 'rdbu',\n",
    " 'rdgy', 'rdpu', 'rdylbu', 'rdylgn', 'redor', 'reds', 'solar',\n",
    " 'spectral', 'speed', 'sunset', 'sunsetdark', 'teal', 'tealgrn',\n",
    " 'tealrose', 'tempo', 'temps', 'thermal', 'tropic', 'turbid',\n",
    " 'turbo', 'twilight', 'viridis', 'ylgn', 'ylgnbu', 'ylorbr',\n",
    " 'ylorrd']."
   ],
   "metadata": {
    "collapsed": false
   }
  }
 ],
 "metadata": {
  "kernelspec": {
   "display_name": "Python 3",
   "language": "python",
   "name": "python3"
  },
  "language_info": {
   "codemirror_mode": {
    "name": "ipython",
    "version": 2
   },
   "file_extension": ".py",
   "mimetype": "text/x-python",
   "name": "python",
   "nbconvert_exporter": "python",
   "pygments_lexer": "ipython2",
   "version": "2.7.6"
  }
 },
 "nbformat": 4,
 "nbformat_minor": 0
}
