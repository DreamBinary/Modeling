{
 "cells": [
  {
   "cell_type": "code",
   "execution_count": 1,
   "metadata": {
    "collapsed": true
   },
   "outputs": [],
   "source": [
    "import pandas as pd"
   ]
  },
  {
   "cell_type": "code",
   "execution_count": 2,
   "outputs": [],
   "source": [
    "df = pd.read_excel(\"data2.xlsx\")\n",
    "words = df[\"Word\"]"
   ],
   "metadata": {
    "collapsed": false
   }
  },
  {
   "cell_type": "code",
   "execution_count": null,
   "outputs": [
    {
     "name": "stderr",
     "output_type": "stream",
     "text": [
      "X:\\Temp\\ipykernel_21436\\3149670123.py:25: SettingWithCopyWarning: \n",
      "A value is trying to be set on a copy of a slice from a DataFrame\n",
      "\n",
      "See the caveats in the documentation: https://pandas.pydata.org/pandas-docs/stable/user_guide/indexing.html#returning-a-view-versus-a-copy\n",
      "  df[\"star\"][i] = re.findall(r\"star star\\d*\", selenium_page)[0][-1]\n"
     ]
    },
    {
     "name": "stdout",
     "output_type": "stream",
     "text": [
      "100 1.0\n"
     ]
    }
   ],
   "source": [
    "import time\n",
    "from selenium import webdriver\n",
    "from selenium.webdriver.chrome.service import Service  # 新增\n",
    "from selenium.webdriver.common.by import By\n",
    "import re\n",
    "\n",
    "max_size = len(words)\n",
    "path = \"D:\\MyPython\\msedgedriver.exe\"\n",
    "service = Service(executable_path=path)\n",
    "option = webdriver.EdgeOptions()\n",
    "option.add_argument('headless')\n",
    "for i in range(100, 200):\n",
    "    driver = webdriver.Edge(service=service, options=option)\n",
    "    p = \"https://dict.youdao.com/result?word=\" + words[i] + \"&lang=en\"\n",
    "    driver.get(p)\n",
    "    time.sleep(3)\n",
    "    try:\n",
    "        button = driver.find_element(by=By.XPATH,\n",
    "                                     value=\"/html/body/div/div/div/div/div[1]/div/div/section/div[2]/div[1]/div/ul/li[2]\")\n",
    "        # print(button)\n",
    "        button.click()\n",
    "        selenium_page = driver.page_source\n",
    "        # print(selenium_page)\n",
    "\n",
    "        df[\"star\"][i] = re.findall(r\"star star\\d*\", selenium_page)[0][-1]\n",
    "        print(i, df[\"star\"][i])\n",
    "    except:\n",
    "        print(\"except\")\n",
    "        df[\"star\"][i] = 0\n",
    "        driver.quit()\n",
    "        time.sleep(0.5)\n",
    "    driver.quit()\n",
    "    time.sleep(0.5)\n",
    "print(\"--\")"
   ],
   "metadata": {
    "collapsed": false,
    "pycharm": {
     "is_executing": true
    }
   }
  },
  {
   "cell_type": "code",
   "execution_count": null,
   "outputs": [],
   "source": [
    "df"
   ],
   "metadata": {
    "collapsed": false,
    "pycharm": {
     "is_executing": true
    }
   }
  },
  {
   "cell_type": "code",
   "execution_count": null,
   "outputs": [],
   "source": [
    "df.to_excel(\"data11.xlsx\")"
   ],
   "metadata": {
    "collapsed": false,
    "pycharm": {
     "is_executing": true
    }
   }
  }
 ],
 "metadata": {
  "kernelspec": {
   "display_name": "Python 3",
   "language": "python",
   "name": "python3"
  },
  "language_info": {
   "codemirror_mode": {
    "name": "ipython",
    "version": 2
   },
   "file_extension": ".py",
   "mimetype": "text/x-python",
   "name": "python",
   "nbconvert_exporter": "python",
   "pygments_lexer": "ipython2",
   "version": "2.7.6"
  }
 },
 "nbformat": 4,
 "nbformat_minor": 0
}
