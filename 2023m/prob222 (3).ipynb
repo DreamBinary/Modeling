{
 "cells": [
  {
   "cell_type": "code",
   "execution_count": 1,
   "metadata": {
    "execution": {
     "iopub.execute_input": "2023-02-19T02:52:29.583644Z",
     "iopub.status.busy": "2023-02-19T02:52:29.583477Z",
     "iopub.status.idle": "2023-02-19T02:52:30.907223Z",
     "shell.execute_reply": "2023-02-19T02:52:30.906368Z",
     "shell.execute_reply.started": "2023-02-19T02:52:29.583604Z"
    }
   },
   "outputs": [
    {
     "data": {
      "text/plain": "     Unnamed: 0  Unnamed: 1  Unnamed: 2       Date  Contest number   Word  \\\n0             0         NaN         NaN 2022-01-07             202  slump   \n1             1         NaN         NaN 2022-01-08             203  crank   \n2             2         NaN         NaN 2022-01-09             204  gorge   \n3             3         NaN         NaN 2022-01-10             205  query   \n4             4         NaN         NaN 2022-01-11             206  drink   \n..          ...         ...         ...        ...             ...    ...   \n350         350         NaN         NaN 2022-12-27             556  condo   \n351         351         NaN         NaN 2022-12-28             557  impel   \n352         352         NaN         NaN 2022-12-29             558  havoc   \n353         353         NaN         NaN 2022-12-30             559  molar   \n354         354         NaN         NaN 2022-12-31             560  manly   \n\n     Number of  reported results  Number in hard mode  1 try  2 tries  ...  \\\n0                          80630                 1362      1        3  ...   \n1                         101503                 1763      1        5  ...   \n2                          91477                 1913      1        3  ...   \n3                         107134                 2242      1        4  ...   \n4                         153880                 3017      1        9  ...   \n..                           ...                  ...    ...      ...  ...   \n350                        20879                 2012      0        2  ...   \n351                        20160                 1937      0        3  ...   \n352                        20001                 1919      0        2  ...   \n353                        21204                 1973      0        4  ...   \n354                        20380                 1899      0        2  ...   \n\n     5 tries  6 tries  7 or more tries (X)     ratio  vowel  len  uniq  star  \\\n0         24        9                    1  0.016892      1    5     5     2   \n1         24       14                    2  0.017369      1    5     5     2   \n2         30       22                    4  0.020912      2    5     4     1   \n3         30       17                    2  0.020927      2    5     5     2   \n4         16        5                    1  0.019606      1    5     5     4   \n..       ...      ...                  ...       ...    ...  ...   ...   ...   \n350       29       14                    3  0.096365      2    5     4     1   \n351       25        9                    1  0.096081      2    5     5     2   \n352       30       12                    2  0.095945      2    5     5     3   \n353       26        9                    1  0.093048      2    5     5     2   \n354       29       12                    2  0.093180      1    5     5     2   \n\n     three_s  three_ss  \n0       0.27        27  \n1       0.29        29  \n2       0.17        17  \n3       0.21        21  \n4       0.45        45  \n..       ...       ...  \n350     0.19        19  \n351     0.24        24  \n352     0.18        18  \n353     0.25        25  \n354     0.19        19  \n\n[355 rows x 22 columns]",
      "text/html": "<div>\n<style scoped>\n    .dataframe tbody tr th:only-of-type {\n        vertical-align: middle;\n    }\n\n    .dataframe tbody tr th {\n        vertical-align: top;\n    }\n\n    .dataframe thead th {\n        text-align: right;\n    }\n</style>\n<table border=\"1\" class=\"dataframe\">\n  <thead>\n    <tr style=\"text-align: right;\">\n      <th></th>\n      <th>Unnamed: 0</th>\n      <th>Unnamed: 1</th>\n      <th>Unnamed: 2</th>\n      <th>Date</th>\n      <th>Contest number</th>\n      <th>Word</th>\n      <th>Number of  reported results</th>\n      <th>Number in hard mode</th>\n      <th>1 try</th>\n      <th>2 tries</th>\n      <th>...</th>\n      <th>5 tries</th>\n      <th>6 tries</th>\n      <th>7 or more tries (X)</th>\n      <th>ratio</th>\n      <th>vowel</th>\n      <th>len</th>\n      <th>uniq</th>\n      <th>star</th>\n      <th>three_s</th>\n      <th>three_ss</th>\n    </tr>\n  </thead>\n  <tbody>\n    <tr>\n      <th>0</th>\n      <td>0</td>\n      <td>NaN</td>\n      <td>NaN</td>\n      <td>2022-01-07</td>\n      <td>202</td>\n      <td>slump</td>\n      <td>80630</td>\n      <td>1362</td>\n      <td>1</td>\n      <td>3</td>\n      <td>...</td>\n      <td>24</td>\n      <td>9</td>\n      <td>1</td>\n      <td>0.016892</td>\n      <td>1</td>\n      <td>5</td>\n      <td>5</td>\n      <td>2</td>\n      <td>0.27</td>\n      <td>27</td>\n    </tr>\n    <tr>\n      <th>1</th>\n      <td>1</td>\n      <td>NaN</td>\n      <td>NaN</td>\n      <td>2022-01-08</td>\n      <td>203</td>\n      <td>crank</td>\n      <td>101503</td>\n      <td>1763</td>\n      <td>1</td>\n      <td>5</td>\n      <td>...</td>\n      <td>24</td>\n      <td>14</td>\n      <td>2</td>\n      <td>0.017369</td>\n      <td>1</td>\n      <td>5</td>\n      <td>5</td>\n      <td>2</td>\n      <td>0.29</td>\n      <td>29</td>\n    </tr>\n    <tr>\n      <th>2</th>\n      <td>2</td>\n      <td>NaN</td>\n      <td>NaN</td>\n      <td>2022-01-09</td>\n      <td>204</td>\n      <td>gorge</td>\n      <td>91477</td>\n      <td>1913</td>\n      <td>1</td>\n      <td>3</td>\n      <td>...</td>\n      <td>30</td>\n      <td>22</td>\n      <td>4</td>\n      <td>0.020912</td>\n      <td>2</td>\n      <td>5</td>\n      <td>4</td>\n      <td>1</td>\n      <td>0.17</td>\n      <td>17</td>\n    </tr>\n    <tr>\n      <th>3</th>\n      <td>3</td>\n      <td>NaN</td>\n      <td>NaN</td>\n      <td>2022-01-10</td>\n      <td>205</td>\n      <td>query</td>\n      <td>107134</td>\n      <td>2242</td>\n      <td>1</td>\n      <td>4</td>\n      <td>...</td>\n      <td>30</td>\n      <td>17</td>\n      <td>2</td>\n      <td>0.020927</td>\n      <td>2</td>\n      <td>5</td>\n      <td>5</td>\n      <td>2</td>\n      <td>0.21</td>\n      <td>21</td>\n    </tr>\n    <tr>\n      <th>4</th>\n      <td>4</td>\n      <td>NaN</td>\n      <td>NaN</td>\n      <td>2022-01-11</td>\n      <td>206</td>\n      <td>drink</td>\n      <td>153880</td>\n      <td>3017</td>\n      <td>1</td>\n      <td>9</td>\n      <td>...</td>\n      <td>16</td>\n      <td>5</td>\n      <td>1</td>\n      <td>0.019606</td>\n      <td>1</td>\n      <td>5</td>\n      <td>5</td>\n      <td>4</td>\n      <td>0.45</td>\n      <td>45</td>\n    </tr>\n    <tr>\n      <th>...</th>\n      <td>...</td>\n      <td>...</td>\n      <td>...</td>\n      <td>...</td>\n      <td>...</td>\n      <td>...</td>\n      <td>...</td>\n      <td>...</td>\n      <td>...</td>\n      <td>...</td>\n      <td>...</td>\n      <td>...</td>\n      <td>...</td>\n      <td>...</td>\n      <td>...</td>\n      <td>...</td>\n      <td>...</td>\n      <td>...</td>\n      <td>...</td>\n      <td>...</td>\n      <td>...</td>\n    </tr>\n    <tr>\n      <th>350</th>\n      <td>350</td>\n      <td>NaN</td>\n      <td>NaN</td>\n      <td>2022-12-27</td>\n      <td>556</td>\n      <td>condo</td>\n      <td>20879</td>\n      <td>2012</td>\n      <td>0</td>\n      <td>2</td>\n      <td>...</td>\n      <td>29</td>\n      <td>14</td>\n      <td>3</td>\n      <td>0.096365</td>\n      <td>2</td>\n      <td>5</td>\n      <td>4</td>\n      <td>1</td>\n      <td>0.19</td>\n      <td>19</td>\n    </tr>\n    <tr>\n      <th>351</th>\n      <td>351</td>\n      <td>NaN</td>\n      <td>NaN</td>\n      <td>2022-12-28</td>\n      <td>557</td>\n      <td>impel</td>\n      <td>20160</td>\n      <td>1937</td>\n      <td>0</td>\n      <td>3</td>\n      <td>...</td>\n      <td>25</td>\n      <td>9</td>\n      <td>1</td>\n      <td>0.096081</td>\n      <td>2</td>\n      <td>5</td>\n      <td>5</td>\n      <td>2</td>\n      <td>0.24</td>\n      <td>24</td>\n    </tr>\n    <tr>\n      <th>352</th>\n      <td>352</td>\n      <td>NaN</td>\n      <td>NaN</td>\n      <td>2022-12-29</td>\n      <td>558</td>\n      <td>havoc</td>\n      <td>20001</td>\n      <td>1919</td>\n      <td>0</td>\n      <td>2</td>\n      <td>...</td>\n      <td>30</td>\n      <td>12</td>\n      <td>2</td>\n      <td>0.095945</td>\n      <td>2</td>\n      <td>5</td>\n      <td>5</td>\n      <td>3</td>\n      <td>0.18</td>\n      <td>18</td>\n    </tr>\n    <tr>\n      <th>353</th>\n      <td>353</td>\n      <td>NaN</td>\n      <td>NaN</td>\n      <td>2022-12-30</td>\n      <td>559</td>\n      <td>molar</td>\n      <td>21204</td>\n      <td>1973</td>\n      <td>0</td>\n      <td>4</td>\n      <td>...</td>\n      <td>26</td>\n      <td>9</td>\n      <td>1</td>\n      <td>0.093048</td>\n      <td>2</td>\n      <td>5</td>\n      <td>5</td>\n      <td>2</td>\n      <td>0.25</td>\n      <td>25</td>\n    </tr>\n    <tr>\n      <th>354</th>\n      <td>354</td>\n      <td>NaN</td>\n      <td>NaN</td>\n      <td>2022-12-31</td>\n      <td>560</td>\n      <td>manly</td>\n      <td>20380</td>\n      <td>1899</td>\n      <td>0</td>\n      <td>2</td>\n      <td>...</td>\n      <td>29</td>\n      <td>12</td>\n      <td>2</td>\n      <td>0.093180</td>\n      <td>1</td>\n      <td>5</td>\n      <td>5</td>\n      <td>2</td>\n      <td>0.19</td>\n      <td>19</td>\n    </tr>\n  </tbody>\n</table>\n<p>355 rows × 22 columns</p>\n</div>"
     },
     "execution_count": 1,
     "metadata": {},
     "output_type": "execute_result"
    }
   ],
   "source": [
    "from sklearn.model_selection import train_test_split\n",
    "import torch\n",
    "import torch.nn as nn\n",
    "import pandas as pd\n",
    "\n",
    "df = pd.read_excel(\"data3.xlsx\", header=0)\n",
    "df[\"Date\"] = pd.to_datetime(df[\"Date\"])\n",
    "df"
   ]
  },
  {
   "cell_type": "code",
   "execution_count": 2,
   "metadata": {
    "execution": {
     "iopub.execute_input": "2023-02-19T02:52:30.908815Z",
     "iopub.status.busy": "2023-02-19T02:52:30.908619Z",
     "iopub.status.idle": "2023-02-19T02:52:30.915658Z",
     "shell.execute_reply": "2023-02-19T02:52:30.915023Z",
     "shell.execute_reply.started": "2023-02-19T02:52:30.908799Z"
    }
   },
   "outputs": [
    {
     "data": {
      "text/plain": "355"
     },
     "execution_count": 2,
     "metadata": {},
     "output_type": "execute_result"
    }
   ],
   "source": [
    "df = df.drop(df[df[\"len\"] == 4].index.values)\n",
    "df = df.drop(df[df[\"len\"] == 6].index.values)\n",
    "len(df)"
   ]
  },
  {
   "cell_type": "code",
   "execution_count": 3,
   "metadata": {
    "execution": {
     "iopub.execute_input": "2023-02-19T02:52:30.916405Z",
     "iopub.status.busy": "2023-02-19T02:52:30.916254Z",
     "iopub.status.idle": "2023-02-19T02:52:30.920511Z",
     "shell.execute_reply": "2023-02-19T02:52:30.920031Z",
     "shell.execute_reply.started": "2023-02-19T02:52:30.916390Z"
    }
   },
   "outputs": [],
   "source": [
    "u_m = df[\"uniq\"].mean()\n",
    "u_s = df[\"uniq\"].std()\n",
    "df[\"uniq\"] = (df[\"uniq\"] - u_m) / u_s"
   ]
  },
  {
   "cell_type": "code",
   "execution_count": 4,
   "metadata": {
    "execution": {
     "iopub.execute_input": "2023-02-19T02:52:30.921268Z",
     "iopub.status.busy": "2023-02-19T02:52:30.921113Z",
     "iopub.status.idle": "2023-02-19T02:52:30.925499Z",
     "shell.execute_reply": "2023-02-19T02:52:30.924992Z",
     "shell.execute_reply.started": "2023-02-19T02:52:30.921253Z"
    }
   },
   "outputs": [],
   "source": [
    "s_m = df[\"star\"].mean()\n",
    "s_s = df[\"star\"].std()\n",
    "df[\"star\"] = (df[\"star\"] - s_m) / s_s"
   ]
  },
  {
   "cell_type": "code",
   "execution_count": 5,
   "metadata": {
    "execution": {
     "iopub.execute_input": "2023-02-19T02:52:30.926285Z",
     "iopub.status.busy": "2023-02-19T02:52:30.926126Z",
     "iopub.status.idle": "2023-02-19T02:52:30.939702Z",
     "shell.execute_reply": "2023-02-19T02:52:30.939234Z",
     "shell.execute_reply.started": "2023-02-19T02:52:30.926268Z"
    }
   },
   "outputs": [
    {
     "data": {
      "text/plain": "     Unnamed: 0  Unnamed: 1  Unnamed: 2       Date  Contest number   Word  \\\n0             0         NaN         NaN 2022-01-07             202  slump   \n1             1         NaN         NaN 2022-01-08             203  crank   \n2             2         NaN         NaN 2022-01-09             204  gorge   \n3             3         NaN         NaN 2022-01-10             205  query   \n4             4         NaN         NaN 2022-01-11             206  drink   \n..          ...         ...         ...        ...             ...    ...   \n350         350         NaN         NaN 2022-12-27             556  condo   \n351         351         NaN         NaN 2022-12-28             557  impel   \n352         352         NaN         NaN 2022-12-29             558  havoc   \n353         353         NaN         NaN 2022-12-30             559  molar   \n354         354         NaN         NaN 2022-12-31             560  manly   \n\n     Number of  reported results  Number in hard mode  1 try  2 tries  ...  \\\n0                          80630                 1362      1        3  ...   \n1                         101503                 1763      1        5  ...   \n2                          91477                 1913      1        3  ...   \n3                         107134                 2242      1        4  ...   \n4                         153880                 3017      1        9  ...   \n..                           ...                  ...    ...      ...  ...   \n350                        20879                 2012      0        2  ...   \n351                        20160                 1937      0        3  ...   \n352                        20001                 1919      0        2  ...   \n353                        21204                 1973      0        4  ...   \n354                        20380                 1899      0        2  ...   \n\n     5 tries  6 tries  7 or more tries (X)     ratio  vowel  len      uniq  \\\n0         24        9                    1  0.016892      1    5  0.604574   \n1         24       14                    2  0.017369      1    5  0.604574   \n2         30       22                    4  0.020912      2    5 -1.420179   \n3         30       17                    2  0.020927      2    5  0.604574   \n4         16        5                    1  0.019606      1    5  0.604574   \n..       ...      ...                  ...       ...    ...  ...       ...   \n350       29       14                    3  0.096365      2    5 -1.420179   \n351       25        9                    1  0.096081      2    5  0.604574   \n352       30       12                    2  0.095945      2    5  0.604574   \n353       26        9                    1  0.093048      2    5  0.604574   \n354       29       12                    2  0.093180      1    5  0.604574   \n\n         star  three_s  three_ss  \n0   -0.517873     0.27        27  \n1   -0.517873     0.29        29  \n2   -1.410324     0.17        17  \n3   -0.517873     0.21        21  \n4    1.267029     0.45        45  \n..        ...      ...       ...  \n350 -1.410324     0.19        19  \n351 -0.517873     0.24        24  \n352  0.374578     0.18        18  \n353 -0.517873     0.25        25  \n354 -0.517873     0.19        19  \n\n[355 rows x 22 columns]",
      "text/html": "<div>\n<style scoped>\n    .dataframe tbody tr th:only-of-type {\n        vertical-align: middle;\n    }\n\n    .dataframe tbody tr th {\n        vertical-align: top;\n    }\n\n    .dataframe thead th {\n        text-align: right;\n    }\n</style>\n<table border=\"1\" class=\"dataframe\">\n  <thead>\n    <tr style=\"text-align: right;\">\n      <th></th>\n      <th>Unnamed: 0</th>\n      <th>Unnamed: 1</th>\n      <th>Unnamed: 2</th>\n      <th>Date</th>\n      <th>Contest number</th>\n      <th>Word</th>\n      <th>Number of  reported results</th>\n      <th>Number in hard mode</th>\n      <th>1 try</th>\n      <th>2 tries</th>\n      <th>...</th>\n      <th>5 tries</th>\n      <th>6 tries</th>\n      <th>7 or more tries (X)</th>\n      <th>ratio</th>\n      <th>vowel</th>\n      <th>len</th>\n      <th>uniq</th>\n      <th>star</th>\n      <th>three_s</th>\n      <th>three_ss</th>\n    </tr>\n  </thead>\n  <tbody>\n    <tr>\n      <th>0</th>\n      <td>0</td>\n      <td>NaN</td>\n      <td>NaN</td>\n      <td>2022-01-07</td>\n      <td>202</td>\n      <td>slump</td>\n      <td>80630</td>\n      <td>1362</td>\n      <td>1</td>\n      <td>3</td>\n      <td>...</td>\n      <td>24</td>\n      <td>9</td>\n      <td>1</td>\n      <td>0.016892</td>\n      <td>1</td>\n      <td>5</td>\n      <td>0.604574</td>\n      <td>-0.517873</td>\n      <td>0.27</td>\n      <td>27</td>\n    </tr>\n    <tr>\n      <th>1</th>\n      <td>1</td>\n      <td>NaN</td>\n      <td>NaN</td>\n      <td>2022-01-08</td>\n      <td>203</td>\n      <td>crank</td>\n      <td>101503</td>\n      <td>1763</td>\n      <td>1</td>\n      <td>5</td>\n      <td>...</td>\n      <td>24</td>\n      <td>14</td>\n      <td>2</td>\n      <td>0.017369</td>\n      <td>1</td>\n      <td>5</td>\n      <td>0.604574</td>\n      <td>-0.517873</td>\n      <td>0.29</td>\n      <td>29</td>\n    </tr>\n    <tr>\n      <th>2</th>\n      <td>2</td>\n      <td>NaN</td>\n      <td>NaN</td>\n      <td>2022-01-09</td>\n      <td>204</td>\n      <td>gorge</td>\n      <td>91477</td>\n      <td>1913</td>\n      <td>1</td>\n      <td>3</td>\n      <td>...</td>\n      <td>30</td>\n      <td>22</td>\n      <td>4</td>\n      <td>0.020912</td>\n      <td>2</td>\n      <td>5</td>\n      <td>-1.420179</td>\n      <td>-1.410324</td>\n      <td>0.17</td>\n      <td>17</td>\n    </tr>\n    <tr>\n      <th>3</th>\n      <td>3</td>\n      <td>NaN</td>\n      <td>NaN</td>\n      <td>2022-01-10</td>\n      <td>205</td>\n      <td>query</td>\n      <td>107134</td>\n      <td>2242</td>\n      <td>1</td>\n      <td>4</td>\n      <td>...</td>\n      <td>30</td>\n      <td>17</td>\n      <td>2</td>\n      <td>0.020927</td>\n      <td>2</td>\n      <td>5</td>\n      <td>0.604574</td>\n      <td>-0.517873</td>\n      <td>0.21</td>\n      <td>21</td>\n    </tr>\n    <tr>\n      <th>4</th>\n      <td>4</td>\n      <td>NaN</td>\n      <td>NaN</td>\n      <td>2022-01-11</td>\n      <td>206</td>\n      <td>drink</td>\n      <td>153880</td>\n      <td>3017</td>\n      <td>1</td>\n      <td>9</td>\n      <td>...</td>\n      <td>16</td>\n      <td>5</td>\n      <td>1</td>\n      <td>0.019606</td>\n      <td>1</td>\n      <td>5</td>\n      <td>0.604574</td>\n      <td>1.267029</td>\n      <td>0.45</td>\n      <td>45</td>\n    </tr>\n    <tr>\n      <th>...</th>\n      <td>...</td>\n      <td>...</td>\n      <td>...</td>\n      <td>...</td>\n      <td>...</td>\n      <td>...</td>\n      <td>...</td>\n      <td>...</td>\n      <td>...</td>\n      <td>...</td>\n      <td>...</td>\n      <td>...</td>\n      <td>...</td>\n      <td>...</td>\n      <td>...</td>\n      <td>...</td>\n      <td>...</td>\n      <td>...</td>\n      <td>...</td>\n      <td>...</td>\n      <td>...</td>\n    </tr>\n    <tr>\n      <th>350</th>\n      <td>350</td>\n      <td>NaN</td>\n      <td>NaN</td>\n      <td>2022-12-27</td>\n      <td>556</td>\n      <td>condo</td>\n      <td>20879</td>\n      <td>2012</td>\n      <td>0</td>\n      <td>2</td>\n      <td>...</td>\n      <td>29</td>\n      <td>14</td>\n      <td>3</td>\n      <td>0.096365</td>\n      <td>2</td>\n      <td>5</td>\n      <td>-1.420179</td>\n      <td>-1.410324</td>\n      <td>0.19</td>\n      <td>19</td>\n    </tr>\n    <tr>\n      <th>351</th>\n      <td>351</td>\n      <td>NaN</td>\n      <td>NaN</td>\n      <td>2022-12-28</td>\n      <td>557</td>\n      <td>impel</td>\n      <td>20160</td>\n      <td>1937</td>\n      <td>0</td>\n      <td>3</td>\n      <td>...</td>\n      <td>25</td>\n      <td>9</td>\n      <td>1</td>\n      <td>0.096081</td>\n      <td>2</td>\n      <td>5</td>\n      <td>0.604574</td>\n      <td>-0.517873</td>\n      <td>0.24</td>\n      <td>24</td>\n    </tr>\n    <tr>\n      <th>352</th>\n      <td>352</td>\n      <td>NaN</td>\n      <td>NaN</td>\n      <td>2022-12-29</td>\n      <td>558</td>\n      <td>havoc</td>\n      <td>20001</td>\n      <td>1919</td>\n      <td>0</td>\n      <td>2</td>\n      <td>...</td>\n      <td>30</td>\n      <td>12</td>\n      <td>2</td>\n      <td>0.095945</td>\n      <td>2</td>\n      <td>5</td>\n      <td>0.604574</td>\n      <td>0.374578</td>\n      <td>0.18</td>\n      <td>18</td>\n    </tr>\n    <tr>\n      <th>353</th>\n      <td>353</td>\n      <td>NaN</td>\n      <td>NaN</td>\n      <td>2022-12-30</td>\n      <td>559</td>\n      <td>molar</td>\n      <td>21204</td>\n      <td>1973</td>\n      <td>0</td>\n      <td>4</td>\n      <td>...</td>\n      <td>26</td>\n      <td>9</td>\n      <td>1</td>\n      <td>0.093048</td>\n      <td>2</td>\n      <td>5</td>\n      <td>0.604574</td>\n      <td>-0.517873</td>\n      <td>0.25</td>\n      <td>25</td>\n    </tr>\n    <tr>\n      <th>354</th>\n      <td>354</td>\n      <td>NaN</td>\n      <td>NaN</td>\n      <td>2022-12-31</td>\n      <td>560</td>\n      <td>manly</td>\n      <td>20380</td>\n      <td>1899</td>\n      <td>0</td>\n      <td>2</td>\n      <td>...</td>\n      <td>29</td>\n      <td>12</td>\n      <td>2</td>\n      <td>0.093180</td>\n      <td>1</td>\n      <td>5</td>\n      <td>0.604574</td>\n      <td>-0.517873</td>\n      <td>0.19</td>\n      <td>19</td>\n    </tr>\n  </tbody>\n</table>\n<p>355 rows × 22 columns</p>\n</div>"
     },
     "execution_count": 5,
     "metadata": {},
     "output_type": "execute_result"
    }
   ],
   "source": [
    "df"
   ]
  },
  {
   "cell_type": "code",
   "execution_count": 6,
   "metadata": {
    "execution": {
     "iopub.execute_input": "2023-02-19T02:52:30.940501Z",
     "iopub.status.busy": "2023-02-19T02:52:30.940340Z",
     "iopub.status.idle": "2023-02-19T02:52:30.944586Z",
     "shell.execute_reply": "2023-02-19T02:52:30.944123Z",
     "shell.execute_reply.started": "2023-02-19T02:52:30.940486Z"
    }
   },
   "outputs": [
    {
     "data": {
      "text/plain": "{'a': 0,\n 'b': 1,\n 'c': 2,\n 'd': 3,\n 'e': 4,\n 'f': 5,\n 'g': 6,\n 'h': 7,\n 'i': 8,\n 'j': 9,\n 'k': 10,\n 'l': 11,\n 'm': 12,\n 'n': 13,\n 'o': 14,\n 'p': 15,\n 'q': 16,\n 'r': 17,\n 's': 18,\n 't': 19,\n 'u': 20,\n 'v': 21,\n 'w': 22,\n 'x': 23,\n 'y': 24,\n 'z': 25,\n 'ï': 8}"
     },
     "execution_count": 6,
     "metadata": {},
     "output_type": "execute_result"
    }
   ],
   "source": [
    "dic = {j: i\n",
    "       for i, j in enumerate('abcdefghijklmnopqrstuvwxyz', 0)}\n",
    "dic[\"ï\"] = dic[\"i\"]\n",
    "dic"
   ]
  },
  {
   "cell_type": "code",
   "execution_count": 7,
   "metadata": {
    "execution": {
     "iopub.execute_input": "2023-02-19T02:52:30.946467Z",
     "iopub.status.busy": "2023-02-19T02:52:30.946309Z",
     "iopub.status.idle": "2023-02-19T02:52:30.951385Z",
     "shell.execute_reply": "2023-02-19T02:52:30.950927Z",
     "shell.execute_reply.started": "2023-02-19T02:52:30.946452Z"
    }
   },
   "outputs": [
    {
     "data": {
      "text/plain": "tensor([[18, 11, 20, 12, 15],\n        [ 2, 17,  0, 13, 10],\n        [ 6, 14, 17,  6,  4],\n        ...,\n        [ 7,  0, 21, 14,  2],\n        [12, 14, 11,  0, 17],\n        [12,  0, 13, 11, 24]])"
     },
     "execution_count": 7,
     "metadata": {},
     "output_type": "execute_result"
    }
   ],
   "source": [
    "\n",
    "words_list = []\n",
    "for i in df[\"Word\"].values:\n",
    "    words_list.append(([dic[j] for j in i]))\n",
    "words_list = torch.LongTensor(words_list)\n",
    "words_list"
   ]
  },
  {
   "cell_type": "code",
   "execution_count": 8,
   "metadata": {
    "execution": {
     "iopub.execute_input": "2023-02-19T02:52:30.952165Z",
     "iopub.status.busy": "2023-02-19T02:52:30.952009Z",
     "iopub.status.idle": "2023-02-19T02:52:30.957058Z",
     "shell.execute_reply": "2023-02-19T02:52:30.956528Z",
     "shell.execute_reply.started": "2023-02-19T02:52:30.952150Z"
    }
   },
   "outputs": [
    {
     "data": {
      "text/plain": "tensor([[-0.4826, -1.6837, -0.3317,  0.5637, -0.6392],\n        [-0.4025, -1.1929, -0.7567,  0.8559, -0.4253],\n        [-1.0653, -0.5986, -1.1929, -1.0653, -0.0307],\n        ...,\n        [ 0.0538, -0.7567,  0.3571, -0.5986, -0.4025],\n        [ 0.5637, -0.5986, -1.6837, -0.7567, -1.1929],\n        [ 0.5637, -0.7567,  0.8559, -1.6837, -1.9005]],\n       grad_fn=<ViewBackward0>)"
     },
     "execution_count": 8,
     "metadata": {},
     "output_type": "execute_result"
    }
   ],
   "source": [
    "embedding = nn.Embedding(26, 1)\n",
    "words_list = embedding(words_list)\n",
    "words_list = words_list.view(-1, 5)\n",
    "words_list"
   ]
  },
  {
   "cell_type": "code",
   "execution_count": 9,
   "metadata": {
    "execution": {
     "iopub.execute_input": "2023-02-19T02:52:30.957867Z",
     "iopub.status.busy": "2023-02-19T02:52:30.957712Z",
     "iopub.status.idle": "2023-02-19T02:52:30.962840Z",
     "shell.execute_reply": "2023-02-19T02:52:30.962364Z",
     "shell.execute_reply.started": "2023-02-19T02:52:30.957852Z"
    }
   },
   "outputs": [
    {
     "data": {
      "text/plain": "tensor([[-0.4826, -1.6837, -0.3317,  ..., -0.6392,  0.6046, -0.5179],\n        [-0.4025, -1.1929, -0.7567,  ..., -0.4253,  0.6046, -0.5179],\n        [-1.0653, -0.5986, -1.1929,  ..., -0.0307, -1.4202, -1.4103],\n        ...,\n        [ 0.0538, -0.7567,  0.3571,  ..., -0.4025,  0.6046,  0.3746],\n        [ 0.5637, -0.5986, -1.6837,  ..., -1.1929,  0.6046, -0.5179],\n        [ 0.5637, -0.7567,  0.8559,  ..., -1.9005,  0.6046, -0.5179]],\n       grad_fn=<CatBackward0>)"
     },
     "execution_count": 9,
     "metadata": {},
     "output_type": "execute_result"
    }
   ],
   "source": [
    "max_size = len(words_list)\n",
    "data = torch.cat((words_list, torch.Tensor(df[\"uniq\"]).unsqueeze(1), torch.Tensor(df[\"star\"]).unsqueeze(1)), dim=1)\n",
    "# data = torch.cat((words_list, ), dim=1)\n",
    "data"
   ]
  },
  {
   "cell_type": "code",
   "execution_count": 10,
   "metadata": {
    "execution": {
     "iopub.execute_input": "2023-02-19T02:52:30.963636Z",
     "iopub.status.busy": "2023-02-19T02:52:30.963479Z",
     "iopub.status.idle": "2023-02-19T02:52:30.970748Z",
     "shell.execute_reply": "2023-02-19T02:52:30.970257Z",
     "shell.execute_reply.started": "2023-02-19T02:52:30.963621Z"
    }
   },
   "outputs": [
    {
     "data": {
      "text/plain": "     1 try  2 tries  3 tries  4 tries  5 tries  6 tries  7 or more tries (X)\n0        1        3       23       39       24        9                    1\n1        1        5       23       31       24       14                    2\n2        1        3       13       27       30       22                    4\n3        1        4       16       30       30       17                    2\n4        1        9       35       34       16        5                    1\n..     ...      ...      ...      ...      ...      ...                  ...\n350      0        2       17       35       29       14                    3\n351      0        3       21       40       25        9                    1\n352      0        2       16       38       30       12                    2\n353      0        4       21       38       26        9                    1\n354      0        2       17       37       29       12                    2\n\n[355 rows x 7 columns]",
      "text/html": "<div>\n<style scoped>\n    .dataframe tbody tr th:only-of-type {\n        vertical-align: middle;\n    }\n\n    .dataframe tbody tr th {\n        vertical-align: top;\n    }\n\n    .dataframe thead th {\n        text-align: right;\n    }\n</style>\n<table border=\"1\" class=\"dataframe\">\n  <thead>\n    <tr style=\"text-align: right;\">\n      <th></th>\n      <th>1 try</th>\n      <th>2 tries</th>\n      <th>3 tries</th>\n      <th>4 tries</th>\n      <th>5 tries</th>\n      <th>6 tries</th>\n      <th>7 or more tries (X)</th>\n    </tr>\n  </thead>\n  <tbody>\n    <tr>\n      <th>0</th>\n      <td>1</td>\n      <td>3</td>\n      <td>23</td>\n      <td>39</td>\n      <td>24</td>\n      <td>9</td>\n      <td>1</td>\n    </tr>\n    <tr>\n      <th>1</th>\n      <td>1</td>\n      <td>5</td>\n      <td>23</td>\n      <td>31</td>\n      <td>24</td>\n      <td>14</td>\n      <td>2</td>\n    </tr>\n    <tr>\n      <th>2</th>\n      <td>1</td>\n      <td>3</td>\n      <td>13</td>\n      <td>27</td>\n      <td>30</td>\n      <td>22</td>\n      <td>4</td>\n    </tr>\n    <tr>\n      <th>3</th>\n      <td>1</td>\n      <td>4</td>\n      <td>16</td>\n      <td>30</td>\n      <td>30</td>\n      <td>17</td>\n      <td>2</td>\n    </tr>\n    <tr>\n      <th>4</th>\n      <td>1</td>\n      <td>9</td>\n      <td>35</td>\n      <td>34</td>\n      <td>16</td>\n      <td>5</td>\n      <td>1</td>\n    </tr>\n    <tr>\n      <th>...</th>\n      <td>...</td>\n      <td>...</td>\n      <td>...</td>\n      <td>...</td>\n      <td>...</td>\n      <td>...</td>\n      <td>...</td>\n    </tr>\n    <tr>\n      <th>350</th>\n      <td>0</td>\n      <td>2</td>\n      <td>17</td>\n      <td>35</td>\n      <td>29</td>\n      <td>14</td>\n      <td>3</td>\n    </tr>\n    <tr>\n      <th>351</th>\n      <td>0</td>\n      <td>3</td>\n      <td>21</td>\n      <td>40</td>\n      <td>25</td>\n      <td>9</td>\n      <td>1</td>\n    </tr>\n    <tr>\n      <th>352</th>\n      <td>0</td>\n      <td>2</td>\n      <td>16</td>\n      <td>38</td>\n      <td>30</td>\n      <td>12</td>\n      <td>2</td>\n    </tr>\n    <tr>\n      <th>353</th>\n      <td>0</td>\n      <td>4</td>\n      <td>21</td>\n      <td>38</td>\n      <td>26</td>\n      <td>9</td>\n      <td>1</td>\n    </tr>\n    <tr>\n      <th>354</th>\n      <td>0</td>\n      <td>2</td>\n      <td>17</td>\n      <td>37</td>\n      <td>29</td>\n      <td>12</td>\n      <td>2</td>\n    </tr>\n  </tbody>\n</table>\n<p>355 rows × 7 columns</p>\n</div>"
     },
     "execution_count": 10,
     "metadata": {},
     "output_type": "execute_result"
    }
   ],
   "source": [
    "df.iloc[:, 8: 15]"
   ]
  },
  {
   "cell_type": "code",
   "execution_count": 11,
   "metadata": {
    "execution": {
     "iopub.execute_input": "2023-02-19T02:52:30.971534Z",
     "iopub.status.busy": "2023-02-19T02:52:30.971379Z",
     "iopub.status.idle": "2023-02-19T02:52:30.977321Z",
     "shell.execute_reply": "2023-02-19T02:52:30.976833Z",
     "shell.execute_reply.started": "2023-02-19T02:52:30.971519Z"
    }
   },
   "outputs": [
    {
     "data": {
      "text/plain": "tensor([[0.0100, 0.0300, 0.2300,  ..., 0.2400, 0.0900, 0.0100],\n        [0.0100, 0.0500, 0.2300,  ..., 0.2400, 0.1400, 0.0200],\n        [0.0100, 0.0300, 0.1300,  ..., 0.3000, 0.2200, 0.0400],\n        ...,\n        [0.0000, 0.0200, 0.1600,  ..., 0.3000, 0.1200, 0.0200],\n        [0.0000, 0.0400, 0.2100,  ..., 0.2600, 0.0900, 0.0100],\n        [0.0000, 0.0200, 0.1700,  ..., 0.2900, 0.1200, 0.0200]])"
     },
     "execution_count": 11,
     "metadata": {},
     "output_type": "execute_result"
    }
   ],
   "source": [
    "per = df.iloc[:, 8: 15]\n",
    "per = [([j / 100 for j in i]) for i in per.values]\n",
    "per = torch.Tensor(per)\n",
    "per"
   ]
  },
  {
   "cell_type": "code",
   "execution_count": 12,
   "metadata": {
    "execution": {
     "iopub.execute_input": "2023-02-19T02:52:30.978132Z",
     "iopub.status.busy": "2023-02-19T02:52:30.977974Z",
     "iopub.status.idle": "2023-02-19T02:52:31.055453Z",
     "shell.execute_reply": "2023-02-19T02:52:31.054926Z",
     "shell.execute_reply.started": "2023-02-19T02:52:30.978118Z"
    }
   },
   "outputs": [],
   "source": [
    "device = \"cuda:0\" if torch.cuda.is_available() else \"cpu\""
   ]
  },
  {
   "cell_type": "code",
   "execution_count": 13,
   "metadata": {
    "execution": {
     "iopub.execute_input": "2023-02-19T02:52:31.056240Z",
     "iopub.status.busy": "2023-02-19T02:52:31.056081Z",
     "iopub.status.idle": "2023-02-19T02:52:33.349509Z",
     "shell.execute_reply": "2023-02-19T02:52:33.348752Z",
     "shell.execute_reply.started": "2023-02-19T02:52:31.056225Z"
    }
   },
   "outputs": [
    {
     "data": {
      "text/plain": "device(type='cuda', index=0)"
     },
     "execution_count": 13,
     "metadata": {},
     "output_type": "execute_result"
    }
   ],
   "source": [
    "data = data.to(device)\n",
    "per = per.to(device)\n",
    "data.device"
   ]
  },
  {
   "cell_type": "code",
   "execution_count": 14,
   "metadata": {
    "execution": {
     "iopub.execute_input": "2023-02-19T02:52:33.350843Z",
     "iopub.status.busy": "2023-02-19T02:52:33.350414Z",
     "iopub.status.idle": "2023-02-19T02:52:33.354262Z",
     "shell.execute_reply": "2023-02-19T02:52:33.353775Z",
     "shell.execute_reply.started": "2023-02-19T02:52:33.350826Z"
    }
   },
   "outputs": [
    {
     "data": {
      "text/plain": "319"
     },
     "execution_count": 14,
     "metadata": {},
     "output_type": "execute_result"
    }
   ],
   "source": [
    "train_size = int(len(data) * 0.9)\n",
    "train_size"
   ]
  },
  {
   "cell_type": "code",
   "execution_count": 15,
   "metadata": {
    "execution": {
     "iopub.execute_input": "2023-02-19T02:52:33.355050Z",
     "iopub.status.busy": "2023-02-19T02:52:33.354896Z",
     "iopub.status.idle": "2023-02-19T02:52:33.358903Z",
     "shell.execute_reply": "2023-02-19T02:52:33.358457Z",
     "shell.execute_reply.started": "2023-02-19T02:52:33.355036Z"
    }
   },
   "outputs": [
    {
     "data": {
      "text/plain": "(torch.Size([319, 7]),\n torch.Size([36, 7]),\n torch.Size([319, 7]),\n torch.Size([36, 7]))"
     },
     "execution_count": 15,
     "metadata": {},
     "output_type": "execute_result"
    }
   ],
   "source": [
    "x_train = data[:train_size]\n",
    "x_test = data[train_size:]\n",
    "y_train = per[:train_size]\n",
    "y_test = per[train_size:]\n",
    "x_train.shape, x_test.shape, y_train.shape, y_test.shape"
   ]
  },
  {
   "cell_type": "code",
   "execution_count": 16,
   "metadata": {
    "execution": {
     "iopub.execute_input": "2023-02-19T02:52:33.359675Z",
     "iopub.status.busy": "2023-02-19T02:52:33.359521Z",
     "iopub.status.idle": "2023-02-19T02:52:33.361820Z",
     "shell.execute_reply": "2023-02-19T02:52:33.361389Z",
     "shell.execute_reply.started": "2023-02-19T02:52:33.359661Z"
    }
   },
   "outputs": [],
   "source": [
    "# x_train_w = torch.LongTensor(x_train[:][0:5])\n",
    "# x_train_w"
   ]
  },
  {
   "cell_type": "code",
   "execution_count": 17,
   "metadata": {
    "execution": {
     "iopub.execute_input": "2023-02-19T02:52:33.362582Z",
     "iopub.status.busy": "2023-02-19T02:52:33.362382Z",
     "iopub.status.idle": "2023-02-19T02:52:33.364875Z",
     "shell.execute_reply": "2023-02-19T02:52:33.364450Z",
     "shell.execute_reply.started": "2023-02-19T02:52:33.362566Z"
    }
   },
   "outputs": [],
   "source": [
    "# x_train_w = torch.LongTensor(x_train)\n",
    "# x_test_w = torch.LongTensor(x_test)\n",
    "# y_train_w = torch.Tensor(y_train)\n",
    "# y_test_w = torch.Tensor(y_test)\n",
    "# x_test_w.shape"
   ]
  },
  {
   "cell_type": "code",
   "execution_count": 18,
   "metadata": {
    "execution": {
     "iopub.execute_input": "2023-02-19T02:52:33.365580Z",
     "iopub.status.busy": "2023-02-19T02:52:33.365441Z",
     "iopub.status.idle": "2023-02-19T02:52:33.367723Z",
     "shell.execute_reply": "2023-02-19T02:52:33.367256Z",
     "shell.execute_reply.started": "2023-02-19T02:52:33.365567Z"
    }
   },
   "outputs": [],
   "source": [
    "# embedding = nn.Embedding(26, 1)\n",
    "# x_train = embedding(x_train)\n",
    "# x_train = x_train.view(-1, 5)\n",
    "# x_train"
   ]
  },
  {
   "cell_type": "code",
   "execution_count": 19,
   "metadata": {
    "execution": {
     "iopub.execute_input": "2023-02-19T02:52:33.368467Z",
     "iopub.status.busy": "2023-02-19T02:52:33.368320Z",
     "iopub.status.idle": "2023-02-19T02:52:33.370692Z",
     "shell.execute_reply": "2023-02-19T02:52:33.370224Z",
     "shell.execute_reply.started": "2023-02-19T02:52:33.368453Z"
    }
   },
   "outputs": [],
   "source": [
    "# x_test = embedding(x_test)\n",
    "# x_test = x_test.view(-1, 5)\n",
    "# x_test"
   ]
  },
  {
   "cell_type": "code",
   "execution_count": 19,
   "metadata": {
    "collapsed": false,
    "jupyter": {
     "outputs_hidden": false
    }
   },
   "outputs": [],
   "source": []
  },
  {
   "cell_type": "markdown",
   "metadata": {},
   "source": []
  },
  {
   "cell_type": "code",
   "execution_count": 20,
   "metadata": {
    "execution": {
     "iopub.execute_input": "2023-02-19T02:52:33.371462Z",
     "iopub.status.busy": "2023-02-19T02:52:33.371314Z",
     "iopub.status.idle": "2023-02-19T02:52:33.375414Z",
     "shell.execute_reply": "2023-02-19T02:52:33.374924Z",
     "shell.execute_reply.started": "2023-02-19T02:52:33.371448Z"
    },
    "tags": []
   },
   "outputs": [],
   "source": [
    "class MLP(nn.Module):\n",
    "    def __init__(self):\n",
    "        super(MLP, self).__init__()\n",
    "        self.net = nn.Sequential(\n",
    "            nn.Linear(7, 128),\n",
    "            nn.ReLU(),\n",
    "            nn.Linear(128, 256),\n",
    "            nn.ReLU(),\n",
    "            nn.Linear(256, 7),\n",
    "            nn.ReLU(),\n",
    "        )\n",
    "\n",
    "    def forward(self, x):\n",
    "        out = self.net(x)\n",
    "        # out = [[j / sum(i) for j in i] for i in out.tolist()]\n",
    "        s = torch.sum(out, axis=1)\n",
    "        s.unsqueeze_(0)\n",
    "        s = s.repeat_interleave(7, axis=1).view(-1, 7)\n",
    "        return torch.div(out, s)"
   ]
  },
  {
   "cell_type": "code",
   "execution_count": 21,
   "metadata": {
    "execution": {
     "iopub.execute_input": "2023-02-19T02:52:33.376376Z",
     "iopub.status.busy": "2023-02-19T02:52:33.376036Z",
     "iopub.status.idle": "2023-02-19T02:52:33.379824Z",
     "shell.execute_reply": "2023-02-19T02:52:33.379353Z",
     "shell.execute_reply.started": "2023-02-19T02:52:33.376360Z"
    },
    "tags": []
   },
   "outputs": [],
   "source": [
    "model = MLP().to(device)\n",
    "criterion = nn.MSELoss()\n",
    "optimizer = torch.optim.Adam(model.parameters(), lr=0.001)"
   ]
  },
  {
   "cell_type": "code",
   "execution_count": 22,
   "metadata": {
    "execution": {
     "iopub.execute_input": "2023-02-19T02:52:33.382315Z",
     "iopub.status.busy": "2023-02-19T02:52:33.381949Z",
     "iopub.status.idle": "2023-02-19T02:52:33.385413Z",
     "shell.execute_reply": "2023-02-19T02:52:33.384976Z",
     "shell.execute_reply.started": "2023-02-19T02:52:33.382299Z"
    },
    "tags": []
   },
   "outputs": [
    {
     "data": {
      "text/plain": "device(type='cuda', index=0)"
     },
     "execution_count": 22,
     "metadata": {},
     "output_type": "execute_result"
    }
   ],
   "source": [
    "x_train.device"
   ]
  },
  {
   "cell_type": "code",
   "execution_count": 23,
   "metadata": {
    "execution": {
     "iopub.execute_input": "2023-02-19T02:52:33.386132Z",
     "iopub.status.busy": "2023-02-19T02:52:33.385984Z",
     "iopub.status.idle": "2023-02-19T02:52:33.390035Z",
     "shell.execute_reply": "2023-02-19T02:52:33.389568Z",
     "shell.execute_reply.started": "2023-02-19T02:52:33.386118Z"
    },
    "tags": []
   },
   "outputs": [],
   "source": [
    "def train(num_epochs):\n",
    "    for epoch in range(num_epochs):\n",
    "        pred = model(x_train)\n",
    "        # print(pred.tolist())\n",
    "        # print(pp)\n",
    "        # print(pred)\n",
    "        loss = criterion(pred, y_train)\n",
    "        optimizer.zero_grad()\n",
    "        loss.backward(retain_graph=True)\n",
    "        optimizer.step()\n",
    "        train_l_sum = loss.item()\n",
    "        if epoch % 1000 == 0:\n",
    "            print(\n",
    "                'epoch %d, loss %.4f'\n",
    "                % (epoch + 1, train_l_sum))\n",
    "    # px.line(y=np.array(y_train.cpu().detach_())[:, 0]).show()\n",
    "\n",
    "\n",
    "def test():\n",
    "    with torch.no_grad():\n",
    "        pred = model(x_test)\n",
    "        loss = criterion(pred, y_test)\n",
    "        print(loss)\n",
    "        print(pred[0])\n",
    "        print(y_test[0])"
   ]
  },
  {
   "cell_type": "code",
   "execution_count": 24,
   "metadata": {
    "execution": {
     "iopub.execute_input": "2023-02-19T02:52:33.390790Z",
     "iopub.status.busy": "2023-02-19T02:52:33.390635Z",
     "iopub.status.idle": "2023-02-19T02:52:38.886790Z",
     "shell.execute_reply": "2023-02-19T02:52:38.886063Z",
     "shell.execute_reply.started": "2023-02-19T02:52:33.390775Z"
    },
    "tags": []
   },
   "outputs": [
    {
     "name": "stdout",
     "output_type": "stream",
     "text": [
      "epoch 1, loss 0.0846\n",
      "epoch 1001, loss 0.0000\n"
     ]
    }
   ],
   "source": [
    "train(2000)"
   ]
  },
  {
   "cell_type": "code",
   "execution_count": 25,
   "metadata": {
    "execution": {
     "iopub.execute_input": "2023-02-19T02:52:38.887761Z",
     "iopub.status.busy": "2023-02-19T02:52:38.887586Z",
     "iopub.status.idle": "2023-02-19T02:52:38.893280Z",
     "shell.execute_reply": "2023-02-19T02:52:38.892584Z",
     "shell.execute_reply.started": "2023-02-19T02:52:38.887744Z"
    },
    "tags": []
   },
   "outputs": [
    {
     "name": "stdout",
     "output_type": "stream",
     "text": [
      "tensor(0.0049, device='cuda:0')\n",
      "tensor([0.0000, 0.0075, 0.1851, 0.3391, 0.3025, 0.1471, 0.0187],\n",
      "       device='cuda:0')\n",
      "tensor([0.0500, 0.1300, 0.2500, 0.2700, 0.1900, 0.1000, 0.0200],\n",
      "       device='cuda:0')\n"
     ]
    }
   ],
   "source": [
    "test()"
   ]
  },
  {
   "cell_type": "code",
   "execution_count": 26,
   "metadata": {
    "execution": {
     "iopub.execute_input": "2023-02-19T02:52:38.894240Z",
     "iopub.status.busy": "2023-02-19T02:52:38.894079Z",
     "iopub.status.idle": "2023-02-19T02:52:38.898886Z",
     "shell.execute_reply": "2023-02-19T02:52:38.898242Z",
     "shell.execute_reply.started": "2023-02-19T02:52:38.894226Z"
    },
    "tags": []
   },
   "outputs": [
    {
     "data": {
      "text/plain": "[[4, 4, 17, 8, 4]]"
     },
     "execution_count": 26,
     "metadata": {},
     "output_type": "execute_result"
    }
   ],
   "source": [
    "w = \"eerie\"\n",
    "w = [dic[i] for i in w]\n",
    "[w]"
   ]
  },
  {
   "cell_type": "code",
   "execution_count": 27,
   "metadata": {
    "execution": {
     "iopub.execute_input": "2023-02-19T02:52:38.899777Z",
     "iopub.status.busy": "2023-02-19T02:52:38.899626Z",
     "iopub.status.idle": "2023-02-19T02:52:38.905793Z",
     "shell.execute_reply": "2023-02-19T02:52:38.905165Z",
     "shell.execute_reply.started": "2023-02-19T02:52:38.899763Z"
    },
    "tags": []
   },
   "outputs": [
    {
     "data": {
      "text/plain": "tensor([[-0.0307, -0.0307, -1.1929,  0.0333, -0.0307, -3.4449, -0.5179]],\n       device='cuda:0', grad_fn=<ToCopyBackward0>)"
     },
     "execution_count": 27,
     "metadata": {},
     "output_type": "execute_result"
    }
   ],
   "source": [
    "w = embedding(torch.LongTensor([[4, 4, 17, 8, 4]])).view(-1, 5)\n",
    "w = torch.cat((w, torch.Tensor([(3 - u_m) / u_s]).unsqueeze(1), torch.Tensor([(2 - s_m) / s_s]).unsqueeze(1)), dim=1)\n",
    "w = w.to(device)\n",
    "w"
   ]
  },
  {
   "cell_type": "code",
   "execution_count": 28,
   "metadata": {
    "execution": {
     "iopub.execute_input": "2023-02-19T02:52:38.906553Z",
     "iopub.status.busy": "2023-02-19T02:52:38.906400Z",
     "iopub.status.idle": "2023-02-19T02:52:38.911706Z",
     "shell.execute_reply": "2023-02-19T02:52:38.911081Z",
     "shell.execute_reply.started": "2023-02-19T02:52:38.906539Z"
    },
    "tags": []
   },
   "outputs": [
    {
     "data": {
      "text/plain": "tensor([[0.0000, 0.0039, 0.1387, 0.3404, 0.3366, 0.1805, 0.0000]],\n       device='cuda:0', grad_fn=<DivBackward0>)"
     },
     "execution_count": 28,
     "metadata": {},
     "output_type": "execute_result"
    }
   ],
   "source": [
    "model(w)"
   ]
  },
  {
   "cell_type": "code",
   "execution_count": 28,
   "metadata": {
    "collapsed": false,
    "jupyter": {
     "outputs_hidden": false
    }
   },
   "outputs": [],
   "source": [
    "# tash  1\n",
    "# rprobe\n",
    "# clen\n"
   ]
  },
  {
   "cell_type": "code",
   "execution_count": 28,
   "metadata": {},
   "outputs": [],
   "source": []
  }
 ],
 "metadata": {
  "kernelspec": {
   "display_name": "Python 3 (ipykernel)",
   "language": "python",
   "name": "python3"
  },
  "language_info": {
   "codemirror_mode": {
    "name": "ipython",
    "version": 3
   },
   "file_extension": ".py",
   "mimetype": "text/x-python",
   "name": "python",
   "nbconvert_exporter": "python",
   "pygments_lexer": "ipython3",
   "version": "3.8.13"
  }
 },
 "nbformat": 4,
 "nbformat_minor": 4
}
