{
 "cells": [
  {
   "cell_type": "code",
   "execution_count": 11,
   "metadata": {
    "collapsed": true
   },
   "outputs": [],
   "source": [
    "import pandas as pd"
   ]
  },
  {
   "cell_type": "code",
   "execution_count": 12,
   "outputs": [
    {
     "data": {
      "text/plain": "     Unnamed: 0  Unnamed: 0.1       Date  Contest number   Word  \\\n0             0             0 2022-01-07             202  slump   \n1             1             1 2022-01-08             203  crank   \n2             2             2 2022-01-09             204  gorge   \n3             3             3 2022-01-10             205  query   \n4             4             4 2022-01-11             206  drink   \n..          ...           ...        ...             ...    ...   \n350         350           350 2022-12-27             556  condo   \n351         351           351 2022-12-28             557  impel   \n352         352           352 2022-12-29             558  havoc   \n353         353           353 2022-12-30             559  molar   \n354         354           354 2022-12-31             560  manly   \n\n     Number of  reported results  Number in hard mode  1 try  2 tries  \\\n0                          80630                 1362      1        3   \n1                         101503                 1763      1        5   \n2                          91477                 1913      1        3   \n3                         107134                 2242      1        4   \n4                         153880                 3017      1        9   \n..                           ...                  ...    ...      ...   \n350                        20879                 2012      0        2   \n351                        20160                 1937      0        3   \n352                        20001                 1919      0        2   \n353                        21204                 1973      0        4   \n354                        20380                 1899      0        2   \n\n     3 tries  4 tries  5 tries  6 tries  7 or more tries (X)     ratio  vowel  \\\n0         23       39       24        9                    1  0.016892      1   \n1         23       31       24       14                    2  0.017369      1   \n2         13       27       30       22                    4  0.020912      2   \n3         16       30       30       17                    2  0.020927      2   \n4         35       34       16        5                    1  0.019606      1   \n..       ...      ...      ...      ...                  ...       ...    ...   \n350       17       35       29       14                    3  0.096365      2   \n351       21       40       25        9                    1  0.096081      2   \n352       16       38       30       12                    2  0.095945      2   \n353       21       38       26        9                    1  0.093048      2   \n354       17       37       29       12                    2  0.093180      1   \n\n     len  uniq  star  \n0      5     5     2  \n1      5     5     1  \n2      5     4     1  \n3      5     5     2  \n4      5     5     4  \n..   ...   ...   ...  \n350    5     4     0  \n351    5     5     0  \n352    5     5     0  \n353    5     5     0  \n354    5     5     0  \n\n[355 rows x 19 columns]",
      "text/html": "<div>\n<style scoped>\n    .dataframe tbody tr th:only-of-type {\n        vertical-align: middle;\n    }\n\n    .dataframe tbody tr th {\n        vertical-align: top;\n    }\n\n    .dataframe thead th {\n        text-align: right;\n    }\n</style>\n<table border=\"1\" class=\"dataframe\">\n  <thead>\n    <tr style=\"text-align: right;\">\n      <th></th>\n      <th>Unnamed: 0</th>\n      <th>Unnamed: 0.1</th>\n      <th>Date</th>\n      <th>Contest number</th>\n      <th>Word</th>\n      <th>Number of  reported results</th>\n      <th>Number in hard mode</th>\n      <th>1 try</th>\n      <th>2 tries</th>\n      <th>3 tries</th>\n      <th>4 tries</th>\n      <th>5 tries</th>\n      <th>6 tries</th>\n      <th>7 or more tries (X)</th>\n      <th>ratio</th>\n      <th>vowel</th>\n      <th>len</th>\n      <th>uniq</th>\n      <th>star</th>\n    </tr>\n  </thead>\n  <tbody>\n    <tr>\n      <th>0</th>\n      <td>0</td>\n      <td>0</td>\n      <td>2022-01-07</td>\n      <td>202</td>\n      <td>slump</td>\n      <td>80630</td>\n      <td>1362</td>\n      <td>1</td>\n      <td>3</td>\n      <td>23</td>\n      <td>39</td>\n      <td>24</td>\n      <td>9</td>\n      <td>1</td>\n      <td>0.016892</td>\n      <td>1</td>\n      <td>5</td>\n      <td>5</td>\n      <td>2</td>\n    </tr>\n    <tr>\n      <th>1</th>\n      <td>1</td>\n      <td>1</td>\n      <td>2022-01-08</td>\n      <td>203</td>\n      <td>crank</td>\n      <td>101503</td>\n      <td>1763</td>\n      <td>1</td>\n      <td>5</td>\n      <td>23</td>\n      <td>31</td>\n      <td>24</td>\n      <td>14</td>\n      <td>2</td>\n      <td>0.017369</td>\n      <td>1</td>\n      <td>5</td>\n      <td>5</td>\n      <td>1</td>\n    </tr>\n    <tr>\n      <th>2</th>\n      <td>2</td>\n      <td>2</td>\n      <td>2022-01-09</td>\n      <td>204</td>\n      <td>gorge</td>\n      <td>91477</td>\n      <td>1913</td>\n      <td>1</td>\n      <td>3</td>\n      <td>13</td>\n      <td>27</td>\n      <td>30</td>\n      <td>22</td>\n      <td>4</td>\n      <td>0.020912</td>\n      <td>2</td>\n      <td>5</td>\n      <td>4</td>\n      <td>1</td>\n    </tr>\n    <tr>\n      <th>3</th>\n      <td>3</td>\n      <td>3</td>\n      <td>2022-01-10</td>\n      <td>205</td>\n      <td>query</td>\n      <td>107134</td>\n      <td>2242</td>\n      <td>1</td>\n      <td>4</td>\n      <td>16</td>\n      <td>30</td>\n      <td>30</td>\n      <td>17</td>\n      <td>2</td>\n      <td>0.020927</td>\n      <td>2</td>\n      <td>5</td>\n      <td>5</td>\n      <td>2</td>\n    </tr>\n    <tr>\n      <th>4</th>\n      <td>4</td>\n      <td>4</td>\n      <td>2022-01-11</td>\n      <td>206</td>\n      <td>drink</td>\n      <td>153880</td>\n      <td>3017</td>\n      <td>1</td>\n      <td>9</td>\n      <td>35</td>\n      <td>34</td>\n      <td>16</td>\n      <td>5</td>\n      <td>1</td>\n      <td>0.019606</td>\n      <td>1</td>\n      <td>5</td>\n      <td>5</td>\n      <td>4</td>\n    </tr>\n    <tr>\n      <th>...</th>\n      <td>...</td>\n      <td>...</td>\n      <td>...</td>\n      <td>...</td>\n      <td>...</td>\n      <td>...</td>\n      <td>...</td>\n      <td>...</td>\n      <td>...</td>\n      <td>...</td>\n      <td>...</td>\n      <td>...</td>\n      <td>...</td>\n      <td>...</td>\n      <td>...</td>\n      <td>...</td>\n      <td>...</td>\n      <td>...</td>\n      <td>...</td>\n    </tr>\n    <tr>\n      <th>350</th>\n      <td>350</td>\n      <td>350</td>\n      <td>2022-12-27</td>\n      <td>556</td>\n      <td>condo</td>\n      <td>20879</td>\n      <td>2012</td>\n      <td>0</td>\n      <td>2</td>\n      <td>17</td>\n      <td>35</td>\n      <td>29</td>\n      <td>14</td>\n      <td>3</td>\n      <td>0.096365</td>\n      <td>2</td>\n      <td>5</td>\n      <td>4</td>\n      <td>0</td>\n    </tr>\n    <tr>\n      <th>351</th>\n      <td>351</td>\n      <td>351</td>\n      <td>2022-12-28</td>\n      <td>557</td>\n      <td>impel</td>\n      <td>20160</td>\n      <td>1937</td>\n      <td>0</td>\n      <td>3</td>\n      <td>21</td>\n      <td>40</td>\n      <td>25</td>\n      <td>9</td>\n      <td>1</td>\n      <td>0.096081</td>\n      <td>2</td>\n      <td>5</td>\n      <td>5</td>\n      <td>0</td>\n    </tr>\n    <tr>\n      <th>352</th>\n      <td>352</td>\n      <td>352</td>\n      <td>2022-12-29</td>\n      <td>558</td>\n      <td>havoc</td>\n      <td>20001</td>\n      <td>1919</td>\n      <td>0</td>\n      <td>2</td>\n      <td>16</td>\n      <td>38</td>\n      <td>30</td>\n      <td>12</td>\n      <td>2</td>\n      <td>0.095945</td>\n      <td>2</td>\n      <td>5</td>\n      <td>5</td>\n      <td>0</td>\n    </tr>\n    <tr>\n      <th>353</th>\n      <td>353</td>\n      <td>353</td>\n      <td>2022-12-30</td>\n      <td>559</td>\n      <td>molar</td>\n      <td>21204</td>\n      <td>1973</td>\n      <td>0</td>\n      <td>4</td>\n      <td>21</td>\n      <td>38</td>\n      <td>26</td>\n      <td>9</td>\n      <td>1</td>\n      <td>0.093048</td>\n      <td>2</td>\n      <td>5</td>\n      <td>5</td>\n      <td>0</td>\n    </tr>\n    <tr>\n      <th>354</th>\n      <td>354</td>\n      <td>354</td>\n      <td>2022-12-31</td>\n      <td>560</td>\n      <td>manly</td>\n      <td>20380</td>\n      <td>1899</td>\n      <td>0</td>\n      <td>2</td>\n      <td>17</td>\n      <td>37</td>\n      <td>29</td>\n      <td>12</td>\n      <td>2</td>\n      <td>0.093180</td>\n      <td>1</td>\n      <td>5</td>\n      <td>5</td>\n      <td>0</td>\n    </tr>\n  </tbody>\n</table>\n<p>355 rows × 19 columns</p>\n</div>"
     },
     "execution_count": 12,
     "metadata": {},
     "output_type": "execute_result"
    }
   ],
   "source": [
    "df = pd.read_excel(\"data3.xlsx\")\n",
    "df"
   ],
   "metadata": {
    "collapsed": false
   }
  },
  {
   "cell_type": "code",
   "execution_count": 13,
   "outputs": [],
   "source": [
    "words = df[\"Word\"]\n",
    "df[\"star\"] = 0"
   ],
   "metadata": {
    "collapsed": false
   }
  },
  {
   "cell_type": "code",
   "execution_count": 14,
   "outputs": [
    {
     "name": "stderr",
     "output_type": "stream",
     "text": [
      "X:\\Temp\\ipykernel_27196\\3901877058.py:25: SettingWithCopyWarning: \n",
      "A value is trying to be set on a copy of a slice from a DataFrame\n",
      "\n",
      "See the caveats in the documentation: https://pandas.pydata.org/pandas-docs/stable/user_guide/indexing.html#returning-a-view-versus-a-copy\n",
      "  df[\"star\"][i] = re.findall(r\"star star\\d*\", selenium_page)[0][-1]\n"
     ]
    },
    {
     "name": "stdout",
     "output_type": "stream",
     "text": [
      "294 1\n",
      "except\n",
      "except\n",
      "297 1\n",
      "298 1\n",
      "299 5\n",
      "300 4\n",
      "301 1\n",
      "302 5\n",
      "303 3\n",
      "304 1\n",
      "305 2\n",
      "306 3\n",
      "except\n",
      "except\n",
      "309 1\n",
      "310 1\n",
      "311 1\n",
      "312 5\n",
      "except\n",
      "314 2\n",
      "315 3\n",
      "except\n",
      "317 3\n",
      "318 5\n",
      "319 2\n",
      "except\n",
      "321 4\n",
      "322 1\n",
      "323 1\n",
      "324 5\n",
      "325 1\n",
      "except\n",
      "327 1\n",
      "328 1\n",
      "except\n",
      "330 1\n",
      "except\n",
      "332 1\n",
      "333 1\n",
      "334 3\n",
      "except\n",
      "336 4\n",
      "except\n",
      "338 4\n",
      "339 4\n",
      "340 2\n",
      "341 1\n",
      "342 2\n",
      "343 4\n",
      "344 1\n",
      "345 1\n",
      "except\n",
      "except\n",
      "348 4\n",
      "349 4\n",
      "except\n",
      "except\n",
      "352 1\n",
      "except\n",
      "354 1\n",
      "--\n"
     ]
    }
   ],
   "source": [
    "import time\n",
    "from selenium import webdriver\n",
    "from selenium.webdriver.chrome.service import Service  # 新增\n",
    "from selenium.webdriver.common.by import By\n",
    "import re\n",
    "\n",
    "max_size = len(words)\n",
    "path = \"D:\\MyPython\\msedgedriver.exe\"\n",
    "service = Service(executable_path=path)\n",
    "option = webdriver.EdgeOptions()\n",
    "option.add_argument('headless')\n",
    "for i in range(294, max_size):\n",
    "    driver = webdriver.Edge(service=service, options=option)\n",
    "    p = \"https://dict.youdao.com/result?word=\" + words[i] + \"&lang=en\"\n",
    "    driver.get(p)\n",
    "    time.sleep(4)\n",
    "    try:\n",
    "        button = driver.find_element(by=By.XPATH,\n",
    "                                     value=\"/html/body/div/div/div/div/div[1]/div/div/section/div[2]/div[1]/div/ul/li[2]\")\n",
    "        # print(button)\n",
    "        button.click()\n",
    "        selenium_page = driver.page_source\n",
    "        # print(selenium_page)\n",
    "\n",
    "        df[\"star\"][i] = re.findall(r\"star star\\d*\", selenium_page)[0][-1]\n",
    "        print(i, df[\"star\"][i])\n",
    "    except:\n",
    "        print(\"except\")\n",
    "        driver.quit()\n",
    "        time.sleep(0.5)\n",
    "    driver.quit()\n",
    "    time.sleep(0.5)\n",
    "print(\"--\")"
   ],
   "metadata": {
    "collapsed": false
   }
  },
  {
   "cell_type": "code",
   "execution_count": 15,
   "outputs": [
    {
     "data": {
      "text/plain": "     Unnamed: 0  Unnamed: 0.1       Date  Contest number   Word  \\\n0             0             0 2022-01-07             202  slump   \n1             1             1 2022-01-08             203  crank   \n2             2             2 2022-01-09             204  gorge   \n3             3             3 2022-01-10             205  query   \n4             4             4 2022-01-11             206  drink   \n..          ...           ...        ...             ...    ...   \n350         350           350 2022-12-27             556  condo   \n351         351           351 2022-12-28             557  impel   \n352         352           352 2022-12-29             558  havoc   \n353         353           353 2022-12-30             559  molar   \n354         354           354 2022-12-31             560  manly   \n\n     Number of  reported results  Number in hard mode  1 try  2 tries  \\\n0                          80630                 1362      1        3   \n1                         101503                 1763      1        5   \n2                          91477                 1913      1        3   \n3                         107134                 2242      1        4   \n4                         153880                 3017      1        9   \n..                           ...                  ...    ...      ...   \n350                        20879                 2012      0        2   \n351                        20160                 1937      0        3   \n352                        20001                 1919      0        2   \n353                        21204                 1973      0        4   \n354                        20380                 1899      0        2   \n\n     3 tries  4 tries  5 tries  6 tries  7 or more tries (X)     ratio  vowel  \\\n0         23       39       24        9                    1  0.016892      1   \n1         23       31       24       14                    2  0.017369      1   \n2         13       27       30       22                    4  0.020912      2   \n3         16       30       30       17                    2  0.020927      2   \n4         35       34       16        5                    1  0.019606      1   \n..       ...      ...      ...      ...                  ...       ...    ...   \n350       17       35       29       14                    3  0.096365      2   \n351       21       40       25        9                    1  0.096081      2   \n352       16       38       30       12                    2  0.095945      2   \n353       21       38       26        9                    1  0.093048      2   \n354       17       37       29       12                    2  0.093180      1   \n\n     len  uniq  star  \n0      5     5     0  \n1      5     5     0  \n2      5     4     0  \n3      5     5     0  \n4      5     5     0  \n..   ...   ...   ...  \n350    5     4     0  \n351    5     5     0  \n352    5     5     1  \n353    5     5     0  \n354    5     5     1  \n\n[355 rows x 19 columns]",
      "text/html": "<div>\n<style scoped>\n    .dataframe tbody tr th:only-of-type {\n        vertical-align: middle;\n    }\n\n    .dataframe tbody tr th {\n        vertical-align: top;\n    }\n\n    .dataframe thead th {\n        text-align: right;\n    }\n</style>\n<table border=\"1\" class=\"dataframe\">\n  <thead>\n    <tr style=\"text-align: right;\">\n      <th></th>\n      <th>Unnamed: 0</th>\n      <th>Unnamed: 0.1</th>\n      <th>Date</th>\n      <th>Contest number</th>\n      <th>Word</th>\n      <th>Number of  reported results</th>\n      <th>Number in hard mode</th>\n      <th>1 try</th>\n      <th>2 tries</th>\n      <th>3 tries</th>\n      <th>4 tries</th>\n      <th>5 tries</th>\n      <th>6 tries</th>\n      <th>7 or more tries (X)</th>\n      <th>ratio</th>\n      <th>vowel</th>\n      <th>len</th>\n      <th>uniq</th>\n      <th>star</th>\n    </tr>\n  </thead>\n  <tbody>\n    <tr>\n      <th>0</th>\n      <td>0</td>\n      <td>0</td>\n      <td>2022-01-07</td>\n      <td>202</td>\n      <td>slump</td>\n      <td>80630</td>\n      <td>1362</td>\n      <td>1</td>\n      <td>3</td>\n      <td>23</td>\n      <td>39</td>\n      <td>24</td>\n      <td>9</td>\n      <td>1</td>\n      <td>0.016892</td>\n      <td>1</td>\n      <td>5</td>\n      <td>5</td>\n      <td>0</td>\n    </tr>\n    <tr>\n      <th>1</th>\n      <td>1</td>\n      <td>1</td>\n      <td>2022-01-08</td>\n      <td>203</td>\n      <td>crank</td>\n      <td>101503</td>\n      <td>1763</td>\n      <td>1</td>\n      <td>5</td>\n      <td>23</td>\n      <td>31</td>\n      <td>24</td>\n      <td>14</td>\n      <td>2</td>\n      <td>0.017369</td>\n      <td>1</td>\n      <td>5</td>\n      <td>5</td>\n      <td>0</td>\n    </tr>\n    <tr>\n      <th>2</th>\n      <td>2</td>\n      <td>2</td>\n      <td>2022-01-09</td>\n      <td>204</td>\n      <td>gorge</td>\n      <td>91477</td>\n      <td>1913</td>\n      <td>1</td>\n      <td>3</td>\n      <td>13</td>\n      <td>27</td>\n      <td>30</td>\n      <td>22</td>\n      <td>4</td>\n      <td>0.020912</td>\n      <td>2</td>\n      <td>5</td>\n      <td>4</td>\n      <td>0</td>\n    </tr>\n    <tr>\n      <th>3</th>\n      <td>3</td>\n      <td>3</td>\n      <td>2022-01-10</td>\n      <td>205</td>\n      <td>query</td>\n      <td>107134</td>\n      <td>2242</td>\n      <td>1</td>\n      <td>4</td>\n      <td>16</td>\n      <td>30</td>\n      <td>30</td>\n      <td>17</td>\n      <td>2</td>\n      <td>0.020927</td>\n      <td>2</td>\n      <td>5</td>\n      <td>5</td>\n      <td>0</td>\n    </tr>\n    <tr>\n      <th>4</th>\n      <td>4</td>\n      <td>4</td>\n      <td>2022-01-11</td>\n      <td>206</td>\n      <td>drink</td>\n      <td>153880</td>\n      <td>3017</td>\n      <td>1</td>\n      <td>9</td>\n      <td>35</td>\n      <td>34</td>\n      <td>16</td>\n      <td>5</td>\n      <td>1</td>\n      <td>0.019606</td>\n      <td>1</td>\n      <td>5</td>\n      <td>5</td>\n      <td>0</td>\n    </tr>\n    <tr>\n      <th>...</th>\n      <td>...</td>\n      <td>...</td>\n      <td>...</td>\n      <td>...</td>\n      <td>...</td>\n      <td>...</td>\n      <td>...</td>\n      <td>...</td>\n      <td>...</td>\n      <td>...</td>\n      <td>...</td>\n      <td>...</td>\n      <td>...</td>\n      <td>...</td>\n      <td>...</td>\n      <td>...</td>\n      <td>...</td>\n      <td>...</td>\n      <td>...</td>\n    </tr>\n    <tr>\n      <th>350</th>\n      <td>350</td>\n      <td>350</td>\n      <td>2022-12-27</td>\n      <td>556</td>\n      <td>condo</td>\n      <td>20879</td>\n      <td>2012</td>\n      <td>0</td>\n      <td>2</td>\n      <td>17</td>\n      <td>35</td>\n      <td>29</td>\n      <td>14</td>\n      <td>3</td>\n      <td>0.096365</td>\n      <td>2</td>\n      <td>5</td>\n      <td>4</td>\n      <td>0</td>\n    </tr>\n    <tr>\n      <th>351</th>\n      <td>351</td>\n      <td>351</td>\n      <td>2022-12-28</td>\n      <td>557</td>\n      <td>impel</td>\n      <td>20160</td>\n      <td>1937</td>\n      <td>0</td>\n      <td>3</td>\n      <td>21</td>\n      <td>40</td>\n      <td>25</td>\n      <td>9</td>\n      <td>1</td>\n      <td>0.096081</td>\n      <td>2</td>\n      <td>5</td>\n      <td>5</td>\n      <td>0</td>\n    </tr>\n    <tr>\n      <th>352</th>\n      <td>352</td>\n      <td>352</td>\n      <td>2022-12-29</td>\n      <td>558</td>\n      <td>havoc</td>\n      <td>20001</td>\n      <td>1919</td>\n      <td>0</td>\n      <td>2</td>\n      <td>16</td>\n      <td>38</td>\n      <td>30</td>\n      <td>12</td>\n      <td>2</td>\n      <td>0.095945</td>\n      <td>2</td>\n      <td>5</td>\n      <td>5</td>\n      <td>1</td>\n    </tr>\n    <tr>\n      <th>353</th>\n      <td>353</td>\n      <td>353</td>\n      <td>2022-12-30</td>\n      <td>559</td>\n      <td>molar</td>\n      <td>21204</td>\n      <td>1973</td>\n      <td>0</td>\n      <td>4</td>\n      <td>21</td>\n      <td>38</td>\n      <td>26</td>\n      <td>9</td>\n      <td>1</td>\n      <td>0.093048</td>\n      <td>2</td>\n      <td>5</td>\n      <td>5</td>\n      <td>0</td>\n    </tr>\n    <tr>\n      <th>354</th>\n      <td>354</td>\n      <td>354</td>\n      <td>2022-12-31</td>\n      <td>560</td>\n      <td>manly</td>\n      <td>20380</td>\n      <td>1899</td>\n      <td>0</td>\n      <td>2</td>\n      <td>17</td>\n      <td>37</td>\n      <td>29</td>\n      <td>12</td>\n      <td>2</td>\n      <td>0.093180</td>\n      <td>1</td>\n      <td>5</td>\n      <td>5</td>\n      <td>1</td>\n    </tr>\n  </tbody>\n</table>\n<p>355 rows × 19 columns</p>\n</div>"
     },
     "execution_count": 15,
     "metadata": {},
     "output_type": "execute_result"
    }
   ],
   "source": [
    "df"
   ],
   "metadata": {
    "collapsed": false
   }
  },
  {
   "cell_type": "code",
   "execution_count": null,
   "outputs": [],
   "source": [
    "df.to_excel(\"data4.xlsx\")"
   ],
   "metadata": {
    "collapsed": false,
    "pycharm": {
     "is_executing": true
    }
   }
  },
  {
   "cell_type": "code",
   "execution_count": 16,
   "outputs": [],
   "source": [
    "fig.add_annotation(\n",
    "    x=pd.to_datetime(\"3/1/2023\"),\n",
    "    y=result,\n",
    "    text=result,\n",
    "    font={'color': 'red', 'size': 14, 'family': 'Arial'},\n",
    "    showarrow=True, arrowhead=4, arrowwidth=2, arrowside='end', arrowsize=0.7, arrowcolor='red',\n",
    "    opacity=0.5,\n",
    ")"
   ],
   "metadata": {
    "collapsed": false
   }
  }
 ],
 "metadata": {
  "kernelspec": {
   "display_name": "Python 3",
   "language": "python",
   "name": "python3"
  },
  "language_info": {
   "codemirror_mode": {
    "name": "ipython",
    "version": 2
   },
   "file_extension": ".py",
   "mimetype": "text/x-python",
   "name": "python",
   "nbconvert_exporter": "python",
   "pygments_lexer": "ipython2",
   "version": "2.7.6"
  }
 },
 "nbformat": 4,
 "nbformat_minor": 0
}
