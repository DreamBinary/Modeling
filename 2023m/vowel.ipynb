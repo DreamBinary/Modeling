{
 "cells": [
  {
   "cell_type": "code",
   "execution_count": 1,
   "metadata": {
    "collapsed": true
   },
   "outputs": [],
   "source": [
    "import numpy as np\n",
    "import pandas as pd"
   ]
  },
  {
   "cell_type": "code",
   "execution_count": 2,
   "outputs": [
    {
     "data": {
      "text/plain": "          Date  Contest number   Word  Number of  reported results  \\\n0   2022-01-07             202  slump                        80630   \n1   2022-01-08             203  crank                       101503   \n2   2022-01-09             204  gorge                        91477   \n3   2022-01-10             205  query                       107134   \n4   2022-01-11             206  drink                       153880   \n..         ...             ...    ...                          ...   \n354 2022-12-27             556  condo                        20879   \n355 2022-12-28             557  impel                        20160   \n356 2022-12-29             558  havoc                        20001   \n357 2022-12-30             559  molar                        21204   \n358 2022-12-31             560  manly                        20380   \n\n     Number in hard mode  1 try  2 tries  3 tries  4 tries  5 tries  6 tries  \\\n0                   1362      1        3       23       39       24        9   \n1                   1763      1        5       23       31       24       14   \n2                   1913      1        3       13       27       30       22   \n3                   2242      1        4       16       30       30       17   \n4                   3017      1        9       35       34       16        5   \n..                   ...    ...      ...      ...      ...      ...      ...   \n354                 2012      0        2       17       35       29       14   \n355                 1937      0        3       21       40       25        9   \n356                 1919      0        2       16       38       30       12   \n357                 1973      0        4       21       38       26        9   \n358                 1899      0        2       17       37       29       12   \n\n     7 or more tries (X)     ratio  \n0                      1  0.016892  \n1                      2  0.017369  \n2                      4  0.020912  \n3                      2  0.020927  \n4                      1  0.019606  \n..                   ...       ...  \n354                    3  0.096365  \n355                    1  0.096081  \n356                    2  0.095945  \n357                    1  0.093048  \n358                    2  0.093180  \n\n[359 rows x 13 columns]",
      "text/html": "<div>\n<style scoped>\n    .dataframe tbody tr th:only-of-type {\n        vertical-align: middle;\n    }\n\n    .dataframe tbody tr th {\n        vertical-align: top;\n    }\n\n    .dataframe thead th {\n        text-align: right;\n    }\n</style>\n<table border=\"1\" class=\"dataframe\">\n  <thead>\n    <tr style=\"text-align: right;\">\n      <th></th>\n      <th>Date</th>\n      <th>Contest number</th>\n      <th>Word</th>\n      <th>Number of  reported results</th>\n      <th>Number in hard mode</th>\n      <th>1 try</th>\n      <th>2 tries</th>\n      <th>3 tries</th>\n      <th>4 tries</th>\n      <th>5 tries</th>\n      <th>6 tries</th>\n      <th>7 or more tries (X)</th>\n      <th>ratio</th>\n    </tr>\n  </thead>\n  <tbody>\n    <tr>\n      <th>0</th>\n      <td>2022-01-07</td>\n      <td>202</td>\n      <td>slump</td>\n      <td>80630</td>\n      <td>1362</td>\n      <td>1</td>\n      <td>3</td>\n      <td>23</td>\n      <td>39</td>\n      <td>24</td>\n      <td>9</td>\n      <td>1</td>\n      <td>0.016892</td>\n    </tr>\n    <tr>\n      <th>1</th>\n      <td>2022-01-08</td>\n      <td>203</td>\n      <td>crank</td>\n      <td>101503</td>\n      <td>1763</td>\n      <td>1</td>\n      <td>5</td>\n      <td>23</td>\n      <td>31</td>\n      <td>24</td>\n      <td>14</td>\n      <td>2</td>\n      <td>0.017369</td>\n    </tr>\n    <tr>\n      <th>2</th>\n      <td>2022-01-09</td>\n      <td>204</td>\n      <td>gorge</td>\n      <td>91477</td>\n      <td>1913</td>\n      <td>1</td>\n      <td>3</td>\n      <td>13</td>\n      <td>27</td>\n      <td>30</td>\n      <td>22</td>\n      <td>4</td>\n      <td>0.020912</td>\n    </tr>\n    <tr>\n      <th>3</th>\n      <td>2022-01-10</td>\n      <td>205</td>\n      <td>query</td>\n      <td>107134</td>\n      <td>2242</td>\n      <td>1</td>\n      <td>4</td>\n      <td>16</td>\n      <td>30</td>\n      <td>30</td>\n      <td>17</td>\n      <td>2</td>\n      <td>0.020927</td>\n    </tr>\n    <tr>\n      <th>4</th>\n      <td>2022-01-11</td>\n      <td>206</td>\n      <td>drink</td>\n      <td>153880</td>\n      <td>3017</td>\n      <td>1</td>\n      <td>9</td>\n      <td>35</td>\n      <td>34</td>\n      <td>16</td>\n      <td>5</td>\n      <td>1</td>\n      <td>0.019606</td>\n    </tr>\n    <tr>\n      <th>...</th>\n      <td>...</td>\n      <td>...</td>\n      <td>...</td>\n      <td>...</td>\n      <td>...</td>\n      <td>...</td>\n      <td>...</td>\n      <td>...</td>\n      <td>...</td>\n      <td>...</td>\n      <td>...</td>\n      <td>...</td>\n      <td>...</td>\n    </tr>\n    <tr>\n      <th>354</th>\n      <td>2022-12-27</td>\n      <td>556</td>\n      <td>condo</td>\n      <td>20879</td>\n      <td>2012</td>\n      <td>0</td>\n      <td>2</td>\n      <td>17</td>\n      <td>35</td>\n      <td>29</td>\n      <td>14</td>\n      <td>3</td>\n      <td>0.096365</td>\n    </tr>\n    <tr>\n      <th>355</th>\n      <td>2022-12-28</td>\n      <td>557</td>\n      <td>impel</td>\n      <td>20160</td>\n      <td>1937</td>\n      <td>0</td>\n      <td>3</td>\n      <td>21</td>\n      <td>40</td>\n      <td>25</td>\n      <td>9</td>\n      <td>1</td>\n      <td>0.096081</td>\n    </tr>\n    <tr>\n      <th>356</th>\n      <td>2022-12-29</td>\n      <td>558</td>\n      <td>havoc</td>\n      <td>20001</td>\n      <td>1919</td>\n      <td>0</td>\n      <td>2</td>\n      <td>16</td>\n      <td>38</td>\n      <td>30</td>\n      <td>12</td>\n      <td>2</td>\n      <td>0.095945</td>\n    </tr>\n    <tr>\n      <th>357</th>\n      <td>2022-12-30</td>\n      <td>559</td>\n      <td>molar</td>\n      <td>21204</td>\n      <td>1973</td>\n      <td>0</td>\n      <td>4</td>\n      <td>21</td>\n      <td>38</td>\n      <td>26</td>\n      <td>9</td>\n      <td>1</td>\n      <td>0.093048</td>\n    </tr>\n    <tr>\n      <th>358</th>\n      <td>2022-12-31</td>\n      <td>560</td>\n      <td>manly</td>\n      <td>20380</td>\n      <td>1899</td>\n      <td>0</td>\n      <td>2</td>\n      <td>17</td>\n      <td>37</td>\n      <td>29</td>\n      <td>12</td>\n      <td>2</td>\n      <td>0.093180</td>\n    </tr>\n  </tbody>\n</table>\n<p>359 rows × 13 columns</p>\n</div>"
     },
     "execution_count": 2,
     "metadata": {},
     "output_type": "execute_result"
    }
   ],
   "source": [
    "df = pd.read_excel(\"data.xlsx\", header=1)\n",
    "df[\"Date\"] = pd.to_datetime(df[\"Date\"])\n",
    "df"
   ],
   "metadata": {
    "collapsed": false
   }
  },
  {
   "cell_type": "code",
   "execution_count": 2,
   "outputs": [],
   "source": [],
   "metadata": {
    "collapsed": false
   }
  },
  {
   "cell_type": "code",
   "execution_count": 3,
   "outputs": [
    {
     "data": {
      "text/plain": "359"
     },
     "execution_count": 3,
     "metadata": {},
     "output_type": "execute_result"
    }
   ],
   "source": [
    "max_size = len(df)\n",
    "max_size"
   ],
   "metadata": {
    "collapsed": false
   }
  },
  {
   "cell_type": "code",
   "execution_count": 4,
   "outputs": [
    {
     "name": "stderr",
     "output_type": "stream",
     "text": [
      "X:\\Temp\\ipykernel_8020\\3148763054.py:3: SettingWithCopyWarning: \n",
      "A value is trying to be set on a copy of a slice from a DataFrame\n",
      "\n",
      "See the caveats in the documentation: https://pandas.pydata.org/pandas-docs/stable/user_guide/indexing.html#returning-a-view-versus-a-copy\n",
      "  df[\"vowel\"][k] = len([i for i in df[\"Word\"][k] if i in \"aeiou\"])\n"
     ]
    },
    {
     "data": {
      "text/plain": "          Date  Contest number   Word  Number of  reported results  \\\n0   2022-01-07             202  slump                        80630   \n1   2022-01-08             203  crank                       101503   \n2   2022-01-09             204  gorge                        91477   \n3   2022-01-10             205  query                       107134   \n4   2022-01-11             206  drink                       153880   \n..         ...             ...    ...                          ...   \n354 2022-12-27             556  condo                        20879   \n355 2022-12-28             557  impel                        20160   \n356 2022-12-29             558  havoc                        20001   \n357 2022-12-30             559  molar                        21204   \n358 2022-12-31             560  manly                        20380   \n\n     Number in hard mode  1 try  2 tries  3 tries  4 tries  5 tries  6 tries  \\\n0                   1362      1        3       23       39       24        9   \n1                   1763      1        5       23       31       24       14   \n2                   1913      1        3       13       27       30       22   \n3                   2242      1        4       16       30       30       17   \n4                   3017      1        9       35       34       16        5   \n..                   ...    ...      ...      ...      ...      ...      ...   \n354                 2012      0        2       17       35       29       14   \n355                 1937      0        3       21       40       25        9   \n356                 1919      0        2       16       38       30       12   \n357                 1973      0        4       21       38       26        9   \n358                 1899      0        2       17       37       29       12   \n\n     7 or more tries (X)     ratio  vowel  \n0                      1  0.016892      1  \n1                      2  0.017369      1  \n2                      4  0.020912      2  \n3                      2  0.020927      2  \n4                      1  0.019606      1  \n..                   ...       ...    ...  \n354                    3  0.096365      2  \n355                    1  0.096081      2  \n356                    2  0.095945      2  \n357                    1  0.093048      2  \n358                    2  0.093180      1  \n\n[359 rows x 14 columns]",
      "text/html": "<div>\n<style scoped>\n    .dataframe tbody tr th:only-of-type {\n        vertical-align: middle;\n    }\n\n    .dataframe tbody tr th {\n        vertical-align: top;\n    }\n\n    .dataframe thead th {\n        text-align: right;\n    }\n</style>\n<table border=\"1\" class=\"dataframe\">\n  <thead>\n    <tr style=\"text-align: right;\">\n      <th></th>\n      <th>Date</th>\n      <th>Contest number</th>\n      <th>Word</th>\n      <th>Number of  reported results</th>\n      <th>Number in hard mode</th>\n      <th>1 try</th>\n      <th>2 tries</th>\n      <th>3 tries</th>\n      <th>4 tries</th>\n      <th>5 tries</th>\n      <th>6 tries</th>\n      <th>7 or more tries (X)</th>\n      <th>ratio</th>\n      <th>vowel</th>\n    </tr>\n  </thead>\n  <tbody>\n    <tr>\n      <th>0</th>\n      <td>2022-01-07</td>\n      <td>202</td>\n      <td>slump</td>\n      <td>80630</td>\n      <td>1362</td>\n      <td>1</td>\n      <td>3</td>\n      <td>23</td>\n      <td>39</td>\n      <td>24</td>\n      <td>9</td>\n      <td>1</td>\n      <td>0.016892</td>\n      <td>1</td>\n    </tr>\n    <tr>\n      <th>1</th>\n      <td>2022-01-08</td>\n      <td>203</td>\n      <td>crank</td>\n      <td>101503</td>\n      <td>1763</td>\n      <td>1</td>\n      <td>5</td>\n      <td>23</td>\n      <td>31</td>\n      <td>24</td>\n      <td>14</td>\n      <td>2</td>\n      <td>0.017369</td>\n      <td>1</td>\n    </tr>\n    <tr>\n      <th>2</th>\n      <td>2022-01-09</td>\n      <td>204</td>\n      <td>gorge</td>\n      <td>91477</td>\n      <td>1913</td>\n      <td>1</td>\n      <td>3</td>\n      <td>13</td>\n      <td>27</td>\n      <td>30</td>\n      <td>22</td>\n      <td>4</td>\n      <td>0.020912</td>\n      <td>2</td>\n    </tr>\n    <tr>\n      <th>3</th>\n      <td>2022-01-10</td>\n      <td>205</td>\n      <td>query</td>\n      <td>107134</td>\n      <td>2242</td>\n      <td>1</td>\n      <td>4</td>\n      <td>16</td>\n      <td>30</td>\n      <td>30</td>\n      <td>17</td>\n      <td>2</td>\n      <td>0.020927</td>\n      <td>2</td>\n    </tr>\n    <tr>\n      <th>4</th>\n      <td>2022-01-11</td>\n      <td>206</td>\n      <td>drink</td>\n      <td>153880</td>\n      <td>3017</td>\n      <td>1</td>\n      <td>9</td>\n      <td>35</td>\n      <td>34</td>\n      <td>16</td>\n      <td>5</td>\n      <td>1</td>\n      <td>0.019606</td>\n      <td>1</td>\n    </tr>\n    <tr>\n      <th>...</th>\n      <td>...</td>\n      <td>...</td>\n      <td>...</td>\n      <td>...</td>\n      <td>...</td>\n      <td>...</td>\n      <td>...</td>\n      <td>...</td>\n      <td>...</td>\n      <td>...</td>\n      <td>...</td>\n      <td>...</td>\n      <td>...</td>\n      <td>...</td>\n    </tr>\n    <tr>\n      <th>354</th>\n      <td>2022-12-27</td>\n      <td>556</td>\n      <td>condo</td>\n      <td>20879</td>\n      <td>2012</td>\n      <td>0</td>\n      <td>2</td>\n      <td>17</td>\n      <td>35</td>\n      <td>29</td>\n      <td>14</td>\n      <td>3</td>\n      <td>0.096365</td>\n      <td>2</td>\n    </tr>\n    <tr>\n      <th>355</th>\n      <td>2022-12-28</td>\n      <td>557</td>\n      <td>impel</td>\n      <td>20160</td>\n      <td>1937</td>\n      <td>0</td>\n      <td>3</td>\n      <td>21</td>\n      <td>40</td>\n      <td>25</td>\n      <td>9</td>\n      <td>1</td>\n      <td>0.096081</td>\n      <td>2</td>\n    </tr>\n    <tr>\n      <th>356</th>\n      <td>2022-12-29</td>\n      <td>558</td>\n      <td>havoc</td>\n      <td>20001</td>\n      <td>1919</td>\n      <td>0</td>\n      <td>2</td>\n      <td>16</td>\n      <td>38</td>\n      <td>30</td>\n      <td>12</td>\n      <td>2</td>\n      <td>0.095945</td>\n      <td>2</td>\n    </tr>\n    <tr>\n      <th>357</th>\n      <td>2022-12-30</td>\n      <td>559</td>\n      <td>molar</td>\n      <td>21204</td>\n      <td>1973</td>\n      <td>0</td>\n      <td>4</td>\n      <td>21</td>\n      <td>38</td>\n      <td>26</td>\n      <td>9</td>\n      <td>1</td>\n      <td>0.093048</td>\n      <td>2</td>\n    </tr>\n    <tr>\n      <th>358</th>\n      <td>2022-12-31</td>\n      <td>560</td>\n      <td>manly</td>\n      <td>20380</td>\n      <td>1899</td>\n      <td>0</td>\n      <td>2</td>\n      <td>17</td>\n      <td>37</td>\n      <td>29</td>\n      <td>12</td>\n      <td>2</td>\n      <td>0.093180</td>\n      <td>1</td>\n    </tr>\n  </tbody>\n</table>\n<p>359 rows × 14 columns</p>\n</div>"
     },
     "execution_count": 4,
     "metadata": {},
     "output_type": "execute_result"
    }
   ],
   "source": [
    "df[\"vowel\"] = 0\n",
    "for k in range(0, max_size):\n",
    "    df[\"vowel\"][k] = len([i for i in df[\"Word\"][k] if i in \"aeiou\"])\n",
    "df"
   ],
   "metadata": {
    "collapsed": false
   }
  },
  {
   "cell_type": "code",
   "execution_count": 5,
   "outputs": [
    {
     "data": {
      "text/plain": "array([0, 1, 2, 3], dtype=int64)"
     },
     "execution_count": 5,
     "metadata": {},
     "output_type": "execute_result"
    }
   ],
   "source": [
    "np.unique(df[\"vowel\"])"
   ],
   "metadata": {
    "collapsed": false
   }
  },
  {
   "cell_type": "code",
   "execution_count": 6,
   "outputs": [
    {
     "name": "stderr",
     "output_type": "stream",
     "text": [
      "X:\\Temp\\ipykernel_8020\\2039716170.py:3: SettingWithCopyWarning: \n",
      "A value is trying to be set on a copy of a slice from a DataFrame\n",
      "\n",
      "See the caveats in the documentation: https://pandas.pydata.org/pandas-docs/stable/user_guide/indexing.html#returning-a-view-versus-a-copy\n",
      "  df[\"len\"][k] = len(df[\"Word\"][k])\n"
     ]
    },
    {
     "data": {
      "text/plain": "          Date  Contest number   Word  Number of  reported results  \\\n0   2022-01-07             202  slump                        80630   \n1   2022-01-08             203  crank                       101503   \n2   2022-01-09             204  gorge                        91477   \n3   2022-01-10             205  query                       107134   \n4   2022-01-11             206  drink                       153880   \n..         ...             ...    ...                          ...   \n354 2022-12-27             556  condo                        20879   \n355 2022-12-28             557  impel                        20160   \n356 2022-12-29             558  havoc                        20001   \n357 2022-12-30             559  molar                        21204   \n358 2022-12-31             560  manly                        20380   \n\n     Number in hard mode  1 try  2 tries  3 tries  4 tries  5 tries  6 tries  \\\n0                   1362      1        3       23       39       24        9   \n1                   1763      1        5       23       31       24       14   \n2                   1913      1        3       13       27       30       22   \n3                   2242      1        4       16       30       30       17   \n4                   3017      1        9       35       34       16        5   \n..                   ...    ...      ...      ...      ...      ...      ...   \n354                 2012      0        2       17       35       29       14   \n355                 1937      0        3       21       40       25        9   \n356                 1919      0        2       16       38       30       12   \n357                 1973      0        4       21       38       26        9   \n358                 1899      0        2       17       37       29       12   \n\n     7 or more tries (X)     ratio  vowel  len  \n0                      1  0.016892      1    5  \n1                      2  0.017369      1    5  \n2                      4  0.020912      2    5  \n3                      2  0.020927      2    5  \n4                      1  0.019606      1    5  \n..                   ...       ...    ...  ...  \n354                    3  0.096365      2    5  \n355                    1  0.096081      2    5  \n356                    2  0.095945      2    5  \n357                    1  0.093048      2    5  \n358                    2  0.093180      1    5  \n\n[359 rows x 15 columns]",
      "text/html": "<div>\n<style scoped>\n    .dataframe tbody tr th:only-of-type {\n        vertical-align: middle;\n    }\n\n    .dataframe tbody tr th {\n        vertical-align: top;\n    }\n\n    .dataframe thead th {\n        text-align: right;\n    }\n</style>\n<table border=\"1\" class=\"dataframe\">\n  <thead>\n    <tr style=\"text-align: right;\">\n      <th></th>\n      <th>Date</th>\n      <th>Contest number</th>\n      <th>Word</th>\n      <th>Number of  reported results</th>\n      <th>Number in hard mode</th>\n      <th>1 try</th>\n      <th>2 tries</th>\n      <th>3 tries</th>\n      <th>4 tries</th>\n      <th>5 tries</th>\n      <th>6 tries</th>\n      <th>7 or more tries (X)</th>\n      <th>ratio</th>\n      <th>vowel</th>\n      <th>len</th>\n    </tr>\n  </thead>\n  <tbody>\n    <tr>\n      <th>0</th>\n      <td>2022-01-07</td>\n      <td>202</td>\n      <td>slump</td>\n      <td>80630</td>\n      <td>1362</td>\n      <td>1</td>\n      <td>3</td>\n      <td>23</td>\n      <td>39</td>\n      <td>24</td>\n      <td>9</td>\n      <td>1</td>\n      <td>0.016892</td>\n      <td>1</td>\n      <td>5</td>\n    </tr>\n    <tr>\n      <th>1</th>\n      <td>2022-01-08</td>\n      <td>203</td>\n      <td>crank</td>\n      <td>101503</td>\n      <td>1763</td>\n      <td>1</td>\n      <td>5</td>\n      <td>23</td>\n      <td>31</td>\n      <td>24</td>\n      <td>14</td>\n      <td>2</td>\n      <td>0.017369</td>\n      <td>1</td>\n      <td>5</td>\n    </tr>\n    <tr>\n      <th>2</th>\n      <td>2022-01-09</td>\n      <td>204</td>\n      <td>gorge</td>\n      <td>91477</td>\n      <td>1913</td>\n      <td>1</td>\n      <td>3</td>\n      <td>13</td>\n      <td>27</td>\n      <td>30</td>\n      <td>22</td>\n      <td>4</td>\n      <td>0.020912</td>\n      <td>2</td>\n      <td>5</td>\n    </tr>\n    <tr>\n      <th>3</th>\n      <td>2022-01-10</td>\n      <td>205</td>\n      <td>query</td>\n      <td>107134</td>\n      <td>2242</td>\n      <td>1</td>\n      <td>4</td>\n      <td>16</td>\n      <td>30</td>\n      <td>30</td>\n      <td>17</td>\n      <td>2</td>\n      <td>0.020927</td>\n      <td>2</td>\n      <td>5</td>\n    </tr>\n    <tr>\n      <th>4</th>\n      <td>2022-01-11</td>\n      <td>206</td>\n      <td>drink</td>\n      <td>153880</td>\n      <td>3017</td>\n      <td>1</td>\n      <td>9</td>\n      <td>35</td>\n      <td>34</td>\n      <td>16</td>\n      <td>5</td>\n      <td>1</td>\n      <td>0.019606</td>\n      <td>1</td>\n      <td>5</td>\n    </tr>\n    <tr>\n      <th>...</th>\n      <td>...</td>\n      <td>...</td>\n      <td>...</td>\n      <td>...</td>\n      <td>...</td>\n      <td>...</td>\n      <td>...</td>\n      <td>...</td>\n      <td>...</td>\n      <td>...</td>\n      <td>...</td>\n      <td>...</td>\n      <td>...</td>\n      <td>...</td>\n      <td>...</td>\n    </tr>\n    <tr>\n      <th>354</th>\n      <td>2022-12-27</td>\n      <td>556</td>\n      <td>condo</td>\n      <td>20879</td>\n      <td>2012</td>\n      <td>0</td>\n      <td>2</td>\n      <td>17</td>\n      <td>35</td>\n      <td>29</td>\n      <td>14</td>\n      <td>3</td>\n      <td>0.096365</td>\n      <td>2</td>\n      <td>5</td>\n    </tr>\n    <tr>\n      <th>355</th>\n      <td>2022-12-28</td>\n      <td>557</td>\n      <td>impel</td>\n      <td>20160</td>\n      <td>1937</td>\n      <td>0</td>\n      <td>3</td>\n      <td>21</td>\n      <td>40</td>\n      <td>25</td>\n      <td>9</td>\n      <td>1</td>\n      <td>0.096081</td>\n      <td>2</td>\n      <td>5</td>\n    </tr>\n    <tr>\n      <th>356</th>\n      <td>2022-12-29</td>\n      <td>558</td>\n      <td>havoc</td>\n      <td>20001</td>\n      <td>1919</td>\n      <td>0</td>\n      <td>2</td>\n      <td>16</td>\n      <td>38</td>\n      <td>30</td>\n      <td>12</td>\n      <td>2</td>\n      <td>0.095945</td>\n      <td>2</td>\n      <td>5</td>\n    </tr>\n    <tr>\n      <th>357</th>\n      <td>2022-12-30</td>\n      <td>559</td>\n      <td>molar</td>\n      <td>21204</td>\n      <td>1973</td>\n      <td>0</td>\n      <td>4</td>\n      <td>21</td>\n      <td>38</td>\n      <td>26</td>\n      <td>9</td>\n      <td>1</td>\n      <td>0.093048</td>\n      <td>2</td>\n      <td>5</td>\n    </tr>\n    <tr>\n      <th>358</th>\n      <td>2022-12-31</td>\n      <td>560</td>\n      <td>manly</td>\n      <td>20380</td>\n      <td>1899</td>\n      <td>0</td>\n      <td>2</td>\n      <td>17</td>\n      <td>37</td>\n      <td>29</td>\n      <td>12</td>\n      <td>2</td>\n      <td>0.093180</td>\n      <td>1</td>\n      <td>5</td>\n    </tr>\n  </tbody>\n</table>\n<p>359 rows × 15 columns</p>\n</div>"
     },
     "execution_count": 6,
     "metadata": {},
     "output_type": "execute_result"
    }
   ],
   "source": [
    "df[\"len\"] = 0\n",
    "for k in range(0, max_size):\n",
    "    df[\"len\"][k] = len(df[\"Word\"][k])\n",
    "df"
   ],
   "metadata": {
    "collapsed": false
   }
  },
  {
   "cell_type": "code",
   "execution_count": 61,
   "outputs": [
    {
     "data": {
      "text/plain": "array([4, 5, 6], dtype=int64)"
     },
     "execution_count": 61,
     "metadata": {},
     "output_type": "execute_result"
    }
   ],
   "source": [
    "np.unique(df[\"len\"])"
   ],
   "metadata": {
    "collapsed": false
   }
  },
  {
   "cell_type": "code",
   "execution_count": 62,
   "outputs": [
    {
     "data": {
      "text/plain": "5    355\n4      2\n6      2\nName: len, dtype: int64"
     },
     "execution_count": 62,
     "metadata": {},
     "output_type": "execute_result"
    }
   ],
   "source": [
    "pd.value_counts(df[\"len\"])"
   ],
   "metadata": {
    "collapsed": false
   }
  },
  {
   "cell_type": "code",
   "execution_count": 9,
   "outputs": [
    {
     "data": {
      "text/plain": "          Date  Contest number  Word  Number of  reported results  \\\n112 2022-04-29             314  tash                       106652   \n323 2022-11-26             525  clen                        26381   \n\n     Number in hard mode  1 try  2 tries  3 tries  4 tries  5 tries  6 tries  \\\n112                 7001      2       19       34       27       13        4   \n323                 2424      1       17       36       31       12        3   \n\n     7 or more tries (X)     ratio  vowel  len  \n112                    1  0.065643      1    4  \n323                    0  0.091884      1    4  ",
      "text/html": "<div>\n<style scoped>\n    .dataframe tbody tr th:only-of-type {\n        vertical-align: middle;\n    }\n\n    .dataframe tbody tr th {\n        vertical-align: top;\n    }\n\n    .dataframe thead th {\n        text-align: right;\n    }\n</style>\n<table border=\"1\" class=\"dataframe\">\n  <thead>\n    <tr style=\"text-align: right;\">\n      <th></th>\n      <th>Date</th>\n      <th>Contest number</th>\n      <th>Word</th>\n      <th>Number of  reported results</th>\n      <th>Number in hard mode</th>\n      <th>1 try</th>\n      <th>2 tries</th>\n      <th>3 tries</th>\n      <th>4 tries</th>\n      <th>5 tries</th>\n      <th>6 tries</th>\n      <th>7 or more tries (X)</th>\n      <th>ratio</th>\n      <th>vowel</th>\n      <th>len</th>\n    </tr>\n  </thead>\n  <tbody>\n    <tr>\n      <th>112</th>\n      <td>2022-04-29</td>\n      <td>314</td>\n      <td>tash</td>\n      <td>106652</td>\n      <td>7001</td>\n      <td>2</td>\n      <td>19</td>\n      <td>34</td>\n      <td>27</td>\n      <td>13</td>\n      <td>4</td>\n      <td>1</td>\n      <td>0.065643</td>\n      <td>1</td>\n      <td>4</td>\n    </tr>\n    <tr>\n      <th>323</th>\n      <td>2022-11-26</td>\n      <td>525</td>\n      <td>clen</td>\n      <td>26381</td>\n      <td>2424</td>\n      <td>1</td>\n      <td>17</td>\n      <td>36</td>\n      <td>31</td>\n      <td>12</td>\n      <td>3</td>\n      <td>0</td>\n      <td>0.091884</td>\n      <td>1</td>\n      <td>4</td>\n    </tr>\n  </tbody>\n</table>\n</div>"
     },
     "execution_count": 9,
     "metadata": {},
     "output_type": "execute_result"
    }
   ],
   "source": [
    "df[df[\"len\"] == 4]"
   ],
   "metadata": {
    "collapsed": false
   }
  },
  {
   "cell_type": "code",
   "execution_count": 17,
   "outputs": [
    {
     "data": {
      "text/plain": "5      favor \n343    rprobe\nName: Word, dtype: object"
     },
     "execution_count": 17,
     "metadata": {},
     "output_type": "execute_result"
    }
   ],
   "source": [
    "df[df[\"len\"] == 6][\"Word\"]"
   ],
   "metadata": {
    "collapsed": false
   }
  },
  {
   "cell_type": "code",
   "execution_count": 65,
   "outputs": [
    {
     "data": {
      "text/plain": "5    355\nName: len, dtype: int64"
     },
     "execution_count": 65,
     "metadata": {},
     "output_type": "execute_result"
    }
   ],
   "source": [
    "pd.value_counts(df[\"len\"])"
   ],
   "metadata": {
    "collapsed": false
   }
  },
  {
   "cell_type": "code",
   "execution_count": 67,
   "outputs": [
    {
     "data": {
      "text/plain": "          Date  Contest number   Word  Number of  reported results  \\\n0   2022-01-07             202  slump                        80630   \n1   2022-01-08             203  crank                       101503   \n2   2022-01-09             204  gorge                        91477   \n3   2022-01-10             205  query                       107134   \n4   2022-01-11             206  drink                       153880   \n..         ...             ...    ...                          ...   \n354 2022-12-27             556  condo                        20879   \n355 2022-12-28             557  impel                        20160   \n356 2022-12-29             558  havoc                        20001   \n357 2022-12-30             559  molar                        21204   \n358 2022-12-31             560  manly                        20380   \n\n     Number in hard mode  1 try  2 tries  3 tries  4 tries  5 tries  6 tries  \\\n0                   1362      1        3       23       39       24        9   \n1                   1763      1        5       23       31       24       14   \n2                   1913      1        3       13       27       30       22   \n3                   2242      1        4       16       30       30       17   \n4                   3017      1        9       35       34       16        5   \n..                   ...    ...      ...      ...      ...      ...      ...   \n354                 2012      0        2       17       35       29       14   \n355                 1937      0        3       21       40       25        9   \n356                 1919      0        2       16       38       30       12   \n357                 1973      0        4       21       38       26        9   \n358                 1899      0        2       17       37       29       12   \n\n     7 or more tries (X)     ratio  vowel  len  uniq  \n0                      1  0.016892      1    5     5  \n1                      2  0.017369      1    5     5  \n2                      4  0.020912      2    5     4  \n3                      2  0.020927      2    5     5  \n4                      1  0.019606      1    5     5  \n..                   ...       ...    ...  ...   ...  \n354                    3  0.096365      2    5     0  \n355                    1  0.096081      2    5     0  \n356                    2  0.095945      2    5     0  \n357                    1  0.093048      2    5     0  \n358                    2  0.093180      1    5     0  \n\n[355 rows x 16 columns]",
      "text/html": "<div>\n<style scoped>\n    .dataframe tbody tr th:only-of-type {\n        vertical-align: middle;\n    }\n\n    .dataframe tbody tr th {\n        vertical-align: top;\n    }\n\n    .dataframe thead th {\n        text-align: right;\n    }\n</style>\n<table border=\"1\" class=\"dataframe\">\n  <thead>\n    <tr style=\"text-align: right;\">\n      <th></th>\n      <th>Date</th>\n      <th>Contest number</th>\n      <th>Word</th>\n      <th>Number of  reported results</th>\n      <th>Number in hard mode</th>\n      <th>1 try</th>\n      <th>2 tries</th>\n      <th>3 tries</th>\n      <th>4 tries</th>\n      <th>5 tries</th>\n      <th>6 tries</th>\n      <th>7 or more tries (X)</th>\n      <th>ratio</th>\n      <th>vowel</th>\n      <th>len</th>\n      <th>uniq</th>\n    </tr>\n  </thead>\n  <tbody>\n    <tr>\n      <th>0</th>\n      <td>2022-01-07</td>\n      <td>202</td>\n      <td>slump</td>\n      <td>80630</td>\n      <td>1362</td>\n      <td>1</td>\n      <td>3</td>\n      <td>23</td>\n      <td>39</td>\n      <td>24</td>\n      <td>9</td>\n      <td>1</td>\n      <td>0.016892</td>\n      <td>1</td>\n      <td>5</td>\n      <td>5</td>\n    </tr>\n    <tr>\n      <th>1</th>\n      <td>2022-01-08</td>\n      <td>203</td>\n      <td>crank</td>\n      <td>101503</td>\n      <td>1763</td>\n      <td>1</td>\n      <td>5</td>\n      <td>23</td>\n      <td>31</td>\n      <td>24</td>\n      <td>14</td>\n      <td>2</td>\n      <td>0.017369</td>\n      <td>1</td>\n      <td>5</td>\n      <td>5</td>\n    </tr>\n    <tr>\n      <th>2</th>\n      <td>2022-01-09</td>\n      <td>204</td>\n      <td>gorge</td>\n      <td>91477</td>\n      <td>1913</td>\n      <td>1</td>\n      <td>3</td>\n      <td>13</td>\n      <td>27</td>\n      <td>30</td>\n      <td>22</td>\n      <td>4</td>\n      <td>0.020912</td>\n      <td>2</td>\n      <td>5</td>\n      <td>4</td>\n    </tr>\n    <tr>\n      <th>3</th>\n      <td>2022-01-10</td>\n      <td>205</td>\n      <td>query</td>\n      <td>107134</td>\n      <td>2242</td>\n      <td>1</td>\n      <td>4</td>\n      <td>16</td>\n      <td>30</td>\n      <td>30</td>\n      <td>17</td>\n      <td>2</td>\n      <td>0.020927</td>\n      <td>2</td>\n      <td>5</td>\n      <td>5</td>\n    </tr>\n    <tr>\n      <th>4</th>\n      <td>2022-01-11</td>\n      <td>206</td>\n      <td>drink</td>\n      <td>153880</td>\n      <td>3017</td>\n      <td>1</td>\n      <td>9</td>\n      <td>35</td>\n      <td>34</td>\n      <td>16</td>\n      <td>5</td>\n      <td>1</td>\n      <td>0.019606</td>\n      <td>1</td>\n      <td>5</td>\n      <td>5</td>\n    </tr>\n    <tr>\n      <th>...</th>\n      <td>...</td>\n      <td>...</td>\n      <td>...</td>\n      <td>...</td>\n      <td>...</td>\n      <td>...</td>\n      <td>...</td>\n      <td>...</td>\n      <td>...</td>\n      <td>...</td>\n      <td>...</td>\n      <td>...</td>\n      <td>...</td>\n      <td>...</td>\n      <td>...</td>\n      <td>...</td>\n    </tr>\n    <tr>\n      <th>354</th>\n      <td>2022-12-27</td>\n      <td>556</td>\n      <td>condo</td>\n      <td>20879</td>\n      <td>2012</td>\n      <td>0</td>\n      <td>2</td>\n      <td>17</td>\n      <td>35</td>\n      <td>29</td>\n      <td>14</td>\n      <td>3</td>\n      <td>0.096365</td>\n      <td>2</td>\n      <td>5</td>\n      <td>0</td>\n    </tr>\n    <tr>\n      <th>355</th>\n      <td>2022-12-28</td>\n      <td>557</td>\n      <td>impel</td>\n      <td>20160</td>\n      <td>1937</td>\n      <td>0</td>\n      <td>3</td>\n      <td>21</td>\n      <td>40</td>\n      <td>25</td>\n      <td>9</td>\n      <td>1</td>\n      <td>0.096081</td>\n      <td>2</td>\n      <td>5</td>\n      <td>0</td>\n    </tr>\n    <tr>\n      <th>356</th>\n      <td>2022-12-29</td>\n      <td>558</td>\n      <td>havoc</td>\n      <td>20001</td>\n      <td>1919</td>\n      <td>0</td>\n      <td>2</td>\n      <td>16</td>\n      <td>38</td>\n      <td>30</td>\n      <td>12</td>\n      <td>2</td>\n      <td>0.095945</td>\n      <td>2</td>\n      <td>5</td>\n      <td>0</td>\n    </tr>\n    <tr>\n      <th>357</th>\n      <td>2022-12-30</td>\n      <td>559</td>\n      <td>molar</td>\n      <td>21204</td>\n      <td>1973</td>\n      <td>0</td>\n      <td>4</td>\n      <td>21</td>\n      <td>38</td>\n      <td>26</td>\n      <td>9</td>\n      <td>1</td>\n      <td>0.093048</td>\n      <td>2</td>\n      <td>5</td>\n      <td>0</td>\n    </tr>\n    <tr>\n      <th>358</th>\n      <td>2022-12-31</td>\n      <td>560</td>\n      <td>manly</td>\n      <td>20380</td>\n      <td>1899</td>\n      <td>0</td>\n      <td>2</td>\n      <td>17</td>\n      <td>37</td>\n      <td>29</td>\n      <td>12</td>\n      <td>2</td>\n      <td>0.093180</td>\n      <td>1</td>\n      <td>5</td>\n      <td>0</td>\n    </tr>\n  </tbody>\n</table>\n<p>355 rows × 16 columns</p>\n</div>"
     },
     "execution_count": 67,
     "metadata": {},
     "output_type": "execute_result"
    }
   ],
   "source": [
    "df"
   ],
   "metadata": {
    "collapsed": false
   }
  },
  {
   "cell_type": "code",
   "execution_count": 68,
   "outputs": [
    {
     "data": {
      "text/plain": "          Date  Contest number   Word  Number of  reported results  \\\n0   2022-01-07             202  slump                        80630   \n1   2022-01-08             203  crank                       101503   \n2   2022-01-09             204  gorge                        91477   \n3   2022-01-10             205  query                       107134   \n4   2022-01-11             206  drink                       153880   \n..         ...             ...    ...                          ...   \n350 2022-12-27             556  condo                        20879   \n351 2022-12-28             557  impel                        20160   \n352 2022-12-29             558  havoc                        20001   \n353 2022-12-30             559  molar                        21204   \n354 2022-12-31             560  manly                        20380   \n\n     Number in hard mode  1 try  2 tries  3 tries  4 tries  5 tries  6 tries  \\\n0                   1362      1        3       23       39       24        9   \n1                   1763      1        5       23       31       24       14   \n2                   1913      1        3       13       27       30       22   \n3                   2242      1        4       16       30       30       17   \n4                   3017      1        9       35       34       16        5   \n..                   ...    ...      ...      ...      ...      ...      ...   \n350                 2012      0        2       17       35       29       14   \n351                 1937      0        3       21       40       25        9   \n352                 1919      0        2       16       38       30       12   \n353                 1973      0        4       21       38       26        9   \n354                 1899      0        2       17       37       29       12   \n\n     7 or more tries (X)     ratio  vowel  len  uniq  \n0                      1  0.016892      1    5     5  \n1                      2  0.017369      1    5     5  \n2                      4  0.020912      2    5     4  \n3                      2  0.020927      2    5     5  \n4                      1  0.019606      1    5     5  \n..                   ...       ...    ...  ...   ...  \n350                    3  0.096365      2    5     0  \n351                    1  0.096081      2    5     0  \n352                    2  0.095945      2    5     0  \n353                    1  0.093048      2    5     0  \n354                    2  0.093180      1    5     0  \n\n[355 rows x 16 columns]",
      "text/html": "<div>\n<style scoped>\n    .dataframe tbody tr th:only-of-type {\n        vertical-align: middle;\n    }\n\n    .dataframe tbody tr th {\n        vertical-align: top;\n    }\n\n    .dataframe thead th {\n        text-align: right;\n    }\n</style>\n<table border=\"1\" class=\"dataframe\">\n  <thead>\n    <tr style=\"text-align: right;\">\n      <th></th>\n      <th>Date</th>\n      <th>Contest number</th>\n      <th>Word</th>\n      <th>Number of  reported results</th>\n      <th>Number in hard mode</th>\n      <th>1 try</th>\n      <th>2 tries</th>\n      <th>3 tries</th>\n      <th>4 tries</th>\n      <th>5 tries</th>\n      <th>6 tries</th>\n      <th>7 or more tries (X)</th>\n      <th>ratio</th>\n      <th>vowel</th>\n      <th>len</th>\n      <th>uniq</th>\n    </tr>\n  </thead>\n  <tbody>\n    <tr>\n      <th>0</th>\n      <td>2022-01-07</td>\n      <td>202</td>\n      <td>slump</td>\n      <td>80630</td>\n      <td>1362</td>\n      <td>1</td>\n      <td>3</td>\n      <td>23</td>\n      <td>39</td>\n      <td>24</td>\n      <td>9</td>\n      <td>1</td>\n      <td>0.016892</td>\n      <td>1</td>\n      <td>5</td>\n      <td>5</td>\n    </tr>\n    <tr>\n      <th>1</th>\n      <td>2022-01-08</td>\n      <td>203</td>\n      <td>crank</td>\n      <td>101503</td>\n      <td>1763</td>\n      <td>1</td>\n      <td>5</td>\n      <td>23</td>\n      <td>31</td>\n      <td>24</td>\n      <td>14</td>\n      <td>2</td>\n      <td>0.017369</td>\n      <td>1</td>\n      <td>5</td>\n      <td>5</td>\n    </tr>\n    <tr>\n      <th>2</th>\n      <td>2022-01-09</td>\n      <td>204</td>\n      <td>gorge</td>\n      <td>91477</td>\n      <td>1913</td>\n      <td>1</td>\n      <td>3</td>\n      <td>13</td>\n      <td>27</td>\n      <td>30</td>\n      <td>22</td>\n      <td>4</td>\n      <td>0.020912</td>\n      <td>2</td>\n      <td>5</td>\n      <td>4</td>\n    </tr>\n    <tr>\n      <th>3</th>\n      <td>2022-01-10</td>\n      <td>205</td>\n      <td>query</td>\n      <td>107134</td>\n      <td>2242</td>\n      <td>1</td>\n      <td>4</td>\n      <td>16</td>\n      <td>30</td>\n      <td>30</td>\n      <td>17</td>\n      <td>2</td>\n      <td>0.020927</td>\n      <td>2</td>\n      <td>5</td>\n      <td>5</td>\n    </tr>\n    <tr>\n      <th>4</th>\n      <td>2022-01-11</td>\n      <td>206</td>\n      <td>drink</td>\n      <td>153880</td>\n      <td>3017</td>\n      <td>1</td>\n      <td>9</td>\n      <td>35</td>\n      <td>34</td>\n      <td>16</td>\n      <td>5</td>\n      <td>1</td>\n      <td>0.019606</td>\n      <td>1</td>\n      <td>5</td>\n      <td>5</td>\n    </tr>\n    <tr>\n      <th>...</th>\n      <td>...</td>\n      <td>...</td>\n      <td>...</td>\n      <td>...</td>\n      <td>...</td>\n      <td>...</td>\n      <td>...</td>\n      <td>...</td>\n      <td>...</td>\n      <td>...</td>\n      <td>...</td>\n      <td>...</td>\n      <td>...</td>\n      <td>...</td>\n      <td>...</td>\n      <td>...</td>\n    </tr>\n    <tr>\n      <th>350</th>\n      <td>2022-12-27</td>\n      <td>556</td>\n      <td>condo</td>\n      <td>20879</td>\n      <td>2012</td>\n      <td>0</td>\n      <td>2</td>\n      <td>17</td>\n      <td>35</td>\n      <td>29</td>\n      <td>14</td>\n      <td>3</td>\n      <td>0.096365</td>\n      <td>2</td>\n      <td>5</td>\n      <td>0</td>\n    </tr>\n    <tr>\n      <th>351</th>\n      <td>2022-12-28</td>\n      <td>557</td>\n      <td>impel</td>\n      <td>20160</td>\n      <td>1937</td>\n      <td>0</td>\n      <td>3</td>\n      <td>21</td>\n      <td>40</td>\n      <td>25</td>\n      <td>9</td>\n      <td>1</td>\n      <td>0.096081</td>\n      <td>2</td>\n      <td>5</td>\n      <td>0</td>\n    </tr>\n    <tr>\n      <th>352</th>\n      <td>2022-12-29</td>\n      <td>558</td>\n      <td>havoc</td>\n      <td>20001</td>\n      <td>1919</td>\n      <td>0</td>\n      <td>2</td>\n      <td>16</td>\n      <td>38</td>\n      <td>30</td>\n      <td>12</td>\n      <td>2</td>\n      <td>0.095945</td>\n      <td>2</td>\n      <td>5</td>\n      <td>0</td>\n    </tr>\n    <tr>\n      <th>353</th>\n      <td>2022-12-30</td>\n      <td>559</td>\n      <td>molar</td>\n      <td>21204</td>\n      <td>1973</td>\n      <td>0</td>\n      <td>4</td>\n      <td>21</td>\n      <td>38</td>\n      <td>26</td>\n      <td>9</td>\n      <td>1</td>\n      <td>0.093048</td>\n      <td>2</td>\n      <td>5</td>\n      <td>0</td>\n    </tr>\n    <tr>\n      <th>354</th>\n      <td>2022-12-31</td>\n      <td>560</td>\n      <td>manly</td>\n      <td>20380</td>\n      <td>1899</td>\n      <td>0</td>\n      <td>2</td>\n      <td>17</td>\n      <td>37</td>\n      <td>29</td>\n      <td>12</td>\n      <td>2</td>\n      <td>0.093180</td>\n      <td>1</td>\n      <td>5</td>\n      <td>0</td>\n    </tr>\n  </tbody>\n</table>\n<p>355 rows × 16 columns</p>\n</div>"
     },
     "execution_count": 68,
     "metadata": {},
     "output_type": "execute_result"
    }
   ],
   "source": [
    "df.reset_index(drop=True,inplace=True)\n",
    "df"
   ],
   "metadata": {
    "collapsed": false
   }
  },
  {
   "cell_type": "code",
   "execution_count": 69,
   "outputs": [
    {
     "name": "stderr",
     "output_type": "stream",
     "text": [
      "X:\\Temp\\ipykernel_20740\\2467716850.py:4: SettingWithCopyWarning: \n",
      "A value is trying to be set on a copy of a slice from a DataFrame\n",
      "\n",
      "See the caveats in the documentation: https://pandas.pydata.org/pandas-docs/stable/user_guide/indexing.html#returning-a-view-versus-a-copy\n",
      "  df[\"uniq\"][k] = len(set(df[\"Word\"][k]))\n"
     ]
    },
    {
     "data": {
      "text/plain": "          Date  Contest number   Word  Number of  reported results  \\\n0   2022-01-07             202  slump                        80630   \n1   2022-01-08             203  crank                       101503   \n2   2022-01-09             204  gorge                        91477   \n3   2022-01-10             205  query                       107134   \n4   2022-01-11             206  drink                       153880   \n..         ...             ...    ...                          ...   \n350 2022-12-27             556  condo                        20879   \n351 2022-12-28             557  impel                        20160   \n352 2022-12-29             558  havoc                        20001   \n353 2022-12-30             559  molar                        21204   \n354 2022-12-31             560  manly                        20380   \n\n     Number in hard mode  1 try  2 tries  3 tries  4 tries  5 tries  6 tries  \\\n0                   1362      1        3       23       39       24        9   \n1                   1763      1        5       23       31       24       14   \n2                   1913      1        3       13       27       30       22   \n3                   2242      1        4       16       30       30       17   \n4                   3017      1        9       35       34       16        5   \n..                   ...    ...      ...      ...      ...      ...      ...   \n350                 2012      0        2       17       35       29       14   \n351                 1937      0        3       21       40       25        9   \n352                 1919      0        2       16       38       30       12   \n353                 1973      0        4       21       38       26        9   \n354                 1899      0        2       17       37       29       12   \n\n     7 or more tries (X)     ratio  vowel  len  uniq  \n0                      1  0.016892      1    5     5  \n1                      2  0.017369      1    5     5  \n2                      4  0.020912      2    5     4  \n3                      2  0.020927      2    5     5  \n4                      1  0.019606      1    5     5  \n..                   ...       ...    ...  ...   ...  \n350                    3  0.096365      2    5     4  \n351                    1  0.096081      2    5     5  \n352                    2  0.095945      2    5     5  \n353                    1  0.093048      2    5     5  \n354                    2  0.093180      1    5     5  \n\n[355 rows x 16 columns]",
      "text/html": "<div>\n<style scoped>\n    .dataframe tbody tr th:only-of-type {\n        vertical-align: middle;\n    }\n\n    .dataframe tbody tr th {\n        vertical-align: top;\n    }\n\n    .dataframe thead th {\n        text-align: right;\n    }\n</style>\n<table border=\"1\" class=\"dataframe\">\n  <thead>\n    <tr style=\"text-align: right;\">\n      <th></th>\n      <th>Date</th>\n      <th>Contest number</th>\n      <th>Word</th>\n      <th>Number of  reported results</th>\n      <th>Number in hard mode</th>\n      <th>1 try</th>\n      <th>2 tries</th>\n      <th>3 tries</th>\n      <th>4 tries</th>\n      <th>5 tries</th>\n      <th>6 tries</th>\n      <th>7 or more tries (X)</th>\n      <th>ratio</th>\n      <th>vowel</th>\n      <th>len</th>\n      <th>uniq</th>\n    </tr>\n  </thead>\n  <tbody>\n    <tr>\n      <th>0</th>\n      <td>2022-01-07</td>\n      <td>202</td>\n      <td>slump</td>\n      <td>80630</td>\n      <td>1362</td>\n      <td>1</td>\n      <td>3</td>\n      <td>23</td>\n      <td>39</td>\n      <td>24</td>\n      <td>9</td>\n      <td>1</td>\n      <td>0.016892</td>\n      <td>1</td>\n      <td>5</td>\n      <td>5</td>\n    </tr>\n    <tr>\n      <th>1</th>\n      <td>2022-01-08</td>\n      <td>203</td>\n      <td>crank</td>\n      <td>101503</td>\n      <td>1763</td>\n      <td>1</td>\n      <td>5</td>\n      <td>23</td>\n      <td>31</td>\n      <td>24</td>\n      <td>14</td>\n      <td>2</td>\n      <td>0.017369</td>\n      <td>1</td>\n      <td>5</td>\n      <td>5</td>\n    </tr>\n    <tr>\n      <th>2</th>\n      <td>2022-01-09</td>\n      <td>204</td>\n      <td>gorge</td>\n      <td>91477</td>\n      <td>1913</td>\n      <td>1</td>\n      <td>3</td>\n      <td>13</td>\n      <td>27</td>\n      <td>30</td>\n      <td>22</td>\n      <td>4</td>\n      <td>0.020912</td>\n      <td>2</td>\n      <td>5</td>\n      <td>4</td>\n    </tr>\n    <tr>\n      <th>3</th>\n      <td>2022-01-10</td>\n      <td>205</td>\n      <td>query</td>\n      <td>107134</td>\n      <td>2242</td>\n      <td>1</td>\n      <td>4</td>\n      <td>16</td>\n      <td>30</td>\n      <td>30</td>\n      <td>17</td>\n      <td>2</td>\n      <td>0.020927</td>\n      <td>2</td>\n      <td>5</td>\n      <td>5</td>\n    </tr>\n    <tr>\n      <th>4</th>\n      <td>2022-01-11</td>\n      <td>206</td>\n      <td>drink</td>\n      <td>153880</td>\n      <td>3017</td>\n      <td>1</td>\n      <td>9</td>\n      <td>35</td>\n      <td>34</td>\n      <td>16</td>\n      <td>5</td>\n      <td>1</td>\n      <td>0.019606</td>\n      <td>1</td>\n      <td>5</td>\n      <td>5</td>\n    </tr>\n    <tr>\n      <th>...</th>\n      <td>...</td>\n      <td>...</td>\n      <td>...</td>\n      <td>...</td>\n      <td>...</td>\n      <td>...</td>\n      <td>...</td>\n      <td>...</td>\n      <td>...</td>\n      <td>...</td>\n      <td>...</td>\n      <td>...</td>\n      <td>...</td>\n      <td>...</td>\n      <td>...</td>\n      <td>...</td>\n    </tr>\n    <tr>\n      <th>350</th>\n      <td>2022-12-27</td>\n      <td>556</td>\n      <td>condo</td>\n      <td>20879</td>\n      <td>2012</td>\n      <td>0</td>\n      <td>2</td>\n      <td>17</td>\n      <td>35</td>\n      <td>29</td>\n      <td>14</td>\n      <td>3</td>\n      <td>0.096365</td>\n      <td>2</td>\n      <td>5</td>\n      <td>4</td>\n    </tr>\n    <tr>\n      <th>351</th>\n      <td>2022-12-28</td>\n      <td>557</td>\n      <td>impel</td>\n      <td>20160</td>\n      <td>1937</td>\n      <td>0</td>\n      <td>3</td>\n      <td>21</td>\n      <td>40</td>\n      <td>25</td>\n      <td>9</td>\n      <td>1</td>\n      <td>0.096081</td>\n      <td>2</td>\n      <td>5</td>\n      <td>5</td>\n    </tr>\n    <tr>\n      <th>352</th>\n      <td>2022-12-29</td>\n      <td>558</td>\n      <td>havoc</td>\n      <td>20001</td>\n      <td>1919</td>\n      <td>0</td>\n      <td>2</td>\n      <td>16</td>\n      <td>38</td>\n      <td>30</td>\n      <td>12</td>\n      <td>2</td>\n      <td>0.095945</td>\n      <td>2</td>\n      <td>5</td>\n      <td>5</td>\n    </tr>\n    <tr>\n      <th>353</th>\n      <td>2022-12-30</td>\n      <td>559</td>\n      <td>molar</td>\n      <td>21204</td>\n      <td>1973</td>\n      <td>0</td>\n      <td>4</td>\n      <td>21</td>\n      <td>38</td>\n      <td>26</td>\n      <td>9</td>\n      <td>1</td>\n      <td>0.093048</td>\n      <td>2</td>\n      <td>5</td>\n      <td>5</td>\n    </tr>\n    <tr>\n      <th>354</th>\n      <td>2022-12-31</td>\n      <td>560</td>\n      <td>manly</td>\n      <td>20380</td>\n      <td>1899</td>\n      <td>0</td>\n      <td>2</td>\n      <td>17</td>\n      <td>37</td>\n      <td>29</td>\n      <td>12</td>\n      <td>2</td>\n      <td>0.093180</td>\n      <td>1</td>\n      <td>5</td>\n      <td>5</td>\n    </tr>\n  </tbody>\n</table>\n<p>355 rows × 16 columns</p>\n</div>"
     },
     "execution_count": 69,
     "metadata": {},
     "output_type": "execute_result"
    }
   ],
   "source": [
    "max_size = len(df)\n",
    "df[\"uniq\"] = 0\n",
    "for k in range(0, max_size):\n",
    "    df[\"uniq\"][k] = len(set(df[\"Word\"][k]))\n",
    "df"
   ],
   "metadata": {
    "collapsed": false
   }
  },
  {
   "cell_type": "code",
   "execution_count": 70,
   "outputs": [
    {
     "data": {
      "text/plain": "array([3, 4, 5], dtype=int64)"
     },
     "execution_count": 70,
     "metadata": {},
     "output_type": "execute_result"
    }
   ],
   "source": [
    "np.unique(df[\"uniq\"])"
   ],
   "metadata": {
    "collapsed": false
   }
  },
  {
   "cell_type": "code",
   "execution_count": 71,
   "outputs": [
    {
     "data": {
      "text/plain": "48     vivid\n160    cacao\n178    fluff\n183    madam\n199    motto\n287    mummy\nName: Word, dtype: object"
     },
     "execution_count": 71,
     "metadata": {},
     "output_type": "execute_result"
    }
   ],
   "source": [
    "df[df[\"uniq\"] == 3].Word"
   ],
   "metadata": {
    "collapsed": false
   }
  },
  {
   "cell_type": "code",
   "execution_count": 73,
   "outputs": [
    {
     "data": {
      "text/plain": "6"
     },
     "execution_count": 73,
     "metadata": {},
     "output_type": "execute_result"
    }
   ],
   "source": [
    "len(df[df[\"uniq\"] == 3].Word)"
   ],
   "metadata": {
    "collapsed": false
   }
  },
  {
   "cell_type": "code",
   "execution_count": 72,
   "outputs": [
    {
     "data": {
      "text/plain": "2      gorge\n5      abbey\n12     robot\n16     knoll\n29     skill\n       ...  \n336    apply\n338    usual\n345    excel\n346    aorta\n350    condo\nName: Word, Length: 94, dtype: object"
     },
     "execution_count": 72,
     "metadata": {},
     "output_type": "execute_result"
    }
   ],
   "source": [
    "df[df[\"uniq\"] == 4].Word"
   ],
   "metadata": {
    "collapsed": false
   }
  },
  {
   "cell_type": "code",
   "execution_count": 74,
   "outputs": [
    {
     "data": {
      "text/plain": "94"
     },
     "execution_count": 74,
     "metadata": {},
     "output_type": "execute_result"
    }
   ],
   "source": [
    "len(df[df[\"uniq\"] == 4].Word)"
   ],
   "metadata": {
    "collapsed": false
   }
  },
  {
   "cell_type": "code",
   "execution_count": 75,
   "outputs": [
    {
     "name": "stdout",
     "output_type": "stream",
     "text": [
      "--\n"
     ]
    }
   ],
   "source": [
    "df.to_excel(\"data2.xlsx\")\n",
    "print(\"--\")"
   ],
   "metadata": {
    "collapsed": false
   }
  },
  {
   "cell_type": "code",
   "execution_count": null,
   "outputs": [],
   "source": [],
   "metadata": {
    "collapsed": false
   }
  }
 ],
 "metadata": {
  "kernelspec": {
   "display_name": "Python 3",
   "language": "python",
   "name": "python3"
  },
  "language_info": {
   "codemirror_mode": {
    "name": "ipython",
    "version": 2
   },
   "file_extension": ".py",
   "mimetype": "text/x-python",
   "name": "python",
   "nbconvert_exporter": "python",
   "pygments_lexer": "ipython2",
   "version": "2.7.6"
  }
 },
 "nbformat": 4,
 "nbformat_minor": 0
}
