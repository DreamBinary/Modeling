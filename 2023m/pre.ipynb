{
 "cells": [
  {
   "cell_type": "code",
   "execution_count": 16,
   "metadata": {
    "collapsed": true
   },
   "outputs": [
    {
     "data": {
      "text/plain": "     Unnamed: 0  Unnamed: 1  Unnamed: 2       Date  Contest number   Word  \\\n0             0         NaN         NaN 2022-01-07             202  slump   \n1             1         NaN         NaN 2022-01-08             203  crank   \n2             2         NaN         NaN 2022-01-09             204  gorge   \n3             3         NaN         NaN 2022-01-10             205  query   \n4             4         NaN         NaN 2022-01-11             206  drink   \n..          ...         ...         ...        ...             ...    ...   \n350         350         NaN         NaN 2022-12-27             556  condo   \n351         351         NaN         NaN 2022-12-28             557  impel   \n352         352         NaN         NaN 2022-12-29             558  havoc   \n353         353         NaN         NaN 2022-12-30             559  molar   \n354         354         NaN         NaN 2022-12-31             560  manly   \n\n     Number of  reported results  Number in hard mode  1 try  2 tries  ...  \\\n0                          80630                 1362      1        3  ...   \n1                         101503                 1763      1        5  ...   \n2                          91477                 1913      1        3  ...   \n3                         107134                 2242      1        4  ...   \n4                         153880                 3017      1        9  ...   \n..                           ...                  ...    ...      ...  ...   \n350                        20879                 2012      0        2  ...   \n351                        20160                 1937      0        3  ...   \n352                        20001                 1919      0        2  ...   \n353                        21204                 1973      0        4  ...   \n354                        20380                 1899      0        2  ...   \n\n     5 tries  6 tries  7 or more tries (X)     ratio  vowel  len  uniq  star  \\\n0         24        9                    1  0.016892      1    5     5     2   \n1         24       14                    2  0.017369      1    5     5     2   \n2         30       22                    4  0.020912      2    5     4     1   \n3         30       17                    2  0.020927      2    5     5     2   \n4         16        5                    1  0.019606      1    5     5     4   \n..       ...      ...                  ...       ...    ...  ...   ...   ...   \n350       29       14                    3  0.096365      2    5     4     1   \n351       25        9                    1  0.096081      2    5     5     2   \n352       30       12                    2  0.095945      2    5     5     3   \n353       26        9                    1  0.093048      2    5     5     2   \n354       29       12                    2  0.093180      1    5     5     2   \n\n     three_s  three_ss  \n0       0.27        27  \n1       0.29        29  \n2       0.17        17  \n3       0.21        21  \n4       0.45        45  \n..       ...       ...  \n350     0.19        19  \n351     0.24        24  \n352     0.18        18  \n353     0.25        25  \n354     0.19        19  \n\n[355 rows x 22 columns]",
      "text/html": "<div>\n<style scoped>\n    .dataframe tbody tr th:only-of-type {\n        vertical-align: middle;\n    }\n\n    .dataframe tbody tr th {\n        vertical-align: top;\n    }\n\n    .dataframe thead th {\n        text-align: right;\n    }\n</style>\n<table border=\"1\" class=\"dataframe\">\n  <thead>\n    <tr style=\"text-align: right;\">\n      <th></th>\n      <th>Unnamed: 0</th>\n      <th>Unnamed: 1</th>\n      <th>Unnamed: 2</th>\n      <th>Date</th>\n      <th>Contest number</th>\n      <th>Word</th>\n      <th>Number of  reported results</th>\n      <th>Number in hard mode</th>\n      <th>1 try</th>\n      <th>2 tries</th>\n      <th>...</th>\n      <th>5 tries</th>\n      <th>6 tries</th>\n      <th>7 or more tries (X)</th>\n      <th>ratio</th>\n      <th>vowel</th>\n      <th>len</th>\n      <th>uniq</th>\n      <th>star</th>\n      <th>three_s</th>\n      <th>three_ss</th>\n    </tr>\n  </thead>\n  <tbody>\n    <tr>\n      <th>0</th>\n      <td>0</td>\n      <td>NaN</td>\n      <td>NaN</td>\n      <td>2022-01-07</td>\n      <td>202</td>\n      <td>slump</td>\n      <td>80630</td>\n      <td>1362</td>\n      <td>1</td>\n      <td>3</td>\n      <td>...</td>\n      <td>24</td>\n      <td>9</td>\n      <td>1</td>\n      <td>0.016892</td>\n      <td>1</td>\n      <td>5</td>\n      <td>5</td>\n      <td>2</td>\n      <td>0.27</td>\n      <td>27</td>\n    </tr>\n    <tr>\n      <th>1</th>\n      <td>1</td>\n      <td>NaN</td>\n      <td>NaN</td>\n      <td>2022-01-08</td>\n      <td>203</td>\n      <td>crank</td>\n      <td>101503</td>\n      <td>1763</td>\n      <td>1</td>\n      <td>5</td>\n      <td>...</td>\n      <td>24</td>\n      <td>14</td>\n      <td>2</td>\n      <td>0.017369</td>\n      <td>1</td>\n      <td>5</td>\n      <td>5</td>\n      <td>2</td>\n      <td>0.29</td>\n      <td>29</td>\n    </tr>\n    <tr>\n      <th>2</th>\n      <td>2</td>\n      <td>NaN</td>\n      <td>NaN</td>\n      <td>2022-01-09</td>\n      <td>204</td>\n      <td>gorge</td>\n      <td>91477</td>\n      <td>1913</td>\n      <td>1</td>\n      <td>3</td>\n      <td>...</td>\n      <td>30</td>\n      <td>22</td>\n      <td>4</td>\n      <td>0.020912</td>\n      <td>2</td>\n      <td>5</td>\n      <td>4</td>\n      <td>1</td>\n      <td>0.17</td>\n      <td>17</td>\n    </tr>\n    <tr>\n      <th>3</th>\n      <td>3</td>\n      <td>NaN</td>\n      <td>NaN</td>\n      <td>2022-01-10</td>\n      <td>205</td>\n      <td>query</td>\n      <td>107134</td>\n      <td>2242</td>\n      <td>1</td>\n      <td>4</td>\n      <td>...</td>\n      <td>30</td>\n      <td>17</td>\n      <td>2</td>\n      <td>0.020927</td>\n      <td>2</td>\n      <td>5</td>\n      <td>5</td>\n      <td>2</td>\n      <td>0.21</td>\n      <td>21</td>\n    </tr>\n    <tr>\n      <th>4</th>\n      <td>4</td>\n      <td>NaN</td>\n      <td>NaN</td>\n      <td>2022-01-11</td>\n      <td>206</td>\n      <td>drink</td>\n      <td>153880</td>\n      <td>3017</td>\n      <td>1</td>\n      <td>9</td>\n      <td>...</td>\n      <td>16</td>\n      <td>5</td>\n      <td>1</td>\n      <td>0.019606</td>\n      <td>1</td>\n      <td>5</td>\n      <td>5</td>\n      <td>4</td>\n      <td>0.45</td>\n      <td>45</td>\n    </tr>\n    <tr>\n      <th>...</th>\n      <td>...</td>\n      <td>...</td>\n      <td>...</td>\n      <td>...</td>\n      <td>...</td>\n      <td>...</td>\n      <td>...</td>\n      <td>...</td>\n      <td>...</td>\n      <td>...</td>\n      <td>...</td>\n      <td>...</td>\n      <td>...</td>\n      <td>...</td>\n      <td>...</td>\n      <td>...</td>\n      <td>...</td>\n      <td>...</td>\n      <td>...</td>\n      <td>...</td>\n      <td>...</td>\n    </tr>\n    <tr>\n      <th>350</th>\n      <td>350</td>\n      <td>NaN</td>\n      <td>NaN</td>\n      <td>2022-12-27</td>\n      <td>556</td>\n      <td>condo</td>\n      <td>20879</td>\n      <td>2012</td>\n      <td>0</td>\n      <td>2</td>\n      <td>...</td>\n      <td>29</td>\n      <td>14</td>\n      <td>3</td>\n      <td>0.096365</td>\n      <td>2</td>\n      <td>5</td>\n      <td>4</td>\n      <td>1</td>\n      <td>0.19</td>\n      <td>19</td>\n    </tr>\n    <tr>\n      <th>351</th>\n      <td>351</td>\n      <td>NaN</td>\n      <td>NaN</td>\n      <td>2022-12-28</td>\n      <td>557</td>\n      <td>impel</td>\n      <td>20160</td>\n      <td>1937</td>\n      <td>0</td>\n      <td>3</td>\n      <td>...</td>\n      <td>25</td>\n      <td>9</td>\n      <td>1</td>\n      <td>0.096081</td>\n      <td>2</td>\n      <td>5</td>\n      <td>5</td>\n      <td>2</td>\n      <td>0.24</td>\n      <td>24</td>\n    </tr>\n    <tr>\n      <th>352</th>\n      <td>352</td>\n      <td>NaN</td>\n      <td>NaN</td>\n      <td>2022-12-29</td>\n      <td>558</td>\n      <td>havoc</td>\n      <td>20001</td>\n      <td>1919</td>\n      <td>0</td>\n      <td>2</td>\n      <td>...</td>\n      <td>30</td>\n      <td>12</td>\n      <td>2</td>\n      <td>0.095945</td>\n      <td>2</td>\n      <td>5</td>\n      <td>5</td>\n      <td>3</td>\n      <td>0.18</td>\n      <td>18</td>\n    </tr>\n    <tr>\n      <th>353</th>\n      <td>353</td>\n      <td>NaN</td>\n      <td>NaN</td>\n      <td>2022-12-30</td>\n      <td>559</td>\n      <td>molar</td>\n      <td>21204</td>\n      <td>1973</td>\n      <td>0</td>\n      <td>4</td>\n      <td>...</td>\n      <td>26</td>\n      <td>9</td>\n      <td>1</td>\n      <td>0.093048</td>\n      <td>2</td>\n      <td>5</td>\n      <td>5</td>\n      <td>2</td>\n      <td>0.25</td>\n      <td>25</td>\n    </tr>\n    <tr>\n      <th>354</th>\n      <td>354</td>\n      <td>NaN</td>\n      <td>NaN</td>\n      <td>2022-12-31</td>\n      <td>560</td>\n      <td>manly</td>\n      <td>20380</td>\n      <td>1899</td>\n      <td>0</td>\n      <td>2</td>\n      <td>...</td>\n      <td>29</td>\n      <td>12</td>\n      <td>2</td>\n      <td>0.093180</td>\n      <td>1</td>\n      <td>5</td>\n      <td>5</td>\n      <td>2</td>\n      <td>0.19</td>\n      <td>19</td>\n    </tr>\n  </tbody>\n</table>\n<p>355 rows × 22 columns</p>\n</div>"
     },
     "execution_count": 16,
     "metadata": {},
     "output_type": "execute_result"
    }
   ],
   "source": [
    "import pandas as pd\n",
    "import plotly.graph_objs as go\n",
    "import plotly.express as px\n",
    "import plotly.io as pio\n",
    "import numpy as np\n",
    "import pandas as pd\n",
    "\n",
    "pio.templates.default = \"plotly_white\"\n",
    "df = pd.read_excel(\"data3.xlsx\")\n",
    "df[\"Date\"] = pd.to_datetime(df[\"Date\"])\n",
    "df"
   ]
  },
  {
   "cell_type": "code",
   "execution_count": 26,
   "outputs": [
    {
     "data": {
      "text/plain": "(0.7816935460093568,\n 3.9939438517645667,\n 7.758674110414699,\n 5.360906384137773,\n 5.9143282851238315,\n 6.192409690381755,\n 4.140788421291353)"
     },
     "execution_count": 26,
     "metadata": {},
     "output_type": "execute_result"
    }
   ],
   "source": [
    "u_n = df[\"Number of  reported results\"].mean()\n",
    "u_h = df[\"Number in hard mode\"].mean()\n",
    "u1 = df[\"1 try\"].mean()\n",
    "u2 = df[\"2 tries\"].mean()\n",
    "u3 = df[\"3 tries\"].mean()\n",
    "u4 = df[\"4 tries\"].mean()\n",
    "u5 = df[\"5 tries\"].mean()\n",
    "u6 = df[\"6 tries\"].mean()\n",
    "u7 = df[\"7 or more tries (X)\"].mean()\n",
    "u_v = df[\"vowel\"].mean()\n",
    "u_uniq = df[\"uniq\"].mean()\n",
    "u_star = df[\"star\"].mean()\n",
    "s_n = df[\"Number of  reported results\"].std()\n",
    "s_h = df[\"Number in hard mode\"].std()\n",
    "s1 = df[\"1 try\"].std()\n",
    "s2 = df[\"2 tries\"].std()\n",
    "s3 = df[\"3 tries\"].std()\n",
    "s4 = df[\"4 tries\"].std()\n",
    "s5 = df[\"5 tries\"].std()\n",
    "s6 = df[\"6 tries\"].std()\n",
    "s7 = df[\"7 or more tries (X)\"].std()\n",
    "s_v = df[\"vowel\"].std()\n",
    "s_uniq = df[\"uniq\"].std()\n",
    "s_star = df[\"star\"].std()\n",
    "\n",
    "s1,s2,s3,s4,s5,s6, s7"
   ],
   "metadata": {
    "collapsed": false
   }
  },
  {
   "cell_type": "code",
   "execution_count": 15,
   "outputs": [
    {
     "data": {
      "text/plain": "     Unnamed: 0  Unnamed: 1  Unnamed: 2       Date  Contest number   Word  \\\n0             0         NaN         NaN 2022-01-07             202  slump   \n1             1         NaN         NaN 2022-01-08             203  crank   \n2             2         NaN         NaN 2022-01-09             204  gorge   \n3             3         NaN         NaN 2022-01-10             205  query   \n4             4         NaN         NaN 2022-01-11             206  drink   \n..          ...         ...         ...        ...             ...    ...   \n350         350         NaN         NaN 2022-12-27             556  condo   \n351         351         NaN         NaN 2022-12-28             557  impel   \n352         352         NaN         NaN 2022-12-29             558  havoc   \n353         353         NaN         NaN 2022-12-30             559  molar   \n354         354         NaN         NaN 2022-12-31             560  manly   \n\n     Number of  reported results  Number in hard mode     1 try   2 tries  \\\n0                      -0.117038                 1362  0.684682 -0.696124   \n1                       0.115919                 1763  0.684682 -0.195366   \n2                       0.004022                 1913  0.684682 -0.696124   \n3                       0.178765                 2242  0.684682 -0.445745   \n4                       0.700481                 3017  0.684682  0.806150   \n..                           ...                  ...       ...       ...   \n350                    -0.783899                 2012 -0.594592 -0.946503   \n351                    -0.791923                 1937 -0.594592 -0.696124   \n352                    -0.793698                 1919 -0.594592 -0.946503   \n353                    -0.780272                 1973 -0.594592 -0.445745   \n354                    -0.789468                 1899 -0.594592 -0.946503   \n\n     ...   5 tries   6 tries  7 or more tries (X)     ratio     vowel  len  \\\n0    ...  0.053344 -0.416685            -0.438101  0.016892 -1.278686    5   \n1    ...  0.053344  0.390756            -0.196601  0.017369 -1.278686    5   \n2    ...  1.067829  1.682660             0.286398  0.020912  0.348316    5   \n3    ...  1.067829  0.875220            -0.196601  0.020927  0.348316    5   \n4    ... -1.299303 -1.062637            -0.438101  0.019606 -1.278686    5   \n..   ...       ...       ...                  ...       ...       ...  ...   \n350  ...  0.898748  0.390756             0.044899  0.096365  0.348316    5   \n351  ...  0.222425 -0.416685            -0.438101  0.096081  0.348316    5   \n352  ...  1.067829  0.067779            -0.196601  0.095945  0.348316    5   \n353  ...  0.391506 -0.416685            -0.438101  0.093048  0.348316    5   \n354  ...  0.898748  0.067779            -0.196601  0.093180 -1.278686    5   \n\n         uniq      star  three_s  three_ss  \n0    0.604574 -0.517873     0.27        27  \n1    0.604574 -0.517873     0.29        29  \n2   -1.420179 -1.410324     0.17        17  \n3    0.604574 -0.517873     0.21        21  \n4    0.604574  1.267029     0.45        45  \n..        ...       ...      ...       ...  \n350 -1.420179 -1.410324     0.19        19  \n351  0.604574 -0.517873     0.24        24  \n352  0.604574  0.374578     0.18        18  \n353  0.604574 -0.517873     0.25        25  \n354  0.604574 -0.517873     0.19        19  \n\n[355 rows x 22 columns]",
      "text/html": "<div>\n<style scoped>\n    .dataframe tbody tr th:only-of-type {\n        vertical-align: middle;\n    }\n\n    .dataframe tbody tr th {\n        vertical-align: top;\n    }\n\n    .dataframe thead th {\n        text-align: right;\n    }\n</style>\n<table border=\"1\" class=\"dataframe\">\n  <thead>\n    <tr style=\"text-align: right;\">\n      <th></th>\n      <th>Unnamed: 0</th>\n      <th>Unnamed: 1</th>\n      <th>Unnamed: 2</th>\n      <th>Date</th>\n      <th>Contest number</th>\n      <th>Word</th>\n      <th>Number of  reported results</th>\n      <th>Number in hard mode</th>\n      <th>1 try</th>\n      <th>2 tries</th>\n      <th>...</th>\n      <th>5 tries</th>\n      <th>6 tries</th>\n      <th>7 or more tries (X)</th>\n      <th>ratio</th>\n      <th>vowel</th>\n      <th>len</th>\n      <th>uniq</th>\n      <th>star</th>\n      <th>three_s</th>\n      <th>three_ss</th>\n    </tr>\n  </thead>\n  <tbody>\n    <tr>\n      <th>0</th>\n      <td>0</td>\n      <td>NaN</td>\n      <td>NaN</td>\n      <td>2022-01-07</td>\n      <td>202</td>\n      <td>slump</td>\n      <td>-0.117038</td>\n      <td>1362</td>\n      <td>0.684682</td>\n      <td>-0.696124</td>\n      <td>...</td>\n      <td>0.053344</td>\n      <td>-0.416685</td>\n      <td>-0.438101</td>\n      <td>0.016892</td>\n      <td>-1.278686</td>\n      <td>5</td>\n      <td>0.604574</td>\n      <td>-0.517873</td>\n      <td>0.27</td>\n      <td>27</td>\n    </tr>\n    <tr>\n      <th>1</th>\n      <td>1</td>\n      <td>NaN</td>\n      <td>NaN</td>\n      <td>2022-01-08</td>\n      <td>203</td>\n      <td>crank</td>\n      <td>0.115919</td>\n      <td>1763</td>\n      <td>0.684682</td>\n      <td>-0.195366</td>\n      <td>...</td>\n      <td>0.053344</td>\n      <td>0.390756</td>\n      <td>-0.196601</td>\n      <td>0.017369</td>\n      <td>-1.278686</td>\n      <td>5</td>\n      <td>0.604574</td>\n      <td>-0.517873</td>\n      <td>0.29</td>\n      <td>29</td>\n    </tr>\n    <tr>\n      <th>2</th>\n      <td>2</td>\n      <td>NaN</td>\n      <td>NaN</td>\n      <td>2022-01-09</td>\n      <td>204</td>\n      <td>gorge</td>\n      <td>0.004022</td>\n      <td>1913</td>\n      <td>0.684682</td>\n      <td>-0.696124</td>\n      <td>...</td>\n      <td>1.067829</td>\n      <td>1.682660</td>\n      <td>0.286398</td>\n      <td>0.020912</td>\n      <td>0.348316</td>\n      <td>5</td>\n      <td>-1.420179</td>\n      <td>-1.410324</td>\n      <td>0.17</td>\n      <td>17</td>\n    </tr>\n    <tr>\n      <th>3</th>\n      <td>3</td>\n      <td>NaN</td>\n      <td>NaN</td>\n      <td>2022-01-10</td>\n      <td>205</td>\n      <td>query</td>\n      <td>0.178765</td>\n      <td>2242</td>\n      <td>0.684682</td>\n      <td>-0.445745</td>\n      <td>...</td>\n      <td>1.067829</td>\n      <td>0.875220</td>\n      <td>-0.196601</td>\n      <td>0.020927</td>\n      <td>0.348316</td>\n      <td>5</td>\n      <td>0.604574</td>\n      <td>-0.517873</td>\n      <td>0.21</td>\n      <td>21</td>\n    </tr>\n    <tr>\n      <th>4</th>\n      <td>4</td>\n      <td>NaN</td>\n      <td>NaN</td>\n      <td>2022-01-11</td>\n      <td>206</td>\n      <td>drink</td>\n      <td>0.700481</td>\n      <td>3017</td>\n      <td>0.684682</td>\n      <td>0.806150</td>\n      <td>...</td>\n      <td>-1.299303</td>\n      <td>-1.062637</td>\n      <td>-0.438101</td>\n      <td>0.019606</td>\n      <td>-1.278686</td>\n      <td>5</td>\n      <td>0.604574</td>\n      <td>1.267029</td>\n      <td>0.45</td>\n      <td>45</td>\n    </tr>\n    <tr>\n      <th>...</th>\n      <td>...</td>\n      <td>...</td>\n      <td>...</td>\n      <td>...</td>\n      <td>...</td>\n      <td>...</td>\n      <td>...</td>\n      <td>...</td>\n      <td>...</td>\n      <td>...</td>\n      <td>...</td>\n      <td>...</td>\n      <td>...</td>\n      <td>...</td>\n      <td>...</td>\n      <td>...</td>\n      <td>...</td>\n      <td>...</td>\n      <td>...</td>\n      <td>...</td>\n      <td>...</td>\n    </tr>\n    <tr>\n      <th>350</th>\n      <td>350</td>\n      <td>NaN</td>\n      <td>NaN</td>\n      <td>2022-12-27</td>\n      <td>556</td>\n      <td>condo</td>\n      <td>-0.783899</td>\n      <td>2012</td>\n      <td>-0.594592</td>\n      <td>-0.946503</td>\n      <td>...</td>\n      <td>0.898748</td>\n      <td>0.390756</td>\n      <td>0.044899</td>\n      <td>0.096365</td>\n      <td>0.348316</td>\n      <td>5</td>\n      <td>-1.420179</td>\n      <td>-1.410324</td>\n      <td>0.19</td>\n      <td>19</td>\n    </tr>\n    <tr>\n      <th>351</th>\n      <td>351</td>\n      <td>NaN</td>\n      <td>NaN</td>\n      <td>2022-12-28</td>\n      <td>557</td>\n      <td>impel</td>\n      <td>-0.791923</td>\n      <td>1937</td>\n      <td>-0.594592</td>\n      <td>-0.696124</td>\n      <td>...</td>\n      <td>0.222425</td>\n      <td>-0.416685</td>\n      <td>-0.438101</td>\n      <td>0.096081</td>\n      <td>0.348316</td>\n      <td>5</td>\n      <td>0.604574</td>\n      <td>-0.517873</td>\n      <td>0.24</td>\n      <td>24</td>\n    </tr>\n    <tr>\n      <th>352</th>\n      <td>352</td>\n      <td>NaN</td>\n      <td>NaN</td>\n      <td>2022-12-29</td>\n      <td>558</td>\n      <td>havoc</td>\n      <td>-0.793698</td>\n      <td>1919</td>\n      <td>-0.594592</td>\n      <td>-0.946503</td>\n      <td>...</td>\n      <td>1.067829</td>\n      <td>0.067779</td>\n      <td>-0.196601</td>\n      <td>0.095945</td>\n      <td>0.348316</td>\n      <td>5</td>\n      <td>0.604574</td>\n      <td>0.374578</td>\n      <td>0.18</td>\n      <td>18</td>\n    </tr>\n    <tr>\n      <th>353</th>\n      <td>353</td>\n      <td>NaN</td>\n      <td>NaN</td>\n      <td>2022-12-30</td>\n      <td>559</td>\n      <td>molar</td>\n      <td>-0.780272</td>\n      <td>1973</td>\n      <td>-0.594592</td>\n      <td>-0.445745</td>\n      <td>...</td>\n      <td>0.391506</td>\n      <td>-0.416685</td>\n      <td>-0.438101</td>\n      <td>0.093048</td>\n      <td>0.348316</td>\n      <td>5</td>\n      <td>0.604574</td>\n      <td>-0.517873</td>\n      <td>0.25</td>\n      <td>25</td>\n    </tr>\n    <tr>\n      <th>354</th>\n      <td>354</td>\n      <td>NaN</td>\n      <td>NaN</td>\n      <td>2022-12-31</td>\n      <td>560</td>\n      <td>manly</td>\n      <td>-0.789468</td>\n      <td>1899</td>\n      <td>-0.594592</td>\n      <td>-0.946503</td>\n      <td>...</td>\n      <td>0.898748</td>\n      <td>0.067779</td>\n      <td>-0.196601</td>\n      <td>0.093180</td>\n      <td>-1.278686</td>\n      <td>5</td>\n      <td>0.604574</td>\n      <td>-0.517873</td>\n      <td>0.19</td>\n      <td>19</td>\n    </tr>\n  </tbody>\n</table>\n<p>355 rows × 22 columns</p>\n</div>"
     },
     "execution_count": 15,
     "metadata": {},
     "output_type": "execute_result"
    }
   ],
   "source": [
    "df[\"Number of  reported results\"] = (df[\"Number of  reported results\"] - u_n) / s_n\n",
    "df[\"1 try\"] = (df[\"1 try\"] - u1) / s1\n",
    "df[\"2 tries\"] = (df[\"2 tries\"] - u2) / s2\n",
    "df[\"3 tries\"] = (df[\"3 tries\"] - u3) / s3\n",
    "df[\"4 tries\"] = (df[\"4 tries\"] - u4) / s4\n",
    "df[\"5 tries\"] = (df[\"5 tries\"] - u5) / s5\n",
    "df[\"6 tries\"] = (df[\"6 tries\"] - u6) / s6\n",
    "df[\"7 or more tries (X)\"] = (df[\"7 or more tries (X)\"] - u7) / s7\n",
    "df[\"vowel\"] = (df[\"vowel\"] - u_v) / s_v\n",
    "df[\"uniq\"] = (df[\"uniq\"] - u_uniq) / s_uniq\n",
    "df[\"star\"] = (df[\"star\"] - u_star) / s_star\n",
    "df"
   ],
   "metadata": {
    "collapsed": false
   }
  },
  {
   "cell_type": "code",
   "execution_count": 6,
   "outputs": [],
   "source": [
    "df.to_excel(\"data4.xlsx\")"
   ],
   "metadata": {
    "collapsed": false
   }
  },
  {
   "cell_type": "code",
   "execution_count": null,
   "outputs": [],
   "source": [],
   "metadata": {
    "collapsed": false
   }
  }
 ],
 "metadata": {
  "kernelspec": {
   "display_name": "Python 3",
   "language": "python",
   "name": "python3"
  },
  "language_info": {
   "codemirror_mode": {
    "name": "ipython",
    "version": 2
   },
   "file_extension": ".py",
   "mimetype": "text/x-python",
   "name": "python",
   "nbconvert_exporter": "python",
   "pygments_lexer": "ipython2",
   "version": "2.7.6"
  }
 },
 "nbformat": 4,
 "nbformat_minor": 0
}
